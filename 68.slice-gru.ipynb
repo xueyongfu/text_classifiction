{
 "cells": [
  {
   "cell_type": "code",
   "execution_count": 1,
   "metadata": {},
   "outputs": [
    {
     "name": "stderr",
     "output_type": "stream",
     "text": [
      "/home/husein/.local/lib/python3.6/site-packages/sklearn/cross_validation.py:41: DeprecationWarning: This module was deprecated in version 0.18 in favor of the model_selection module into which all the refactored classes and functions are moved. Also note that the interface of the new CV iterators are different from that of this module. This module will be removed in 0.20.\n",
      "  \"This module will be removed in 0.20.\", DeprecationWarning)\n"
     ]
    }
   ],
   "source": [
    "from utils import *\n",
    "from sklearn.cross_validation import train_test_split\n",
    "import time"
   ]
  },
  {
   "cell_type": "code",
   "execution_count": 2,
   "metadata": {},
   "outputs": [
    {
     "name": "stdout",
     "output_type": "stream",
     "text": [
      "['negative', 'positive']\n",
      "10662\n",
      "10662\n"
     ]
    }
   ],
   "source": [
    "trainset = sklearn.datasets.load_files(container_path = 'data', encoding = 'UTF-8')\n",
    "trainset.data, trainset.target = separate_dataset(trainset,1.0)\n",
    "print (trainset.target_names)\n",
    "print (len(trainset.data))\n",
    "print (len(trainset.target))"
   ]
  },
  {
   "cell_type": "code",
   "execution_count": 3,
   "metadata": {},
   "outputs": [
    {
     "name": "stdout",
     "output_type": "stream",
     "text": [
      "vocab from size: 20332\n",
      "Most common words [('film', 1453), ('movie', 1270), ('one', 727), ('like', 721), ('story', 477), ('much', 386)]\n",
      "Sample data [587, 1517, 123, 193, 8, 1205, 1398, 1206, 124, 1785] ['definitely', 'step', 'right', 'direction', 'story', 'determined', 'womans', 'courage', 'find', 'husband']\n"
     ]
    }
   ],
   "source": [
    "concat = ' '.join(trainset.data).split()\n",
    "vocabulary_size = len(list(set(concat)))\n",
    "data, count, dictionary, rev_dictionary = build_dataset(concat, vocabulary_size)\n",
    "print('vocab from size: %d'%(vocabulary_size))\n",
    "print('Most common words', count[4:10])\n",
    "print('Sample data', data[:10], [rev_dictionary[i] for i in data[:10]])"
   ]
  },
  {
   "cell_type": "code",
   "execution_count": 4,
   "metadata": {},
   "outputs": [],
   "source": [
    "GO = dictionary['GO']\n",
    "PAD = dictionary['PAD']\n",
    "EOS = dictionary['EOS']\n",
    "UNK = dictionary['UNK']"
   ]
  },
  {
   "cell_type": "code",
   "execution_count": 5,
   "metadata": {},
   "outputs": [],
   "source": [
    "class Model:\n",
    "    def __init__(self, size_layer, embed_size, dict_size, dimension_output, learning_rate = 1e-3):\n",
    "        self.X = tf.placeholder(tf.int32, [None, 100])\n",
    "        self.Y = tf.placeholder(tf.int32, [None])\n",
    "        \n",
    "        encoder_embeddings = tf.Variable(tf.random_uniform([dict_size, embed_size], -1, 1))\n",
    "        x = tf.nn.embedding_lookup(encoder_embeddings, self.X)\n",
    "        \n",
    "        def cells(reuse=False):\n",
    "            return tf.contrib.rnn.DropoutWrapper(\n",
    "            tf.nn.rnn_cell.GRUCell(size_layer, reuse=reuse), output_keep_prob = 0.9\n",
    "        )\n",
    "            \n",
    "        batch_size = tf.shape(self.X)[0]\n",
    "        \n",
    "        x = tf.reshape(x, (batch_size*10, 10, size_layer))\n",
    "        with tf.variable_scope('1'):\n",
    "            x, _ = tf.nn.dynamic_rnn(\n",
    "                cell = cells(), \n",
    "                inputs = x,\n",
    "                dtype = tf.float32)\n",
    "        x = tf.reduce_max(x, 1)\n",
    "        \n",
    "        x = tf.reshape(x, (batch_size, 10, size_layer))\n",
    "        with tf.variable_scope('2'):\n",
    "            x, _ = tf.nn.dynamic_rnn(\n",
    "                cell = cells(), \n",
    "                inputs = x,\n",
    "                dtype = tf.float32)\n",
    "        x = tf.reduce_max(x, 1)\n",
    "        \n",
    "        x = tf.reshape(x, (batch_size, 1, size_layer))\n",
    "        with tf.variable_scope('3'):\n",
    "            x, _ = tf.nn.dynamic_rnn(\n",
    "                cell = cells(), \n",
    "                inputs = x,\n",
    "                dtype = tf.float32)\n",
    "        x = tf.reduce_max(x, 1)\n",
    "        self.logits = tf.layers.dense(x, dimension_output)\n",
    "\n",
    "        self.cost = tf.reduce_mean(\n",
    "            tf.nn.sparse_softmax_cross_entropy_with_logits(\n",
    "                logits = self.logits, labels = self.Y\n",
    "            )\n",
    "        )\n",
    "        self.optimizer = tf.train.AdamOptimizer(learning_rate).minimize(\n",
    "            self.cost\n",
    "        )\n",
    "        correct_pred = tf.equal(\n",
    "            tf.argmax(self.logits, 1, output_type = tf.int32), self.Y\n",
    "        )\n",
    "        self.accuracy = tf.reduce_mean(tf.cast(correct_pred, tf.float32))"
   ]
  },
  {
   "cell_type": "code",
   "execution_count": 6,
   "metadata": {},
   "outputs": [],
   "source": [
    "size_layer = 200\n",
    "embed_size = 200\n",
    "maxlen = 100\n",
    "batch_size = 32\n",
    "dimension_output = len(trainset.target_names)"
   ]
  },
  {
   "cell_type": "code",
   "execution_count": 7,
   "metadata": {},
   "outputs": [],
   "source": [
    "import tensorflow as tf"
   ]
  },
  {
   "cell_type": "code",
   "execution_count": 8,
   "metadata": {},
   "outputs": [],
   "source": [
    "tf.reset_default_graph()\n",
    "sess = tf.InteractiveSession()\n",
    "model = Model(size_layer, embed_size, len(dictionary), dimension_output)\n",
    "sess.run(tf.global_variables_initializer())"
   ]
  },
  {
   "cell_type": "code",
   "execution_count": 9,
   "metadata": {},
   "outputs": [],
   "source": [
    "vectors = str_idx(trainset.data,dictionary,maxlen)\n",
    "train_X, test_X, train_Y, test_Y = train_test_split(vectors, trainset.target,test_size = 0.2)"
   ]
  },
  {
   "cell_type": "code",
   "execution_count": 10,
   "metadata": {},
   "outputs": [
    {
     "name": "stderr",
     "output_type": "stream",
     "text": [
      "train minibatch loop: 100%|██████████| 267/267 [00:09<00:00, 27.60it/s, accuracy=0.765, cost=0.621]\n",
      "test minibatch loop: 100%|██████████| 67/67 [00:01<00:00, 62.50it/s, accuracy=0.571, cost=0.676]\n",
      "train minibatch loop:   1%|          | 3/267 [00:00<00:09, 29.12it/s, accuracy=0.594, cost=0.629]"
     ]
    },
    {
     "name": "stdout",
     "output_type": "stream",
     "text": [
      "epoch: 0, pass acc: 0.000000, current acc: 0.621794\n",
      "time taken: 10.749589681625366\n",
      "epoch: 0, training loss: 0.688803, training acc: 0.533295, valid loss: 0.653322, valid acc: 0.621794\n",
      "\n"
     ]
    },
    {
     "name": "stderr",
     "output_type": "stream",
     "text": [
      "train minibatch loop: 100%|██████████| 267/267 [00:09<00:00, 29.21it/s, accuracy=0.882, cost=0.3]  \n",
      "test minibatch loop: 100%|██████████| 67/67 [00:01<00:00, 66.30it/s, accuracy=0.667, cost=0.637]\n",
      "train minibatch loop:   1%|          | 3/267 [00:00<00:09, 28.81it/s, accuracy=0.969, cost=0.197]"
     ]
    },
    {
     "name": "stdout",
     "output_type": "stream",
     "text": [
      "epoch: 1, pass acc: 0.621794, current acc: 0.716518\n",
      "time taken: 10.287617683410645\n",
      "epoch: 1, training loss: 0.517484, training acc: 0.741498, valid loss: 0.596868, valid acc: 0.716518\n",
      "\n"
     ]
    },
    {
     "name": "stderr",
     "output_type": "stream",
     "text": [
      "train minibatch loop: 100%|██████████| 267/267 [00:09<00:00, 28.92it/s, accuracy=0.941, cost=0.0887]\n",
      "test minibatch loop: 100%|██████████| 67/67 [00:01<00:00, 66.17it/s, accuracy=0.714, cost=0.902]\n",
      "train minibatch loop:   1%|          | 3/267 [00:00<00:09, 29.33it/s, accuracy=0.969, cost=0.0874]"
     ]
    },
    {
     "name": "stdout",
     "output_type": "stream",
     "text": [
      "time taken: 10.247902154922485\n",
      "epoch: 2, training loss: 0.264479, training acc: 0.896719, valid loss: 0.791098, valid acc: 0.713951\n",
      "\n"
     ]
    },
    {
     "name": "stderr",
     "output_type": "stream",
     "text": [
      "train minibatch loop: 100%|██████████| 267/267 [00:09<00:00, 29.07it/s, accuracy=1, cost=0.0195]    \n",
      "test minibatch loop: 100%|██████████| 67/67 [00:01<00:00, 66.56it/s, accuracy=0.571, cost=1.58] \n",
      "train minibatch loop:   1%|          | 3/267 [00:00<00:09, 29.15it/s, accuracy=0.969, cost=0.0368]"
     ]
    },
    {
     "name": "stdout",
     "output_type": "stream",
     "text": [
      "time taken: 10.252770185470581\n",
      "epoch: 3, training loss: 0.119205, training acc: 0.962481, valid loss: 1.276700, valid acc: 0.705244\n",
      "\n"
     ]
    },
    {
     "name": "stderr",
     "output_type": "stream",
     "text": [
      "train minibatch loop: 100%|██████████| 267/267 [00:09<00:00, 28.84it/s, accuracy=1, cost=0.00657]   \n",
      "test minibatch loop: 100%|██████████| 67/67 [00:01<00:00, 66.09it/s, accuracy=0.714, cost=1.04] \n",
      "train minibatch loop:   1%|          | 3/267 [00:00<00:09, 28.40it/s, accuracy=1, cost=0.00682]   "
     ]
    },
    {
     "name": "stdout",
     "output_type": "stream",
     "text": [
      "epoch: 4, pass acc: 0.716518, current acc: 0.718170\n",
      "time taken: 10.26380181312561\n",
      "epoch: 4, training loss: 0.075240, training acc: 0.975495, valid loss: 1.360928, valid acc: 0.718170\n",
      "\n"
     ]
    },
    {
     "name": "stderr",
     "output_type": "stream",
     "text": [
      "train minibatch loop: 100%|██████████| 267/267 [00:09<00:00, 29.30it/s, accuracy=1, cost=0.00147]   \n",
      "test minibatch loop: 100%|██████████| 67/67 [00:01<00:00, 66.40it/s, accuracy=0.667, cost=1.35] \n",
      "train minibatch loop:   1%|          | 3/267 [00:00<00:08, 29.52it/s, accuracy=1, cost=0.0309]"
     ]
    },
    {
     "name": "stdout",
     "output_type": "stream",
     "text": [
      "time taken: 10.237038373947144\n",
      "epoch: 5, training loss: 0.065067, training acc: 0.979365, valid loss: 1.145685, valid acc: 0.715581\n",
      "\n"
     ]
    },
    {
     "name": "stderr",
     "output_type": "stream",
     "text": [
      "train minibatch loop: 100%|██████████| 267/267 [00:09<00:00, 29.09it/s, accuracy=1, cost=0.0011]    \n",
      "test minibatch loop: 100%|██████████| 67/67 [00:01<00:00, 66.86it/s, accuracy=0.619, cost=2.11] \n",
      "train minibatch loop:   1%|          | 3/267 [00:00<00:08, 29.35it/s, accuracy=0.938, cost=0.188] "
     ]
    },
    {
     "name": "stdout",
     "output_type": "stream",
     "text": [
      "time taken: 10.186294794082642\n",
      "epoch: 6, training loss: 0.038483, training acc: 0.989331, valid loss: 1.542100, valid acc: 0.715804\n",
      "\n"
     ]
    },
    {
     "name": "stderr",
     "output_type": "stream",
     "text": [
      "train minibatch loop: 100%|██████████| 267/267 [00:09<00:00, 29.22it/s, accuracy=1, cost=0.000496]  \n",
      "test minibatch loop: 100%|██████████| 67/67 [00:00<00:00, 67.06it/s, accuracy=0.81, cost=1.26]  \n",
      "train minibatch loop:   1%|          | 3/267 [00:00<00:08, 29.81it/s, accuracy=1, cost=0.00131]"
     ]
    },
    {
     "name": "stdout",
     "output_type": "stream",
     "text": [
      "epoch: 7, pass acc: 0.718170, current acc: 0.723818\n",
      "time taken: 10.140633344650269\n",
      "epoch: 7, training loss: 0.023739, training acc: 0.993551, valid loss: 1.619535, valid acc: 0.723818\n",
      "\n"
     ]
    },
    {
     "name": "stderr",
     "output_type": "stream",
     "text": [
      "train minibatch loop: 100%|██████████| 267/267 [00:09<00:00, 29.23it/s, accuracy=1, cost=1.54e-5]   \n",
      "test minibatch loop: 100%|██████████| 67/67 [00:00<00:00, 67.81it/s, accuracy=0.714, cost=2.02] \n",
      "train minibatch loop:   1%|          | 3/267 [00:00<00:08, 29.79it/s, accuracy=1, cost=0.000628]"
     ]
    },
    {
     "name": "stdout",
     "output_type": "stream",
     "text": [
      "time taken: 10.126834154129028\n",
      "epoch: 8, training loss: 0.007024, training acc: 0.999531, valid loss: 2.055643, valid acc: 0.715357\n",
      "\n"
     ]
    },
    {
     "name": "stderr",
     "output_type": "stream",
     "text": [
      "train minibatch loop: 100%|██████████| 267/267 [00:09<00:00, 29.48it/s, accuracy=1, cost=4.32e-6]   \n",
      "test minibatch loop: 100%|██████████| 67/67 [00:00<00:00, 67.96it/s, accuracy=0.762, cost=1.83] \n",
      "train minibatch loop:   1%|▏         | 4/267 [00:00<00:08, 30.53it/s, accuracy=1, cost=0.000134]"
     ]
    },
    {
     "name": "stdout",
     "output_type": "stream",
     "text": [
      "time taken: 10.046088695526123\n",
      "epoch: 9, training loss: 0.003978, training acc: 1.000352, valid loss: 2.214456, valid acc: 0.712321\n",
      "\n"
     ]
    },
    {
     "name": "stderr",
     "output_type": "stream",
     "text": [
      "train minibatch loop: 100%|██████████| 267/267 [00:09<00:00, 29.56it/s, accuracy=1, cost=1.51e-5]   \n",
      "test minibatch loop: 100%|██████████| 67/67 [00:00<00:00, 68.24it/s, accuracy=0.667, cost=2.64] "
     ]
    },
    {
     "name": "stdout",
     "output_type": "stream",
     "text": [
      "time taken: 10.018063306808472\n",
      "epoch: 10, training loss: 0.005694, training acc: 1.000234, valid loss: 2.074515, valid acc: 0.709955\n",
      "\n",
      "break epoch:11\n",
      "\n"
     ]
    },
    {
     "name": "stderr",
     "output_type": "stream",
     "text": [
      "\n"
     ]
    }
   ],
   "source": [
    "from tqdm import tqdm\n",
    "import time\n",
    "\n",
    "EARLY_STOPPING, CURRENT_CHECKPOINT, CURRENT_ACC, EPOCH = 3, 0, 0, 0\n",
    "\n",
    "while True:\n",
    "    lasttime = time.time()\n",
    "    if CURRENT_CHECKPOINT == EARLY_STOPPING:\n",
    "        print('break epoch:%d\\n' % (EPOCH))\n",
    "        break\n",
    "\n",
    "    train_acc, train_loss, test_acc, test_loss = 0, 0, 0, 0\n",
    "    pbar = tqdm(\n",
    "        range(0, len(train_X), batch_size), desc = 'train minibatch loop'\n",
    "    )\n",
    "    for i in pbar:\n",
    "        batch_x = train_X[i : min(i + batch_size, train_X.shape[0])]\n",
    "        batch_y = train_Y[i : min(i + batch_size, train_X.shape[0])]\n",
    "        acc, cost, _ = sess.run(\n",
    "            [model.accuracy, model.cost, model.optimizer],\n",
    "            feed_dict = {\n",
    "                model.Y: batch_y,\n",
    "                model.X: batch_x\n",
    "            },\n",
    "        )\n",
    "        assert not np.isnan(cost)\n",
    "        train_loss += cost\n",
    "        train_acc += acc\n",
    "        pbar.set_postfix(cost = cost, accuracy = acc)\n",
    "    pbar = tqdm(range(0, len(test_X), batch_size), desc = 'test minibatch loop')\n",
    "    for i in pbar:\n",
    "        batch_x = test_X[i : min(i + batch_size, test_X.shape[0])]\n",
    "        batch_y = test_Y[i : min(i + batch_size, test_X.shape[0])]\n",
    "        acc, cost = sess.run(\n",
    "            [model.accuracy, model.cost],\n",
    "            feed_dict = {\n",
    "                model.Y: batch_y,\n",
    "                model.X: batch_x\n",
    "            },\n",
    "        )\n",
    "        test_loss += cost\n",
    "        test_acc += acc\n",
    "        pbar.set_postfix(cost = cost, accuracy = acc)\n",
    "\n",
    "    train_loss /= len(train_X) / batch_size\n",
    "    train_acc /= len(train_X) / batch_size\n",
    "    test_loss /= len(test_X) / batch_size\n",
    "    test_acc /= len(test_X) / batch_size\n",
    "\n",
    "    if test_acc > CURRENT_ACC:\n",
    "        print(\n",
    "            'epoch: %d, pass acc: %f, current acc: %f'\n",
    "            % (EPOCH, CURRENT_ACC, test_acc)\n",
    "        )\n",
    "        CURRENT_ACC = test_acc\n",
    "        CURRENT_CHECKPOINT = 0\n",
    "    else:\n",
    "        CURRENT_CHECKPOINT += 1\n",
    "\n",
    "    print('time taken:', time.time() - lasttime)\n",
    "    print(\n",
    "        'epoch: %d, training loss: %f, training acc: %f, valid loss: %f, valid acc: %f\\n'\n",
    "        % (EPOCH, train_loss, train_acc, test_loss, test_acc)\n",
    "    )\n",
    "    EPOCH += 1"
   ]
  },
  {
   "cell_type": "code",
   "execution_count": null,
   "metadata": {},
   "outputs": [],
   "source": []
  }
 ],
 "metadata": {
  "kernelspec": {
   "display_name": "Python 3",
   "language": "python",
   "name": "python3"
  },
  "language_info": {
   "codemirror_mode": {
    "name": "ipython",
    "version": 3
   },
   "file_extension": ".py",
   "mimetype": "text/x-python",
   "name": "python",
   "nbconvert_exporter": "python",
   "pygments_lexer": "ipython3",
   "version": "3.6.8"
  }
 },
 "nbformat": 4,
 "nbformat_minor": 2
}
