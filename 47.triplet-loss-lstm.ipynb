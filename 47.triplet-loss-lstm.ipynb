{
 "cells": [
  {
   "cell_type": "code",
   "execution_count": 1,
   "metadata": {},
   "outputs": [
    {
     "name": "stderr",
     "output_type": "stream",
     "text": [
      "/usr/local/lib/python3.5/dist-packages/h5py/__init__.py:36: FutureWarning: Conversion of the second argument of issubdtype from `float` to `np.floating` is deprecated. In future, it will be treated as `np.float64 == np.dtype(float).type`.\n",
      "  from ._conv import register_converters as _register_converters\n",
      "/usr/local/lib/python3.5/dist-packages/sklearn/cross_validation.py:41: DeprecationWarning: This module was deprecated in version 0.18 in favor of the model_selection module into which all the refactored classes and functions are moved. Also note that the interface of the new CV iterators are different from that of this module. This module will be removed in 0.20.\n",
      "  \"This module will be removed in 0.20.\", DeprecationWarning)\n"
     ]
    }
   ],
   "source": [
    "from utils import *\n",
    "import tensorflow as tf\n",
    "from sklearn.cross_validation import train_test_split\n",
    "import time\n",
    "import random\n",
    "import os\n",
    "os.environ['CUDA_VISIBLE_DEVICES'] = ''"
   ]
  },
  {
   "cell_type": "code",
   "execution_count": 2,
   "metadata": {},
   "outputs": [
    {
     "name": "stdout",
     "output_type": "stream",
     "text": [
      "['negative', 'positive']\n",
      "10662\n",
      "10662\n"
     ]
    }
   ],
   "source": [
    "trainset = sklearn.datasets.load_files(container_path = 'data', encoding = 'UTF-8')\n",
    "trainset.data, trainset.target = separate_dataset(trainset,1.0)\n",
    "print (trainset.target_names)\n",
    "print (len(trainset.data))\n",
    "print (len(trainset.target))"
   ]
  },
  {
   "cell_type": "code",
   "execution_count": 3,
   "metadata": {},
   "outputs": [],
   "source": [
    "train_X, test_X, train_Y, test_Y = train_test_split(trainset.data, trainset.target,\n",
    "                                                    test_size = 0.2)"
   ]
  },
  {
   "cell_type": "code",
   "execution_count": 4,
   "metadata": {},
   "outputs": [
    {
     "name": "stdout",
     "output_type": "stream",
     "text": [
      "vocab from size: 20332\n",
      "Most common words [('film', 1453), ('movie', 1270), ('one', 727), ('like', 721), ('story', 477), ('much', 386)]\n",
      "Sample data [556, 2600, 3622, 11345, 36, 8710, 219, 150, 19, 3998] ['rock', 'destined', '21st', 'centurys', 'new', 'conan', 'hes', 'going', 'make', 'splash']\n"
     ]
    }
   ],
   "source": [
    "concat = ' '.join(trainset.data).split()\n",
    "vocabulary_size = len(list(set(concat)))\n",
    "data, count, dictionary, rev_dictionary = build_dataset(concat, vocabulary_size)\n",
    "print('vocab from size: %d'%(vocabulary_size))\n",
    "print('Most common words', count[4:10])\n",
    "print('Sample data', data[:10], [rev_dictionary[i] for i in data[:10]])"
   ]
  },
  {
   "cell_type": "code",
   "execution_count": 5,
   "metadata": {},
   "outputs": [],
   "source": [
    "GO = dictionary['GO']\n",
    "PAD = dictionary['PAD']\n",
    "EOS = dictionary['EOS']\n",
    "UNK = dictionary['UNK']"
   ]
  },
  {
   "cell_type": "code",
   "execution_count": 6,
   "metadata": {},
   "outputs": [],
   "source": [
    "def get_one_triplet(input_data, input_labels, n_labels):\n",
    "    index = np.random.choice(n_labels, 2, replace=False)\n",
    "    label_positive = index[0]\n",
    "    label_negative = index[1]\n",
    "\n",
    "    indexes = np.where(input_labels == index[0])[0]\n",
    "    np.random.shuffle(indexes)\n",
    "\n",
    "    data_anchor = input_data[indexes[0], :]\n",
    "    data_positive = input_data[indexes[1], :]\n",
    "\n",
    "    indexes = np.where(input_labels == index[1])[0]\n",
    "    np.random.shuffle(indexes)\n",
    "    data_negative = input_data[indexes[0], :]\n",
    "\n",
    "    return data_anchor, data_positive, data_negative, label_positive, label_positive, label_negative\n",
    "\n",
    "def compute_euclidean_distance(x, y):\n",
    "    d = tf.square(tf.subtract(x, y))\n",
    "    return tf.sqrt(tf.reduce_sum(d))\n",
    "\n",
    "def compute_triplet_loss(anchor_feature, positive_feature, negative_feature, margin=0.01):\n",
    "    d_p_squared = tf.square(compute_euclidean_distance(anchor_feature, positive_feature))\n",
    "    d_n_squared = tf.square(compute_euclidean_distance(anchor_feature, negative_feature))\n",
    "    loss = tf.maximum(0., d_p_squared - d_n_squared + margin)\n",
    "    return tf.reduce_mean(loss), tf.reduce_mean(d_p_squared), tf.reduce_mean(d_n_squared)"
   ]
  },
  {
   "cell_type": "code",
   "execution_count": 7,
   "metadata": {},
   "outputs": [],
   "source": [
    "class Model:\n",
    "    def __init__(self, size_layer, num_layers, embedded_size,\n",
    "                 dict_size, dimension_output,margin=0.2):\n",
    "        \n",
    "        def cells(reuse=False):\n",
    "            return tf.nn.rnn_cell.BasicRNNCell(size_layer,reuse=reuse)\n",
    "        \n",
    "        def rnn(embedded,reuse=False):\n",
    "            with tf.variable_scope('model', reuse=reuse):\n",
    "                rnn_cells = tf.nn.rnn_cell.MultiRNNCell([cells() for _ in range(num_layers)])\n",
    "                outputs, _ = tf.nn.dynamic_rnn(rnn_cells, embedded, dtype = tf.float32)\n",
    "                W = tf.get_variable('w',shape=(size_layer, dimension_output),initializer=tf.orthogonal_initializer())\n",
    "                b = tf.get_variable('b',shape=(dimension_output),initializer=tf.zeros_initializer())\n",
    "                return tf.matmul(outputs[:, -1], W) + b\n",
    "            \n",
    "        with tf.device('/cpu:0'):    \n",
    "            self.ANCHOR = tf.placeholder(tf.int32, [None, None])\n",
    "            self.POSITIVE = tf.placeholder(tf.int32, [None, None])\n",
    "            self.NEGATIVE = tf.placeholder(tf.int32, [None, None])\n",
    "            self.Y_ANCHOR = tf.placeholder(tf.int32, [None])\n",
    "            self.Y_POSITIVE = tf.placeholder(tf.int32, [None])\n",
    "            self.Y_NEGATIVE = tf.placeholder(tf.int32, [None])\n",
    "            encoder_embeddings = tf.Variable(tf.random_uniform([dict_size, embedded_size], -1, 1))\n",
    "            anchor_embedded = tf.nn.embedding_lookup(encoder_embeddings, self.ANCHOR)\n",
    "            positive_embedded = tf.nn.embedding_lookup(encoder_embeddings, self.POSITIVE)\n",
    "            negative_embedded = tf.nn.embedding_lookup(encoder_embeddings, self.NEGATIVE)\n",
    "            self.output_anchor = rnn(anchor_embedded,False)\n",
    "            self.output_positive = rnn(positive_embedded,True)\n",
    "            self.output_negative = rnn(negative_embedded,True)\n",
    "            self.cost, positives, negatives = compute_triplet_loss(self.output_anchor, \n",
    "                                                          self.output_positive, \n",
    "                                                          self.output_negative)\n",
    "            self.optimizer = tf.train.GradientDescentOptimizer(1e-4).minimize(self.cost)"
   ]
  },
  {
   "cell_type": "code",
   "execution_count": 8,
   "metadata": {},
   "outputs": [],
   "source": [
    "size_layer = 128\n",
    "num_layers = 2\n",
    "embedded_size = 128\n",
    "dimension_output = len(trainset.target_names)\n",
    "maxlen = 50\n",
    "batch_size = 128"
   ]
  },
  {
   "cell_type": "code",
   "execution_count": 9,
   "metadata": {},
   "outputs": [],
   "source": [
    "tf.reset_default_graph()\n",
    "sess = tf.InteractiveSession()\n",
    "model = Model(size_layer,num_layers,embedded_size,len(dictionary),dimension_output)\n",
    "sess.run(tf.global_variables_initializer())"
   ]
  },
  {
   "cell_type": "code",
   "execution_count": 10,
   "metadata": {},
   "outputs": [],
   "source": [
    "train_X = str_idx(train_X,dictionary,maxlen)\n",
    "test_X = str_idx(test_X,dictionary,maxlen)"
   ]
  },
  {
   "cell_type": "code",
   "execution_count": 11,
   "metadata": {},
   "outputs": [
    {
     "name": "stdout",
     "output_type": "stream",
     "text": [
      "epoch: 1, loss: 0.000000\n",
      "epoch: 2, loss: 4.933203\n",
      "epoch: 3, loss: 10.419333\n",
      "epoch: 4, loss: 0.000000\n",
      "epoch: 5, loss: 0.000000\n",
      "epoch: 6, loss: 7.707937\n",
      "epoch: 7, loss: 0.000000\n",
      "epoch: 8, loss: 3.788496\n",
      "epoch: 9, loss: 0.000000\n",
      "epoch: 10, loss: 0.000000\n"
     ]
    }
   ],
   "source": [
    "for i in range(10):\n",
    "    lasttime = time.time()\n",
    "    batch_anchor = np.zeros((batch_size,maxlen))\n",
    "    batch_positive = np.zeros((batch_size,maxlen))\n",
    "    batch_negative = np.zeros((batch_size,maxlen))\n",
    "    batch_y_anchor = np.zeros((batch_size))\n",
    "    batch_y_positive = np.zeros((batch_size))\n",
    "    batch_y_negative = np.zeros((batch_size))\n",
    "    for k in range(batch_size):\n",
    "        batch_anchor[k], batch_positive[k], batch_negative[k], batch_y_anchor[k], batch_y_positive[k], batch_y_negative[k] = get_one_triplet(train_X, train_Y, dimension_output)\n",
    "    loss, _ = sess.run([model.cost,model.optimizer],\n",
    "                       feed_dict={model.ANCHOR:batch_anchor,\n",
    "                                  model.POSITIVE:batch_positive,\n",
    "                                  model.NEGATIVE:batch_negative,\n",
    "                                  model.Y_ANCHOR:batch_y_anchor,\n",
    "                                  model.Y_POSITIVE:batch_y_positive,\n",
    "                                  model.Y_NEGATIVE:batch_y_negative})\n",
    "    print('epoch: %d, loss: %f'%(i+1,loss))"
   ]
  },
  {
   "cell_type": "code",
   "execution_count": 12,
   "metadata": {},
   "outputs": [
    {
     "data": {
      "text/plain": [
       "(2133, 2)"
      ]
     },
     "execution_count": 12,
     "metadata": {},
     "output_type": "execute_result"
    }
   ],
   "source": [
    "logits_train = sess.run(model.output_positive,feed_dict={model.POSITIVE:train_X})\n",
    "logits_test = sess.run(model.output_positive,feed_dict={model.POSITIVE:test_X})\n",
    "logits_test.shape"
   ]
  },
  {
   "cell_type": "code",
   "execution_count": 24,
   "metadata": {},
   "outputs": [
    {
     "name": "stdout",
     "output_type": "stream",
     "text": [
      "             precision    recall  f1-score   support\n",
      "\n",
      "   negative       0.50      0.52      0.51      1054\n",
      "   positive       0.51      0.48      0.50      1079\n",
      "\n",
      "avg / total       0.50      0.50      0.50      2133\n",
      "\n"
     ]
    }
   ],
   "source": [
    "from scipy.spatial.distance import cdist\n",
    "label_test = []\n",
    "for i in range(logits_test.shape[0]):\n",
    "    label_test.append(train_Y[np.argsort(cdist(logits_train, [logits_test[i,:]], 'cosine').ravel())[0]])\n",
    "print(metrics.classification_report(test_Y, label_test, target_names = trainset.target_names))\n",
    "\n",
    "#print(metrics.classification_report(test_Y, np.argmax(logits_test,axis=1), target_names = trainset.target_names))"
   ]
  },
  {
   "cell_type": "code",
   "execution_count": 15,
   "metadata": {},
   "outputs": [],
   "source": [
    "import matplotlib.pyplot as plt\n",
    "import seaborn as sns\n",
    "sns.set()\n",
    "from matplotlib import offsetbox"
   ]
  },
  {
   "cell_type": "code",
   "execution_count": 30,
   "metadata": {},
   "outputs": [
    {
     "data": {
      "image/png": "[encoded data removed]",
      "text/plain": [
       "<matplotlib.figure.Figure at 0x7fb7c68c5780>"
      ]
     },
     "metadata": {},
     "output_type": "display_data"
    }
   ],
   "source": [
    "ax_min = np.min(logits_test,0)\n",
    "ax_max = np.max(logits_test,0)\n",
    "ax_dist_sq = np.sum((ax_max-ax_min)**2)\n",
    "plt.figure(figsize=(8,8))\n",
    "ax = plt.subplot(111)\n",
    "shown_images = np.array([[1., 1.]])\n",
    "colors = ['b','r']\n",
    "for i in range(logits_test.shape[0]):\n",
    "    dist = np.sum((logits_test[i] - shown_images)**2, 1)\n",
    "    if np.min(dist) < 3e-4*ax_dist_sq:\n",
    "        continue\n",
    "    shown_images = np.r_[shown_images, [logits_test[i]]]\n",
    "    plt.scatter(logits_test[i,0],logits_test[i,1],c=colors[test_Y[i]])\n",
    "plt.legend(['negative','positive'])\n",
    "plt.show()"
   ]
  },
  {
   "cell_type": "code",
   "execution_count": null,
   "metadata": {},
   "outputs": [],
   "source": []
  }
 ],
 "metadata": {
  "kernelspec": {
   "display_name": "Python 3",
   "language": "python",
   "name": "python3"
  },
  "language_info": {
   "codemirror_mode": {
    "name": "ipython",
    "version": 3
   },
   "file_extension": ".py",
   "mimetype": "text/x-python",
   "name": "python",
   "nbconvert_exporter": "python",
   "pygments_lexer": "ipython3",
   "version": "3.5.2"
  }
 },
 "nbformat": 4,
 "nbformat_minor": 2
}
