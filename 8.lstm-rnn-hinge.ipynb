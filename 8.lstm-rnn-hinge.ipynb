{
 "cells": [
  {
   "cell_type": "code",
   "execution_count": 1,
   "metadata": {},
   "outputs": [
    {
     "name": "stderr",
     "output_type": "stream",
     "text": [
      "/usr/local/lib/python3.5/dist-packages/h5py/__init__.py:36: FutureWarning: Conversion of the second argument of issubdtype from `float` to `np.floating` is deprecated. In future, it will be treated as `np.float64 == np.dtype(float).type`.\n",
      "  from ._conv import register_converters as _register_converters\n",
      "/usr/local/lib/python3.5/dist-packages/sklearn/cross_validation.py:41: DeprecationWarning: This module was deprecated in version 0.18 in favor of the model_selection module into which all the refactored classes and functions are moved. Also note that the interface of the new CV iterators are different from that of this module. This module will be removed in 0.20.\n",
      "  \"This module will be removed in 0.20.\", DeprecationWarning)\n"
     ]
    }
   ],
   "source": [
    "from utils import *\n",
    "import tensorflow as tf\n",
    "from sklearn.cross_validation import train_test_split\n",
    "import time"
   ]
  },
  {
   "cell_type": "code",
   "execution_count": 2,
   "metadata": {},
   "outputs": [
    {
     "name": "stdout",
     "output_type": "stream",
     "text": [
      "['negative', 'positive']\n",
      "10662\n",
      "10662\n"
     ]
    }
   ],
   "source": [
    "trainset = sklearn.datasets.load_files(container_path = 'data', encoding = 'UTF-8')\n",
    "trainset.data, trainset.target = separate_dataset(trainset,1.0)\n",
    "print (trainset.target_names)\n",
    "print (len(trainset.data))\n",
    "print (len(trainset.target))"
   ]
  },
  {
   "cell_type": "code",
   "execution_count": 3,
   "metadata": {},
   "outputs": [],
   "source": [
    "ONEHOT = np.zeros((len(trainset.data),len(trainset.target_names)))\n",
    "ONEHOT[np.arange(len(trainset.data)),trainset.target] = 1.0\n",
    "train_X, test_X, train_Y, test_Y, train_onehot, test_onehot = train_test_split(trainset.data, \n",
    "                                                                               trainset.target, \n",
    "                                                                               ONEHOT, test_size = 0.2)"
   ]
  },
  {
   "cell_type": "code",
   "execution_count": 4,
   "metadata": {},
   "outputs": [
    {
     "name": "stdout",
     "output_type": "stream",
     "text": [
      "vocab from size: 20465\n",
      "Most common words [('the', 10129), ('a', 7312), ('and', 6199), ('of', 6063), ('to', 4233), ('is', 3378)]\n",
      "Sample data [4, 654, 9, 2554, 8, 22, 4, 3455, 19988, 97] ['the', 'rock', 'is', 'destined', 'to', 'be', 'the', '21st', 'centurys', 'new']\n"
     ]
    }
   ],
   "source": [
    "concat = ' '.join(trainset.data).split()\n",
    "vocabulary_size = len(list(set(concat)))\n",
    "data, count, dictionary, rev_dictionary = build_dataset(concat, vocabulary_size)\n",
    "print('vocab from size: %d'%(vocabulary_size))\n",
    "print('Most common words', count[4:10])\n",
    "print('Sample data', data[:10], [rev_dictionary[i] for i in data[:10]])"
   ]
  },
  {
   "cell_type": "code",
   "execution_count": 5,
   "metadata": {},
   "outputs": [],
   "source": [
    "GO = dictionary['GO']\n",
    "PAD = dictionary['PAD']\n",
    "EOS = dictionary['EOS']\n",
    "UNK = dictionary['UNK']"
   ]
  },
  {
   "cell_type": "code",
   "execution_count": 6,
   "metadata": {},
   "outputs": [],
   "source": [
    "class Model:\n",
    "    def __init__(self, size_layer, num_layers, embedded_size,\n",
    "                 dict_size, dimension_output, learning_rate):\n",
    "        \n",
    "        def cells(reuse=False):\n",
    "            return tf.nn.rnn_cell.LSTMCell(size_layer,initializer=tf.orthogonal_initializer(),reuse=reuse)\n",
    "        \n",
    "        self.X = tf.placeholder(tf.int32, [None, None])\n",
    "        self.Y = tf.placeholder(tf.float32, [None, dimension_output])\n",
    "        encoder_embeddings = tf.Variable(tf.random_uniform([dict_size, embedded_size], -1, 1))\n",
    "        encoder_embedded = tf.nn.embedding_lookup(encoder_embeddings, self.X)\n",
    "        rnn_cells = tf.nn.rnn_cell.MultiRNNCell([cells() for _ in range(num_layers)])\n",
    "        outputs, _ = tf.nn.dynamic_rnn(rnn_cells, encoder_embedded, dtype = tf.float32)\n",
    "        W = tf.get_variable('w',shape=(size_layer, dimension_output),initializer=tf.orthogonal_initializer())\n",
    "        b = tf.get_variable('b',shape=(dimension_output),initializer=tf.zeros_initializer())\n",
    "        self.logits = tf.matmul(outputs[:, -1], W) + b\n",
    "        self.cost = tf.losses.hinge_loss(logits = self.logits, labels = self.Y)\n",
    "        self.optimizer = tf.train.AdamOptimizer(learning_rate = learning_rate).minimize(self.cost)\n",
    "        correct_pred = tf.equal(tf.argmax(self.logits, 1), tf.argmax(self.Y, 1))\n",
    "        self.accuracy = tf.reduce_mean(tf.cast(correct_pred, tf.float32))"
   ]
  },
  {
   "cell_type": "code",
   "execution_count": 7,
   "metadata": {},
   "outputs": [],
   "source": [
    "size_layer = 128\n",
    "num_layers = 2\n",
    "embedded_size = 128\n",
    "dimension_output = len(trainset.target_names)\n",
    "learning_rate = 1e-3\n",
    "maxlen = 50\n",
    "batch_size = 128"
   ]
  },
  {
   "cell_type": "code",
   "execution_count": 8,
   "metadata": {},
   "outputs": [],
   "source": [
    "tf.reset_default_graph()\n",
    "sess = tf.InteractiveSession()\n",
    "model = Model(size_layer,num_layers,embedded_size,vocabulary_size+4,dimension_output,learning_rate)\n",
    "sess.run(tf.global_variables_initializer())"
   ]
  },
  {
   "cell_type": "code",
   "execution_count": 9,
   "metadata": {},
   "outputs": [
    {
     "name": "stdout",
     "output_type": "stream",
     "text": [
      "epoch: 0, pass acc: 0.000000, current acc: 0.624023\n",
      "time taken: 2.811490058898926\n",
      "epoch: 0, training loss: 0.896170, training acc: 0.575284, valid loss: 0.805751, valid acc: 0.624023\n",
      "\n",
      "epoch: 1, pass acc: 0.624023, current acc: 0.656250\n",
      "time taken: 2.663231372833252\n",
      "epoch: 1, training loss: 0.669820, training acc: 0.682884, valid loss: 0.697978, valid acc: 0.656250\n",
      "\n",
      "epoch: 2, pass acc: 0.656250, current acc: 0.684082\n",
      "time taken: 3.052428722381592\n",
      "epoch: 2, training loss: 0.493730, training acc: 0.766217, valid loss: 0.666131, valid acc: 0.684082\n",
      "\n",
      "epoch: 3, pass acc: 0.684082, current acc: 0.688965\n",
      "time taken: 5.447402715682983\n",
      "epoch: 3, training loss: 0.399588, training acc: 0.812027, valid loss: 0.665466, valid acc: 0.688965\n",
      "\n",
      "time taken: 5.412164926528931\n",
      "epoch: 4, training loss: 0.327662, training acc: 0.846236, valid loss: 0.661694, valid acc: 0.680664\n",
      "\n",
      "epoch: 5, pass acc: 0.688965, current acc: 0.707520\n",
      "time taken: 6.386279821395874\n",
      "epoch: 5, training loss: 0.261368, training acc: 0.876894, valid loss: 0.610252, valid acc: 0.707520\n",
      "\n",
      "epoch: 6, pass acc: 0.707520, current acc: 0.710938\n",
      "time taken: 8.23374056816101\n",
      "epoch: 6, training loss: 0.228527, training acc: 0.893466, valid loss: 0.607107, valid acc: 0.710938\n",
      "\n",
      "time taken: 10.163783550262451\n",
      "epoch: 7, training loss: 0.199931, training acc: 0.906250, valid loss: 0.630541, valid acc: 0.702148\n",
      "\n",
      "epoch: 8, pass acc: 0.710938, current acc: 0.722656\n",
      "time taken: 10.163959264755249\n",
      "epoch: 8, training loss: 0.186123, training acc: 0.913116, valid loss: 0.586314, valid acc: 0.722656\n",
      "\n",
      "time taken: 10.230546236038208\n",
      "epoch: 9, training loss: 0.159413, training acc: 0.924716, valid loss: 0.585429, valid acc: 0.722168\n",
      "\n",
      "time taken: 10.166433095932007\n",
      "epoch: 10, training loss: 0.143400, training acc: 0.931581, valid loss: 0.598522, valid acc: 0.720703\n",
      "\n",
      "time taken: 10.188539743423462\n",
      "epoch: 11, training loss: 0.131137, training acc: 0.936790, valid loss: 0.600772, valid acc: 0.720215\n",
      "\n",
      "epoch: 12, pass acc: 0.722656, current acc: 0.723633\n",
      "time taken: 10.207797050476074\n",
      "epoch: 12, training loss: 0.123499, training acc: 0.940341, valid loss: 0.599644, valid acc: 0.723633\n",
      "\n",
      "time taken: 10.150372982025146\n",
      "epoch: 13, training loss: 0.121961, training acc: 0.940696, valid loss: 0.601085, valid acc: 0.720703\n",
      "\n",
      "time taken: 10.027125358581543\n",
      "epoch: 14, training loss: 0.116003, training acc: 0.943182, valid loss: 0.597638, valid acc: 0.723145\n",
      "\n",
      "epoch: 15, pass acc: 0.723633, current acc: 0.727539\n",
      "time taken: 7.457364559173584\n",
      "epoch: 15, training loss: 0.112180, training acc: 0.945312, valid loss: 0.603165, valid acc: 0.727539\n",
      "\n",
      "time taken: 7.51069974899292\n",
      "epoch: 16, training loss: 0.108210, training acc: 0.946851, valid loss: 0.605059, valid acc: 0.721191\n",
      "\n",
      "time taken: 7.430496692657471\n",
      "epoch: 17, training loss: 0.107011, training acc: 0.947562, valid loss: 0.620402, valid acc: 0.719727\n",
      "\n",
      "time taken: 7.920525312423706\n",
      "epoch: 18, training loss: 0.105622, training acc: 0.947798, valid loss: 0.616911, valid acc: 0.716797\n",
      "\n",
      "time taken: 10.56496810913086\n",
      "epoch: 19, training loss: 0.104358, training acc: 0.948272, valid loss: 0.611526, valid acc: 0.727051\n",
      "\n",
      "time taken: 8.208807229995728\n",
      "epoch: 20, training loss: 0.099351, training acc: 0.950639, valid loss: 0.629401, valid acc: 0.719727\n",
      "\n",
      "break epoch:21\n",
      "\n"
     ]
    }
   ],
   "source": [
    "EARLY_STOPPING, CURRENT_CHECKPOINT, CURRENT_ACC, EPOCH = 5, 0, 0, 0\n",
    "while True:\n",
    "    lasttime = time.time()\n",
    "    if CURRENT_CHECKPOINT == EARLY_STOPPING:\n",
    "        print('break epoch:%d\\n'%(EPOCH))\n",
    "        break\n",
    "        \n",
    "    train_acc, train_loss, test_acc, test_loss = 0, 0, 0, 0\n",
    "    for i in range(0, (len(train_X) // batch_size) * batch_size, batch_size):\n",
    "        batch_x = str_idx(train_X[i:i+batch_size],dictionary,maxlen)\n",
    "        acc, loss, _ = sess.run([model.accuracy, model.cost, model.optimizer], \n",
    "                           feed_dict = {model.X : batch_x, model.Y : train_onehot[i:i+batch_size]})\n",
    "        train_loss += loss\n",
    "        train_acc += acc\n",
    "    \n",
    "    for i in range(0, (len(test_X) // batch_size) * batch_size, batch_size):\n",
    "        batch_x = str_idx(test_X[i:i+batch_size],dictionary,maxlen)\n",
    "        acc, loss = sess.run([model.accuracy, model.cost], \n",
    "                           feed_dict = {model.X : batch_x, model.Y : test_onehot[i:i+batch_size]})\n",
    "        test_loss += loss\n",
    "        test_acc += acc\n",
    "    \n",
    "    train_loss /= (len(train_X) // batch_size)\n",
    "    train_acc /= (len(train_X) // batch_size)\n",
    "    test_loss /= (len(test_X) // batch_size)\n",
    "    test_acc /= (len(test_X) // batch_size)\n",
    "    \n",
    "    if test_acc > CURRENT_ACC:\n",
    "        print('epoch: %d, pass acc: %f, current acc: %f'%(EPOCH,CURRENT_ACC, test_acc))\n",
    "        CURRENT_ACC = test_acc\n",
    "        CURRENT_CHECKPOINT = 0\n",
    "    else:\n",
    "        CURRENT_CHECKPOINT += 1\n",
    "        \n",
    "    print('time taken:', time.time()-lasttime)\n",
    "    print('epoch: %d, training loss: %f, training acc: %f, valid loss: %f, valid acc: %f\\n'%(EPOCH,train_loss,\n",
    "                                                                                          train_acc,test_loss,\n",
    "                                                                                          test_acc))\n",
    "    EPOCH += 1"
   ]
  },
  {
   "cell_type": "code",
   "execution_count": 10,
   "metadata": {},
   "outputs": [
    {
     "name": "stdout",
     "output_type": "stream",
     "text": [
      "             precision    recall  f1-score   support\n",
      "\n",
      "   negative       0.72      0.74      0.73      1064\n",
      "   positive       0.73      0.71      0.72      1069\n",
      "\n",
      "avg / total       0.72      0.72      0.72      2133\n",
      "\n"
     ]
    }
   ],
   "source": [
    "logits = sess.run(model.logits, feed_dict={model.X:str_idx(test_X,dictionary,maxlen)})\n",
    "print(metrics.classification_report(test_Y, np.argmax(logits,1), target_names = trainset.target_names))"
   ]
  }
 ],
 "metadata": {
  "kernelspec": {
   "display_name": "Python 3",
   "language": "python",
   "name": "python3"
  },
  "language_info": {
   "codemirror_mode": {
    "name": "ipython",
    "version": 3
   },
   "file_extension": ".py",
   "mimetype": "text/x-python",
   "name": "python",
   "nbconvert_exporter": "python",
   "pygments_lexer": "ipython3",
   "version": "3.5.2"
  }
 },
 "nbformat": 4,
 "nbformat_minor": 2
}
