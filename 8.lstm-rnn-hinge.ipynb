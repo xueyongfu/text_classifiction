{
 "cells": [
  {
   "cell_type": "code",
   "execution_count": 3,
   "metadata": {},
   "outputs": [],
   "source": [
    "from utils import *\n",
    "import tensorflow as tf\n",
    "from sklearn.model_selection import train_test_split\n",
    "import time"
   ]
  },
  {
   "cell_type": "code",
   "execution_count": 4,
   "metadata": {},
   "outputs": [
    {
     "name": "stdout",
     "output_type": "stream",
     "text": [
      "['negative', 'positive']\n",
      "10662\n",
      "10662\n"
     ]
    }
   ],
   "source": [
    "trainset = sklearn.datasets.load_files(container_path = 'data', encoding = 'UTF-8')\n",
    "trainset.data, trainset.target = separate_dataset(trainset,1.0)\n",
    "print (trainset.target_names)\n",
    "print (len(trainset.data))\n",
    "print (len(trainset.target))"
   ]
  },
  {
   "cell_type": "code",
   "execution_count": 5,
   "metadata": {},
   "outputs": [],
   "source": [
    "ONEHOT = np.zeros((len(trainset.data),len(trainset.target_names)))\n",
    "ONEHOT[np.arange(len(trainset.data)),trainset.target] = 1.0\n",
    "train_X, test_X, train_Y, test_Y, train_onehot, test_onehot = train_test_split(trainset.data, \n",
    "                                                                               trainset.target, \n",
    "                                                                               ONEHOT, test_size = 0.2)"
   ]
  },
  {
   "cell_type": "code",
   "execution_count": 6,
   "metadata": {},
   "outputs": [
    {
     "name": "stdout",
     "output_type": "stream",
     "text": [
      "vocab from size: 20332\n",
      "Most common words [('film', 1453), ('movie', 1270), ('one', 727), ('like', 721), ('story', 477), ('much', 386)]\n",
      "Sample data [7006, 4373, 1061, 635, 3661, 393, 5347, 5348, 1951, 10158] ['madeup', 'lampoons', 'moviemaking', 'process', 'shining', 'particularly', 'flattering', 'spotlight', 'americas', 'skindeep']\n"
     ]
    }
   ],
   "source": [
    "concat = ' '.join(trainset.data).split()\n",
    "vocabulary_size = len(list(set(concat)))\n",
    "data, count, dictionary, rev_dictionary = build_dataset(concat, vocabulary_size)\n",
    "print('vocab from size: %d'%(vocabulary_size))\n",
    "print('Most common words', count[4:10])\n",
    "print('Sample data', data[:10], [rev_dictionary[i] for i in data[:10]])"
   ]
  },
  {
   "cell_type": "code",
   "execution_count": 7,
   "metadata": {},
   "outputs": [],
   "source": [
    "GO = dictionary['GO']\n",
    "PAD = dictionary['PAD']\n",
    "EOS = dictionary['EOS']\n",
    "UNK = dictionary['UNK']"
   ]
  },
  {
   "cell_type": "code",
   "execution_count": 8,
   "metadata": {},
   "outputs": [],
   "source": [
    "class Model:\n",
    "    def __init__(self, size_layer, num_layers, embedded_size,\n",
    "                 dict_size, dimension_output, learning_rate):\n",
    "        \n",
    "        def cells(reuse=False):\n",
    "            return tf.nn.rnn_cell.LSTMCell(size_layer,initializer=tf.orthogonal_initializer(),reuse=reuse)\n",
    "        \n",
    "        self.X = tf.placeholder(tf.int32, [None, None])\n",
    "        self.Y = tf.placeholder(tf.float32, [None, dimension_output])\n",
    "        encoder_embeddings = tf.Variable(tf.random_uniform([dict_size, embedded_size], -1, 1))\n",
    "        encoder_embedded = tf.nn.embedding_lookup(encoder_embeddings, self.X)\n",
    "        rnn_cells = tf.nn.rnn_cell.MultiRNNCell([cells() for _ in range(num_layers)])\n",
    "        outputs, _ = tf.nn.dynamic_rnn(rnn_cells, encoder_embedded, dtype = tf.float32)\n",
    "        W = tf.get_variable('w',shape=(size_layer, dimension_output),initializer=tf.orthogonal_initializer())\n",
    "        b = tf.get_variable('b',shape=(dimension_output),initializer=tf.zeros_initializer())\n",
    "        self.logits = tf.matmul(outputs[:, -1], W) + b\n",
    "        self.cost = tf.losses.hinge_loss(logits = self.logits, labels = self.Y)\n",
    "        self.optimizer = tf.train.AdamOptimizer(learning_rate = learning_rate).minimize(self.cost)\n",
    "        correct_pred = tf.equal(tf.argmax(self.logits, 1), tf.argmax(self.Y, 1))\n",
    "        self.accuracy = tf.reduce_mean(tf.cast(correct_pred, tf.float32))"
   ]
  },
  {
   "cell_type": "code",
   "execution_count": 9,
   "metadata": {},
   "outputs": [],
   "source": [
    "size_layer = 128\n",
    "num_layers = 2\n",
    "embedded_size = 128\n",
    "dimension_output = len(trainset.target_names)\n",
    "learning_rate = 1e-3\n",
    "maxlen = 50\n",
    "batch_size = 128"
   ]
  },
  {
   "cell_type": "code",
   "execution_count": 10,
   "metadata": {},
   "outputs": [],
   "source": [
    "tf.reset_default_graph()\n",
    "sess = tf.InteractiveSession()\n",
    "model = Model(size_layer,num_layers,embedded_size,vocabulary_size+4,dimension_output,learning_rate)\n",
    "sess.run(tf.global_variables_initializer())"
   ]
  },
  {
   "cell_type": "code",
   "execution_count": 11,
   "metadata": {},
   "outputs": [
    {
     "name": "stdout",
     "output_type": "stream",
     "text": [
      "epoch: 0, pass acc: 0.000000, current acc: 0.605469\n",
      "time taken: 4.006938934326172\n",
      "epoch: 0, training loss: 0.969713, training acc: 0.526870, valid loss: 0.889086, valid acc: 0.605469\n",
      "\n",
      "epoch: 1, pass acc: 0.605469, current acc: 0.671387\n",
      "time taken: 3.638551712036133\n",
      "epoch: 1, training loss: 0.686917, training acc: 0.693655, valid loss: 0.728800, valid acc: 0.671387\n",
      "\n",
      "epoch: 2, pass acc: 0.671387, current acc: 0.685059\n",
      "time taken: 3.717550039291382\n",
      "epoch: 2, training loss: 0.466915, training acc: 0.789891, valid loss: 0.673327, valid acc: 0.685059\n",
      "\n",
      "epoch: 3, pass acc: 0.685059, current acc: 0.687988\n",
      "time taken: 3.6754391193389893\n",
      "epoch: 3, training loss: 0.324510, training acc: 0.851799, valid loss: 0.662047, valid acc: 0.687988\n",
      "\n",
      "epoch: 4, pass acc: 0.687988, current acc: 0.693359\n",
      "time taken: 3.6069998741149902\n",
      "epoch: 4, training loss: 0.234249, training acc: 0.895478, valid loss: 0.671054, valid acc: 0.693359\n",
      "\n",
      "time taken: 3.5680954456329346\n",
      "epoch: 5, training loss: 0.179602, training acc: 0.918205, valid loss: 0.672128, valid acc: 0.690430\n",
      "\n",
      "time taken: 3.600888967514038\n",
      "epoch: 6, training loss: 0.148911, training acc: 0.931700, valid loss: 0.671092, valid acc: 0.687988\n",
      "\n",
      "time taken: 3.5703089237213135\n",
      "epoch: 7, training loss: 0.134709, training acc: 0.937145, valid loss: 0.653952, valid acc: 0.691895\n",
      "\n",
      "epoch: 8, pass acc: 0.693359, current acc: 0.698730\n",
      "time taken: 3.6160128116607666\n",
      "epoch: 8, training loss: 0.125394, training acc: 0.942116, valid loss: 0.657323, valid acc: 0.698730\n",
      "\n",
      "time taken: 3.5297470092773438\n",
      "epoch: 9, training loss: 0.118679, training acc: 0.943892, valid loss: 0.676481, valid acc: 0.687012\n",
      "\n",
      "time taken: 3.5170724391937256\n",
      "epoch: 10, training loss: 0.110784, training acc: 0.947088, valid loss: 0.684825, valid acc: 0.691406\n",
      "\n",
      "time taken: 3.507106065750122\n",
      "epoch: 11, training loss: 0.105950, training acc: 0.948982, valid loss: 0.686868, valid acc: 0.690918\n",
      "\n",
      "time taken: 3.527362823486328\n",
      "epoch: 12, training loss: 0.101795, training acc: 0.950521, valid loss: 0.703017, valid acc: 0.689453\n",
      "\n",
      "epoch: 13, pass acc: 0.698730, current acc: 0.699219\n",
      "time taken: 3.407061815261841\n",
      "epoch: 13, training loss: 0.101493, training acc: 0.951113, valid loss: 0.695169, valid acc: 0.699219\n",
      "\n",
      "epoch: 14, pass acc: 0.699219, current acc: 0.699707\n",
      "time taken: 3.523390531539917\n",
      "epoch: 14, training loss: 0.097805, training acc: 0.951468, valid loss: 0.697172, valid acc: 0.699707\n",
      "\n",
      "time taken: 3.54302716255188\n",
      "epoch: 15, training loss: 0.093902, training acc: 0.953243, valid loss: 0.710259, valid acc: 0.694336\n",
      "\n",
      "time taken: 3.511569023132324\n",
      "epoch: 16, training loss: 0.095970, training acc: 0.951941, valid loss: 0.731098, valid acc: 0.695801\n",
      "\n",
      "time taken: 3.5075337886810303\n",
      "epoch: 17, training loss: 0.097042, training acc: 0.952178, valid loss: 0.713701, valid acc: 0.698730\n",
      "\n",
      "time taken: 3.513902425765991\n",
      "epoch: 18, training loss: 0.093911, training acc: 0.952533, valid loss: 0.728703, valid acc: 0.697266\n",
      "\n",
      "time taken: 3.480370283126831\n",
      "epoch: 19, training loss: 0.080212, training acc: 0.959872, valid loss: 0.796753, valid acc: 0.696777\n",
      "\n",
      "break epoch:20\n",
      "\n"
     ]
    }
   ],
   "source": [
    "EARLY_STOPPING, CURRENT_CHECKPOINT, CURRENT_ACC, EPOCH = 5, 0, 0, 0\n",
    "while True:\n",
    "    lasttime = time.time()\n",
    "    if CURRENT_CHECKPOINT == EARLY_STOPPING:\n",
    "        print('break epoch:%d\\n'%(EPOCH))\n",
    "        break\n",
    "        \n",
    "    train_acc, train_loss, test_acc, test_loss = 0, 0, 0, 0\n",
    "    for i in range(0, (len(train_X) // batch_size) * batch_size, batch_size):\n",
    "        batch_x = str_idx(train_X[i:i+batch_size],dictionary,maxlen)\n",
    "        acc, loss, _ = sess.run([model.accuracy, model.cost, model.optimizer], \n",
    "                           feed_dict = {model.X : batch_x, model.Y : train_onehot[i:i+batch_size]})\n",
    "        train_loss += loss\n",
    "        train_acc += acc\n",
    "    \n",
    "    for i in range(0, (len(test_X) // batch_size) * batch_size, batch_size):\n",
    "        batch_x = str_idx(test_X[i:i+batch_size],dictionary,maxlen)\n",
    "        acc, loss = sess.run([model.accuracy, model.cost], \n",
    "                           feed_dict = {model.X : batch_x, model.Y : test_onehot[i:i+batch_size]})\n",
    "        test_loss += loss\n",
    "        test_acc += acc\n",
    "    \n",
    "    train_loss /= (len(train_X) // batch_size)\n",
    "    train_acc /= (len(train_X) // batch_size)\n",
    "    test_loss /= (len(test_X) // batch_size)\n",
    "    test_acc /= (len(test_X) // batch_size)\n",
    "    \n",
    "    if test_acc > CURRENT_ACC:\n",
    "        print('epoch: %d, pass acc: %f, current acc: %f'%(EPOCH,CURRENT_ACC, test_acc))\n",
    "        CURRENT_ACC = test_acc\n",
    "        CURRENT_CHECKPOINT = 0\n",
    "    else:\n",
    "        CURRENT_CHECKPOINT += 1\n",
    "        \n",
    "    print('time taken:', time.time()-lasttime)\n",
    "    print('epoch: %d, training loss: %f, training acc: %f, valid loss: %f, valid acc: %f\\n'%(EPOCH,train_loss,\n",
    "                                                                                          train_acc,test_loss,\n",
    "                                                                                          test_acc))\n",
    "    EPOCH += 1"
   ]
  },
  {
   "cell_type": "code",
   "execution_count": 12,
   "metadata": {},
   "outputs": [
    {
     "name": "stdout",
     "output_type": "stream",
     "text": [
      "              precision    recall  f1-score   support\n",
      "\n",
      "    negative       0.72      0.65      0.69      1086\n",
      "    positive       0.67      0.74      0.71      1047\n",
      "\n",
      "    accuracy                           0.70      2133\n",
      "   macro avg       0.70      0.70      0.70      2133\n",
      "weighted avg       0.70      0.70      0.70      2133\n",
      "\n"
     ]
    }
   ],
   "source": [
    "logits = sess.run(model.logits, feed_dict={model.X:str_idx(test_X,dictionary,maxlen)})\n",
    "print(metrics.classification_report(test_Y, np.argmax(logits,1), target_names = trainset.target_names))"
   ]
  },
  {
   "cell_type": "code",
   "execution_count": null,
   "metadata": {},
   "outputs": [],
   "source": []
  },
  {
   "cell_type": "code",
   "execution_count": null,
   "metadata": {},
   "outputs": [],
   "source": []
  }
 ],
 "metadata": {
  "kernelspec": {
   "display_name": "Python 3",
   "language": "python",
   "name": "python3"
  },
  "language_info": {
   "codemirror_mode": {
    "name": "ipython",
    "version": 3
   },
   "file_extension": ".py",
   "mimetype": "text/x-python",
   "name": "python",
   "nbconvert_exporter": "python",
   "pygments_lexer": "ipython3",
   "version": "3.6.10"
  }
 },
 "nbformat": 4,
 "nbformat_minor": 4
}
