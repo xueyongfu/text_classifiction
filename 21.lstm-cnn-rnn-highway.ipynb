{
 "cells": [
  {
   "cell_type": "code",
   "execution_count": 1,
   "metadata": {},
   "outputs": [
    {
     "name": "stderr",
     "output_type": "stream",
     "text": [
      "/usr/local/lib/python3.5/dist-packages/h5py/__init__.py:36: FutureWarning: Conversion of the second argument of issubdtype from `float` to `np.floating` is deprecated. In future, it will be treated as `np.float64 == np.dtype(float).type`.\n",
      "  from ._conv import register_converters as _register_converters\n",
      "/usr/local/lib/python3.5/dist-packages/sklearn/cross_validation.py:41: DeprecationWarning: This module was deprecated in version 0.18 in favor of the model_selection module into which all the refactored classes and functions are moved. Also note that the interface of the new CV iterators are different from that of this module. This module will be removed in 0.20.\n",
      "  \"This module will be removed in 0.20.\", DeprecationWarning)\n"
     ]
    }
   ],
   "source": [
    "from utils import *\n",
    "import tensorflow as tf\n",
    "from sklearn.cross_validation import train_test_split\n",
    "import time"
   ]
  },
  {
   "cell_type": "code",
   "execution_count": 2,
   "metadata": {},
   "outputs": [
    {
     "name": "stdout",
     "output_type": "stream",
     "text": [
      "['negative', 'positive']\n",
      "10662\n",
      "10662\n"
     ]
    }
   ],
   "source": [
    "trainset = sklearn.datasets.load_files(container_path = 'data', encoding = 'UTF-8')\n",
    "trainset.data, trainset.target = separate_dataset(trainset,1.0)\n",
    "print (trainset.target_names)\n",
    "print (len(trainset.data))\n",
    "print (len(trainset.target))"
   ]
  },
  {
   "cell_type": "code",
   "execution_count": 3,
   "metadata": {},
   "outputs": [],
   "source": [
    "ONEHOT = np.zeros((len(trainset.data),len(trainset.target_names)))\n",
    "ONEHOT[np.arange(len(trainset.data)),trainset.target] = 1.0\n",
    "train_X, test_X, train_Y, test_Y, train_onehot, test_onehot = train_test_split(trainset.data, \n",
    "                                                                               trainset.target, \n",
    "                                                                               ONEHOT, test_size = 0.2)"
   ]
  },
  {
   "cell_type": "code",
   "execution_count": 4,
   "metadata": {},
   "outputs": [
    {
     "name": "stdout",
     "output_type": "stream",
     "text": [
      "vocab from size: 20465\n",
      "Most common words [('the', 10129), ('a', 7312), ('and', 6199), ('of', 6063), ('to', 4233), ('is', 3378)]\n",
      "Sample data [4, 663, 9, 2597, 8, 22, 4, 3580, 11601, 98] ['the', 'rock', 'is', 'destined', 'to', 'be', 'the', '21st', 'centurys', 'new']\n"
     ]
    }
   ],
   "source": [
    "concat = ' '.join(trainset.data).split()\n",
    "vocabulary_size = len(list(set(concat)))\n",
    "data, count, dictionary, rev_dictionary = build_dataset(concat, vocabulary_size)\n",
    "print('vocab from size: %d'%(vocabulary_size))\n",
    "print('Most common words', count[4:10])\n",
    "print('Sample data', data[:10], [rev_dictionary[i] for i in data[:10]])"
   ]
  },
  {
   "cell_type": "code",
   "execution_count": 5,
   "metadata": {},
   "outputs": [],
   "source": [
    "GO = dictionary['GO']\n",
    "PAD = dictionary['PAD']\n",
    "EOS = dictionary['EOS']\n",
    "UNK = dictionary['UNK']"
   ]
  },
  {
   "cell_type": "code",
   "execution_count": 6,
   "metadata": {},
   "outputs": [],
   "source": [
    "class Model:\n",
    "    def __init__(self, size_layer, num_layers, embedded_size,\n",
    "                 dict_size, dimension_output, maxlen,\n",
    "                grad_clip=5.0, kernel_sizes=[3,3,3]):\n",
    "        n_filters = [25 * k for k in kernel_sizes]\n",
    "        \n",
    "        def cells(reuse=False):\n",
    "            return tf.nn.rnn_cell.LSTMCell(size_layer,initializer=tf.orthogonal_initializer(),reuse=reuse)\n",
    "        \n",
    "        def add_highway(x, i):\n",
    "            size = sum(n_filters)\n",
    "            reshaped = tf.reshape(x, [-1, size])\n",
    "            H = tf.layers.dense(reshaped, size, tf.nn.relu, name='activation'+str(i))\n",
    "            T = tf.layers.dense(reshaped, size, tf.sigmoid, name='transform_gate'+str(i))\n",
    "            C = tf.subtract(1.0, T)\n",
    "            highway_out = tf.add(tf.multiply(H, T), tf.multiply(reshaped, C))\n",
    "            return tf.reshape(highway_out, [-1, 1, size])\n",
    "        \n",
    "        self.X = tf.placeholder(tf.int32, [None, None])\n",
    "        self.Y = tf.placeholder(tf.float32, [None, dimension_output])\n",
    "        encoder_embeddings = tf.Variable(tf.random_uniform([dict_size, embedded_size], -1, 1))\n",
    "        encoder_embedded = tf.nn.embedding_lookup(encoder_embeddings, self.X)\n",
    "        encoder_embedded = tf.reshape(encoder_embedded,[-1, maxlen, embedded_size])\n",
    "        \n",
    "        parallels = []\n",
    "        for i, (n_filter, kernel_size) in enumerate(zip(n_filters, kernel_sizes)):\n",
    "            conv_out = tf.layers.conv1d(inputs = encoder_embedded,\n",
    "                                        filters = n_filter,\n",
    "                                        kernel_size  = kernel_size,\n",
    "                                        activation = tf.tanh,\n",
    "                                        name = 'conv1d'+str(i))\n",
    "            pool_out = tf.layers.max_pooling1d(inputs = conv_out,\n",
    "                                               pool_size = conv_out.get_shape().as_list()[1],\n",
    "                                               strides = 1)\n",
    "            parallels.append(tf.reshape(pool_out, [-1, n_filter]))\n",
    "        pointer = tf.concat(parallels,1)\n",
    "        \n",
    "        for i in range(2):\n",
    "            pointer = add_highway(pointer, i)\n",
    "            \n",
    "        rnn_cells = tf.nn.rnn_cell.MultiRNNCell([cells() for _ in range(num_layers)])\n",
    "        outputs, _ = tf.nn.dynamic_rnn(rnn_cells, pointer, dtype = tf.float32)\n",
    "        W = tf.get_variable('w',shape=(size_layer, dimension_output),initializer=tf.orthogonal_initializer())\n",
    "        b = tf.get_variable('b',shape=(dimension_output),initializer=tf.zeros_initializer())\n",
    "        self.logits = tf.matmul(outputs[:, -1], W) + b\n",
    "        self.cost = tf.reduce_mean(tf.nn.softmax_cross_entropy_with_logits(logits = self.logits, labels = self.Y))\n",
    "        params = tf.trainable_variables()\n",
    "        gradients = tf.gradients(self.cost, params)\n",
    "        clipped_gradients, _ = tf.clip_by_global_norm(gradients, grad_clip)\n",
    "        self.optimizer = tf.train.AdamOptimizer().apply_gradients(zip(clipped_gradients, params))\n",
    "        correct_pred = tf.equal(tf.argmax(self.logits, 1), tf.argmax(self.Y, 1))\n",
    "        self.accuracy = tf.reduce_mean(tf.cast(correct_pred, tf.float32))"
   ]
  },
  {
   "cell_type": "code",
   "execution_count": 7,
   "metadata": {},
   "outputs": [],
   "source": [
    "size_layer = 128\n",
    "num_layers = 2\n",
    "embedded_size = 128\n",
    "dimension_output = len(trainset.target_names)\n",
    "learning_rate = 1e-3\n",
    "maxlen = 50\n",
    "batch_size = 128"
   ]
  },
  {
   "cell_type": "code",
   "execution_count": 8,
   "metadata": {},
   "outputs": [],
   "source": [
    "tf.reset_default_graph()\n",
    "sess = tf.InteractiveSession()\n",
    "model = Model(size_layer,num_layers,embedded_size,vocabulary_size+4,dimension_output,maxlen)\n",
    "sess.run(tf.global_variables_initializer())"
   ]
  },
  {
   "cell_type": "code",
   "execution_count": 9,
   "metadata": {},
   "outputs": [
    {
     "name": "stdout",
     "output_type": "stream",
     "text": [
      "epoch: 0, pass acc: 0.000000, current acc: 0.535156\n",
      "time taken: 4.333514928817749\n",
      "epoch: 0, training loss: 0.693183, training acc: 0.507576, valid loss: 0.692730, valid acc: 0.535156\n",
      "\n",
      "epoch: 1, pass acc: 0.535156, current acc: 0.624512\n",
      "time taken: 3.2116458415985107\n",
      "epoch: 1, training loss: 0.649427, training acc: 0.610559, valid loss: 0.655454, valid acc: 0.624512\n",
      "\n",
      "epoch: 2, pass acc: 0.624512, current acc: 0.656250\n",
      "time taken: 3.355377435684204\n",
      "epoch: 2, training loss: 0.429006, training acc: 0.801491, valid loss: 0.679517, valid acc: 0.656250\n",
      "\n",
      "time taken: 3.2317397594451904\n",
      "epoch: 3, training loss: 0.186865, training acc: 0.930161, valid loss: 1.092485, valid acc: 0.652832\n",
      "\n",
      "epoch: 4, pass acc: 0.656250, current acc: 0.666992\n",
      "time taken: 3.203139305114746\n",
      "epoch: 4, training loss: 0.136582, training acc: 0.948272, valid loss: 1.135608, valid acc: 0.666992\n",
      "\n",
      "time taken: 3.2777655124664307\n",
      "epoch: 5, training loss: 0.059332, training acc: 0.977509, valid loss: 1.356369, valid acc: 0.662109\n",
      "\n",
      "time taken: 3.2280430793762207\n",
      "epoch: 6, training loss: 0.040862, training acc: 0.984967, valid loss: 1.862365, valid acc: 0.636230\n",
      "\n",
      "epoch: 7, pass acc: 0.666992, current acc: 0.680176\n",
      "time taken: 3.3178446292877197\n",
      "epoch: 7, training loss: 0.126442, training acc: 0.954190, valid loss: 1.096496, valid acc: 0.680176\n",
      "\n",
      "epoch: 8, pass acc: 0.680176, current acc: 0.683105\n",
      "time taken: 3.224092960357666\n",
      "epoch: 8, training loss: 0.048878, training acc: 0.980350, valid loss: 1.370400, valid acc: 0.683105\n",
      "\n",
      "epoch: 9, pass acc: 0.683105, current acc: 0.684082\n",
      "time taken: 3.190019130706787\n",
      "epoch: 9, training loss: 0.000542, training acc: 0.999882, valid loss: 1.586734, valid acc: 0.684082\n",
      "\n",
      "time taken: 3.202052354812622\n",
      "epoch: 10, training loss: 0.000115, training acc: 1.000000, valid loss: 1.719593, valid acc: 0.684082\n",
      "\n",
      "time taken: 3.1367404460906982\n",
      "epoch: 11, training loss: 0.000057, training acc: 1.000000, valid loss: 1.823953, valid acc: 0.683594\n",
      "\n",
      "time taken: 3.333897590637207\n",
      "epoch: 12, training loss: 0.000034, training acc: 1.000000, valid loss: 1.901362, valid acc: 0.682617\n",
      "\n",
      "time taken: 3.1697418689727783\n",
      "epoch: 13, training loss: 0.000023, training acc: 1.000000, valid loss: 1.963767, valid acc: 0.683105\n",
      "\n",
      "time taken: 3.231224536895752\n",
      "epoch: 14, training loss: 0.000017, training acc: 1.000000, valid loss: 2.023056, valid acc: 0.682617\n",
      "\n",
      "break epoch:15\n",
      "\n"
     ]
    }
   ],
   "source": [
    "EARLY_STOPPING, CURRENT_CHECKPOINT, CURRENT_ACC, EPOCH = 5, 0, 0, 0\n",
    "while True:\n",
    "    lasttime = time.time()\n",
    "    if CURRENT_CHECKPOINT == EARLY_STOPPING:\n",
    "        print('break epoch:%d\\n'%(EPOCH))\n",
    "        break\n",
    "        \n",
    "    train_acc, train_loss, test_acc, test_loss = 0, 0, 0, 0\n",
    "    for i in range(0, (len(train_X) // batch_size) * batch_size, batch_size):\n",
    "        batch_x = str_idx(train_X[i:i+batch_size],dictionary,maxlen)\n",
    "        acc, loss, _ = sess.run([model.accuracy, model.cost, model.optimizer], \n",
    "                           feed_dict = {model.X : batch_x, model.Y : train_onehot[i:i+batch_size]})\n",
    "        train_loss += loss\n",
    "        train_acc += acc\n",
    "    \n",
    "    for i in range(0, (len(test_X) // batch_size) * batch_size, batch_size):\n",
    "        batch_x = str_idx(test_X[i:i+batch_size],dictionary,maxlen)\n",
    "        acc, loss = sess.run([model.accuracy, model.cost], \n",
    "                           feed_dict = {model.X : batch_x, model.Y : test_onehot[i:i+batch_size]})\n",
    "        test_loss += loss\n",
    "        test_acc += acc\n",
    "    \n",
    "    train_loss /= (len(train_X) // batch_size)\n",
    "    train_acc /= (len(train_X) // batch_size)\n",
    "    test_loss /= (len(test_X) // batch_size)\n",
    "    test_acc /= (len(test_X) // batch_size)\n",
    "    \n",
    "    if test_acc > CURRENT_ACC:\n",
    "        print('epoch: %d, pass acc: %f, current acc: %f'%(EPOCH,CURRENT_ACC, test_acc))\n",
    "        CURRENT_ACC = test_acc\n",
    "        CURRENT_CHECKPOINT = 0\n",
    "    else:\n",
    "        CURRENT_CHECKPOINT += 1\n",
    "        \n",
    "    print('time taken:', time.time()-lasttime)\n",
    "    print('epoch: %d, training loss: %f, training acc: %f, valid loss: %f, valid acc: %f\\n'%(EPOCH,train_loss,\n",
    "                                                                                          train_acc,test_loss,\n",
    "                                                                                          test_acc))\n",
    "    EPOCH += 1"
   ]
  },
  {
   "cell_type": "code",
   "execution_count": 10,
   "metadata": {},
   "outputs": [
    {
     "name": "stdout",
     "output_type": "stream",
     "text": [
      "             precision    recall  f1-score   support\n",
      "\n",
      "   negative       0.66      0.70      0.68      1035\n",
      "   positive       0.70      0.67      0.68      1098\n",
      "\n",
      "avg / total       0.68      0.68      0.68      2133\n",
      "\n"
     ]
    }
   ],
   "source": [
    "logits = sess.run(model.logits, feed_dict={model.X:str_idx(test_X,dictionary,maxlen)})\n",
    "print(metrics.classification_report(test_Y, np.argmax(logits,1), target_names = trainset.target_names))"
   ]
  },
  {
   "cell_type": "code",
   "execution_count": null,
   "metadata": {},
   "outputs": [],
   "source": []
  }
 ],
 "metadata": {
  "kernelspec": {
   "display_name": "Python 3",
   "language": "python",
   "name": "python3"
  },
  "language_info": {
   "codemirror_mode": {
    "name": "ipython",
    "version": 3
   },
   "file_extension": ".py",
   "mimetype": "text/x-python",
   "name": "python",
   "nbconvert_exporter": "python",
   "pygments_lexer": "ipython3",
   "version": "3.5.2"
  }
 },
 "nbformat": 4,
 "nbformat_minor": 2
}
