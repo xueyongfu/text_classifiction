{
 "cells": [
  {
   "cell_type": "code",
   "execution_count": 12,
   "metadata": {},
   "outputs": [],
   "source": [
    "from utils import *\n",
    "import tensorflow as tf\n",
    "from sklearn.model_selection import train_test_split\n",
    "import time"
   ]
  },
  {
   "cell_type": "code",
   "execution_count": 13,
   "metadata": {},
   "outputs": [
    {
     "name": "stdout",
     "output_type": "stream",
     "text": [
      "['negative', 'positive']\n",
      "10662\n",
      "10662\n"
     ]
    }
   ],
   "source": [
    "trainset = sklearn.datasets.load_files(container_path = 'data', encoding = 'UTF-8')\n",
    "trainset.data, trainset.target = separate_dataset(trainset,1.0)\n",
    "print (trainset.target_names)\n",
    "print (len(trainset.data))\n",
    "print (len(trainset.target))"
   ]
  },
  {
   "cell_type": "code",
   "execution_count": 14,
   "metadata": {},
   "outputs": [],
   "source": [
    "ONEHOT = np.zeros((len(trainset.data),len(trainset.target_names)))\n",
    "ONEHOT[np.arange(len(trainset.data)),trainset.target] = 1.0\n",
    "train_X, test_X, train_Y, test_Y, train_onehot, test_onehot = train_test_split(trainset.data, \n",
    "                                                                               trainset.target, \n",
    "                                                                               ONEHOT, test_size = 0.2)"
   ]
  },
  {
   "cell_type": "code",
   "execution_count": 15,
   "metadata": {},
   "outputs": [
    {
     "name": "stdout",
     "output_type": "stream",
     "text": [
      "vocab from size: 20332\n",
      "Most common words [('film', 1453), ('movie', 1270), ('one', 727), ('like', 721), ('story', 477), ('much', 386)]\n",
      "Sample data [2417, 4373, 187, 6, 43, 3117, 421, 3661, 7006, 563] ['enthralling', 'aesthetic', 'experience', 'one', 'thats', 'steeped', 'mystery', 'ravishing', 'baroque', 'beauty']\n"
     ]
    }
   ],
   "source": [
    "concat = ' '.join(trainset.data).split()\n",
    "vocabulary_size = len(list(set(concat)))\n",
    "data, count, dictionary, rev_dictionary = build_dataset(concat, vocabulary_size)\n",
    "print('vocab from size: %d'%(vocabulary_size))\n",
    "print('Most common words', count[4:10])\n",
    "print('Sample data', data[:10], [rev_dictionary[i] for i in data[:10]])"
   ]
  },
  {
   "cell_type": "code",
   "execution_count": 16,
   "metadata": {},
   "outputs": [],
   "source": [
    "GO = dictionary['GO']\n",
    "PAD = dictionary['PAD']\n",
    "EOS = dictionary['EOS']\n",
    "UNK = dictionary['UNK']"
   ]
  },
  {
   "cell_type": "code",
   "execution_count": 17,
   "metadata": {},
   "outputs": [],
   "source": [
    "class Model:\n",
    "    def __init__(self, size_layer, num_layers, embedded_size,\n",
    "                 dict_size, dimension_output, maxlen,\n",
    "                grad_clip=5.0, kernel_sizes=[3,3,3]):\n",
    "        n_filters = [25 * k for k in kernel_sizes]\n",
    "        \n",
    "        def cells(reuse=False):\n",
    "            return tf.nn.rnn_cell.LSTMCell(size_layer,initializer=tf.orthogonal_initializer(),reuse=reuse)\n",
    "        \n",
    "        def add_highway(x, i):\n",
    "            size = sum(n_filters)\n",
    "            reshaped = tf.reshape(x, [-1, size])\n",
    "            H = tf.layers.dense(reshaped, size, tf.nn.relu, name='activation'+str(i))\n",
    "            T = tf.layers.dense(reshaped, size, tf.sigmoid, name='transform_gate'+str(i))\n",
    "            C = tf.subtract(1.0, T)\n",
    "            highway_out = tf.add(tf.multiply(H, T), tf.multiply(reshaped, C))\n",
    "            return tf.reshape(highway_out, [-1, 1, size])\n",
    "        \n",
    "        self.X = tf.placeholder(tf.int32, [None, None])\n",
    "        self.Y = tf.placeholder(tf.float32, [None, dimension_output])\n",
    "        encoder_embeddings = tf.Variable(tf.random_uniform([dict_size, embedded_size], -1, 1))\n",
    "        encoder_embedded = tf.nn.embedding_lookup(encoder_embeddings, self.X)\n",
    "        encoder_embedded = tf.reshape(encoder_embedded,[-1, maxlen, embedded_size])\n",
    "        \n",
    "        parallels = []\n",
    "        for i, (n_filter, kernel_size) in enumerate(zip(n_filters, kernel_sizes)):\n",
    "            conv_out = tf.layers.conv1d(inputs = encoder_embedded,\n",
    "                                        filters = n_filter,\n",
    "                                        kernel_size  = kernel_size,\n",
    "                                        activation = tf.tanh,\n",
    "                                        name = 'conv1d'+str(i))\n",
    "            pool_out = tf.layers.max_pooling1d(inputs = conv_out,\n",
    "                                               pool_size = conv_out.get_shape().as_list()[1],\n",
    "                                               strides = 1)\n",
    "            parallels.append(tf.reshape(pool_out, [-1, n_filter]))\n",
    "        pointer = tf.concat(parallels,1)\n",
    "        \n",
    "        for i in range(2):\n",
    "            pointer = add_highway(pointer, i)\n",
    "            \n",
    "        rnn_cells = tf.nn.rnn_cell.MultiRNNCell([cells() for _ in range(num_layers)])\n",
    "        outputs, _ = tf.nn.dynamic_rnn(rnn_cells, pointer, dtype = tf.float32)\n",
    "        W = tf.get_variable('w',shape=(size_layer, dimension_output),initializer=tf.orthogonal_initializer())\n",
    "        b = tf.get_variable('b',shape=(dimension_output),initializer=tf.zeros_initializer())\n",
    "        self.logits = tf.matmul(outputs[:, -1], W) + b\n",
    "        self.cost = tf.reduce_mean(tf.nn.softmax_cross_entropy_with_logits(logits = self.logits, labels = self.Y))\n",
    "        params = tf.trainable_variables()\n",
    "        gradients = tf.gradients(self.cost, params)\n",
    "        clipped_gradients, _ = tf.clip_by_global_norm(gradients, grad_clip)\n",
    "        self.optimizer = tf.train.AdamOptimizer().apply_gradients(zip(clipped_gradients, params))\n",
    "        correct_pred = tf.equal(tf.argmax(self.logits, 1), tf.argmax(self.Y, 1))\n",
    "        self.accuracy = tf.reduce_mean(tf.cast(correct_pred, tf.float32))"
   ]
  },
  {
   "cell_type": "code",
   "execution_count": 18,
   "metadata": {},
   "outputs": [],
   "source": [
    "size_layer = 128\n",
    "num_layers = 2\n",
    "embedded_size = 128\n",
    "dimension_output = len(trainset.target_names)\n",
    "learning_rate = 1e-3\n",
    "maxlen = 50\n",
    "batch_size = 128"
   ]
  },
  {
   "cell_type": "code",
   "execution_count": 19,
   "metadata": {},
   "outputs": [
    {
     "name": "stderr",
     "output_type": "stream",
     "text": [
      "/home/xyf/.conda/envs/py36_tf1.12/lib/python3.6/site-packages/tensorflow/python/client/session.py:1702: UserWarning: An interactive session is already active. This can cause out-of-memory errors in some cases. You must explicitly call `InteractiveSession.close()` to release resources held by the other session(s).\n",
      "  warnings.warn('An interactive session is already active. This can '\n"
     ]
    }
   ],
   "source": [
    "tf.reset_default_graph()\n",
    "sess = tf.InteractiveSession()\n",
    "model = Model(size_layer,num_layers,embedded_size,vocabulary_size+4,dimension_output,maxlen)\n",
    "sess.run(tf.global_variables_initializer())"
   ]
  },
  {
   "cell_type": "code",
   "execution_count": 20,
   "metadata": {},
   "outputs": [
    {
     "name": "stdout",
     "output_type": "stream",
     "text": [
      "epoch: 0, pass acc: 0.000000, current acc: 0.506836\n",
      "time taken: 0.7002308368682861\n",
      "epoch: 0, training loss: 0.693532, training acc: 0.504616, valid loss: 0.692940, valid acc: 0.506836\n",
      "\n",
      "epoch: 1, pass acc: 0.506836, current acc: 0.622559\n",
      "time taken: 0.5540809631347656\n",
      "epoch: 1, training loss: 0.666287, training acc: 0.579664, valid loss: 0.650848, valid acc: 0.622559\n",
      "\n",
      "epoch: 2, pass acc: 0.622559, current acc: 0.648926\n",
      "time taken: 0.5505621433258057\n",
      "epoch: 2, training loss: 0.421198, training acc: 0.808830, valid loss: 0.683619, valid acc: 0.648926\n",
      "\n",
      "time taken: 0.5394430160522461\n",
      "epoch: 3, training loss: 0.148010, training acc: 0.946733, valid loss: 1.304807, valid acc: 0.624512\n",
      "\n",
      "epoch: 4, pass acc: 0.648926, current acc: 0.652832\n",
      "time taken: 0.5616347789764404\n",
      "epoch: 4, training loss: 0.109961, training acc: 0.957860, valid loss: 1.067159, valid acc: 0.652832\n",
      "\n",
      "time taken: 0.5536179542541504\n",
      "epoch: 5, training loss: 0.017857, training acc: 0.994673, valid loss: 1.669623, valid acc: 0.644531\n",
      "\n",
      "time taken: 0.5492997169494629\n",
      "epoch: 6, training loss: 0.009150, training acc: 0.997751, valid loss: 1.948067, valid acc: 0.651367\n",
      "\n",
      "epoch: 7, pass acc: 0.652832, current acc: 0.653320\n",
      "time taken: 0.529473066329956\n",
      "epoch: 7, training loss: 0.005128, training acc: 0.998580, valid loss: 2.082414, valid acc: 0.653320\n",
      "\n",
      "time taken: 0.5313313007354736\n",
      "epoch: 8, training loss: 0.003567, training acc: 0.998935, valid loss: 2.166902, valid acc: 0.649414\n",
      "\n",
      "time taken: 0.5383360385894775\n",
      "epoch: 9, training loss: 0.004938, training acc: 0.998580, valid loss: 2.478949, valid acc: 0.629883\n",
      "\n",
      "epoch: 10, pass acc: 0.653320, current acc: 0.654785\n",
      "time taken: 0.5481095314025879\n",
      "epoch: 10, training loss: 0.005066, training acc: 0.998580, valid loss: 2.129187, valid acc: 0.654785\n",
      "\n",
      "time taken: 0.5323543548583984\n",
      "epoch: 11, training loss: 0.002494, training acc: 0.999053, valid loss: 2.357466, valid acc: 0.651855\n",
      "\n",
      "time taken: 0.5345828533172607\n",
      "epoch: 12, training loss: 0.009304, training acc: 0.997041, valid loss: 2.142694, valid acc: 0.637207\n",
      "\n",
      "time taken: 0.5453205108642578\n",
      "epoch: 13, training loss: 0.010885, training acc: 0.996212, valid loss: 2.301123, valid acc: 0.647949\n",
      "\n",
      "epoch: 14, pass acc: 0.654785, current acc: 0.655762\n",
      "time taken: 0.5572812557220459\n",
      "epoch: 14, training loss: 0.006416, training acc: 0.997751, valid loss: 2.299055, valid acc: 0.655762\n",
      "\n",
      "time taken: 0.5449886322021484\n",
      "epoch: 15, training loss: 0.009480, training acc: 0.996804, valid loss: 2.276858, valid acc: 0.645020\n",
      "\n",
      "time taken: 0.5508606433868408\n",
      "epoch: 16, training loss: 0.016598, training acc: 0.994318, valid loss: 1.954729, valid acc: 0.648438\n",
      "\n",
      "time taken: 0.5450537204742432\n",
      "epoch: 17, training loss: 0.033398, training acc: 0.988163, valid loss: 1.903779, valid acc: 0.630371\n",
      "\n",
      "time taken: 0.5577161312103271\n",
      "epoch: 18, training loss: 0.053227, training acc: 0.977983, valid loss: 1.707110, valid acc: 0.607910\n",
      "\n",
      "time taken: 0.5367512702941895\n",
      "epoch: 19, training loss: 0.060767, training acc: 0.976444, valid loss: 1.611160, valid acc: 0.654297\n",
      "\n",
      "break epoch:20\n",
      "\n"
     ]
    }
   ],
   "source": [
    "EARLY_STOPPING, CURRENT_CHECKPOINT, CURRENT_ACC, EPOCH = 5, 0, 0, 0\n",
    "while True:\n",
    "    lasttime = time.time()\n",
    "    if CURRENT_CHECKPOINT == EARLY_STOPPING:\n",
    "        print('break epoch:%d\\n'%(EPOCH))\n",
    "        break\n",
    "        \n",
    "    train_acc, train_loss, test_acc, test_loss = 0, 0, 0, 0\n",
    "    for i in range(0, (len(train_X) // batch_size) * batch_size, batch_size):\n",
    "        batch_x = str_idx(train_X[i:i+batch_size],dictionary,maxlen)\n",
    "        acc, loss, _ = sess.run([model.accuracy, model.cost, model.optimizer], \n",
    "                           feed_dict = {model.X : batch_x, model.Y : train_onehot[i:i+batch_size]})\n",
    "        train_loss += loss\n",
    "        train_acc += acc\n",
    "    \n",
    "    for i in range(0, (len(test_X) // batch_size) * batch_size, batch_size):\n",
    "        batch_x = str_idx(test_X[i:i+batch_size],dictionary,maxlen)\n",
    "        acc, loss = sess.run([model.accuracy, model.cost], \n",
    "                           feed_dict = {model.X : batch_x, model.Y : test_onehot[i:i+batch_size]})\n",
    "        test_loss += loss\n",
    "        test_acc += acc\n",
    "    \n",
    "    train_loss /= (len(train_X) // batch_size)\n",
    "    train_acc /= (len(train_X) // batch_size)\n",
    "    test_loss /= (len(test_X) // batch_size)\n",
    "    test_acc /= (len(test_X) // batch_size)\n",
    "    \n",
    "    if test_acc > CURRENT_ACC:\n",
    "        print('epoch: %d, pass acc: %f, current acc: %f'%(EPOCH,CURRENT_ACC, test_acc))\n",
    "        CURRENT_ACC = test_acc\n",
    "        CURRENT_CHECKPOINT = 0\n",
    "    else:\n",
    "        CURRENT_CHECKPOINT += 1\n",
    "        \n",
    "    print('time taken:', time.time()-lasttime)\n",
    "    print('epoch: %d, training loss: %f, training acc: %f, valid loss: %f, valid acc: %f\\n'%(EPOCH,train_loss,\n",
    "                                                                                          train_acc,test_loss,\n",
    "                                                                                          test_acc))\n",
    "    EPOCH += 1"
   ]
  },
  {
   "cell_type": "code",
   "execution_count": 21,
   "metadata": {},
   "outputs": [
    {
     "name": "stdout",
     "output_type": "stream",
     "text": [
      "              precision    recall  f1-score   support\n",
      "\n",
      "    negative       0.66      0.65      0.65      1072\n",
      "    positive       0.65      0.67      0.66      1061\n",
      "\n",
      "    accuracy                           0.66      2133\n",
      "   macro avg       0.66      0.66      0.66      2133\n",
      "weighted avg       0.66      0.66      0.66      2133\n",
      "\n"
     ]
    }
   ],
   "source": [
    "logits = sess.run(model.logits, feed_dict={model.X:str_idx(test_X,dictionary,maxlen)})\n",
    "print(metrics.classification_report(test_Y, np.argmax(logits,1), target_names = trainset.target_names))"
   ]
  },
  {
   "cell_type": "code",
   "execution_count": null,
   "metadata": {},
   "outputs": [],
   "source": []
  }
 ],
 "metadata": {
  "kernelspec": {
   "display_name": "Python 3",
   "language": "python",
   "name": "python3"
  },
  "language_info": {
   "codemirror_mode": {
    "name": "ipython",
    "version": 3
   },
   "file_extension": ".py",
   "mimetype": "text/x-python",
   "name": "python",
   "nbconvert_exporter": "python",
   "pygments_lexer": "ipython3",
   "version": "3.6.10"
  }
 },
 "nbformat": 4,
 "nbformat_minor": 4
}
