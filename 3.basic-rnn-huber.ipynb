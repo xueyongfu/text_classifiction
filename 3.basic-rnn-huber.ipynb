{
 "cells": [
  {
   "cell_type": "code",
   "execution_count": 1,
   "metadata": {},
   "outputs": [
    {
     "name": "stderr",
     "output_type": "stream",
     "text": [
      "/usr/local/lib/python3.5/dist-packages/h5py/__init__.py:36: FutureWarning: Conversion of the second argument of issubdtype from `float` to `np.floating` is deprecated. In future, it will be treated as `np.float64 == np.dtype(float).type`.\n",
      "  from ._conv import register_converters as _register_converters\n",
      "/usr/local/lib/python3.5/dist-packages/sklearn/cross_validation.py:41: DeprecationWarning: This module was deprecated in version 0.18 in favor of the model_selection module into which all the refactored classes and functions are moved. Also note that the interface of the new CV iterators are different from that of this module. This module will be removed in 0.20.\n",
      "  \"This module will be removed in 0.20.\", DeprecationWarning)\n"
     ]
    }
   ],
   "source": [
    "from utils import *\n",
    "import tensorflow as tf\n",
    "from sklearn.model_selection import train_test_split\n",
    "import time"
   ]
  },
  {
   "cell_type": "code",
   "execution_count": 2,
   "metadata": {},
   "outputs": [
    {
     "name": "stdout",
     "output_type": "stream",
     "text": [
      "['negative', 'positive']\n",
      "10662\n",
      "10662\n"
     ]
    }
   ],
   "source": [
    "trainset = sklearn.datasets.load_files(container_path = 'data', encoding = 'UTF-8')\n",
    "trainset.data, trainset.target = separate_dataset(trainset,1.0)\n",
    "print (trainset.target_names)\n",
    "print (len(trainset.data))\n",
    "print (len(trainset.target))"
   ]
  },
  {
   "cell_type": "code",
   "execution_count": 3,
   "metadata": {},
   "outputs": [],
   "source": [
    "ONEHOT = np.zeros((len(trainset.data),len(trainset.target_names)))\n",
    "ONEHOT[np.arange(len(trainset.data)),trainset.target] = 1.0\n",
    "train_X, test_X, train_Y, test_Y, train_onehot, test_onehot = train_test_split(trainset.data, \n",
    "                                                                               trainset.target, \n",
    "                                                                               ONEHOT, test_size = 0.2)"
   ]
  },
  {
   "cell_type": "code",
   "execution_count": 4,
   "metadata": {},
   "outputs": [
    {
     "name": "stdout",
     "output_type": "stream",
     "text": [
      "vocab from size: 20465\n",
      "Most common words [('the', 10129), ('a', 7312), ('and', 6199), ('of', 6063), ('to', 4233), ('is', 3378)]\n",
      "Sample data [4, 661, 9, 2831, 8, 22, 4, 3651, 17802, 97] ['the', 'rock', 'is', 'destined', 'to', 'be', 'the', '21st', 'centurys', 'new']\n"
     ]
    }
   ],
   "source": [
    "concat = ' '.join(trainset.data).split()\n",
    "vocabulary_size = len(list(set(concat)))\n",
    "data, count, dictionary, rev_dictionary = build_dataset(concat, vocabulary_size)\n",
    "print('vocab from size: %d'%(vocabulary_size))\n",
    "print('Most common words', count[4:10])\n",
    "print('Sample data', data[:10], [rev_dictionary[i] for i in data[:10]])"
   ]
  },
  {
   "cell_type": "code",
   "execution_count": 5,
   "metadata": {},
   "outputs": [],
   "source": [
    "GO = dictionary['GO']\n",
    "PAD = dictionary['PAD']\n",
    "EOS = dictionary['EOS']\n",
    "UNK = dictionary['UNK']"
   ]
  },
  {
   "cell_type": "code",
   "execution_count": 6,
   "metadata": {},
   "outputs": [],
   "source": [
    "class Model:\n",
    "    def __init__(self, size_layer, num_layers, embedded_size,\n",
    "                 dict_size, dimension_output, learning_rate):\n",
    "        \n",
    "        def cells(reuse=False):\n",
    "            return tf.nn.rnn_cell.BasicRNNCell(size_layer,reuse=reuse)\n",
    "        \n",
    "        self.X = tf.placeholder(tf.int32, [None, None])\n",
    "        self.Y = tf.placeholder(tf.float32, [None, dimension_output])\n",
    "        encoder_embeddings = tf.Variable(tf.random_uniform([dict_size, embedded_size], -1, 1))\n",
    "        encoder_embedded = tf.nn.embedding_lookup(encoder_embeddings, self.X)\n",
    "        rnn_cells = tf.nn.rnn_cell.MultiRNNCell([cells() for _ in range(num_layers)])\n",
    "        outputs, _ = tf.nn.dynamic_rnn(rnn_cells, encoder_embedded, dtype = tf.float32)\n",
    "        W = tf.get_variable('w',shape=(size_layer, dimension_output),initializer=tf.orthogonal_initializer())\n",
    "        b = tf.get_variable('b',shape=(dimension_output),initializer=tf.zeros_initializer())\n",
    "        self.logits = tf.matmul(outputs[:, -1], W) + b\n",
    "        self.cost = tf.losses.huber_loss(predictions = self.logits, labels = self.Y)\n",
    "        self.optimizer = tf.train.AdamOptimizer(learning_rate = learning_rate).minimize(self.cost)\n",
    "        correct_pred = tf.equal(tf.argmax(self.logits, 1), tf.argmax(self.Y, 1))\n",
    "        self.accuracy = tf.reduce_mean(tf.cast(correct_pred, tf.float32))"
   ]
  },
  {
   "cell_type": "code",
   "execution_count": 7,
   "metadata": {},
   "outputs": [],
   "source": [
    "size_layer = 128\n",
    "num_layers = 2\n",
    "embedded_size = 128\n",
    "dimension_output = len(trainset.target_names)\n",
    "learning_rate = 1e-3\n",
    "maxlen = 50\n",
    "batch_size = 128"
   ]
  },
  {
   "cell_type": "code",
   "execution_count": 8,
   "metadata": {},
   "outputs": [],
   "source": [
    "tf.reset_default_graph()\n",
    "sess = tf.InteractiveSession()\n",
    "model = Model(size_layer,num_layers,embedded_size,vocabulary_size+4,dimension_output,learning_rate)\n",
    "sess.run(tf.global_variables_initializer())"
   ]
  },
  {
   "cell_type": "code",
   "execution_count": 9,
   "metadata": {},
   "outputs": [
    {
     "name": "stdout",
     "output_type": "stream",
     "text": [
      "epoch: 0, pass acc: 0.000000, current acc: 0.540039\n",
      "time taken: 1.4266865253448486\n",
      "epoch: 0, training loss: 0.151782, training acc: 0.512192, valid loss: 0.126553, valid acc: 0.540039\n",
      "\n",
      "epoch: 1, pass acc: 0.540039, current acc: 0.570801\n",
      "time taken: 1.2445869445800781\n",
      "epoch: 1, training loss: 0.116194, training acc: 0.618371, valid loss: 0.124963, valid acc: 0.570801\n",
      "\n",
      "epoch: 2, pass acc: 0.570801, current acc: 0.607910\n",
      "time taken: 1.2467765808105469\n",
      "epoch: 2, training loss: 0.098784, training acc: 0.696141, valid loss: 0.125268, valid acc: 0.607910\n",
      "\n",
      "epoch: 3, pass acc: 0.607910, current acc: 0.622559\n",
      "time taken: 1.2463128566741943\n",
      "epoch: 3, training loss: 0.075009, training acc: 0.797585, valid loss: 0.124825, valid acc: 0.622559\n",
      "\n",
      "epoch: 4, pass acc: 0.622559, current acc: 0.648438\n",
      "time taken: 1.2441134452819824\n",
      "epoch: 4, training loss: 0.054347, training acc: 0.866951, valid loss: 0.124860, valid acc: 0.648438\n",
      "\n",
      "time taken: 1.2449140548706055\n",
      "epoch: 5, training loss: 0.039267, training acc: 0.925071, valid loss: 0.129284, valid acc: 0.644531\n",
      "\n",
      "time taken: 1.2453296184539795\n",
      "epoch: 6, training loss: 0.033671, training acc: 0.943892, valid loss: 0.143180, valid acc: 0.642090\n",
      "\n",
      "epoch: 7, pass acc: 0.648438, current acc: 0.660156\n",
      "time taken: 1.2467529773712158\n",
      "epoch: 7, training loss: 0.031743, training acc: 0.951941, valid loss: 0.130116, valid acc: 0.660156\n",
      "\n",
      "time taken: 1.2460825443267822\n",
      "epoch: 8, training loss: 0.026120, training acc: 0.969460, valid loss: 0.135286, valid acc: 0.652832\n",
      "\n",
      "epoch: 9, pass acc: 0.660156, current acc: 0.661621\n",
      "time taken: 1.2444841861724854\n",
      "epoch: 9, training loss: 0.017701, training acc: 0.986861, valid loss: 0.145968, valid acc: 0.661621\n",
      "\n",
      "epoch: 10, pass acc: 0.661621, current acc: 0.662109\n",
      "time taken: 1.2480661869049072\n",
      "epoch: 10, training loss: 0.014478, training acc: 0.994081, valid loss: 0.149331, valid acc: 0.662109\n",
      "\n",
      "epoch: 11, pass acc: 0.662109, current acc: 0.671875\n",
      "time taken: 1.2455379962921143\n",
      "epoch: 11, training loss: 0.014829, training acc: 0.995620, valid loss: 0.141436, valid acc: 0.671875\n",
      "\n",
      "epoch: 12, pass acc: 0.671875, current acc: 0.674805\n",
      "time taken: 1.243171215057373\n",
      "epoch: 12, training loss: 0.018185, training acc: 0.989583, valid loss: 0.137215, valid acc: 0.674805\n",
      "\n",
      "epoch: 13, pass acc: 0.674805, current acc: 0.675293\n",
      "time taken: 1.2478885650634766\n",
      "epoch: 13, training loss: 0.014031, training acc: 0.995384, valid loss: 0.129710, valid acc: 0.675293\n",
      "\n",
      "time taken: 1.2472529411315918\n",
      "epoch: 14, training loss: 0.007801, training acc: 0.999171, valid loss: 0.126056, valid acc: 0.666992\n",
      "\n",
      "time taken: 1.2452929019927979\n",
      "epoch: 15, training loss: 0.004780, training acc: 0.999882, valid loss: 0.124982, valid acc: 0.668457\n",
      "\n",
      "time taken: 1.2477619647979736\n",
      "epoch: 16, training loss: 0.003695, training acc: 1.000000, valid loss: 0.123535, valid acc: 0.667969\n",
      "\n",
      "epoch: 17, pass acc: 0.675293, current acc: 0.677734\n",
      "time taken: 1.2461936473846436\n",
      "epoch: 17, training loss: 0.003099, training acc: 1.000000, valid loss: 0.119427, valid acc: 0.677734\n",
      "\n",
      "epoch: 18, pass acc: 0.677734, current acc: 0.687012\n",
      "time taken: 1.2463154792785645\n",
      "epoch: 18, training loss: 0.002869, training acc: 1.000000, valid loss: 0.117654, valid acc: 0.687012\n",
      "\n",
      "time taken: 1.245861291885376\n",
      "epoch: 19, training loss: 0.002806, training acc: 1.000000, valid loss: 0.118839, valid acc: 0.683105\n",
      "\n",
      "time taken: 1.2452871799468994\n",
      "epoch: 20, training loss: 0.002738, training acc: 1.000000, valid loss: 0.120396, valid acc: 0.682617\n",
      "\n",
      "time taken: 1.2456259727478027\n",
      "epoch: 21, training loss: 0.002851, training acc: 1.000000, valid loss: 0.117816, valid acc: 0.682129\n",
      "\n",
      "time taken: 1.249469518661499\n",
      "epoch: 22, training loss: 0.003022, training acc: 1.000000, valid loss: 0.117422, valid acc: 0.674805\n",
      "\n",
      "time taken: 1.2468581199645996\n",
      "epoch: 23, training loss: 0.002980, training acc: 1.000000, valid loss: 0.116698, valid acc: 0.677246\n",
      "\n",
      "break epoch:24\n",
      "\n"
     ]
    }
   ],
   "source": [
    "EARLY_STOPPING, CURRENT_CHECKPOINT, CURRENT_ACC, EPOCH = 5, 0, 0, 0\n",
    "while True:\n",
    "    lasttime = time.time()\n",
    "    if CURRENT_CHECKPOINT == EARLY_STOPPING:\n",
    "        print('break epoch:%d\\n'%(EPOCH))\n",
    "        break\n",
    "        \n",
    "    train_acc, train_loss, test_acc, test_loss = 0, 0, 0, 0\n",
    "    for i in range(0, (len(train_X) // batch_size) * batch_size, batch_size):\n",
    "        batch_x = str_idx(train_X[i:i+batch_size],dictionary,maxlen)\n",
    "        acc, loss, _ = sess.run([model.accuracy, model.cost, model.optimizer], \n",
    "                           feed_dict = {model.X : batch_x, model.Y : train_onehot[i:i+batch_size]})\n",
    "        train_loss += loss\n",
    "        train_acc += acc\n",
    "    \n",
    "    for i in range(0, (len(test_X) // batch_size) * batch_size, batch_size):\n",
    "        batch_x = str_idx(test_X[i:i+batch_size],dictionary,maxlen)\n",
    "        acc, loss = sess.run([model.accuracy, model.cost], \n",
    "                           feed_dict = {model.X : batch_x, model.Y : test_onehot[i:i+batch_size]})\n",
    "        test_loss += loss\n",
    "        test_acc += acc\n",
    "    \n",
    "    train_loss /= (len(train_X) // batch_size)\n",
    "    train_acc /= (len(train_X) // batch_size)\n",
    "    test_loss /= (len(test_X) // batch_size)\n",
    "    test_acc /= (len(test_X) // batch_size)\n",
    "    \n",
    "    if test_acc > CURRENT_ACC:\n",
    "        print('epoch: %d, pass acc: %f, current acc: %f'%(EPOCH,CURRENT_ACC, test_acc))\n",
    "        CURRENT_ACC = test_acc\n",
    "        CURRENT_CHECKPOINT = 0\n",
    "    else:\n",
    "        CURRENT_CHECKPOINT += 1\n",
    "        \n",
    "    print('time taken:', time.time()-lasttime)\n",
    "    print('epoch: %d, training loss: %f, training acc: %f, valid loss: %f, valid acc: %f\\n'%(EPOCH,train_loss,\n",
    "                                                                                          train_acc,test_loss,\n",
    "                                                                                          test_acc))\n",
    "    EPOCH += 1"
   ]
  },
  {
   "cell_type": "code",
   "execution_count": 10,
   "metadata": {},
   "outputs": [
    {
     "name": "stdout",
     "output_type": "stream",
     "text": [
      "             precision    recall  f1-score   support\n",
      "\n",
      "   negative       0.65      0.73      0.69      1048\n",
      "   positive       0.71      0.62      0.66      1085\n",
      "\n",
      "avg / total       0.68      0.68      0.68      2133\n",
      "\n"
     ]
    }
   ],
   "source": [
    "logits = sess.run(model.logits, feed_dict={model.X:str_idx(test_X,dictionary,maxlen)})\n",
    "print(metrics.classification_report(test_Y, np.argmax(logits,1), target_names = trainset.target_names))"
   ]
  }
 ],
 "metadata": {
  "kernelspec": {
   "display_name": "Python 3",
   "language": "python",
   "name": "python3"
  },
  "language_info": {
   "codemirror_mode": {
    "name": "ipython",
    "version": 3
   },
   "file_extension": ".py",
   "mimetype": "text/x-python",
   "name": "python",
   "nbconvert_exporter": "python",
   "pygments_lexer": "ipython3",
   "version": "3.5.2"
  },
  "pycharm": {
   "stem_cell": {
    "cell_type": "raw",
    "source": [],
    "metadata": {
     "collapsed": false
    }
   }
  }
 },
 "nbformat": 4,
 "nbformat_minor": 2
}