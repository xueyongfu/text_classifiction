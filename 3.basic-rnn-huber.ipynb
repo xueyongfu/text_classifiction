{
 "cells": [
  {
   "cell_type": "code",
   "execution_count": 3,
   "metadata": {},
   "outputs": [],
   "source": [
    "from utils import *\n",
    "import tensorflow as tf\n",
    "from sklearn.model_selection import train_test_split\n",
    "import time"
   ]
  },
  {
   "cell_type": "code",
   "execution_count": 4,
   "metadata": {},
   "outputs": [
    {
     "name": "stdout",
     "output_type": "stream",
     "text": [
      "['negative', 'positive']\n",
      "10662\n",
      "10662\n"
     ]
    }
   ],
   "source": [
    "trainset = sklearn.datasets.load_files(container_path = 'data', encoding = 'UTF-8')\n",
    "trainset.data, trainset.target = separate_dataset(trainset,1.0)\n",
    "print (trainset.target_names)\n",
    "print (len(trainset.data))\n",
    "print (len(trainset.target))"
   ]
  },
  {
   "cell_type": "code",
   "execution_count": 5,
   "metadata": {},
   "outputs": [],
   "source": [
    "ONEHOT = np.zeros((len(trainset.data),len(trainset.target_names)))\n",
    "ONEHOT[np.arange(len(trainset.data)),trainset.target] = 1.0\n",
    "train_X, test_X, train_Y, test_Y, train_onehot, test_onehot = train_test_split(trainset.data, \n",
    "                                                                               trainset.target, \n",
    "                                                                               ONEHOT, test_size = 0.2)"
   ]
  },
  {
   "cell_type": "code",
   "execution_count": 6,
   "metadata": {},
   "outputs": [
    {
     "name": "stdout",
     "output_type": "stream",
     "text": [
      "vocab from size: 20332\n",
      "Most common words [('film', 1453), ('movie', 1270), ('one', 727), ('like', 721), ('story', 477), ('much', 386)]\n",
      "Sample data [3661, 475, 4, 7006, 4373, 433, 4374, 2165, 41, 10158] ['distinguished', 'thoughtful', 'film', 'marked', 'acute', 'writing', 'host', 'splendid', 'performances', 'sociohistopolitical']\n"
     ]
    }
   ],
   "source": [
    "concat = ' '.join(trainset.data).split()\n",
    "vocabulary_size = len(list(set(concat)))\n",
    "data, count, dictionary, rev_dictionary = build_dataset(concat, vocabulary_size)\n",
    "print('vocab from size: %d'%(vocabulary_size))\n",
    "print('Most common words', count[4:10])\n",
    "print('Sample data', data[:10], [rev_dictionary[i] for i in data[:10]])"
   ]
  },
  {
   "cell_type": "code",
   "execution_count": 7,
   "metadata": {},
   "outputs": [],
   "source": [
    "GO = dictionary['GO']\n",
    "PAD = dictionary['PAD']\n",
    "EOS = dictionary['EOS']\n",
    "UNK = dictionary['UNK']"
   ]
  },
  {
   "cell_type": "code",
   "execution_count": 8,
   "metadata": {},
   "outputs": [],
   "source": [
    "class Model:\n",
    "    def __init__(self, size_layer, num_layers, embedded_size,\n",
    "                 dict_size, dimension_output, learning_rate):\n",
    "        \n",
    "        def cells(reuse=False):\n",
    "            return tf.nn.rnn_cell.BasicRNNCell(size_layer,reuse=reuse)\n",
    "        \n",
    "        self.X = tf.placeholder(tf.int32, [None, None])\n",
    "        self.Y = tf.placeholder(tf.float32, [None, dimension_output])\n",
    "        encoder_embeddings = tf.Variable(tf.random_uniform([dict_size, embedded_size], -1, 1))\n",
    "        encoder_embedded = tf.nn.embedding_lookup(encoder_embeddings, self.X)\n",
    "        rnn_cells = tf.nn.rnn_cell.MultiRNNCell([cells() for _ in range(num_layers)])\n",
    "        outputs, _ = tf.nn.dynamic_rnn(rnn_cells, encoder_embedded, dtype = tf.float32)\n",
    "        W = tf.get_variable('w',shape=(size_layer, dimension_output),initializer=tf.orthogonal_initializer())\n",
    "        b = tf.get_variable('b',shape=(dimension_output),initializer=tf.zeros_initializer())\n",
    "        self.logits = tf.matmul(outputs[:, -1], W) + b\n",
    "        self.cost = tf.losses.huber_loss(predictions = self.logits, labels = self.Y)\n",
    "        self.optimizer = tf.train.AdamOptimizer(learning_rate = learning_rate).minimize(self.cost)\n",
    "        correct_pred = tf.equal(tf.argmax(self.logits, 1), tf.argmax(self.Y, 1))\n",
    "        self.accuracy = tf.reduce_mean(tf.cast(correct_pred, tf.float32))"
   ]
  },
  {
   "cell_type": "code",
   "execution_count": 9,
   "metadata": {},
   "outputs": [],
   "source": [
    "size_layer = 128\n",
    "num_layers = 2\n",
    "embedded_size = 128\n",
    "dimension_output = len(trainset.target_names)\n",
    "learning_rate = 1e-3\n",
    "maxlen = 50\n",
    "batch_size = 128"
   ]
  },
  {
   "cell_type": "code",
   "execution_count": 10,
   "metadata": {},
   "outputs": [
    {
     "name": "stdout",
     "output_type": "stream",
     "text": [
      "WARNING:tensorflow:From <ipython-input-8-e774ebd3f5fd>:6: BasicRNNCell.__init__ (from tensorflow.python.ops.rnn_cell_impl) is deprecated and will be removed in a future version.\n",
      "Instructions for updating:\n",
      "This class is equivalent as tf.keras.layers.SimpleRNNCell, and will be replaced by that in Tensorflow 2.0.\n"
     ]
    }
   ],
   "source": [
    "tf.reset_default_graph()\n",
    "sess = tf.InteractiveSession()\n",
    "model = Model(size_layer,num_layers,embedded_size,vocabulary_size+4,dimension_output,learning_rate)\n",
    "sess.run(tf.global_variables_initializer())"
   ]
  },
  {
   "cell_type": "code",
   "execution_count": 11,
   "metadata": {},
   "outputs": [
    {
     "name": "stdout",
     "output_type": "stream",
     "text": [
      "epoch: 0, pass acc: 0.000000, current acc: 0.491211\n",
      "time taken: 2.2228288650512695\n",
      "epoch: 0, training loss: 0.146161, training acc: 0.516809, valid loss: 0.133106, valid acc: 0.491211\n",
      "\n",
      "epoch: 1, pass acc: 0.491211, current acc: 0.516602\n",
      "time taken: 1.8871517181396484\n",
      "epoch: 1, training loss: 0.121548, training acc: 0.573390, valid loss: 0.135492, valid acc: 0.516602\n",
      "\n",
      "epoch: 2, pass acc: 0.516602, current acc: 0.533203\n",
      "time taken: 1.896496295928955\n",
      "epoch: 2, training loss: 0.109383, training acc: 0.648911, valid loss: 0.140220, valid acc: 0.533203\n",
      "\n",
      "epoch: 3, pass acc: 0.533203, current acc: 0.556641\n",
      "time taken: 1.9142694473266602\n",
      "epoch: 3, training loss: 0.088852, training acc: 0.738163, valid loss: 0.143724, valid acc: 0.556641\n",
      "\n",
      "epoch: 4, pass acc: 0.556641, current acc: 0.559570\n",
      "time taken: 1.918583869934082\n",
      "epoch: 4, training loss: 0.066482, training acc: 0.824455, valid loss: 0.161507, valid acc: 0.559570\n",
      "\n",
      "epoch: 5, pass acc: 0.559570, current acc: 0.576172\n",
      "time taken: 1.9171910285949707\n",
      "epoch: 5, training loss: 0.051946, training acc: 0.878433, valid loss: 0.155771, valid acc: 0.576172\n",
      "\n",
      "epoch: 6, pass acc: 0.576172, current acc: 0.599121\n",
      "time taken: 1.8859009742736816\n",
      "epoch: 6, training loss: 0.053330, training acc: 0.880563, valid loss: 0.153330, valid acc: 0.599121\n",
      "\n",
      "time taken: 1.8915975093841553\n",
      "epoch: 7, training loss: 0.035025, training acc: 0.933002, valid loss: 0.156000, valid acc: 0.586914\n",
      "\n",
      "epoch: 8, pass acc: 0.599121, current acc: 0.608398\n",
      "time taken: 1.8713891506195068\n",
      "epoch: 8, training loss: 0.016661, training acc: 0.976562, valid loss: 0.153956, valid acc: 0.608398\n",
      "\n",
      "time taken: 1.920377492904663\n",
      "epoch: 9, training loss: 0.009760, training acc: 0.990767, valid loss: 0.156707, valid acc: 0.603516\n",
      "\n",
      "time taken: 1.9146099090576172\n",
      "epoch: 10, training loss: 0.006395, training acc: 0.995975, valid loss: 0.156090, valid acc: 0.600586\n",
      "\n",
      "time taken: 1.8870208263397217\n",
      "epoch: 11, training loss: 0.004855, training acc: 0.997633, valid loss: 0.153806, valid acc: 0.608398\n",
      "\n",
      "time taken: 1.8944010734558105\n",
      "epoch: 12, training loss: 0.003992, training acc: 0.998343, valid loss: 0.154534, valid acc: 0.606934\n",
      "\n",
      "epoch: 13, pass acc: 0.608398, current acc: 0.608887\n",
      "time taken: 1.877049207687378\n",
      "epoch: 13, training loss: 0.003072, training acc: 0.998816, valid loss: 0.155748, valid acc: 0.608887\n",
      "\n",
      "epoch: 14, pass acc: 0.608887, current acc: 0.611328\n",
      "time taken: 1.9039993286132812\n",
      "epoch: 14, training loss: 0.002064, training acc: 0.999290, valid loss: 0.155762, valid acc: 0.611328\n",
      "\n",
      "time taken: 1.896897554397583\n",
      "epoch: 15, training loss: 0.001421, training acc: 0.999645, valid loss: 0.154932, valid acc: 0.609863\n",
      "\n",
      "epoch: 16, pass acc: 0.611328, current acc: 0.612305\n",
      "time taken: 1.873964548110962\n",
      "epoch: 16, training loss: 0.000942, training acc: 0.999882, valid loss: 0.154621, valid acc: 0.612305\n",
      "\n",
      "epoch: 17, pass acc: 0.612305, current acc: 0.613770\n",
      "time taken: 1.8827648162841797\n",
      "epoch: 17, training loss: 0.000708, training acc: 0.999882, valid loss: 0.155224, valid acc: 0.613770\n",
      "\n",
      "time taken: 1.8712835311889648\n",
      "epoch: 18, training loss: 0.000561, training acc: 0.999882, valid loss: 0.155663, valid acc: 0.611328\n",
      "\n",
      "epoch: 19, pass acc: 0.613770, current acc: 0.614746\n",
      "time taken: 1.9200224876403809\n",
      "epoch: 19, training loss: 0.000455, training acc: 1.000000, valid loss: 0.155874, valid acc: 0.614746\n",
      "\n",
      "time taken: 1.9218189716339111\n",
      "epoch: 20, training loss: 0.000381, training acc: 1.000000, valid loss: 0.156053, valid acc: 0.612305\n",
      "\n",
      "time taken: 1.9207212924957275\n",
      "epoch: 21, training loss: 0.000325, training acc: 1.000000, valid loss: 0.156303, valid acc: 0.613281\n",
      "\n",
      "epoch: 22, pass acc: 0.614746, current acc: 0.615234\n",
      "time taken: 1.9075720310211182\n",
      "epoch: 22, training loss: 0.000282, training acc: 1.000000, valid loss: 0.156509, valid acc: 0.615234\n",
      "\n",
      "time taken: 1.9688913822174072\n",
      "epoch: 23, training loss: 0.000247, training acc: 1.000000, valid loss: 0.156721, valid acc: 0.612305\n",
      "\n",
      "time taken: 1.9331209659576416\n",
      "epoch: 24, training loss: 0.000219, training acc: 1.000000, valid loss: 0.156899, valid acc: 0.614258\n",
      "\n",
      "time taken: 1.9556999206542969\n",
      "epoch: 25, training loss: 0.000195, training acc: 1.000000, valid loss: 0.157082, valid acc: 0.613281\n",
      "\n",
      "time taken: 1.9213275909423828\n",
      "epoch: 26, training loss: 0.000175, training acc: 1.000000, valid loss: 0.157246, valid acc: 0.612793\n",
      "\n",
      "time taken: 1.9093544483184814\n",
      "epoch: 27, training loss: 0.000158, training acc: 1.000000, valid loss: 0.157439, valid acc: 0.612305\n",
      "\n",
      "break epoch:28\n",
      "\n"
     ]
    }
   ],
   "source": [
    "EARLY_STOPPING, CURRENT_CHECKPOINT, CURRENT_ACC, EPOCH = 5, 0, 0, 0\n",
    "while True:\n",
    "    lasttime = time.time()\n",
    "    if CURRENT_CHECKPOINT == EARLY_STOPPING:\n",
    "        print('break epoch:%d\\n'%(EPOCH))\n",
    "        break\n",
    "        \n",
    "    train_acc, train_loss, test_acc, test_loss = 0, 0, 0, 0\n",
    "    for i in range(0, (len(train_X) // batch_size) * batch_size, batch_size):\n",
    "        batch_x = str_idx(train_X[i:i+batch_size],dictionary,maxlen)\n",
    "        acc, loss, _ = sess.run([model.accuracy, model.cost, model.optimizer], \n",
    "                           feed_dict = {model.X : batch_x, model.Y : train_onehot[i:i+batch_size]})\n",
    "        train_loss += loss\n",
    "        train_acc += acc\n",
    "    \n",
    "    for i in range(0, (len(test_X) // batch_size) * batch_size, batch_size):\n",
    "        batch_x = str_idx(test_X[i:i+batch_size],dictionary,maxlen)\n",
    "        acc, loss = sess.run([model.accuracy, model.cost], \n",
    "                           feed_dict = {model.X : batch_x, model.Y : test_onehot[i:i+batch_size]})\n",
    "        test_loss += loss\n",
    "        test_acc += acc\n",
    "    \n",
    "    train_loss /= (len(train_X) // batch_size)\n",
    "    train_acc /= (len(train_X) // batch_size)\n",
    "    test_loss /= (len(test_X) // batch_size)\n",
    "    test_acc /= (len(test_X) // batch_size)\n",
    "    \n",
    "    if test_acc > CURRENT_ACC:\n",
    "        print('epoch: %d, pass acc: %f, current acc: %f'%(EPOCH,CURRENT_ACC, test_acc))\n",
    "        CURRENT_ACC = test_acc\n",
    "        CURRENT_CHECKPOINT = 0\n",
    "    else:\n",
    "        CURRENT_CHECKPOINT += 1\n",
    "        \n",
    "    print('time taken:', time.time()-lasttime)\n",
    "    print('epoch: %d, training loss: %f, training acc: %f, valid loss: %f, valid acc: %f\\n'%(EPOCH,train_loss,\n",
    "                                                                                          train_acc,test_loss,\n",
    "                                                                                          test_acc))\n",
    "    EPOCH += 1"
   ]
  },
  {
   "cell_type": "code",
   "execution_count": 12,
   "metadata": {},
   "outputs": [
    {
     "name": "stdout",
     "output_type": "stream",
     "text": [
      "              precision    recall  f1-score   support\n",
      "\n",
      "    negative       0.62      0.62      0.62      1094\n",
      "    positive       0.60      0.60      0.60      1039\n",
      "\n",
      "    accuracy                           0.61      2133\n",
      "   macro avg       0.61      0.61      0.61      2133\n",
      "weighted avg       0.61      0.61      0.61      2133\n",
      "\n"
     ]
    }
   ],
   "source": [
    "logits = sess.run(model.logits, feed_dict={model.X:str_idx(test_X,dictionary,maxlen)})\n",
    "print(metrics.classification_report(test_Y, np.argmax(logits,1), target_names = trainset.target_names))"
   ]
  },
  {
   "cell_type": "code",
   "execution_count": null,
   "metadata": {},
   "outputs": [],
   "source": []
  }
 ],
 "metadata": {
  "kernelspec": {
   "display_name": "Python 3",
   "language": "python",
   "name": "python3"
  },
  "language_info": {
   "codemirror_mode": {
    "name": "ipython",
    "version": 3
   },
   "file_extension": ".py",
   "mimetype": "text/x-python",
   "name": "python",
   "nbconvert_exporter": "python",
   "pygments_lexer": "ipython3",
   "version": "3.6.10"
  },
  "pycharm": {
   "stem_cell": {
    "cell_type": "raw",
    "metadata": {
     "collapsed": false
    },
    "source": []
   }
  }
 },
 "nbformat": 4,
 "nbformat_minor": 4
}
