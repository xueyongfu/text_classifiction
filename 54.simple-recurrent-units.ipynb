{
 "cells": [
  {
   "cell_type": "code",
   "execution_count": 3,
   "metadata": {},
   "outputs": [],
   "source": [
    "from utils import *\n",
    "import tensorflow as tf\n",
    "from sklearn.model_selection import train_test_split\n",
    "import time\n",
    "import random\n",
    "import os"
   ]
  },
  {
   "cell_type": "code",
   "execution_count": 4,
   "metadata": {},
   "outputs": [
    {
     "name": "stdout",
     "output_type": "stream",
     "text": [
      "['negative', 'positive']\n",
      "10662\n",
      "10662\n"
     ]
    }
   ],
   "source": [
    "trainset = sklearn.datasets.load_files(container_path = 'data', encoding = 'UTF-8')\n",
    "trainset.data, trainset.target = separate_dataset(trainset,1.0)\n",
    "print (trainset.target_names)\n",
    "print (len(trainset.data))\n",
    "print (len(trainset.target))"
   ]
  },
  {
   "cell_type": "code",
   "execution_count": 5,
   "metadata": {},
   "outputs": [],
   "source": [
    "ONEHOT = np.zeros((len(trainset.data),len(trainset.target_names)))\n",
    "ONEHOT[np.arange(len(trainset.data)),trainset.target] = 1.0\n",
    "train_X, test_X, train_Y, test_Y, train_onehot, test_onehot = train_test_split(trainset.data, \n",
    "                                                                               trainset.target, \n",
    "                                                                               ONEHOT, test_size = 0.2)"
   ]
  },
  {
   "cell_type": "code",
   "execution_count": 6,
   "metadata": {},
   "outputs": [
    {
     "name": "stdout",
     "output_type": "stream",
     "text": [
      "vocab from size: 20332\n",
      "Most common words [('film', 1453), ('movie', 1270), ('one', 727), ('like', 721), ('story', 477), ('much', 386)]\n",
      "Sample data [7, 10158, 446, 7006, 4373, 197, 413, 10159, 447, 1298] ['like', 'russo', 'guys', 'lookin', 'mamet', 'instead', 'found', 'sturges', 'rich', 'bittersweet']\n"
     ]
    }
   ],
   "source": [
    "concat = ' '.join(trainset.data).split()\n",
    "vocabulary_size = len(list(set(concat)))\n",
    "data, count, dictionary, rev_dictionary = build_dataset(concat, vocabulary_size)\n",
    "print('vocab from size: %d'%(vocabulary_size))\n",
    "print('Most common words', count[4:10])\n",
    "print('Sample data', data[:10], [rev_dictionary[i] for i in data[:10]])"
   ]
  },
  {
   "cell_type": "code",
   "execution_count": 7,
   "metadata": {},
   "outputs": [],
   "source": [
    "GO = dictionary['GO']\n",
    "PAD = dictionary['PAD']\n",
    "EOS = dictionary['EOS']\n",
    "UNK = dictionary['UNK']"
   ]
  },
  {
   "cell_type": "code",
   "execution_count": 8,
   "metadata": {},
   "outputs": [],
   "source": [
    "from tensorflow.python.ops.rnn_cell import RNNCell\n",
    "from tensorflow.contrib.rnn.python.ops import core_rnn_cell\n",
    "\n",
    "def linear(args, output_size, bias, bias_start=0.0, scope=None):\n",
    "    if args is None or (isinstance(args, (list, tuple)) and not args):\n",
    "        raise ValueError(\"`args` must be specified\")\n",
    "    if not isinstance(args, (list, tuple)):\n",
    "        args = [args]\n",
    "\n",
    "    # Calculate the total size of arguments on dimension 1.\n",
    "    total_arg_size = 0\n",
    "    shapes = [a.get_shape().as_list() for a in args]\n",
    "    for shape in shapes:\n",
    "        if len(shape) != 2:\n",
    "            raise ValueError(\n",
    "                \"Linear is expecting 2D arguments: %s\" % str(shapes))\n",
    "        if not shape[1]:\n",
    "            raise ValueError(\n",
    "                \"Linear expects shape[1] of arguments: %s\" % str(shapes))\n",
    "        else:\n",
    "            total_arg_size += shape[1]\n",
    "\n",
    "    with tf.variable_scope(scope or \"Linear\"):\n",
    "        matrix = tf.get_variable(\"Matrix\", [total_arg_size, output_size])\n",
    "        if len(args) == 1:\n",
    "            res = tf.matmul(args[0], matrix)\n",
    "        else:\n",
    "            res = tf.matmul(tf.concat(1, args), matrix)\n",
    "        if not bias:\n",
    "            return res\n",
    "        bias_term = tf.get_variable(\n",
    "            \"Bias\", [output_size],\n",
    "            initializer=tf.constant_initializer(bias_start))\n",
    "    return res + bias_term\n",
    "\n",
    "class SRUCell(RNNCell):\n",
    "\n",
    "    def __init__(self, num_units, activation=None, reuse=None):\n",
    "        self._num_units = num_units\n",
    "        self._activation = activation or tf.tanh\n",
    "\n",
    "    @property\n",
    "    def output_size(self):\n",
    "        return self._num_units\n",
    "\n",
    "    @property\n",
    "    def state_size(self):\n",
    "        return self._num_units\n",
    "\n",
    "    def __call__(self, inputs, state, scope='SRUCell'):\n",
    "\n",
    "        with tf.variable_scope(scope):\n",
    "            with tf.variable_scope(\"Inputs\"):\n",
    "                x = linear([inputs], self._num_units, False)\n",
    "            with tf.variable_scope(\"Gate\"):\n",
    "                concat = tf.sigmoid(linear([inputs], 2 * self._num_units, True))\n",
    "                f, r = tf.split(axis=1, num_or_size_splits=2, value=concat)\n",
    "                    \n",
    "            c = f * state + (1 - f) * x\n",
    "            h = r * self._activation(c) + (1 - r) * inputs\n",
    "\n",
    "        return h, c\n",
    "\n",
    "class Model:\n",
    "    def __init__(self, size_layer, num_layers, embedded_size,\n",
    "                 dict_size, dimension_output):\n",
    "        \n",
    "        def cells(reuse=False):\n",
    "            return SRUCell(size_layer,reuse=reuse)\n",
    "        \n",
    "        self.X = tf.placeholder(tf.int32, [None, None])\n",
    "        self.Y = tf.placeholder(tf.float32, [None, dimension_output])\n",
    "        embeddings = tf.Variable(tf.random_uniform([dict_size, embedded_size], -1, 1))\n",
    "        embedded = tf.nn.embedding_lookup(embeddings, self.X)\n",
    "        rnn_cells = tf.nn.rnn_cell.MultiRNNCell([cells() for _ in range(num_layers)])\n",
    "        outputs, _ = tf.nn.dynamic_rnn(rnn_cells, embedded, dtype = tf.float32)\n",
    "        W = tf.get_variable('w',shape=(size_layer, dimension_output),initializer=tf.orthogonal_initializer())\n",
    "        b = tf.get_variable('b',shape=(dimension_output),initializer=tf.zeros_initializer())\n",
    "        self.logits = tf.matmul(outputs[:, -1], W) + b\n",
    "        self.cost = tf.reduce_mean(tf.nn.softmax_cross_entropy_with_logits(logits = self.logits, labels = self.Y))\n",
    "        self.optimizer = tf.train.AdamOptimizer(learning_rate = 1e-3).minimize(self.cost)\n",
    "        correct_pred = tf.equal(tf.argmax(self.logits, 1), tf.argmax(self.Y, 1))\n",
    "        self.accuracy = tf.reduce_mean(tf.cast(correct_pred, tf.float32))"
   ]
  },
  {
   "cell_type": "code",
   "execution_count": 9,
   "metadata": {},
   "outputs": [],
   "source": [
    "size_layer = 128\n",
    "num_layers = 2\n",
    "embedded_size = 128\n",
    "dimension_output = len(trainset.target_names)\n",
    "maxlen = 50\n",
    "batch_size = 128"
   ]
  },
  {
   "cell_type": "code",
   "execution_count": 10,
   "metadata": {},
   "outputs": [
    {
     "name": "stdout",
     "output_type": "stream",
     "text": [
      "WARNING:tensorflow:From <ipython-input-8-9f2b5c716f38>:80: softmax_cross_entropy_with_logits (from tensorflow.python.ops.nn_ops) is deprecated and will be removed in a future version.\n",
      "Instructions for updating:\n",
      "\n",
      "Future major versions of TensorFlow will allow gradients to flow\n",
      "into the labels input on backprop by default.\n",
      "\n",
      "See `tf.nn.softmax_cross_entropy_with_logits_v2`.\n",
      "\n"
     ]
    }
   ],
   "source": [
    "tf.reset_default_graph()\n",
    "sess = tf.InteractiveSession()\n",
    "model = Model(size_layer,num_layers,embedded_size,len(dictionary),dimension_output)\n",
    "sess.run(tf.global_variables_initializer())"
   ]
  },
  {
   "cell_type": "code",
   "execution_count": 11,
   "metadata": {},
   "outputs": [
    {
     "name": "stdout",
     "output_type": "stream",
     "text": [
      "epoch: 0, pass acc: 0.000000, current acc: 0.565430\n",
      "time taken: 5.101298570632935\n",
      "epoch: 0, training loss: 0.687589, training acc: 0.536813, valid loss: 0.680090, valid acc: 0.565430\n",
      "\n",
      "epoch: 1, pass acc: 0.565430, current acc: 0.610352\n",
      "time taken: 4.61398983001709\n",
      "epoch: 1, training loss: 0.622151, training acc: 0.664654, valid loss: 0.660753, valid acc: 0.610352\n",
      "\n",
      "epoch: 2, pass acc: 0.610352, current acc: 0.641602\n",
      "time taken: 4.6201331615448\n",
      "epoch: 2, training loss: 0.517003, training acc: 0.751657, valid loss: 0.667638, valid acc: 0.641602\n",
      "\n",
      "epoch: 3, pass acc: 0.641602, current acc: 0.659668\n",
      "time taken: 4.7880859375\n",
      "epoch: 3, training loss: 0.389923, training acc: 0.830137, valid loss: 0.715468, valid acc: 0.659668\n",
      "\n",
      "epoch: 4, pass acc: 0.659668, current acc: 0.664062\n",
      "time taken: 4.6560585498809814\n",
      "epoch: 4, training loss: 0.268474, training acc: 0.892992, valid loss: 0.800600, valid acc: 0.664062\n",
      "\n",
      "epoch: 5, pass acc: 0.664062, current acc: 0.666016\n",
      "time taken: 4.75654673576355\n",
      "epoch: 5, training loss: 0.168126, training acc: 0.940814, valid loss: 0.919998, valid acc: 0.666016\n",
      "\n",
      "epoch: 6, pass acc: 0.666016, current acc: 0.667969\n",
      "time taken: 4.688446760177612\n",
      "epoch: 6, training loss: 0.094225, training acc: 0.970999, valid loss: 1.082147, valid acc: 0.667969\n",
      "\n",
      "time taken: 4.926157712936401\n",
      "epoch: 7, training loss: 0.047264, training acc: 0.989110, valid loss: 1.270929, valid acc: 0.665039\n",
      "\n",
      "epoch: 8, pass acc: 0.667969, current acc: 0.675781\n",
      "time taken: 4.834833145141602\n",
      "epoch: 8, training loss: 0.023336, training acc: 0.996212, valid loss: 1.437609, valid acc: 0.675781\n",
      "\n",
      "time taken: 4.8242270946502686\n",
      "epoch: 9, training loss: 0.012160, training acc: 0.998224, valid loss: 1.603274, valid acc: 0.671875\n",
      "\n",
      "time taken: 4.817582607269287\n",
      "epoch: 10, training loss: 0.008994, training acc: 0.998816, valid loss: 1.740632, valid acc: 0.673828\n",
      "\n",
      "time taken: 4.848264932632446\n",
      "epoch: 11, training loss: 0.006433, training acc: 0.998816, valid loss: 1.903618, valid acc: 0.662598\n",
      "\n",
      "time taken: 4.823470115661621\n",
      "epoch: 12, training loss: 0.004158, training acc: 0.999527, valid loss: 1.933026, valid acc: 0.669922\n",
      "\n",
      "time taken: 4.790459156036377\n",
      "epoch: 13, training loss: 0.001903, training acc: 0.999882, valid loss: 1.983022, valid acc: 0.668457\n",
      "\n",
      "break epoch:14\n",
      "\n"
     ]
    }
   ],
   "source": [
    "EARLY_STOPPING, CURRENT_CHECKPOINT, CURRENT_ACC, EPOCH = 5, 0, 0, 0\n",
    "while True:\n",
    "    lasttime = time.time()\n",
    "    if CURRENT_CHECKPOINT == EARLY_STOPPING:\n",
    "        print('break epoch:%d\\n'%(EPOCH))\n",
    "        break\n",
    "        \n",
    "    train_acc, train_loss, test_acc, test_loss = 0, 0, 0, 0\n",
    "    for i in range(0, (len(train_X) // batch_size) * batch_size, batch_size):\n",
    "        batch_x = str_idx(train_X[i:i+batch_size],dictionary,maxlen)\n",
    "        acc, loss, _ = sess.run([model.accuracy, model.cost, model.optimizer], \n",
    "                           feed_dict = {model.X : batch_x, model.Y : train_onehot[i:i+batch_size]})\n",
    "        train_loss += loss\n",
    "        train_acc += acc\n",
    "    \n",
    "    for i in range(0, (len(test_X) // batch_size) * batch_size, batch_size):\n",
    "        batch_x = str_idx(test_X[i:i+batch_size],dictionary,maxlen)\n",
    "        acc, loss = sess.run([model.accuracy, model.cost], \n",
    "                           feed_dict = {model.X : batch_x, model.Y : test_onehot[i:i+batch_size]})\n",
    "        test_loss += loss\n",
    "        test_acc += acc\n",
    "    \n",
    "    train_loss /= (len(train_X) // batch_size)\n",
    "    train_acc /= (len(train_X) // batch_size)\n",
    "    test_loss /= (len(test_X) // batch_size)\n",
    "    test_acc /= (len(test_X) // batch_size)\n",
    "    \n",
    "    if test_acc > CURRENT_ACC:\n",
    "        print('epoch: %d, pass acc: %f, current acc: %f'%(EPOCH,CURRENT_ACC, test_acc))\n",
    "        CURRENT_ACC = test_acc\n",
    "        CURRENT_CHECKPOINT = 0\n",
    "    else:\n",
    "        CURRENT_CHECKPOINT += 1\n",
    "        \n",
    "    print('time taken:', time.time()-lasttime)\n",
    "    print('epoch: %d, training loss: %f, training acc: %f, valid loss: %f, valid acc: %f\\n'%(EPOCH,train_loss,\n",
    "                                                                                          train_acc,test_loss,\n",
    "                                                                                          test_acc))\n",
    "    EPOCH += 1"
   ]
  },
  {
   "cell_type": "code",
   "execution_count": 12,
   "metadata": {},
   "outputs": [
    {
     "name": "stdout",
     "output_type": "stream",
     "text": [
      "              precision    recall  f1-score   support\n",
      "\n",
      "    negative       0.69      0.66      0.67      1108\n",
      "    positive       0.65      0.67      0.66      1025\n",
      "\n",
      "    accuracy                           0.67      2133\n",
      "   macro avg       0.67      0.67      0.67      2133\n",
      "weighted avg       0.67      0.67      0.67      2133\n",
      "\n"
     ]
    }
   ],
   "source": [
    "logits = sess.run(model.logits, feed_dict={model.X:str_idx(test_X,dictionary,maxlen)})\n",
    "print(metrics.classification_report(test_Y, np.argmax(logits,1), target_names = trainset.target_names))"
   ]
  },
  {
   "cell_type": "code",
   "execution_count": null,
   "metadata": {},
   "outputs": [],
   "source": []
  }
 ],
 "metadata": {
  "kernelspec": {
   "display_name": "Python 3",
   "language": "python",
   "name": "python3"
  },
  "language_info": {
   "codemirror_mode": {
    "name": "ipython",
    "version": 3
   },
   "file_extension": ".py",
   "mimetype": "text/x-python",
   "name": "python",
   "nbconvert_exporter": "python",
   "pygments_lexer": "ipython3",
   "version": "3.6.10"
  }
 },
 "nbformat": 4,
 "nbformat_minor": 4
}
