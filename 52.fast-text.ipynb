{
 "cells": [
  {
   "cell_type": "code",
   "execution_count": 3,
   "metadata": {},
   "outputs": [],
   "source": [
    "import numpy as np\n",
    "from utils import *\n",
    "import tensorflow as tf\n",
    "from sklearn.model_selection import train_test_split\n",
    "import time\n",
    "from tqdm import tqdm\n",
    "import random"
   ]
  },
  {
   "cell_type": "code",
   "execution_count": 4,
   "metadata": {},
   "outputs": [],
   "source": [
    "ngram_range = 2\n",
    "max_features = 20000\n",
    "maxlen = 50\n",
    "batch_size = 64\n",
    "embedded_size = 128\n",
    "epoch = 10"
   ]
  },
  {
   "cell_type": "code",
   "execution_count": 5,
   "metadata": {},
   "outputs": [
    {
     "name": "stdout",
     "output_type": "stream",
     "text": [
      "['negative', 'positive']\n",
      "10662\n",
      "10662\n"
     ]
    }
   ],
   "source": [
    "trainset = sklearn.datasets.load_files(container_path = 'data', encoding = 'UTF-8')\n",
    "trainset.data, trainset.target = separate_dataset(trainset,1.0)\n",
    "print (trainset.target_names)\n",
    "print (len(trainset.data))\n",
    "print (len(trainset.target))"
   ]
  },
  {
   "cell_type": "code",
   "execution_count": 6,
   "metadata": {},
   "outputs": [
    {
     "name": "stdout",
     "output_type": "stream",
     "text": [
      "vocab from size: 20332\n",
      "Most common words [('film', 1453), ('movie', 1270), ('one', 727), ('like', 721), ('story', 477), ('much', 386)]\n",
      "Sample data [534, 7006, 1122, 535, 17, 3661, 7007, 812, 55, 178] ['adaptation', 'intricately', 'constructed', 'strange', 'way', 'nails', 'orleans', 'themes', 'without', 'true']\n"
     ]
    }
   ],
   "source": [
    "concat = ' '.join(trainset.data).split()\n",
    "vocabulary_size = len(list(set(concat)))\n",
    "data, count, dictionary, rev_dictionary = build_dataset(concat, vocabulary_size)\n",
    "print('vocab from size: %d'%(vocabulary_size))\n",
    "print('Most common words', count[4:10])\n",
    "print('Sample data', data[:10], [rev_dictionary[i] for i in data[:10]])"
   ]
  },
  {
   "cell_type": "code",
   "execution_count": 7,
   "metadata": {},
   "outputs": [],
   "source": [
    "idx_trainset = []\n",
    "for text in trainset.data:\n",
    "    idx = []\n",
    "    for t in text.split():\n",
    "        try:\n",
    "            idx.append(dictionary[t])\n",
    "        except:\n",
    "            pass\n",
    "    idx_trainset.append(idx)"
   ]
  },
  {
   "cell_type": "code",
   "execution_count": 8,
   "metadata": {},
   "outputs": [],
   "source": [
    "def create_ngram_set(input_list, ngram_value):\n",
    "    return set(zip(*[input_list[i:] for i in range(ngram_value)]))\n",
    "\n",
    "def build_ngram(x_train):\n",
    "    global max_features\n",
    "    ngram_set = set()\n",
    "    for input_list in tqdm(x_train, total=len(x_train), ncols=70):\n",
    "        for i in range(2, ngram_range + 1):\n",
    "            set_of_ngram = create_ngram_set(input_list, ngram_value=i)\n",
    "            ngram_set.update(set_of_ngram)\n",
    "    start_index = max_features + 1\n",
    "    token_indice = {v: k + start_index for k, v in enumerate(ngram_set)}\n",
    "    indice_token = {token_indice[k]: k for k in token_indice}\n",
    "\n",
    "    max_features = np.max(list(indice_token.keys())) + 1\n",
    "    return token_indice\n",
    "\n",
    "def add_ngram(sequences, token_indice):\n",
    "    new_sequences = []\n",
    "    for input_list in tqdm(sequences, total=len(sequences), ncols=70):\n",
    "        new_list = input_list[:]\n",
    "        for ngram_value in range(2, ngram_range + 1):\n",
    "            for i in range(len(new_list) - ngram_value + 1):\n",
    "                ngram = tuple(new_list[i:i + ngram_value])\n",
    "                if ngram in token_indice:\n",
    "                    new_list.append(token_indice[ngram])\n",
    "        new_sequences.append(new_list)\n",
    "    return new_sequences"
   ]
  },
  {
   "cell_type": "code",
   "execution_count": 9,
   "metadata": {},
   "outputs": [
    {
     "name": "stderr",
     "output_type": "stream",
     "text": [
      "100%|███████████████████████| 10662/10662 [00:00<00:00, 185367.27it/s]\n",
      "100%|████████████████████████| 10662/10662 [00:00<00:00, 81235.23it/s]\n"
     ]
    }
   ],
   "source": [
    "token_indice = build_ngram(idx_trainset)\n",
    "X = add_ngram(idx_trainset, token_indice)\n",
    "X = tf.keras.preprocessing.sequence.pad_sequences(X, maxlen)"
   ]
  },
  {
   "cell_type": "code",
   "execution_count": 10,
   "metadata": {},
   "outputs": [
    {
     "data": {
      "text/plain": [
       "(10662, 50)"
      ]
     },
     "execution_count": 10,
     "metadata": {},
     "output_type": "execute_result"
    }
   ],
   "source": [
    "X.shape"
   ]
  },
  {
   "cell_type": "code",
   "execution_count": 11,
   "metadata": {},
   "outputs": [],
   "source": [
    "train_X, test_X, train_Y, test_Y = train_test_split(X, \n",
    "                                                    trainset.target,\n",
    "                                                    test_size = 0.2)"
   ]
  },
  {
   "cell_type": "code",
   "execution_count": 12,
   "metadata": {},
   "outputs": [],
   "source": [
    "class Model:\n",
    "    def __init__(self, embedded_size, dict_size, dimension_output, learning_rate):\n",
    "        \n",
    "        self.X = tf.placeholder(tf.int32, [None, None])\n",
    "        self.Y = tf.placeholder(tf.int32, [None])\n",
    "        encoder_embeddings = tf.Variable(tf.random_uniform([dict_size, embedded_size], -1, 1))\n",
    "        encoder_embedded = tf.nn.embedding_lookup(encoder_embeddings, self.X)\n",
    "        self.logits = tf.layers.dense(tf.reduce_mean(encoder_embedded, 1), dimension_output)\n",
    "        self.cost = tf.reduce_mean(tf.nn.sparse_softmax_cross_entropy_with_logits(\n",
    "            logits=self.logits,\n",
    "            labels=self.Y))\n",
    "        self.optimizer = tf.train.AdamOptimizer(learning_rate).minimize(self.cost)\n",
    "        correct_pred = tf.equal(tf.argmax(self.logits, 1,output_type=tf.int32), self.Y)\n",
    "        self.accuracy = tf.reduce_mean(tf.cast(correct_pred, tf.float32))"
   ]
  },
  {
   "cell_type": "code",
   "execution_count": 13,
   "metadata": {},
   "outputs": [],
   "source": [
    "tf.reset_default_graph()\n",
    "sess = tf.InteractiveSession()\n",
    "model = Model(embedded_size,vocabulary_size+4,2,1e-3)\n",
    "sess.run(tf.global_variables_initializer())"
   ]
  },
  {
   "cell_type": "code",
   "execution_count": 14,
   "metadata": {},
   "outputs": [
    {
     "name": "stdout",
     "output_type": "stream",
     "text": [
      "epoch: 0, pass acc: 0.000000, current acc: 0.536932\n",
      "time taken: 0.6459240913391113\n",
      "epoch: 0, training loss: 0.689782, training acc: 0.533835, valid loss: 0.685098, valid acc: 0.536932\n",
      "\n",
      "epoch: 1, pass acc: 0.536932, current acc: 0.572443\n",
      "time taken: 0.3341085910797119\n",
      "epoch: 1, training loss: 0.672378, training acc: 0.633576, valid loss: 0.672698, valid acc: 0.572443\n",
      "\n",
      "epoch: 2, pass acc: 0.572443, current acc: 0.618845\n",
      "time taken: 0.3254857063293457\n",
      "epoch: 2, training loss: 0.647782, training acc: 0.716165, valid loss: 0.654821, valid acc: 0.618845\n",
      "\n",
      "epoch: 3, pass acc: 0.618845, current acc: 0.664299\n",
      "time taken: 0.367229700088501\n",
      "epoch: 3, training loss: 0.611808, training acc: 0.773496, valid loss: 0.630317, valid acc: 0.664299\n",
      "\n",
      "epoch: 4, pass acc: 0.664299, current acc: 0.691761\n",
      "time taken: 0.3267521858215332\n",
      "epoch: 4, training loss: 0.564377, training acc: 0.813910, valid loss: 0.601702, valid acc: 0.691761\n",
      "\n",
      "epoch: 5, pass acc: 0.691761, current acc: 0.719223\n",
      "time taken: 0.31577491760253906\n",
      "epoch: 5, training loss: 0.510654, training acc: 0.845160, valid loss: 0.573641, valid acc: 0.719223\n",
      "\n",
      "epoch: 6, pass acc: 0.719223, current acc: 0.730114\n",
      "time taken: 0.3185291290283203\n",
      "epoch: 6, training loss: 0.457211, training acc: 0.868773, valid loss: 0.549577, valid acc: 0.730114\n",
      "\n",
      "epoch: 7, pass acc: 0.730114, current acc: 0.737216\n",
      "time taken: 0.3562045097351074\n",
      "epoch: 7, training loss: 0.408213, training acc: 0.886866, valid loss: 0.530621, valid acc: 0.737216\n",
      "\n",
      "epoch: 8, pass acc: 0.737216, current acc: 0.746212\n",
      "time taken: 0.34136509895324707\n",
      "epoch: 8, training loss: 0.365054, training acc: 0.901668, valid loss: 0.516467, valid acc: 0.746212\n",
      "\n",
      "epoch: 9, pass acc: 0.746212, current acc: 0.754735\n",
      "time taken: 0.3218247890472412\n",
      "epoch: 9, training loss: 0.327603, training acc: 0.914004, valid loss: 0.506350, valid acc: 0.754735\n",
      "\n",
      "epoch: 10, pass acc: 0.754735, current acc: 0.758049\n",
      "time taken: 0.32883644104003906\n",
      "epoch: 10, training loss: 0.295182, training acc: 0.922580, valid loss: 0.499495, valid acc: 0.758049\n",
      "\n",
      "epoch: 11, pass acc: 0.758049, current acc: 0.760890\n",
      "time taken: 0.37029242515563965\n",
      "epoch: 11, training loss: 0.267030, training acc: 0.931273, valid loss: 0.495250, valid acc: 0.760890\n",
      "\n",
      "time taken: 0.3290832042694092\n",
      "epoch: 12, training loss: 0.242453, training acc: 0.938557, valid loss: 0.493105, valid acc: 0.760890\n",
      "\n",
      "epoch: 13, pass acc: 0.760890, current acc: 0.763731\n",
      "time taken: 0.33391380310058594\n",
      "epoch: 13, training loss: 0.220873, training acc: 0.944431, valid loss: 0.492666, valid acc: 0.763731\n",
      "\n",
      "epoch: 14, pass acc: 0.763731, current acc: 0.765152\n",
      "time taken: 0.35070109367370605\n",
      "epoch: 14, training loss: 0.201817, training acc: 0.951010, valid loss: 0.493631, valid acc: 0.765152\n",
      "\n",
      "time taken: 0.34192776679992676\n",
      "epoch: 15, training loss: 0.184901, training acc: 0.956180, valid loss: 0.495769, valid acc: 0.765152\n",
      "\n",
      "epoch: 16, pass acc: 0.765152, current acc: 0.765625\n",
      "time taken: 0.32742857933044434\n",
      "epoch: 16, training loss: 0.169816, training acc: 0.960526, valid loss: 0.498898, valid acc: 0.765625\n",
      "\n",
      "time taken: 0.3263058662414551\n",
      "epoch: 17, training loss: 0.156305, training acc: 0.964756, valid loss: 0.502874, valid acc: 0.765152\n",
      "\n",
      "time taken: 0.34971094131469727\n",
      "epoch: 18, training loss: 0.144160, training acc: 0.969690, valid loss: 0.507582, valid acc: 0.764205\n",
      "\n",
      "epoch: 19, pass acc: 0.765625, current acc: 0.766572\n",
      "time taken: 0.32224273681640625\n",
      "epoch: 19, training loss: 0.133206, training acc: 0.972274, valid loss: 0.512926, valid acc: 0.766572\n",
      "\n",
      "time taken: 0.32012009620666504\n",
      "epoch: 20, training loss: 0.123293, training acc: 0.975211, valid loss: 0.518827, valid acc: 0.766098\n",
      "\n",
      "time taken: 0.325115442276001\n",
      "epoch: 21, training loss: 0.114299, training acc: 0.978031, valid loss: 0.525220, valid acc: 0.764205\n",
      "\n",
      "time taken: 0.3794527053833008\n",
      "epoch: 22, training loss: 0.106115, training acc: 0.979911, valid loss: 0.532050, valid acc: 0.763258\n",
      "\n",
      "time taken: 0.33190131187438965\n",
      "epoch: 23, training loss: 0.098650, training acc: 0.981908, valid loss: 0.539271, valid acc: 0.764205\n",
      "\n",
      "time taken: 0.33429980278015137\n",
      "epoch: 24, training loss: 0.091826, training acc: 0.982730, valid loss: 0.546843, valid acc: 0.760417\n",
      "\n",
      "break epoch:25\n",
      "\n"
     ]
    }
   ],
   "source": [
    "EARLY_STOPPING, CURRENT_CHECKPOINT, CURRENT_ACC, EPOCH = 5, 0, 0, 0\n",
    "while True:\n",
    "    lasttime = time.time()\n",
    "    if CURRENT_CHECKPOINT == EARLY_STOPPING:\n",
    "        print('break epoch:%d\\n'%(EPOCH))\n",
    "        break\n",
    "        \n",
    "    train_acc, train_loss, test_acc, test_loss = 0, 0, 0, 0\n",
    "    for i in range(0, (len(train_X) // batch_size) * batch_size, batch_size):\n",
    "        acc, loss, _ = sess.run([model.accuracy, model.cost, model.optimizer], \n",
    "                           feed_dict = {model.X : train_X[i:i+batch_size], model.Y : train_Y[i:i+batch_size]})\n",
    "        train_loss += loss\n",
    "        train_acc += acc\n",
    "    \n",
    "    for i in range(0, (len(test_X) // batch_size) * batch_size, batch_size):\n",
    "        acc, loss = sess.run([model.accuracy, model.cost], \n",
    "                           feed_dict = {model.X : test_X[i:i+batch_size], model.Y : test_Y[i:i+batch_size]})\n",
    "        test_loss += loss\n",
    "        test_acc += acc\n",
    "    \n",
    "    train_loss /= (len(train_X) // batch_size)\n",
    "    train_acc /= (len(train_X) // batch_size)\n",
    "    test_loss /= (len(test_X) // batch_size)\n",
    "    test_acc /= (len(test_X) // batch_size)\n",
    "    \n",
    "    if test_acc > CURRENT_ACC:\n",
    "        print('epoch: %d, pass acc: %f, current acc: %f'%(EPOCH,CURRENT_ACC, test_acc))\n",
    "        CURRENT_ACC = test_acc\n",
    "        CURRENT_CHECKPOINT = 0\n",
    "    else:\n",
    "        CURRENT_CHECKPOINT += 1\n",
    "        \n",
    "    print('time taken:', time.time()-lasttime)\n",
    "    print('epoch: %d, training loss: %f, training acc: %f, valid loss: %f, valid acc: %f\\n'%(EPOCH,train_loss,\n",
    "                                                                                          train_acc,test_loss,\n",
    "                                                                                          test_acc))\n",
    "    EPOCH += 1"
   ]
  },
  {
   "cell_type": "code",
   "execution_count": 15,
   "metadata": {},
   "outputs": [
    {
     "name": "stdout",
     "output_type": "stream",
     "text": [
      "              precision    recall  f1-score   support\n",
      "\n",
      "    negative       0.79      0.72      0.75      1076\n",
      "    positive       0.74      0.81      0.77      1057\n",
      "\n",
      "    accuracy                           0.76      2133\n",
      "   macro avg       0.76      0.76      0.76      2133\n",
      "weighted avg       0.76      0.76      0.76      2133\n",
      "\n"
     ]
    }
   ],
   "source": [
    "logits = sess.run(model.logits, feed_dict={model.X:test_X})\n",
    "print(metrics.classification_report(test_Y, np.argmax(logits,1), target_names = trainset.target_names))"
   ]
  },
  {
   "cell_type": "code",
   "execution_count": null,
   "metadata": {},
   "outputs": [],
   "source": []
  }
 ],
 "metadata": {
  "kernelspec": {
   "display_name": "Python 3",
   "language": "python",
   "name": "python3"
  },
  "language_info": {
   "codemirror_mode": {
    "name": "ipython",
    "version": 3
   },
   "file_extension": ".py",
   "mimetype": "text/x-python",
   "name": "python",
   "nbconvert_exporter": "python",
   "pygments_lexer": "ipython3",
   "version": "3.6.10"
  }
 },
 "nbformat": 4,
 "nbformat_minor": 4
}
