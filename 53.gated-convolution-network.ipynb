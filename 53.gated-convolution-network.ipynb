{
 "cells": [
  {
   "cell_type": "code",
   "execution_count": 2,
   "metadata": {},
   "outputs": [],
   "source": [
    "import numpy as np\n",
    "from utils import *\n",
    "import tensorflow as tf\n",
    "from sklearn.model_selection import train_test_split\n",
    "import time\n",
    "from tqdm import tqdm\n",
    "import random"
   ]
  },
  {
   "cell_type": "code",
   "execution_count": 3,
   "metadata": {},
   "outputs": [],
   "source": [
    "maxlen = 100\n",
    "kernel_size = 3\n",
    "batch_size = 32\n",
    "embedded_size = 128"
   ]
  },
  {
   "cell_type": "code",
   "execution_count": 4,
   "metadata": {},
   "outputs": [
    {
     "name": "stdout",
     "output_type": "stream",
     "text": [
      "['negative', 'positive']\n",
      "10662\n",
      "10662\n"
     ]
    }
   ],
   "source": [
    "trainset = sklearn.datasets.load_files(container_path = 'data', encoding = 'UTF-8')\n",
    "trainset.data, trainset.target = separate_dataset(trainset,1.0)\n",
    "print (trainset.target_names)\n",
    "print (len(trainset.data))\n",
    "print (len(trainset.target))"
   ]
  },
  {
   "cell_type": "code",
   "execution_count": 5,
   "metadata": {},
   "outputs": [
    {
     "name": "stdout",
     "output_type": "stream",
     "text": [
      "vocab from size: 20332\n",
      "Most common words [('film', 1453), ('movie', 1270), ('one', 727), ('like', 721), ('story', 477), ('much', 386)]\n",
      "Sample data [22, 2723, 18, 1122, 250, 170, 58, 4, 1398, 7006] ['never', 'laughoutloud', 'funny', 'frequently', 'amusing', 'fascinating', 'fun', 'film', 'philosophical', 'musings']\n"
     ]
    }
   ],
   "source": [
    "concat = ' '.join(trainset.data).split()\n",
    "vocabulary_size = len(list(set(concat)))\n",
    "data, count, dictionary, rev_dictionary = build_dataset(concat, vocabulary_size)\n",
    "print('vocab from size: %d'%(vocabulary_size))\n",
    "print('Most common words', count[4:10])\n",
    "print('Sample data', data[:10], [rev_dictionary[i] for i in data[:10]])"
   ]
  },
  {
   "cell_type": "code",
   "execution_count": 6,
   "metadata": {},
   "outputs": [],
   "source": [
    "idx_trainset = []\n",
    "for text in trainset.data:\n",
    "    idx = []\n",
    "    for t in text.split():\n",
    "        try:\n",
    "            idx.append(dictionary[t])\n",
    "        except:\n",
    "            pass\n",
    "    idx_trainset.append(idx)"
   ]
  },
  {
   "cell_type": "code",
   "execution_count": 7,
   "metadata": {},
   "outputs": [
    {
     "data": {
      "text/plain": [
       "(10662, 100)"
      ]
     },
     "execution_count": 7,
     "metadata": {},
     "output_type": "execute_result"
    }
   ],
   "source": [
    "X = tf.keras.preprocessing.sequence.pad_sequences(idx_trainset, maxlen)\n",
    "X.shape"
   ]
  },
  {
   "cell_type": "code",
   "execution_count": 8,
   "metadata": {},
   "outputs": [],
   "source": [
    "train_X, test_X, train_Y, test_Y = train_test_split(X, \n",
    "                                                    trainset.target,\n",
    "                                                    test_size = 0.2)"
   ]
  },
  {
   "cell_type": "code",
   "execution_count": 9,
   "metadata": {},
   "outputs": [],
   "source": [
    "def gated_linear_unit(x, d_rate):\n",
    "    c = tf.layers.conv1d(inputs = x,\n",
    "                         filters = 2*embedded_size,\n",
    "                         kernel_size = kernel_size,\n",
    "                         dilation_rate = d_rate,\n",
    "                         padding = 'same')\n",
    "    c1, c2 = tf.split(c, 2, -1)\n",
    "    x += c1 * tf.sigmoid(c2)\n",
    "    return x\n",
    "\n",
    "class Model:\n",
    "    def __init__(self, embedded_size, dict_size, dimension_output, learning_rate):\n",
    "        \n",
    "        self.X = tf.placeholder(tf.int32, [None, None])\n",
    "        self.Y = tf.placeholder(tf.int32, [None])\n",
    "        encoder_embeddings = tf.Variable(tf.random_uniform([dict_size, embedded_size], -1, 1))\n",
    "        encoder_embedded = tf.nn.embedding_lookup(encoder_embeddings, self.X)\n",
    "        \n",
    "        for d_rate in [1, 2, 4]:\n",
    "            encoder_embedded = gated_linear_unit(encoder_embedded, d_rate)\n",
    "    \n",
    "        encoder_embedded = tf.reduce_max(encoder_embedded, 1)\n",
    "        encoder_embedded = tf.layers.flatten(encoder_embedded)\n",
    "        forward = tf.layers.dense(encoder_embedded, embedded_size, tf.nn.relu)\n",
    "        self.logits = tf.layers.dense(forward, dimension_output)\n",
    "        self.cost = tf.reduce_mean(tf.nn.sparse_softmax_cross_entropy_with_logits(\n",
    "            logits=self.logits,\n",
    "            labels=self.Y))\n",
    "        self.optimizer = tf.train.AdamOptimizer(learning_rate).minimize(self.cost)\n",
    "        correct_pred = tf.equal(tf.argmax(self.logits, 1,output_type=tf.int32), self.Y)\n",
    "        self.accuracy = tf.reduce_mean(tf.cast(correct_pred, tf.float32))"
   ]
  },
  {
   "cell_type": "code",
   "execution_count": 10,
   "metadata": {},
   "outputs": [],
   "source": [
    "tf.reset_default_graph()\n",
    "sess = tf.InteractiveSession()\n",
    "model = Model(embedded_size,vocabulary_size+4,2,1e-3)\n",
    "sess.run(tf.global_variables_initializer())"
   ]
  },
  {
   "cell_type": "code",
   "execution_count": 11,
   "metadata": {},
   "outputs": [
    {
     "name": "stdout",
     "output_type": "stream",
     "text": [
      "epoch: 0, pass acc: 0.000000, current acc: 0.639678\n",
      "time taken: 3.434479236602783\n",
      "epoch: 0, training loss: 0.675803, training acc: 0.586231, valid loss: 0.631852, valid acc: 0.639678\n",
      "\n",
      "epoch: 1, pass acc: 0.639678, current acc: 0.662405\n",
      "time taken: 1.630638599395752\n",
      "epoch: 1, training loss: 0.298692, training acc: 0.884868, valid loss: 0.727101, valid acc: 0.662405\n",
      "\n",
      "epoch: 2, pass acc: 0.662405, current acc: 0.676136\n",
      "time taken: 1.631056308746338\n",
      "epoch: 2, training loss: 0.057012, training acc: 0.983670, valid loss: 1.020313, valid acc: 0.676136\n",
      "\n",
      "time taken: 1.588785171508789\n",
      "epoch: 3, training loss: 0.025513, training acc: 0.991424, valid loss: 1.363197, valid acc: 0.663826\n",
      "\n",
      "time taken: 1.6412477493286133\n",
      "epoch: 4, training loss: 0.030138, training acc: 0.990484, valid loss: 1.669384, valid acc: 0.645360\n",
      "\n",
      "time taken: 1.5997257232666016\n",
      "epoch: 5, training loss: 0.108270, training acc: 0.966870, valid loss: 1.447906, valid acc: 0.675663\n",
      "\n",
      "epoch: 6, pass acc: 0.676136, current acc: 0.687973\n",
      "time taken: 1.641441822052002\n",
      "epoch: 6, training loss: 0.099306, training acc: 0.967340, valid loss: 1.313220, valid acc: 0.687973\n",
      "\n",
      "time taken: 1.6347532272338867\n",
      "epoch: 7, training loss: 0.019332, training acc: 0.992951, valid loss: 1.485937, valid acc: 0.658144\n",
      "\n",
      "time taken: 1.626121997833252\n",
      "epoch: 8, training loss: 0.001600, training acc: 0.999883, valid loss: 1.484287, valid acc: 0.672822\n",
      "\n",
      "time taken: 1.6353180408477783\n",
      "epoch: 9, training loss: 0.000278, training acc: 1.000000, valid loss: 1.525333, valid acc: 0.673769\n",
      "\n",
      "time taken: 1.6125249862670898\n",
      "epoch: 10, training loss: 0.000190, training acc: 1.000000, valid loss: 1.570038, valid acc: 0.673295\n",
      "\n",
      "time taken: 1.5895609855651855\n",
      "epoch: 11, training loss: 0.000129, training acc: 1.000000, valid loss: 1.641539, valid acc: 0.668087\n",
      "\n",
      "break epoch:12\n",
      "\n"
     ]
    }
   ],
   "source": [
    "EARLY_STOPPING, CURRENT_CHECKPOINT, CURRENT_ACC, EPOCH = 5, 0, 0, 0\n",
    "while True:\n",
    "    lasttime = time.time()\n",
    "    if CURRENT_CHECKPOINT == EARLY_STOPPING:\n",
    "        print('break epoch:%d\\n'%(EPOCH))\n",
    "        break\n",
    "        \n",
    "    train_acc, train_loss, test_acc, test_loss = 0, 0, 0, 0\n",
    "    for i in range(0, (len(train_X) // batch_size) * batch_size, batch_size):\n",
    "        acc, loss, _ = sess.run([model.accuracy, model.cost, model.optimizer], \n",
    "                           feed_dict = {model.X : train_X[i:i+batch_size], model.Y : train_Y[i:i+batch_size]})\n",
    "        train_loss += loss\n",
    "        train_acc += acc\n",
    "    \n",
    "    for i in range(0, (len(test_X) // batch_size) * batch_size, batch_size):\n",
    "        acc, loss = sess.run([model.accuracy, model.cost], \n",
    "                           feed_dict = {model.X : test_X[i:i+batch_size], model.Y : test_Y[i:i+batch_size]})\n",
    "        test_loss += loss\n",
    "        test_acc += acc\n",
    "    \n",
    "    train_loss /= (len(train_X) // batch_size)\n",
    "    train_acc /= (len(train_X) // batch_size)\n",
    "    test_loss /= (len(test_X) // batch_size)\n",
    "    test_acc /= (len(test_X) // batch_size)\n",
    "    \n",
    "    if test_acc > CURRENT_ACC:\n",
    "        print('epoch: %d, pass acc: %f, current acc: %f'%(EPOCH,CURRENT_ACC, test_acc))\n",
    "        CURRENT_ACC = test_acc\n",
    "        CURRENT_CHECKPOINT = 0\n",
    "    else:\n",
    "        CURRENT_CHECKPOINT += 1\n",
    "        \n",
    "    print('time taken:', time.time()-lasttime)\n",
    "    print('epoch: %d, training loss: %f, training acc: %f, valid loss: %f, valid acc: %f\\n'%(EPOCH,train_loss,\n",
    "                                                                                          train_acc,test_loss,\n",
    "                                                                                          test_acc))\n",
    "    EPOCH += 1"
   ]
  },
  {
   "cell_type": "code",
   "execution_count": 12,
   "metadata": {},
   "outputs": [
    {
     "name": "stdout",
     "output_type": "stream",
     "text": [
      "              precision    recall  f1-score   support\n",
      "\n",
      "    negative       0.68      0.66      0.67      1083\n",
      "    positive       0.66      0.68      0.67      1050\n",
      "\n",
      "    accuracy                           0.67      2133\n",
      "   macro avg       0.67      0.67      0.67      2133\n",
      "weighted avg       0.67      0.67      0.67      2133\n",
      "\n"
     ]
    }
   ],
   "source": [
    "logits = sess.run(model.logits, feed_dict={model.X:test_X})\n",
    "print(metrics.classification_report(test_Y, np.argmax(logits,1), target_names = trainset.target_names))"
   ]
  },
  {
   "cell_type": "code",
   "execution_count": null,
   "metadata": {},
   "outputs": [],
   "source": []
  }
 ],
 "metadata": {
  "kernelspec": {
   "display_name": "Python 3",
   "language": "python",
   "name": "python3"
  },
  "language_info": {
   "codemirror_mode": {
    "name": "ipython",
    "version": 3
   },
   "file_extension": ".py",
   "mimetype": "text/x-python",
   "name": "python",
   "nbconvert_exporter": "python",
   "pygments_lexer": "ipython3",
   "version": "3.6.10"
  }
 },
 "nbformat": 4,
 "nbformat_minor": 4
}
