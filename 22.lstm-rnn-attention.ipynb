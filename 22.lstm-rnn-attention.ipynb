{
 "cells": [
  {
   "cell_type": "code",
   "execution_count": 1,
   "metadata": {},
   "outputs": [
    {
     "name": "stderr",
     "output_type": "stream",
     "text": [
      "/usr/local/lib/python3.5/dist-packages/h5py/__init__.py:36: FutureWarning: Conversion of the second argument of issubdtype from `float` to `np.floating` is deprecated. In future, it will be treated as `np.float64 == np.dtype(float).type`.\n",
      "  from ._conv import register_converters as _register_converters\n",
      "/usr/local/lib/python3.5/dist-packages/sklearn/cross_validation.py:41: DeprecationWarning: This module was deprecated in version 0.18 in favor of the model_selection module into which all the refactored classes and functions are moved. Also note that the interface of the new CV iterators are different from that of this module. This module will be removed in 0.20.\n",
      "  \"This module will be removed in 0.20.\", DeprecationWarning)\n"
     ]
    }
   ],
   "source": [
    "from utils import *\n",
    "import tensorflow as tf\n",
    "from sklearn.cross_validation import train_test_split\n",
    "import time"
   ]
  },
  {
   "cell_type": "code",
   "execution_count": 2,
   "metadata": {},
   "outputs": [
    {
     "name": "stdout",
     "output_type": "stream",
     "text": [
      "['negative', 'positive']\n",
      "10662\n",
      "10662\n"
     ]
    }
   ],
   "source": [
    "trainset = sklearn.datasets.load_files(container_path = 'data', encoding = 'UTF-8')\n",
    "trainset.data, trainset.target = separate_dataset(trainset,1.0)\n",
    "print (trainset.target_names)\n",
    "print (len(trainset.data))\n",
    "print (len(trainset.target))"
   ]
  },
  {
   "cell_type": "code",
   "execution_count": 3,
   "metadata": {},
   "outputs": [],
   "source": [
    "ONEHOT = np.zeros((len(trainset.data),len(trainset.target_names)))\n",
    "ONEHOT[np.arange(len(trainset.data)),trainset.target] = 1.0\n",
    "train_X, test_X, train_Y, test_Y, train_onehot, test_onehot = train_test_split(trainset.data, \n",
    "                                                                               trainset.target, \n",
    "                                                                               ONEHOT, test_size = 0.2)"
   ]
  },
  {
   "cell_type": "code",
   "execution_count": 4,
   "metadata": {},
   "outputs": [
    {
     "name": "stdout",
     "output_type": "stream",
     "text": [
      "vocab from size: 20465\n",
      "Most common words [('the', 10129), ('a', 7312), ('and', 6199), ('of', 6063), ('to', 4233), ('is', 3378)]\n",
      "Sample data [4, 647, 9, 2739, 8, 22, 4, 3337, 13217, 97] ['the', 'rock', 'is', 'destined', 'to', 'be', 'the', '21st', 'centurys', 'new']\n"
     ]
    }
   ],
   "source": [
    "concat = ' '.join(trainset.data).split()\n",
    "vocabulary_size = len(list(set(concat)))\n",
    "data, count, dictionary, rev_dictionary = build_dataset(concat, vocabulary_size)\n",
    "print('vocab from size: %d'%(vocabulary_size))\n",
    "print('Most common words', count[4:10])\n",
    "print('Sample data', data[:10], [rev_dictionary[i] for i in data[:10]])"
   ]
  },
  {
   "cell_type": "code",
   "execution_count": 5,
   "metadata": {},
   "outputs": [],
   "source": [
    "GO = dictionary['GO']\n",
    "PAD = dictionary['PAD']\n",
    "EOS = dictionary['EOS']\n",
    "UNK = dictionary['UNK']"
   ]
  },
  {
   "cell_type": "code",
   "execution_count": 6,
   "metadata": {},
   "outputs": [],
   "source": [
    "class Model:\n",
    "    def __init__(self, size_layer, num_layers, embedded_size,\n",
    "                 dict_size, dimension_output, learning_rate, attention_size=150):\n",
    "        \n",
    "        def cells(reuse=False):\n",
    "            return tf.nn.rnn_cell.LSTMCell(size_layer,initializer=tf.orthogonal_initializer(),reuse=reuse)\n",
    "        \n",
    "        self.X = tf.placeholder(tf.int32, [None, None])\n",
    "        self.Y = tf.placeholder(tf.float32, [None, dimension_output])\n",
    "        encoder_embeddings = tf.Variable(tf.random_uniform([dict_size, embedded_size], -1, 1))\n",
    "        encoder_embedded = tf.nn.embedding_lookup(encoder_embeddings, self.X)\n",
    "        \n",
    "        rnn_cells = tf.nn.rnn_cell.MultiRNNCell([cells() for _ in range(num_layers)])\n",
    "        outputs, last_state = tf.nn.dynamic_rnn(rnn_cells, encoder_embedded, dtype = tf.float32)\n",
    "        attention_w = tf.get_variable(\"attention_v\", [attention_size], tf.float32)\n",
    "        query = tf.layers.dense(tf.expand_dims(last_state[-1].h, 1), attention_size)\n",
    "        keys = tf.layers.dense(outputs, attention_size)\n",
    "        align = tf.reduce_sum(attention_w * tf.tanh(keys + query), [2])\n",
    "        align = tf.nn.softmax(align)\n",
    "        outputs = tf.squeeze(tf.matmul(tf.transpose(outputs, [0, 2, 1]),\n",
    "                                             tf.expand_dims(align, 2)), 2)\n",
    "        W = tf.get_variable('w',shape=(size_layer, dimension_output),initializer=tf.orthogonal_initializer())\n",
    "        b = tf.get_variable('b',shape=(dimension_output),initializer=tf.zeros_initializer())\n",
    "        self.logits = tf.matmul(outputs, W) + b\n",
    "        self.cost = tf.reduce_mean(tf.nn.softmax_cross_entropy_with_logits(logits = self.logits, labels = self.Y))\n",
    "        self.optimizer = tf.train.AdamOptimizer(learning_rate = learning_rate).minimize(self.cost)\n",
    "        correct_pred = tf.equal(tf.argmax(self.logits, 1), tf.argmax(self.Y, 1))\n",
    "        self.accuracy = tf.reduce_mean(tf.cast(correct_pred, tf.float32))"
   ]
  },
  {
   "cell_type": "code",
   "execution_count": 7,
   "metadata": {},
   "outputs": [],
   "source": [
    "size_layer = 128\n",
    "num_layers = 2\n",
    "embedded_size = 128\n",
    "dimension_output = len(trainset.target_names)\n",
    "learning_rate = 1e-3\n",
    "maxlen = 50\n",
    "batch_size = 128"
   ]
  },
  {
   "cell_type": "code",
   "execution_count": 8,
   "metadata": {},
   "outputs": [],
   "source": [
    "tf.reset_default_graph()\n",
    "sess = tf.InteractiveSession()\n",
    "model = Model(size_layer,num_layers,embedded_size,vocabulary_size+4,dimension_output,learning_rate)\n",
    "sess.run(tf.global_variables_initializer())"
   ]
  },
  {
   "cell_type": "code",
   "execution_count": 9,
   "metadata": {},
   "outputs": [
    {
     "name": "stdout",
     "output_type": "stream",
     "text": [
      "epoch: 0, pass acc: 0.000000, current acc: 0.584961\n",
      "time taken: 14.310437440872192\n",
      "epoch: 0, training loss: 0.695142, training acc: 0.507221, valid loss: 0.685660, valid acc: 0.584961\n",
      "\n",
      "epoch: 1, pass acc: 0.584961, current acc: 0.655273\n",
      "time taken: 13.80643916130066\n",
      "epoch: 1, training loss: 0.650882, training acc: 0.617898, valid loss: 0.618454, valid acc: 0.655273\n",
      "\n",
      "epoch: 2, pass acc: 0.655273, current acc: 0.704102\n",
      "time taken: 13.95488429069519\n",
      "epoch: 2, training loss: 0.507076, training acc: 0.752604, valid loss: 0.593328, valid acc: 0.704102\n",
      "\n",
      "epoch: 3, pass acc: 0.704102, current acc: 0.729980\n",
      "time taken: 13.898935556411743\n",
      "epoch: 3, training loss: 0.359624, training acc: 0.841027, valid loss: 0.638020, valid acc: 0.729980\n",
      "\n",
      "time taken: 13.833082914352417\n",
      "epoch: 4, training loss: 0.250789, training acc: 0.901397, valid loss: 0.661262, valid acc: 0.723145\n",
      "\n",
      "epoch: 5, pass acc: 0.729980, current acc: 0.732910\n",
      "time taken: 13.814043521881104\n",
      "epoch: 5, training loss: 0.176378, training acc: 0.934541, valid loss: 0.869777, valid acc: 0.732910\n",
      "\n",
      "time taken: 13.774945735931396\n",
      "epoch: 6, training loss: 0.119424, training acc: 0.959044, valid loss: 0.969841, valid acc: 0.731445\n",
      "\n",
      "epoch: 7, pass acc: 0.732910, current acc: 0.741211\n",
      "time taken: 13.909349918365479\n",
      "epoch: 7, training loss: 0.091488, training acc: 0.970289, valid loss: 0.982498, valid acc: 0.741211\n",
      "\n",
      "time taken: 13.79055142402649\n",
      "epoch: 8, training loss: 0.074908, training acc: 0.974432, valid loss: 1.037401, valid acc: 0.741211\n",
      "\n",
      "time taken: 13.959789037704468\n",
      "epoch: 9, training loss: 0.058913, training acc: 0.980114, valid loss: 1.280934, valid acc: 0.729492\n",
      "\n",
      "epoch: 10, pass acc: 0.741211, current acc: 0.743652\n",
      "time taken: 13.94667387008667\n",
      "epoch: 10, training loss: 0.034242, training acc: 0.989583, valid loss: 1.281898, valid acc: 0.743652\n",
      "\n",
      "time taken: 14.023607730865479\n",
      "epoch: 11, training loss: 0.022225, training acc: 0.993371, valid loss: 1.295390, valid acc: 0.741211\n",
      "\n",
      "epoch: 12, pass acc: 0.743652, current acc: 0.744141\n",
      "time taken: 13.736206293106079\n",
      "epoch: 12, training loss: 0.008983, training acc: 0.997751, valid loss: 1.667746, valid acc: 0.744141\n",
      "\n",
      "time taken: 13.910504579544067\n",
      "epoch: 13, training loss: 0.006873, training acc: 0.997869, valid loss: 1.654879, valid acc: 0.735352\n",
      "\n",
      "time taken: 13.959090232849121\n",
      "epoch: 14, training loss: 0.009611, training acc: 0.997277, valid loss: 1.474680, valid acc: 0.744141\n",
      "\n",
      "epoch: 15, pass acc: 0.744141, current acc: 0.745117\n",
      "time taken: 13.839058876037598\n",
      "epoch: 15, training loss: 0.007091, training acc: 0.998224, valid loss: 1.613538, valid acc: 0.745117\n",
      "\n",
      "time taken: 13.936708450317383\n",
      "epoch: 16, training loss: 0.004251, training acc: 0.998816, valid loss: 1.845745, valid acc: 0.739746\n",
      "\n",
      "epoch: 17, pass acc: 0.745117, current acc: 0.749023\n",
      "time taken: 13.685986995697021\n",
      "epoch: 17, training loss: 0.010783, training acc: 0.996449, valid loss: 1.640061, valid acc: 0.749023\n",
      "\n",
      "time taken: 13.971271991729736\n",
      "epoch: 18, training loss: 0.010857, training acc: 0.996686, valid loss: 1.559013, valid acc: 0.745117\n",
      "\n",
      "time taken: 13.902569770812988\n",
      "epoch: 19, training loss: 0.004647, training acc: 0.998580, valid loss: 1.786292, valid acc: 0.745117\n",
      "\n",
      "time taken: 13.715798377990723\n",
      "epoch: 20, training loss: 0.002416, training acc: 0.999171, valid loss: 1.930121, valid acc: 0.747559\n",
      "\n",
      "time taken: 13.893259763717651\n",
      "epoch: 21, training loss: 0.000852, training acc: 0.999645, valid loss: 2.063854, valid acc: 0.747559\n",
      "\n",
      "time taken: 13.974969863891602\n",
      "epoch: 22, training loss: 0.000583, training acc: 0.999645, valid loss: 2.144188, valid acc: 0.747559\n",
      "\n",
      "break epoch:23\n",
      "\n"
     ]
    }
   ],
   "source": [
    "EARLY_STOPPING, CURRENT_CHECKPOINT, CURRENT_ACC, EPOCH = 5, 0, 0, 0\n",
    "while True:\n",
    "    lasttime = time.time()\n",
    "    if CURRENT_CHECKPOINT == EARLY_STOPPING:\n",
    "        print('break epoch:%d\\n'%(EPOCH))\n",
    "        break\n",
    "        \n",
    "    train_acc, train_loss, test_acc, test_loss = 0, 0, 0, 0\n",
    "    for i in range(0, (len(train_X) // batch_size) * batch_size, batch_size):\n",
    "        batch_x = str_idx(train_X[i:i+batch_size],dictionary,maxlen)\n",
    "        acc, loss, _ = sess.run([model.accuracy, model.cost, model.optimizer], \n",
    "                           feed_dict = {model.X : batch_x, model.Y : train_onehot[i:i+batch_size]})\n",
    "        train_loss += loss\n",
    "        train_acc += acc\n",
    "    \n",
    "    for i in range(0, (len(test_X) // batch_size) * batch_size, batch_size):\n",
    "        batch_x = str_idx(test_X[i:i+batch_size],dictionary,maxlen)\n",
    "        acc, loss = sess.run([model.accuracy, model.cost], \n",
    "                           feed_dict = {model.X : batch_x, model.Y : test_onehot[i:i+batch_size]})\n",
    "        test_loss += loss\n",
    "        test_acc += acc\n",
    "    \n",
    "    train_loss /= (len(train_X) // batch_size)\n",
    "    train_acc /= (len(train_X) // batch_size)\n",
    "    test_loss /= (len(test_X) // batch_size)\n",
    "    test_acc /= (len(test_X) // batch_size)\n",
    "    \n",
    "    if test_acc > CURRENT_ACC:\n",
    "        print('epoch: %d, pass acc: %f, current acc: %f'%(EPOCH,CURRENT_ACC, test_acc))\n",
    "        CURRENT_ACC = test_acc\n",
    "        CURRENT_CHECKPOINT = 0\n",
    "    else:\n",
    "        CURRENT_CHECKPOINT += 1\n",
    "        \n",
    "    print('time taken:', time.time()-lasttime)\n",
    "    print('epoch: %d, training loss: %f, training acc: %f, valid loss: %f, valid acc: %f\\n'%(EPOCH,train_loss,\n",
    "                                                                                          train_acc,test_loss,\n",
    "                                                                                          test_acc))\n",
    "    EPOCH += 1"
   ]
  },
  {
   "cell_type": "code",
   "execution_count": 10,
   "metadata": {},
   "outputs": [
    {
     "name": "stdout",
     "output_type": "stream",
     "text": [
      "             precision    recall  f1-score   support\n",
      "\n",
      "   negative       0.75      0.75      0.75      1081\n",
      "   positive       0.74      0.75      0.74      1052\n",
      "\n",
      "avg / total       0.75      0.75      0.75      2133\n",
      "\n"
     ]
    }
   ],
   "source": [
    "logits = sess.run(model.logits, feed_dict={model.X:str_idx(test_X,dictionary,maxlen)})\n",
    "print(metrics.classification_report(test_Y, np.argmax(logits,1), target_names = trainset.target_names))"
   ]
  }
 ],
 "metadata": {
  "kernelspec": {
   "display_name": "Python 3",
   "language": "python",
   "name": "python3"
  },
  "language_info": {
   "codemirror_mode": {
    "name": "ipython",
    "version": 3
   },
   "file_extension": ".py",
   "mimetype": "text/x-python",
   "name": "python",
   "nbconvert_exporter": "python",
   "pygments_lexer": "ipython3",
   "version": "3.5.2"
  },
  "pycharm": {
   "stem_cell": {
    "cell_type": "raw",
    "source": [],
    "metadata": {
     "collapsed": false
    }
   }
  }
 },
 "nbformat": 4,
 "nbformat_minor": 2
}