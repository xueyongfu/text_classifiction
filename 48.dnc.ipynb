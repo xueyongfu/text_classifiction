{
 "cells": [
  {
   "cell_type": "code",
   "execution_count": 1,
   "metadata": {},
   "outputs": [
    {
     "name": "stderr",
     "output_type": "stream",
     "text": [
      "/usr/local/lib/python3.5/dist-packages/h5py/__init__.py:36: FutureWarning: Conversion of the second argument of issubdtype from `float` to `np.floating` is deprecated. In future, it will be treated as `np.float64 == np.dtype(float).type`.\n",
      "  from ._conv import register_converters as _register_converters\n",
      "/usr/local/lib/python3.5/dist-packages/sklearn/cross_validation.py:41: DeprecationWarning: This module was deprecated in version 0.18 in favor of the model_selection module into which all the refactored classes and functions are moved. Also note that the interface of the new CV iterators are different from that of this module. This module will be removed in 0.20.\n",
      "  \"This module will be removed in 0.20.\", DeprecationWarning)\n"
     ]
    }
   ],
   "source": [
    "from utils import *\n",
    "import tensorflow as tf\n",
    "from sklearn.cross_validation import train_test_split\n",
    "import time\n",
    "import dnc"
   ]
  },
  {
   "cell_type": "code",
   "execution_count": 2,
   "metadata": {},
   "outputs": [
    {
     "name": "stdout",
     "output_type": "stream",
     "text": [
      "['negative', 'positive']\n",
      "10662\n",
      "10662\n"
     ]
    }
   ],
   "source": [
    "trainset = sklearn.datasets.load_files(container_path = 'data', encoding = 'UTF-8')\n",
    "trainset.data, trainset.target = separate_dataset(trainset,1.0)\n",
    "print (trainset.target_names)\n",
    "print (len(trainset.data))\n",
    "print (len(trainset.target))"
   ]
  },
  {
   "cell_type": "code",
   "execution_count": 3,
   "metadata": {},
   "outputs": [],
   "source": [
    "ONEHOT = np.zeros((len(trainset.data),len(trainset.target_names)))\n",
    "ONEHOT[np.arange(len(trainset.data)),trainset.target] = 1.0\n",
    "train_X, test_X, train_Y, test_Y, train_onehot, test_onehot = train_test_split(trainset.data, \n",
    "                                                                               trainset.target, \n",
    "                                                                               ONEHOT, test_size = 0.2)"
   ]
  },
  {
   "cell_type": "code",
   "execution_count": 4,
   "metadata": {},
   "outputs": [
    {
     "name": "stdout",
     "output_type": "stream",
     "text": [
      "vocab from size: 20332\n",
      "Most common words [('film', 1453), ('movie', 1270), ('one', 727), ('like', 721), ('story', 477), ('much', 386)]\n",
      "Sample data [546, 2598, 3171, 17661, 36, 8306, 219, 150, 19, 3738] ['rock', 'destined', '21st', 'centurys', 'new', 'conan', 'hes', 'going', 'make', 'splash']\n"
     ]
    }
   ],
   "source": [
    "concat = ' '.join(trainset.data).split()\n",
    "vocabulary_size = len(list(set(concat)))\n",
    "data, count, dictionary, rev_dictionary = build_dataset(concat, vocabulary_size)\n",
    "print('vocab from size: %d'%(vocabulary_size))\n",
    "print('Most common words', count[4:10])\n",
    "print('Sample data', data[:10], [rev_dictionary[i] for i in data[:10]])"
   ]
  },
  {
   "cell_type": "code",
   "execution_count": 5,
   "metadata": {},
   "outputs": [],
   "source": [
    "GO = dictionary['GO']\n",
    "PAD = dictionary['PAD']\n",
    "EOS = dictionary['EOS']\n",
    "UNK = dictionary['UNK']"
   ]
  },
  {
   "cell_type": "code",
   "execution_count": 6,
   "metadata": {},
   "outputs": [],
   "source": [
    "num_write_heads = 1\n",
    "num_read_heads = 4\n",
    "hidden_size = 64\n",
    "memory_size = 16\n",
    "word_size = 16\n",
    "clip_value = 20\n",
    "max_grad_norm = 5\n",
    "learning_rate = 1e-4\n",
    "optimizer_epsilon = 1e-10\n",
    "batch_size = 32\n",
    "\n",
    "size_layer = 128\n",
    "embedded_size = 128\n",
    "dimension_output = len(trainset.target_names)\n",
    "maxlen = 50"
   ]
  },
  {
   "cell_type": "code",
   "execution_count": 13,
   "metadata": {},
   "outputs": [],
   "source": [
    "def run_model(input_sequence, output_size):\n",
    "    access_config = {\n",
    "      \"memory_size\": memory_size,\n",
    "      \"word_size\": word_size,\n",
    "      \"num_reads\": num_read_heads,\n",
    "      \"num_writes\": num_write_heads,\n",
    "    }\n",
    "    controller_config = {\n",
    "      \"hidden_size\": hidden_size,\n",
    "    }\n",
    "\n",
    "    dnc_core = dnc.DNC(access_config, controller_config, output_size, clip_value)\n",
    "    initial_state = dnc_core.initial_state(batch_size)\n",
    "    output_sequence, _ = tf.nn.dynamic_rnn(\n",
    "      cell=dnc_core,\n",
    "      inputs=input_sequence,\n",
    "      time_major=False,\n",
    "      initial_state=initial_state)\n",
    "    return output_sequence"
   ]
  },
  {
   "cell_type": "code",
   "execution_count": 14,
   "metadata": {},
   "outputs": [],
   "source": [
    "class Model:\n",
    "    def __init__(self, dict_size):\n",
    "        \n",
    "        self.X = tf.placeholder(tf.int32, [None, None])\n",
    "        self.Y = tf.placeholder(tf.float32, [None, dimension_output])\n",
    "        encoder_embeddings = tf.Variable(tf.random_uniform([dict_size, embedded_size], -1, 1))\n",
    "        encoder_embedded = tf.nn.embedding_lookup(encoder_embeddings, self.X)\n",
    "        outputs = run_model(encoder_embedded, size_layer)\n",
    "        W = tf.get_variable('w',shape=(size_layer, dimension_output),initializer=tf.orthogonal_initializer())\n",
    "        b = tf.get_variable('b',shape=(dimension_output),initializer=tf.zeros_initializer())\n",
    "        self.logits = tf.matmul(outputs[:, -1], W) + b\n",
    "        self.cost = tf.reduce_mean(tf.nn.softmax_cross_entropy_with_logits(logits = self.logits, labels = self.Y))\n",
    "        self.optimizer = tf.train.AdamOptimizer(learning_rate = learning_rate).minimize(self.cost)\n",
    "        correct_pred = tf.equal(tf.argmax(self.logits, 1), tf.argmax(self.Y, 1))\n",
    "        self.accuracy = tf.reduce_mean(tf.cast(correct_pred, tf.float32))"
   ]
  },
  {
   "cell_type": "code",
   "execution_count": 15,
   "metadata": {},
   "outputs": [
    {
     "name": "stdout",
     "output_type": "stream",
     "text": [
      "WARNING:tensorflow:Sonnet nest is deprecated. Please use tf.contrib.framework.nest instead. In addition, `map` is renamed to `map_structure`.\n"
     ]
    }
   ],
   "source": [
    "tf.reset_default_graph()\n",
    "sess = tf.InteractiveSession()\n",
    "model = Model(vocabulary_size+4)\n",
    "sess.run(tf.global_variables_initializer())"
   ]
  },
  {
   "cell_type": "code",
   "execution_count": 16,
   "metadata": {},
   "outputs": [
    {
     "name": "stdout",
     "output_type": "stream",
     "text": [
      "epoch: 0, pass acc: 0.000000, current acc: 0.538826\n",
      "time taken: 88.87894034385681\n",
      "epoch: 0, training loss: 0.691036, training acc: 0.521499, valid loss: 0.689125, valid acc: 0.538826\n",
      "\n",
      "epoch: 1, pass acc: 0.538826, current acc: 0.554924\n",
      "time taken: 88.79464864730835\n",
      "epoch: 1, training loss: 0.680774, training acc: 0.569666, valid loss: 0.682365, valid acc: 0.554924\n",
      "\n",
      "epoch: 2, pass acc: 0.554924, current acc: 0.594697\n",
      "time taken: 87.6223452091217\n",
      "epoch: 2, training loss: 0.653498, training acc: 0.623355, valid loss: 0.663631, valid acc: 0.594697\n",
      "\n",
      "epoch: 3, pass acc: 0.594697, current acc: 0.621212\n",
      "time taken: 87.09494757652283\n",
      "epoch: 3, training loss: 0.606839, training acc: 0.663181, valid loss: 0.657538, valid acc: 0.621212\n",
      "\n",
      "epoch: 4, pass acc: 0.621212, current acc: 0.626894\n",
      "time taken: 86.82913708686829\n",
      "epoch: 4, training loss: 0.560962, training acc: 0.706180, valid loss: 0.657206, valid acc: 0.626894\n",
      "\n",
      "epoch: 5, pass acc: 0.626894, current acc: 0.643466\n",
      "time taken: 85.80507326126099\n",
      "epoch: 5, training loss: 0.518225, training acc: 0.742716, valid loss: 0.660810, valid acc: 0.643466\n",
      "\n",
      "epoch: 6, pass acc: 0.643466, current acc: 0.652462\n",
      "time taken: 86.04094171524048\n",
      "epoch: 6, training loss: 0.477542, training acc: 0.770677, valid loss: 0.668553, valid acc: 0.652462\n",
      "\n",
      "epoch: 7, pass acc: 0.652462, current acc: 0.661932\n",
      "time taken: 85.84241056442261\n",
      "epoch: 7, training loss: 0.438366, training acc: 0.799930, valid loss: 0.680427, valid acc: 0.661932\n",
      "\n",
      "epoch: 8, pass acc: 0.661932, current acc: 0.666667\n",
      "time taken: 86.04874634742737\n",
      "epoch: 8, training loss: 0.400434, training acc: 0.821781, valid loss: 0.696460, valid acc: 0.666667\n",
      "\n",
      "epoch: 9, pass acc: 0.666667, current acc: 0.668561\n",
      "time taken: 86.3272213935852\n",
      "epoch: 9, training loss: 0.363637, training acc: 0.841165, valid loss: 0.716862, valid acc: 0.668561\n",
      "\n",
      "epoch: 10, pass acc: 0.668561, current acc: 0.671875\n",
      "time taken: 86.15707421302795\n",
      "epoch: 10, training loss: 0.327963, training acc: 0.858553, valid loss: 0.742070, valid acc: 0.671875\n",
      "\n",
      "epoch: 11, pass acc: 0.671875, current acc: 0.673769\n",
      "time taken: 86.16099977493286\n",
      "epoch: 11, training loss: 0.293413, training acc: 0.877115, valid loss: 0.772785, valid acc: 0.673769\n",
      "\n",
      "epoch: 12, pass acc: 0.673769, current acc: 0.676136\n",
      "time taken: 86.08387613296509\n",
      "epoch: 12, training loss: 0.260007, training acc: 0.892740, valid loss: 0.809994, valid acc: 0.676136\n",
      "\n",
      "epoch: 13, pass acc: 0.676136, current acc: 0.678977\n",
      "time taken: 86.1032600402832\n",
      "epoch: 13, training loss: 0.227831, training acc: 0.907777, valid loss: 0.854677, valid acc: 0.678977\n",
      "\n",
      "epoch: 14, pass acc: 0.678977, current acc: 0.680871\n",
      "time taken: 86.21879816055298\n",
      "epoch: 14, training loss: 0.197080, training acc: 0.924342, valid loss: 0.907651, valid acc: 0.680871\n",
      "\n",
      "epoch: 15, pass acc: 0.680871, current acc: 0.686553\n",
      "time taken: 85.98529934883118\n",
      "epoch: 15, training loss: 0.168010, training acc: 0.937030, valid loss: 0.970093, valid acc: 0.686553\n",
      "\n",
      "time taken: 86.02332663536072\n",
      "epoch: 16, training loss: 0.140883, training acc: 0.947956, valid loss: 1.043842, valid acc: 0.683712\n",
      "\n",
      "time taken: 86.18879580497742\n",
      "epoch: 17, training loss: 0.116061, training acc: 0.958294, valid loss: 1.130550, valid acc: 0.681818\n",
      "\n",
      "time taken: 86.10147905349731\n",
      "epoch: 18, training loss: 0.094075, training acc: 0.968633, valid loss: 1.229595, valid acc: 0.681345\n",
      "\n",
      "time taken: 86.30896782875061\n",
      "epoch: 19, training loss: 0.075330, training acc: 0.976974, valid loss: 1.341129, valid acc: 0.679924\n",
      "\n",
      "time taken: 86.06641054153442\n",
      "epoch: 20, training loss: 0.060109, training acc: 0.982848, valid loss: 1.463995, valid acc: 0.680871\n",
      "\n",
      "break epoch:21\n",
      "\n"
     ]
    }
   ],
   "source": [
    "EARLY_STOPPING, CURRENT_CHECKPOINT, CURRENT_ACC, EPOCH = 5, 0, 0, 0\n",
    "while True:\n",
    "    lasttime = time.time()\n",
    "    if CURRENT_CHECKPOINT == EARLY_STOPPING:\n",
    "        print('break epoch:%d\\n'%(EPOCH))\n",
    "        break\n",
    "        \n",
    "    train_acc, train_loss, test_acc, test_loss = 0, 0, 0, 0\n",
    "    for i in range(0, (len(train_X) // batch_size) * batch_size, batch_size):\n",
    "        batch_x = str_idx(train_X[i:i+batch_size],dictionary,maxlen)\n",
    "        acc, loss, _ = sess.run([model.accuracy, model.cost, model.optimizer], \n",
    "                           feed_dict = {model.X : batch_x, model.Y : train_onehot[i:i+batch_size]})\n",
    "        train_loss += loss\n",
    "        train_acc += acc\n",
    "    \n",
    "    for i in range(0, (len(test_X) // batch_size) * batch_size, batch_size):\n",
    "        batch_x = str_idx(test_X[i:i+batch_size],dictionary,maxlen)\n",
    "        acc, loss = sess.run([model.accuracy, model.cost], \n",
    "                           feed_dict = {model.X : batch_x, model.Y : test_onehot[i:i+batch_size]})\n",
    "        test_loss += loss\n",
    "        test_acc += acc\n",
    "    \n",
    "    train_loss /= (len(train_X) // batch_size)\n",
    "    train_acc /= (len(train_X) // batch_size)\n",
    "    test_loss /= (len(test_X) // batch_size)\n",
    "    test_acc /= (len(test_X) // batch_size)\n",
    "    \n",
    "    if test_acc > CURRENT_ACC:\n",
    "        print('epoch: %d, pass acc: %f, current acc: %f'%(EPOCH,CURRENT_ACC, test_acc))\n",
    "        CURRENT_ACC = test_acc\n",
    "        CURRENT_CHECKPOINT = 0\n",
    "    else:\n",
    "        CURRENT_CHECKPOINT += 1\n",
    "        \n",
    "    print('time taken:', time.time()-lasttime)\n",
    "    print('epoch: %d, training loss: %f, training acc: %f, valid loss: %f, valid acc: %f\\n'%(EPOCH,train_loss,\n",
    "                                                                                          train_acc,test_loss,\n",
    "                                                                                          test_acc))\n",
    "    EPOCH += 1"
   ]
  },
  {
   "cell_type": "code",
   "execution_count": null,
   "metadata": {},
   "outputs": [],
   "source": []
  }
 ],
 "metadata": {
  "kernelspec": {
   "display_name": "Python 3",
   "language": "python",
   "name": "python3"
  },
  "language_info": {
   "codemirror_mode": {
    "name": "ipython",
    "version": 3
   },
   "file_extension": ".py",
   "mimetype": "text/x-python",
   "name": "python",
   "nbconvert_exporter": "python",
   "pygments_lexer": "ipython3",
   "version": "3.5.2"
  }
 },
 "nbformat": 4,
 "nbformat_minor": 2
}
