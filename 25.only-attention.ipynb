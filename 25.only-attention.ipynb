{
 "cells": [
  {
   "cell_type": "code",
   "execution_count": 1,
   "metadata": {},
   "outputs": [
    {
     "name": "stderr",
     "output_type": "stream",
     "text": [
      "/usr/local/lib/python3.5/dist-packages/h5py/__init__.py:36: FutureWarning: Conversion of the second argument of issubdtype from `float` to `np.floating` is deprecated. In future, it will be treated as `np.float64 == np.dtype(float).type`.\n",
      "  from ._conv import register_converters as _register_converters\n",
      "/usr/local/lib/python3.5/dist-packages/sklearn/cross_validation.py:41: DeprecationWarning: This module was deprecated in version 0.18 in favor of the model_selection module into which all the refactored classes and functions are moved. Also note that the interface of the new CV iterators are different from that of this module. This module will be removed in 0.20.\n",
      "  \"This module will be removed in 0.20.\", DeprecationWarning)\n"
     ]
    }
   ],
   "source": [
    "from utils import *\n",
    "import tensorflow as tf\n",
    "from sklearn.cross_validation import train_test_split\n",
    "import time"
   ]
  },
  {
   "cell_type": "code",
   "execution_count": 2,
   "metadata": {},
   "outputs": [
    {
     "name": "stdout",
     "output_type": "stream",
     "text": [
      "['negative', 'positive']\n",
      "10662\n",
      "10662\n"
     ]
    }
   ],
   "source": [
    "trainset = sklearn.datasets.load_files(container_path = 'data', encoding = 'UTF-8')\n",
    "trainset.data, trainset.target = separate_dataset(trainset,1.0)\n",
    "print (trainset.target_names)\n",
    "print (len(trainset.data))\n",
    "print (len(trainset.target))"
   ]
  },
  {
   "cell_type": "code",
   "execution_count": 3,
   "metadata": {},
   "outputs": [],
   "source": [
    "ONEHOT = np.zeros((len(trainset.data),len(trainset.target_names)))\n",
    "ONEHOT[np.arange(len(trainset.data)),trainset.target] = 1.0\n",
    "train_X, test_X, train_Y, test_Y, train_onehot, test_onehot = train_test_split(trainset.data, \n",
    "                                                                               trainset.target, \n",
    "                                                                               ONEHOT, test_size = 0.2)"
   ]
  },
  {
   "cell_type": "code",
   "execution_count": 4,
   "metadata": {},
   "outputs": [
    {
     "name": "stdout",
     "output_type": "stream",
     "text": [
      "vocab from size: 20465\n",
      "Most common words [('the', 10129), ('a', 7312), ('and', 6199), ('of', 6063), ('to', 4233), ('is', 3378)]\n",
      "Sample data [4, 663, 9, 2641, 8, 22, 4, 3562, 15416, 98] ['the', 'rock', 'is', 'destined', 'to', 'be', 'the', '21st', 'centurys', 'new']\n"
     ]
    }
   ],
   "source": [
    "concat = ' '.join(trainset.data).split()\n",
    "vocabulary_size = len(list(set(concat)))\n",
    "data, count, dictionary, rev_dictionary = build_dataset(concat, vocabulary_size)\n",
    "print('vocab from size: %d'%(vocabulary_size))\n",
    "print('Most common words', count[4:10])\n",
    "print('Sample data', data[:10], [rev_dictionary[i] for i in data[:10]])"
   ]
  },
  {
   "cell_type": "code",
   "execution_count": 5,
   "metadata": {},
   "outputs": [],
   "source": [
    "GO = dictionary['GO']\n",
    "PAD = dictionary['PAD']\n",
    "EOS = dictionary['EOS']\n",
    "UNK = dictionary['UNK']"
   ]
  },
  {
   "cell_type": "code",
   "execution_count": 6,
   "metadata": {},
   "outputs": [],
   "source": [
    "def sinusoidal_positional_encoding(inputs, num_units, zero_pad=False, scale=False):\n",
    "    T = inputs.get_shape().as_list()[1]\n",
    "    position_idx = tf.tile(tf.expand_dims(tf.range(T), 0), [tf.shape(inputs)[0], 1])\n",
    "    position_enc = np.array([[pos / np.power(10000, 2.*i/num_units) for i in range(num_units)] for pos in range(T)])\n",
    "    position_enc[:, 0::2] = np.sin(position_enc[:, 0::2])\n",
    "    position_enc[:, 1::2] = np.cos(position_enc[:, 1::2])\n",
    "    lookup_table = tf.convert_to_tensor(position_enc, tf.float32)\n",
    "    if zero_pad:\n",
    "        lookup_table = tf.concat([tf.zeros([1, num_units]), lookup_table[1:, :]], axis=0)\n",
    "    outputs = tf.nn.embedding_lookup(lookup_table, position_idx)\n",
    "    if scale:\n",
    "        outputs = outputs * num_units ** 0.5\n",
    "    return outputs\n",
    "\n",
    "class Model:\n",
    "    def __init__(self, seq_len, dict_size, dimension_input, dimension_output, learning_rate):\n",
    "        self.X = tf.placeholder(tf.int32, [None, seq_len])\n",
    "        self.Y = tf.placeholder(tf.float32, [None, dimension_output])\n",
    "        encoder_embeddings = tf.Variable(tf.random_uniform([dict_size, dimension_input], -1, 1))\n",
    "        encoder_embedded = tf.nn.embedding_lookup(encoder_embeddings, self.X)\n",
    "        x = encoder_embedded\n",
    "        x += sinusoidal_positional_encoding(x, dimension_input)\n",
    "        masks = tf.sign(encoder_embedded[:,:,0])\n",
    "        align = tf.squeeze(tf.layers.dense(x, 1, tf.tanh), -1)\n",
    "        paddings = tf.fill(tf.shape(align), float('-inf'))\n",
    "        align = tf.where(tf.equal(masks, 0), paddings, align)\n",
    "        align = tf.expand_dims(tf.nn.softmax(align), -1)\n",
    "        x = tf.squeeze(tf.matmul(tf.transpose(x, [0,2,1]), align), -1)\n",
    "        self.logits = tf.layers.dense(x, dimension_output)\n",
    "        self.cost = tf.reduce_mean(tf.nn.softmax_cross_entropy_with_logits(logits = self.logits, labels = self.Y))\n",
    "        self.optimizer = tf.train.AdamOptimizer(learning_rate = learning_rate).minimize(self.cost)\n",
    "        self.correct_pred = tf.equal(tf.argmax(self.logits, 1), tf.argmax(self.Y, 1))\n",
    "        self.accuracy = tf.reduce_mean(tf.cast(self.correct_pred, tf.float32))"
   ]
  },
  {
   "cell_type": "code",
   "execution_count": 7,
   "metadata": {},
   "outputs": [],
   "source": [
    "size_layer = 128\n",
    "num_layers = 2\n",
    "embedded_size = 128\n",
    "dimension_output = len(trainset.target_names)\n",
    "learning_rate = 1e-3\n",
    "maxlen = 50\n",
    "batch_size = 128"
   ]
  },
  {
   "cell_type": "code",
   "execution_count": 8,
   "metadata": {},
   "outputs": [],
   "source": [
    "tf.reset_default_graph()\n",
    "sess = tf.InteractiveSession()\n",
    "model = Model(maxlen,vocabulary_size+4,embedded_size,dimension_output,learning_rate)\n",
    "sess.run(tf.global_variables_initializer())"
   ]
  },
  {
   "cell_type": "code",
   "execution_count": 9,
   "metadata": {},
   "outputs": [
    {
     "name": "stdout",
     "output_type": "stream",
     "text": [
      "epoch: 0, pass acc: 0.000000, current acc: 0.569336\n",
      "time taken: 3.1439993381500244\n",
      "epoch: 0, training loss: 0.709005, training acc: 0.528646, valid loss: 0.682793, valid acc: 0.569336\n",
      "\n",
      "epoch: 1, pass acc: 0.569336, current acc: 0.632324\n",
      "time taken: 2.6601574420928955\n",
      "epoch: 1, training loss: 0.663523, training acc: 0.611032, valid loss: 0.660099, valid acc: 0.632324\n",
      "\n",
      "epoch: 2, pass acc: 0.632324, current acc: 0.672852\n",
      "time taken: 2.600626230239868\n",
      "epoch: 2, training loss: 0.622837, training acc: 0.704309, valid loss: 0.632521, valid acc: 0.672852\n",
      "\n",
      "epoch: 3, pass acc: 0.672852, current acc: 0.702148\n",
      "time taken: 2.64109468460083\n",
      "epoch: 3, training loss: 0.571973, training acc: 0.767164, valid loss: 0.602410, valid acc: 0.702148\n",
      "\n",
      "epoch: 4, pass acc: 0.702148, current acc: 0.718262\n",
      "time taken: 2.59956693649292\n",
      "epoch: 4, training loss: 0.512781, training acc: 0.809777, valid loss: 0.573547, valid acc: 0.718262\n",
      "\n",
      "epoch: 5, pass acc: 0.718262, current acc: 0.724121\n",
      "time taken: 2.6283986568450928\n",
      "epoch: 5, training loss: 0.448867, training acc: 0.847538, valid loss: 0.548724, valid acc: 0.724121\n",
      "\n",
      "epoch: 6, pass acc: 0.724121, current acc: 0.732910\n",
      "time taken: 2.7102317810058594\n",
      "epoch: 6, training loss: 0.387086, training acc: 0.879853, valid loss: 0.530330, valid acc: 0.732910\n",
      "\n",
      "epoch: 7, pass acc: 0.732910, current acc: 0.737793\n",
      "time taken: 2.7805159091949463\n",
      "epoch: 7, training loss: 0.332254, training acc: 0.902580, valid loss: 0.518452, valid acc: 0.737793\n",
      "\n",
      "epoch: 8, pass acc: 0.737793, current acc: 0.744629\n",
      "time taken: 2.66990065574646\n",
      "epoch: 8, training loss: 0.285500, training acc: 0.920573, valid loss: 0.512635, valid acc: 0.744629\n",
      "\n",
      "time taken: 2.644237756729126\n",
      "epoch: 9, training loss: 0.246567, training acc: 0.932410, valid loss: 0.511375, valid acc: 0.744629\n",
      "\n",
      "epoch: 10, pass acc: 0.744629, current acc: 0.746094\n",
      "time taken: 2.6809160709381104\n",
      "epoch: 10, training loss: 0.214175, training acc: 0.944129, valid loss: 0.513424, valid acc: 0.746094\n",
      "\n",
      "epoch: 11, pass acc: 0.746094, current acc: 0.746582\n",
      "time taken: 2.6276748180389404\n",
      "epoch: 11, training loss: 0.187157, training acc: 0.953243, valid loss: 0.518151, valid acc: 0.746582\n",
      "\n",
      "time taken: 2.626224994659424\n",
      "epoch: 12, training loss: 0.164504, training acc: 0.962003, valid loss: 0.524803, valid acc: 0.745605\n",
      "\n",
      "time taken: 2.585081100463867\n",
      "epoch: 13, training loss: 0.145303, training acc: 0.967566, valid loss: 0.532715, valid acc: 0.746094\n",
      "\n",
      "epoch: 14, pass acc: 0.746582, current acc: 0.749023\n",
      "time taken: 2.6928305625915527\n",
      "epoch: 14, training loss: 0.128889, training acc: 0.972656, valid loss: 0.541579, valid acc: 0.749023\n",
      "\n",
      "time taken: 2.7457475662231445\n",
      "epoch: 15, training loss: 0.114853, training acc: 0.976326, valid loss: 0.551781, valid acc: 0.746582\n",
      "\n",
      "time taken: 2.6230292320251465\n",
      "epoch: 16, training loss: 0.102774, training acc: 0.979759, valid loss: 0.562900, valid acc: 0.745117\n",
      "\n",
      "time taken: 2.6129848957061768\n",
      "epoch: 17, training loss: 0.092342, training acc: 0.982599, valid loss: 0.573761, valid acc: 0.746094\n",
      "\n",
      "time taken: 2.607180595397949\n",
      "epoch: 18, training loss: 0.083225, training acc: 0.984848, valid loss: 0.584410, valid acc: 0.743652\n",
      "\n",
      "time taken: 2.6329121589660645\n",
      "epoch: 19, training loss: 0.075188, training acc: 0.987808, valid loss: 0.595119, valid acc: 0.741699\n",
      "\n",
      "break epoch:20\n",
      "\n"
     ]
    }
   ],
   "source": [
    "EARLY_STOPPING, CURRENT_CHECKPOINT, CURRENT_ACC, EPOCH = 5, 0, 0, 0\n",
    "while True:\n",
    "    lasttime = time.time()\n",
    "    if CURRENT_CHECKPOINT == EARLY_STOPPING:\n",
    "        print('break epoch:%d\\n'%(EPOCH))\n",
    "        break\n",
    "        \n",
    "    train_acc, train_loss, test_acc, test_loss = 0, 0, 0, 0\n",
    "    for i in range(0, (len(train_X) // batch_size) * batch_size, batch_size):\n",
    "        batch_x = str_idx(train_X[i:i+batch_size],dictionary,maxlen)\n",
    "        acc, loss, _ = sess.run([model.accuracy, model.cost, model.optimizer], \n",
    "                           feed_dict = {model.X : batch_x, model.Y : train_onehot[i:i+batch_size]})\n",
    "        train_loss += loss\n",
    "        train_acc += acc\n",
    "    \n",
    "    for i in range(0, (len(test_X) // batch_size) * batch_size, batch_size):\n",
    "        batch_x = str_idx(test_X[i:i+batch_size],dictionary,maxlen)\n",
    "        acc, loss = sess.run([model.accuracy, model.cost], \n",
    "                           feed_dict = {model.X : batch_x, model.Y : test_onehot[i:i+batch_size]})\n",
    "        test_loss += loss\n",
    "        test_acc += acc\n",
    "    \n",
    "    train_loss /= (len(train_X) // batch_size)\n",
    "    train_acc /= (len(train_X) // batch_size)\n",
    "    test_loss /= (len(test_X) // batch_size)\n",
    "    test_acc /= (len(test_X) // batch_size)\n",
    "    \n",
    "    if test_acc > CURRENT_ACC:\n",
    "        print('epoch: %d, pass acc: %f, current acc: %f'%(EPOCH,CURRENT_ACC, test_acc))\n",
    "        CURRENT_ACC = test_acc\n",
    "        CURRENT_CHECKPOINT = 0\n",
    "    else:\n",
    "        CURRENT_CHECKPOINT += 1\n",
    "        \n",
    "    print('time taken:', time.time()-lasttime)\n",
    "    print('epoch: %d, training loss: %f, training acc: %f, valid loss: %f, valid acc: %f\\n'%(EPOCH,train_loss,\n",
    "                                                                                          train_acc,test_loss,\n",
    "                                                                                          test_acc))\n",
    "    EPOCH += 1"
   ]
  },
  {
   "cell_type": "code",
   "execution_count": 10,
   "metadata": {},
   "outputs": [
    {
     "name": "stdout",
     "output_type": "stream",
     "text": [
      "             precision    recall  f1-score   support\n",
      "\n",
      "   negative       0.75      0.72      0.73      1046\n",
      "   positive       0.74      0.77      0.75      1087\n",
      "\n",
      "avg / total       0.74      0.74      0.74      2133\n",
      "\n"
     ]
    }
   ],
   "source": [
    "logits = sess.run(model.logits, feed_dict={model.X:str_idx(test_X,dictionary,maxlen)})\n",
    "print(metrics.classification_report(test_Y, np.argmax(logits,1), target_names = trainset.target_names))"
   ]
  },
  {
   "cell_type": "code",
   "execution_count": null,
   "metadata": {},
   "outputs": [],
   "source": []
  }
 ],
 "metadata": {
  "kernelspec": {
   "display_name": "Python 3",
   "language": "python",
   "name": "python3"
  },
  "language_info": {
   "codemirror_mode": {
    "name": "ipython",
    "version": 3
   },
   "file_extension": ".py",
   "mimetype": "text/x-python",
   "name": "python",
   "nbconvert_exporter": "python",
   "pygments_lexer": "ipython3",
   "version": "3.5.2"
  }
 },
 "nbformat": 4,
 "nbformat_minor": 2
}
