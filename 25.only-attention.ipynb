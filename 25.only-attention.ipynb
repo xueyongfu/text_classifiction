{
 "cells": [
  {
   "cell_type": "code",
   "execution_count": 3,
   "metadata": {},
   "outputs": [],
   "source": [
    "from utils import *\n",
    "import tensorflow as tf\n",
    "from sklearn.model_selection import train_test_split\n",
    "import time"
   ]
  },
  {
   "cell_type": "code",
   "execution_count": 4,
   "metadata": {},
   "outputs": [
    {
     "name": "stdout",
     "output_type": "stream",
     "text": [
      "['negative', 'positive']\n",
      "10662\n",
      "10662\n"
     ]
    }
   ],
   "source": [
    "trainset = sklearn.datasets.load_files(container_path = 'data', encoding = 'UTF-8')\n",
    "trainset.data, trainset.target = separate_dataset(trainset,1.0)\n",
    "print (trainset.target_names)\n",
    "print (len(trainset.data))\n",
    "print (len(trainset.target))"
   ]
  },
  {
   "cell_type": "code",
   "execution_count": 5,
   "metadata": {},
   "outputs": [],
   "source": [
    "ONEHOT = np.zeros((len(trainset.data),len(trainset.target_names)))\n",
    "ONEHOT[np.arange(len(trainset.data)),trainset.target] = 1.0\n",
    "train_X, test_X, train_Y, test_Y, train_onehot, test_onehot = train_test_split(trainset.data, \n",
    "                                                                               trainset.target, \n",
    "                                                                               ONEHOT, test_size = 0.2)"
   ]
  },
  {
   "cell_type": "code",
   "execution_count": 6,
   "metadata": {},
   "outputs": [
    {
     "name": "stdout",
     "output_type": "stream",
     "text": [
      "vocab from size: 20332\n",
      "Most common words [('film', 1453), ('movie', 1270), ('one', 727), ('like', 721), ('story', 477), ('much', 386)]\n",
      "Sample data [357, 7006, 3661, 4373, 2165, 2417, 3117, 1641, 7007, 291] ['writerdirector', 'alexander', 'payne', 'election', 'cowriter', 'jim', 'taylor', 'brilliantly', 'employ', 'quirky']\n"
     ]
    }
   ],
   "source": [
    "concat = ' '.join(trainset.data).split()\n",
    "vocabulary_size = len(list(set(concat)))\n",
    "data, count, dictionary, rev_dictionary = build_dataset(concat, vocabulary_size)\n",
    "print('vocab from size: %d'%(vocabulary_size))\n",
    "print('Most common words', count[4:10])\n",
    "print('Sample data', data[:10], [rev_dictionary[i] for i in data[:10]])"
   ]
  },
  {
   "cell_type": "code",
   "execution_count": 7,
   "metadata": {},
   "outputs": [],
   "source": [
    "GO = dictionary['GO']\n",
    "PAD = dictionary['PAD']\n",
    "EOS = dictionary['EOS']\n",
    "UNK = dictionary['UNK']"
   ]
  },
  {
   "cell_type": "code",
   "execution_count": 8,
   "metadata": {},
   "outputs": [],
   "source": [
    "def sinusoidal_positional_encoding(inputs, num_units, zero_pad=False, scale=False):\n",
    "    T = inputs.get_shape().as_list()[1]\n",
    "    position_idx = tf.tile(tf.expand_dims(tf.range(T), 0), [tf.shape(inputs)[0], 1])\n",
    "    position_enc = np.array([[pos / np.power(10000, 2.*i/num_units) for i in range(num_units)] for pos in range(T)])\n",
    "    position_enc[:, 0::2] = np.sin(position_enc[:, 0::2])\n",
    "    position_enc[:, 1::2] = np.cos(position_enc[:, 1::2])\n",
    "    lookup_table = tf.convert_to_tensor(position_enc, tf.float32)\n",
    "    if zero_pad:\n",
    "        lookup_table = tf.concat([tf.zeros([1, num_units]), lookup_table[1:, :]], axis=0)\n",
    "    outputs = tf.nn.embedding_lookup(lookup_table, position_idx)\n",
    "    if scale:\n",
    "        outputs = outputs * num_units ** 0.5\n",
    "    return outputs\n",
    "\n",
    "class Model:\n",
    "    def __init__(self, seq_len, dict_size, dimension_input, dimension_output, learning_rate):\n",
    "        self.X = tf.placeholder(tf.int32, [None, seq_len])\n",
    "        self.Y = tf.placeholder(tf.float32, [None, dimension_output])\n",
    "        encoder_embeddings = tf.Variable(tf.random_uniform([dict_size, dimension_input], -1, 1))\n",
    "        encoder_embedded = tf.nn.embedding_lookup(encoder_embeddings, self.X)\n",
    "        x = encoder_embedded\n",
    "        \n",
    "        x += sinusoidal_positional_encoding(x, dimension_input)\n",
    "        \n",
    "        masks = tf.sign(encoder_embedded[:,:,0])\n",
    "        align = tf.squeeze(tf.layers.dense(x, 1, tf.tanh), -1)\n",
    "        paddings = tf.fill(tf.shape(align), float('-inf'))\n",
    "        align = tf.where(tf.equal(masks, 0), paddings, align)\n",
    "        align = tf.expand_dims(tf.nn.softmax(align), -1)\n",
    "        x = tf.squeeze(tf.matmul(tf.transpose(x, [0,2,1]), align), -1)\n",
    "        self.logits = tf.layers.dense(x, dimension_output)\n",
    "        self.cost = tf.reduce_mean(tf.nn.softmax_cross_entropy_with_logits(logits = self.logits, labels = self.Y))\n",
    "        self.optimizer = tf.train.AdamOptimizer(learning_rate = learning_rate).minimize(self.cost)\n",
    "        self.correct_pred = tf.equal(tf.argmax(self.logits, 1), tf.argmax(self.Y, 1))\n",
    "        self.accuracy = tf.reduce_mean(tf.cast(self.correct_pred, tf.float32))"
   ]
  },
  {
   "cell_type": "code",
   "execution_count": 9,
   "metadata": {},
   "outputs": [],
   "source": [
    "size_layer = 128\n",
    "num_layers = 2\n",
    "embedded_size = 128\n",
    "dimension_output = len(trainset.target_names)\n",
    "learning_rate = 1e-3\n",
    "maxlen = 50\n",
    "batch_size = 128"
   ]
  },
  {
   "cell_type": "code",
   "execution_count": 10,
   "metadata": {},
   "outputs": [
    {
     "name": "stdout",
     "output_type": "stream",
     "text": [
      "WARNING:tensorflow:From <ipython-input-8-8bfaaa08b556>:30: softmax_cross_entropy_with_logits (from tensorflow.python.ops.nn_ops) is deprecated and will be removed in a future version.\n",
      "Instructions for updating:\n",
      "\n",
      "Future major versions of TensorFlow will allow gradients to flow\n",
      "into the labels input on backprop by default.\n",
      "\n",
      "See `tf.nn.softmax_cross_entropy_with_logits_v2`.\n",
      "\n"
     ]
    }
   ],
   "source": [
    "tf.reset_default_graph()\n",
    "sess = tf.InteractiveSession()\n",
    "model = Model(maxlen,vocabulary_size+4,embedded_size,dimension_output,learning_rate)\n",
    "sess.run(tf.global_variables_initializer())"
   ]
  },
  {
   "cell_type": "code",
   "execution_count": 11,
   "metadata": {},
   "outputs": [
    {
     "name": "stdout",
     "output_type": "stream",
     "text": [
      "epoch: 0, pass acc: 0.000000, current acc: 0.510254\n",
      "time taken: 0.5608386993408203\n",
      "epoch: 0, training loss: 0.694953, training acc: 0.508404, valid loss: 0.690530, valid acc: 0.510254\n",
      "\n",
      "epoch: 1, pass acc: 0.510254, current acc: 0.636719\n",
      "time taken: 0.2705512046813965\n",
      "epoch: 1, training loss: 0.664383, training acc: 0.608902, valid loss: 0.656911, valid acc: 0.636719\n",
      "\n",
      "epoch: 2, pass acc: 0.636719, current acc: 0.685059\n",
      "time taken: 0.26871681213378906\n",
      "epoch: 2, training loss: 0.609521, training acc: 0.731889, valid loss: 0.625591, valid acc: 0.685059\n",
      "\n",
      "epoch: 3, pass acc: 0.685059, current acc: 0.714355\n",
      "time taken: 0.26929736137390137\n",
      "epoch: 3, training loss: 0.552596, training acc: 0.796638, valid loss: 0.594319, valid acc: 0.714355\n",
      "\n",
      "epoch: 4, pass acc: 0.714355, current acc: 0.732422\n",
      "time taken: 0.26801490783691406\n",
      "epoch: 4, training loss: 0.492594, training acc: 0.836293, valid loss: 0.564443, valid acc: 0.732422\n",
      "\n",
      "epoch: 5, pass acc: 0.732422, current acc: 0.741699\n",
      "time taken: 0.2679119110107422\n",
      "epoch: 5, training loss: 0.432785, training acc: 0.861742, valid loss: 0.538980, valid acc: 0.741699\n",
      "\n",
      "epoch: 6, pass acc: 0.741699, current acc: 0.749512\n",
      "time taken: 0.26200366020202637\n",
      "epoch: 6, training loss: 0.377305, training acc: 0.884825, valid loss: 0.519699, valid acc: 0.749512\n",
      "\n",
      "epoch: 7, pass acc: 0.749512, current acc: 0.754883\n",
      "time taken: 0.26572632789611816\n",
      "epoch: 7, training loss: 0.328109, training acc: 0.905303, valid loss: 0.506671, valid acc: 0.754883\n",
      "\n",
      "time taken: 0.26169443130493164\n",
      "epoch: 8, training loss: 0.284859, training acc: 0.919981, valid loss: 0.499154, valid acc: 0.752930\n",
      "\n",
      "time taken: 0.2643411159515381\n",
      "epoch: 9, training loss: 0.247360, training acc: 0.935251, valid loss: 0.496264, valid acc: 0.752930\n",
      "\n",
      "time taken: 0.26981592178344727\n",
      "epoch: 10, training loss: 0.215571, training acc: 0.946851, valid loss: 0.497618, valid acc: 0.753906\n",
      "\n",
      "time taken: 0.2799677848815918\n",
      "epoch: 11, training loss: 0.188728, training acc: 0.956321, valid loss: 0.501613, valid acc: 0.754883\n",
      "\n",
      "epoch: 12, pass acc: 0.754883, current acc: 0.755371\n",
      "time taken: 0.2693660259246826\n",
      "epoch: 12, training loss: 0.166128, training acc: 0.964370, valid loss: 0.506922, valid acc: 0.755371\n",
      "\n",
      "time taken: 0.26888155937194824\n",
      "epoch: 13, training loss: 0.147098, training acc: 0.968395, valid loss: 0.512946, valid acc: 0.755371\n",
      "\n",
      "epoch: 14, pass acc: 0.755371, current acc: 0.757324\n",
      "time taken: 0.2706167697906494\n",
      "epoch: 14, training loss: 0.131058, training acc: 0.973722, valid loss: 0.519795, valid acc: 0.757324\n",
      "\n",
      "time taken: 0.267078161239624\n",
      "epoch: 15, training loss: 0.117488, training acc: 0.976681, valid loss: 0.527479, valid acc: 0.756836\n",
      "\n",
      "time taken: 0.2650439739227295\n",
      "epoch: 16, training loss: 0.105930, training acc: 0.979403, valid loss: 0.535793, valid acc: 0.754395\n",
      "\n",
      "time taken: 0.2659163475036621\n",
      "epoch: 17, training loss: 0.095769, training acc: 0.981889, valid loss: 0.545177, valid acc: 0.754883\n",
      "\n",
      "time taken: 0.2668318748474121\n",
      "epoch: 18, training loss: 0.086673, training acc: 0.984612, valid loss: 0.555807, valid acc: 0.751465\n",
      "\n",
      "time taken: 0.26403236389160156\n",
      "epoch: 19, training loss: 0.078259, training acc: 0.986151, valid loss: 0.567180, valid acc: 0.751953\n",
      "\n",
      "break epoch:20\n",
      "\n"
     ]
    }
   ],
   "source": [
    "EARLY_STOPPING, CURRENT_CHECKPOINT, CURRENT_ACC, EPOCH = 5, 0, 0, 0\n",
    "while True:\n",
    "    lasttime = time.time()\n",
    "    if CURRENT_CHECKPOINT == EARLY_STOPPING:\n",
    "        print('break epoch:%d\\n'%(EPOCH))\n",
    "        break\n",
    "        \n",
    "    train_acc, train_loss, test_acc, test_loss = 0, 0, 0, 0\n",
    "    for i in range(0, (len(train_X) // batch_size) * batch_size, batch_size):\n",
    "        batch_x = str_idx(train_X[i:i+batch_size],dictionary,maxlen)\n",
    "        acc, loss, _ = sess.run([model.accuracy, model.cost, model.optimizer], \n",
    "                           feed_dict = {model.X : batch_x, model.Y : train_onehot[i:i+batch_size]})\n",
    "        train_loss += loss\n",
    "        train_acc += acc\n",
    "    \n",
    "    for i in range(0, (len(test_X) // batch_size) * batch_size, batch_size):\n",
    "        batch_x = str_idx(test_X[i:i+batch_size],dictionary,maxlen)\n",
    "        acc, loss = sess.run([model.accuracy, model.cost], \n",
    "                           feed_dict = {model.X : batch_x, model.Y : test_onehot[i:i+batch_size]})\n",
    "        test_loss += loss\n",
    "        test_acc += acc\n",
    "    \n",
    "    train_loss /= (len(train_X) // batch_size)\n",
    "    train_acc /= (len(train_X) // batch_size)\n",
    "    test_loss /= (len(test_X) // batch_size)\n",
    "    test_acc /= (len(test_X) // batch_size)\n",
    "    \n",
    "    if test_acc > CURRENT_ACC:\n",
    "        print('epoch: %d, pass acc: %f, current acc: %f'%(EPOCH,CURRENT_ACC, test_acc))\n",
    "        CURRENT_ACC = test_acc\n",
    "        CURRENT_CHECKPOINT = 0\n",
    "    else:\n",
    "        CURRENT_CHECKPOINT += 1\n",
    "        \n",
    "    print('time taken:', time.time()-lasttime)\n",
    "    print('epoch: %d, training loss: %f, training acc: %f, valid loss: %f, valid acc: %f\\n'%(EPOCH,train_loss,\n",
    "                                                                                          train_acc,test_loss,\n",
    "                                                                                          test_acc))\n",
    "    EPOCH += 1"
   ]
  },
  {
   "cell_type": "code",
   "execution_count": 12,
   "metadata": {},
   "outputs": [
    {
     "name": "stdout",
     "output_type": "stream",
     "text": [
      "              precision    recall  f1-score   support\n",
      "\n",
      "    negative       0.76      0.72      0.74      1062\n",
      "    positive       0.74      0.78      0.76      1071\n",
      "\n",
      "    accuracy                           0.75      2133\n",
      "   macro avg       0.75      0.75      0.75      2133\n",
      "weighted avg       0.75      0.75      0.75      2133\n",
      "\n"
     ]
    }
   ],
   "source": [
    "logits = sess.run(model.logits, feed_dict={model.X:str_idx(test_X,dictionary,maxlen)})\n",
    "print(metrics.classification_report(test_Y, np.argmax(logits,1), target_names = trainset.target_names))"
   ]
  },
  {
   "cell_type": "code",
   "execution_count": null,
   "metadata": {},
   "outputs": [],
   "source": []
  }
 ],
 "metadata": {
  "kernelspec": {
   "display_name": "Python 3",
   "language": "python",
   "name": "python3"
  },
  "language_info": {
   "codemirror_mode": {
    "name": "ipython",
    "version": 3
   },
   "file_extension": ".py",
   "mimetype": "text/x-python",
   "name": "python",
   "nbconvert_exporter": "python",
   "pygments_lexer": "ipython3",
   "version": "3.6.10"
  }
 },
 "nbformat": 4,
 "nbformat_minor": 4
}
