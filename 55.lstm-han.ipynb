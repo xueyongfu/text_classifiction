{
 "cells": [
  {
   "cell_type": "code",
   "execution_count": 1,
   "metadata": {},
   "outputs": [
    {
     "name": "stderr",
     "output_type": "stream",
     "text": [
      "/usr/local/lib/python3.5/dist-packages/sklearn/cross_validation.py:41: DeprecationWarning: This module was deprecated in version 0.18 in favor of the model_selection module into which all the refactored classes and functions are moved. Also note that the interface of the new CV iterators are different from that of this module. This module will be removed in 0.20.\n",
      "  \"This module will be removed in 0.20.\", DeprecationWarning)\n"
     ]
    }
   ],
   "source": [
    "from utils import *\n",
    "import tensorflow as tf\n",
    "from sklearn.cross_validation import train_test_split\n",
    "import time"
   ]
  },
  {
   "cell_type": "code",
   "execution_count": 2,
   "metadata": {},
   "outputs": [
    {
     "name": "stdout",
     "output_type": "stream",
     "text": [
      "['negative', 'positive']\n",
      "10662\n",
      "10662\n"
     ]
    }
   ],
   "source": [
    "trainset = sklearn.datasets.load_files(container_path = 'data', encoding = 'UTF-8')\n",
    "trainset.data, trainset.target = separate_dataset(trainset,1.0)\n",
    "print (trainset.target_names)\n",
    "print (len(trainset.data))\n",
    "print (len(trainset.target))"
   ]
  },
  {
   "cell_type": "code",
   "execution_count": 3,
   "metadata": {},
   "outputs": [
    {
     "name": "stdout",
     "output_type": "stream",
     "text": [
      "vocab from size: 20332\n",
      "Most common words [('film', 1453), ('movie', 1270), ('one', 727), ('like', 721), ('story', 477), ('much', 386)]\n",
      "Sample data [534, 2497, 3124, 11717, 36, 8564, 217, 151, 19, 4279] ['rock', 'destined', '21st', 'centurys', 'new', 'conan', 'hes', 'going', 'make', 'splash']\n"
     ]
    }
   ],
   "source": [
    "concat = ' '.join(trainset.data).split()\n",
    "vocabulary_size = len(list(set(concat)))\n",
    "data, count, dictionary, rev_dictionary = build_dataset(concat, vocabulary_size)\n",
    "print('vocab from size: %d'%(vocabulary_size))\n",
    "print('Most common words', count[4:10])\n",
    "print('Sample data', data[:10], [rev_dictionary[i] for i in data[:10]])"
   ]
  },
  {
   "cell_type": "code",
   "execution_count": 4,
   "metadata": {},
   "outputs": [],
   "source": [
    "GO = dictionary['GO']\n",
    "PAD = dictionary['PAD']\n",
    "EOS = dictionary['EOS']\n",
    "UNK = dictionary['UNK']"
   ]
  },
  {
   "cell_type": "code",
   "execution_count": 5,
   "metadata": {},
   "outputs": [],
   "source": [
    "class Model:\n",
    "    def __init__(self, size_layer, num_layers, embedded_size,\n",
    "                 dict_size, dimension_output, learning_rate):\n",
    "        \n",
    "        def cells(size, reuse=False):\n",
    "            return tf.nn.rnn_cell.LSTMCell(size,initializer=tf.orthogonal_initializer(),reuse=reuse)\n",
    "        \n",
    "        self.X = tf.placeholder(tf.int32, [None, None])\n",
    "        self.Y = tf.placeholder(tf.int32, [None])\n",
    "        encoder_embeddings = tf.Variable(tf.random_uniform([dict_size, embedded_size], -1, 1))\n",
    "        encoder_embedded = tf.nn.embedding_lookup(encoder_embeddings, self.X)\n",
    "        \n",
    "        encoder_embedded = tf.layers.dense(encoder_embedded, embedded_size * 2)\n",
    "        \n",
    "        for n in range(num_layers):\n",
    "            (out_fw, out_bw), (state_fw, state_bw) = tf.nn.bidirectional_dynamic_rnn(\n",
    "                cell_fw = cells(size_layer // 2),\n",
    "                cell_bw = cells(size_layer // 2),\n",
    "                inputs = encoder_embedded,\n",
    "                dtype = tf.float32,\n",
    "                scope = 'bidirectional_rnn_%d'%(n))\n",
    "            encoder_embedded = tf.concat((out_fw, out_bw), 2)\n",
    "        self.logits = encoder_embedded[:, -1]\n",
    "        self.cost = tf.reduce_mean(tf.nn.sparse_softmax_cross_entropy_with_logits(\n",
    "            logits = self.logits, labels = self.Y))\n",
    "        self.optimizer = tf.train.AdamOptimizer(learning_rate = learning_rate).minimize(self.cost)\n",
    "        correct_pred = tf.equal(tf.argmax(self.logits, 1,output_type=tf.int32), self.Y)\n",
    "        self.accuracy = tf.reduce_mean(tf.cast(correct_pred, tf.float32))"
   ]
  },
  {
   "cell_type": "code",
   "execution_count": 6,
   "metadata": {},
   "outputs": [],
   "source": [
    "size_layer = 128\n",
    "num_layers = 1\n",
    "embedded_size = 128\n",
    "dimension_output = len(trainset.target_names)\n",
    "learning_rate = 1e-2\n",
    "maxlen = 50\n",
    "batch_size = 128"
   ]
  },
  {
   "cell_type": "code",
   "execution_count": 7,
   "metadata": {},
   "outputs": [],
   "source": [
    "vectors = str_idx(trainset.data, dictionary, maxlen)\n",
    "train_X, test_X, train_Y, test_Y = train_test_split(vectors, \n",
    "                                                    trainset.target,\n",
    "                                                    test_size = 0.2)"
   ]
  },
  {
   "cell_type": "code",
   "execution_count": 8,
   "metadata": {},
   "outputs": [],
   "source": [
    "tf.reset_default_graph()\n",
    "sess = tf.InteractiveSession()\n",
    "model = Model(size_layer,num_layers,embedded_size,len(dictionary),dimension_output,learning_rate)\n",
    "sess.run(tf.global_variables_initializer())"
   ]
  },
  {
   "cell_type": "code",
   "execution_count": 9,
   "metadata": {},
   "outputs": [
    {
     "name": "stderr",
     "output_type": "stream",
     "text": [
      "train minibatch loop: 100%|██████████| 67/67 [00:03<00:00, 21.30it/s, accuracy=0.469, cost=3.16]\n",
      "test minibatch loop: 100%|██████████| 17/17 [00:00<00:00, 46.16it/s, accuracy=0.494, cost=3.16]\n",
      "train minibatch loop:   4%|▍         | 3/67 [00:00<00:02, 22.29it/s, accuracy=0.648, cost=3.16]"
     ]
    },
    {
     "name": "stdout",
     "output_type": "stream",
     "text": [
      "epoch: 0, pass acc: 0.000000, current acc: 0.509727\n",
      "time taken: 3.6873512268066406\n",
      "epoch: 0, training loss: 3.362462, training acc: 0.490450, valid loss: 3.221023, valid acc: 0.509727\n",
      "\n"
     ]
    },
    {
     "name": "stderr",
     "output_type": "stream",
     "text": [
      "train minibatch loop: 100%|██████████| 67/67 [00:03<00:00, 21.39it/s, accuracy=0.469, cost=3.16]\n",
      "test minibatch loop: 100%|██████████| 17/17 [00:00<00:00, 49.01it/s, accuracy=0.506, cost=3.16]\n",
      "train minibatch loop:   4%|▍         | 3/67 [00:00<00:02, 21.63it/s, accuracy=0.648, cost=3.16]"
     ]
    },
    {
     "name": "stdout",
     "output_type": "stream",
     "text": [
      "time taken: 3.4824252128601074\n",
      "epoch: 1, training loss: 3.173714, training acc: 0.523279, valid loss: 3.219762, valid acc: 0.509495\n",
      "\n"
     ]
    },
    {
     "name": "stderr",
     "output_type": "stream",
     "text": [
      "train minibatch loop: 100%|██████████| 67/67 [00:03<00:00, 21.20it/s, accuracy=0.457, cost=3.16]\n",
      "test minibatch loop: 100%|██████████| 17/17 [00:00<00:00, 48.37it/s, accuracy=0.494, cost=3.16]\n",
      "train minibatch loop:   4%|▍         | 3/67 [00:00<00:02, 21.35it/s, accuracy=0.656, cost=3.16]"
     ]
    },
    {
     "name": "stdout",
     "output_type": "stream",
     "text": [
      "time taken: 3.514200210571289\n",
      "epoch: 2, training loss: 3.173489, training acc: 0.524149, valid loss: 3.219747, valid acc: 0.509727\n",
      "\n"
     ]
    },
    {
     "name": "stderr",
     "output_type": "stream",
     "text": [
      "train minibatch loop: 100%|██████████| 67/67 [00:03<00:00, 21.28it/s, accuracy=0.469, cost=3.16]\n",
      "test minibatch loop: 100%|██████████| 17/17 [00:00<00:00, 51.00it/s, accuracy=0.494, cost=3.16]\n",
      "train minibatch loop:   4%|▍         | 3/67 [00:00<00:03, 20.92it/s, accuracy=0.656, cost=3.16]"
     ]
    },
    {
     "name": "stdout",
     "output_type": "stream",
     "text": [
      "epoch: 3, pass acc: 0.509727, current acc: 0.510664\n",
      "time taken: 3.484762191772461\n",
      "epoch: 3, training loss: 3.173480, training acc: 0.526914, valid loss: 3.219506, valid acc: 0.510664\n",
      "\n"
     ]
    },
    {
     "name": "stderr",
     "output_type": "stream",
     "text": [
      "train minibatch loop: 100%|██████████| 67/67 [00:03<00:00, 21.36it/s, accuracy=0.481, cost=3.15]\n",
      "test minibatch loop: 100%|██████████| 17/17 [00:00<00:00, 48.99it/s, accuracy=0.494, cost=3.15]\n",
      "train minibatch loop:   4%|▍         | 3/67 [00:00<00:02, 21.56it/s, accuracy=0.641, cost=3.15]"
     ]
    },
    {
     "name": "stdout",
     "output_type": "stream",
     "text": [
      "time taken: 3.487187147140503\n",
      "epoch: 4, training loss: 3.164650, training acc: 0.529913, valid loss: 3.209525, valid acc: 0.507383\n",
      "\n"
     ]
    },
    {
     "name": "stderr",
     "output_type": "stream",
     "text": [
      "train minibatch loop: 100%|██████████| 67/67 [00:03<00:00, 21.42it/s, accuracy=0.481, cost=3.14]\n",
      "test minibatch loop: 100%|██████████| 17/17 [00:00<00:00, 50.85it/s, accuracy=0.482, cost=3.14]\n",
      "train minibatch loop:   4%|▍         | 3/67 [00:00<00:02, 21.85it/s, accuracy=0.641, cost=3.14]"
     ]
    },
    {
     "name": "stdout",
     "output_type": "stream",
     "text": [
      "time taken: 3.4660778045654297\n",
      "epoch: 5, training loss: 3.155919, training acc: 0.531672, valid loss: 3.199303, valid acc: 0.509021\n",
      "\n"
     ]
    },
    {
     "name": "stderr",
     "output_type": "stream",
     "text": [
      "train minibatch loop: 100%|██████████| 67/67 [00:03<00:00, 21.21it/s, accuracy=0.494, cost=3.14]\n",
      "test minibatch loop: 100%|██████████| 17/17 [00:00<00:00, 53.04it/s, accuracy=0.506, cost=3.14]\n",
      "train minibatch loop:   3%|▎         | 2/67 [00:00<00:03, 18.49it/s, accuracy=0.57, cost=3.14] "
     ]
    },
    {
     "name": "stdout",
     "output_type": "stream",
     "text": [
      "epoch: 6, pass acc: 0.510664, current acc: 0.511370\n",
      "time taken: 3.5042474269866943\n",
      "epoch: 6, training loss: 3.153342, training acc: 0.533030, valid loss: 3.199299, valid acc: 0.511370\n",
      "\n"
     ]
    },
    {
     "name": "stderr",
     "output_type": "stream",
     "text": [
      "train minibatch loop: 100%|██████████| 67/67 [00:03<00:00, 21.16it/s, accuracy=0.494, cost=3.14]\n",
      "test minibatch loop: 100%|██████████| 17/17 [00:00<00:00, 45.29it/s, accuracy=0.506, cost=3.14]\n",
      "train minibatch loop:   4%|▍         | 3/67 [00:00<00:02, 22.26it/s, accuracy=0.648, cost=3.14]"
     ]
    },
    {
     "name": "stdout",
     "output_type": "stream",
     "text": [
      "time taken: 3.5448806285858154\n",
      "epoch: 7, training loss: 3.153340, training acc: 0.532561, valid loss: 3.199297, valid acc: 0.509964\n",
      "\n"
     ]
    },
    {
     "name": "stderr",
     "output_type": "stream",
     "text": [
      "train minibatch loop: 100%|██████████| 67/67 [00:03<00:00, 21.59it/s, accuracy=0.481, cost=3.14]\n",
      "test minibatch loop: 100%|██████████| 17/17 [00:00<00:00, 50.59it/s, accuracy=0.506, cost=3.14]\n",
      "train minibatch loop:   3%|▎         | 2/67 [00:00<00:03, 19.12it/s, accuracy=0.648, cost=3.14]"
     ]
    },
    {
     "name": "stdout",
     "output_type": "stream",
     "text": [
      "time taken: 3.432685613632202\n",
      "epoch: 8, training loss: 3.153339, training acc: 0.532493, valid loss: 3.199295, valid acc: 0.509026\n",
      "\n"
     ]
    },
    {
     "name": "stderr",
     "output_type": "stream",
     "text": [
      "train minibatch loop: 100%|██████████| 67/67 [00:03<00:00, 21.27it/s, accuracy=0.469, cost=3.14]\n",
      "test minibatch loop: 100%|██████████| 17/17 [00:00<00:00, 49.57it/s, accuracy=0.494, cost=3.14]\n",
      "train minibatch loop:   4%|▍         | 3/67 [00:00<00:02, 21.99it/s, accuracy=0.648, cost=3.14]"
     ]
    },
    {
     "name": "stdout",
     "output_type": "stream",
     "text": [
      "time taken: 3.49562931060791\n",
      "epoch: 9, training loss: 3.153339, training acc: 0.533597, valid loss: 3.199294, valid acc: 0.506914\n",
      "\n"
     ]
    },
    {
     "name": "stderr",
     "output_type": "stream",
     "text": [
      "train minibatch loop: 100%|██████████| 67/67 [00:03<00:00, 21.20it/s, accuracy=0.481, cost=3.14]\n",
      "test minibatch loop: 100%|██████████| 17/17 [00:00<00:00, 51.53it/s, accuracy=0.506, cost=3.14]\n",
      "train minibatch loop:   4%|▍         | 3/67 [00:00<00:03, 20.85it/s, accuracy=0.648, cost=3.14]"
     ]
    },
    {
     "name": "stdout",
     "output_type": "stream",
     "text": [
      "time taken: 3.4959912300109863\n",
      "epoch: 10, training loss: 3.153338, training acc: 0.535072, valid loss: 3.199292, valid acc: 0.506213\n",
      "\n"
     ]
    },
    {
     "name": "stderr",
     "output_type": "stream",
     "text": [
      "train minibatch loop: 100%|██████████| 67/67 [00:03<00:00, 21.01it/s, accuracy=0.481, cost=3.14]\n",
      "test minibatch loop: 100%|██████████| 17/17 [00:00<00:00, 47.83it/s, accuracy=0.506, cost=3.14]"
     ]
    },
    {
     "name": "stdout",
     "output_type": "stream",
     "text": [
      "time taken: 3.4796535968780518\n",
      "epoch: 11, training loss: 3.153338, training acc: 0.534017, valid loss: 3.199291, valid acc: 0.510433\n",
      "\n",
      "break epoch:12\n",
      "\n"
     ]
    },
    {
     "name": "stderr",
     "output_type": "stream",
     "text": [
      "\n"
     ]
    }
   ],
   "source": [
    "from tqdm import tqdm\n",
    "\n",
    "EARLY_STOPPING, CURRENT_CHECKPOINT, CURRENT_ACC, EPOCH = 5, 0, 0, 0\n",
    "while True:\n",
    "    lasttime = time.time()\n",
    "    if CURRENT_CHECKPOINT == EARLY_STOPPING:\n",
    "        print('break epoch:%d\\n'%(EPOCH))\n",
    "        break\n",
    "        \n",
    "    train_acc, train_loss, test_acc, test_loss = 0, 0, 0, 0\n",
    "    pbar = tqdm(range(0, len(train_X), batch_size), desc='train minibatch loop')\n",
    "    for i in pbar:\n",
    "        batch_x = train_X[i:min(i+batch_size,train_X.shape[0])]\n",
    "        batch_y = train_Y[i:min(i+batch_size,train_X.shape[0])]\n",
    "        acc, loss, _ = sess.run([model.accuracy, model.cost, model.optimizer], \n",
    "                           feed_dict = {model.X : batch_x, model.Y : batch_y})\n",
    "        assert not np.isnan(loss)\n",
    "        train_loss += loss\n",
    "        train_acc += acc\n",
    "        pbar.set_postfix(cost=loss, accuracy = acc)\n",
    "    \n",
    "    pbar = tqdm(range(0, len(test_X), batch_size), desc='test minibatch loop')\n",
    "    for i in pbar:\n",
    "        batch_x = test_X[i:min(i+batch_size,test_X.shape[0])]\n",
    "        batch_y = test_Y[i:min(i+batch_size,test_X.shape[0])]\n",
    "        acc, loss = sess.run([model.accuracy, model.cost], \n",
    "                           feed_dict = {model.X : batch_x, model.Y : batch_y})\n",
    "        test_loss += loss\n",
    "        test_acc += acc\n",
    "        pbar.set_postfix(cost=loss, accuracy = acc)\n",
    "    \n",
    "    train_loss /= (len(train_X) / batch_size)\n",
    "    train_acc /= (len(train_X) / batch_size)\n",
    "    test_loss /= (len(test_X) / batch_size)\n",
    "    test_acc /= (len(test_X) / batch_size)\n",
    "    \n",
    "    if test_acc > CURRENT_ACC:\n",
    "        print('epoch: %d, pass acc: %f, current acc: %f'%(EPOCH,CURRENT_ACC, test_acc))\n",
    "        CURRENT_ACC = test_acc\n",
    "        CURRENT_CHECKPOINT = 0\n",
    "    else:\n",
    "        CURRENT_CHECKPOINT += 1\n",
    "        \n",
    "    print('time taken:', time.time()-lasttime)\n",
    "    print('epoch: %d, training loss: %f, training acc: %f, valid loss: %f, valid acc: %f\\n'%(EPOCH,train_loss,\n",
    "                                                                                          train_acc,test_loss,\n",
    "                                                                                          test_acc))\n",
    "    EPOCH += 1"
   ]
  },
  {
   "cell_type": "code",
   "execution_count": 12,
   "metadata": {},
   "outputs": [
    {
     "name": "stderr",
     "output_type": "stream",
     "text": [
      "validation minibatch loop: 100%|██████████| 17/17 [00:00<00:00, 49.74it/s]\n"
     ]
    }
   ],
   "source": [
    "real_Y, predict_Y = [], []\n",
    "\n",
    "pbar = tqdm(range(0, len(test_X), batch_size), desc='validation minibatch loop')\n",
    "for i in pbar:\n",
    "    batch_x = test_X[i:min(i+batch_size,test_X.shape[0])]\n",
    "    batch_y = test_Y[i:min(i+batch_size,test_X.shape[0])]\n",
    "    predict_Y += np.argmax(sess.run(model.logits, feed_dict = {model.X : batch_x, model.Y : batch_y}),1).tolist()\n",
    "    real_Y += batch_y"
   ]
  },
  {
   "cell_type": "code",
   "execution_count": 13,
   "metadata": {},
   "outputs": [
    {
     "name": "stdout",
     "output_type": "stream",
     "text": [
      "             precision    recall  f1-score   support\n",
      "\n",
      "   negative       0.50      0.60      0.55      1069\n",
      "   positive       0.50      0.40      0.44      1064\n",
      "\n",
      "avg / total       0.50      0.50      0.49      2133\n",
      "\n"
     ]
    }
   ],
   "source": [
    "from sklearn import metrics\n",
    "print(metrics.classification_report(real_Y, predict_Y, target_names = ['negative','positive']))"
   ]
  },
  {
   "cell_type": "code",
   "execution_count": null,
   "metadata": {},
   "outputs": [],
   "source": []
  }
 ],
 "metadata": {
  "kernelspec": {
   "display_name": "Python 3",
   "language": "python",
   "name": "python3"
  },
  "language_info": {
   "codemirror_mode": {
    "name": "ipython",
    "version": 3
   },
   "file_extension": ".py",
   "mimetype": "text/x-python",
   "name": "python",
   "nbconvert_exporter": "python",
   "pygments_lexer": "ipython3",
   "version": "3.5.2"
  }
 },
 "nbformat": 4,
 "nbformat_minor": 2
}
