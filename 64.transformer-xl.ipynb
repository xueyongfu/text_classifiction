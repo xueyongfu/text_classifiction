{
 "cells": [
  {
   "cell_type": "code",
   "execution_count": 1,
   "metadata": {},
   "outputs": [
    {
     "name": "stderr",
     "output_type": "stream",
     "text": [
      "/usr/local/lib/python3.6/dist-packages/sklearn/cross_validation.py:41: DeprecationWarning: This module was deprecated in version 0.18 in favor of the model_selection module into which all the refactored classes and functions are moved. Also note that the interface of the new CV iterators are different from that of this module. This module will be removed in 0.20.\n",
      "  \"This module will be removed in 0.20.\", DeprecationWarning)\n"
     ]
    }
   ],
   "source": [
    "import xl\n",
    "from utils import *\n",
    "import tensorflow as tf\n",
    "from sklearn.cross_validation import train_test_split\n",
    "import time\n",
    "import random\n",
    "import os"
   ]
  },
  {
   "cell_type": "code",
   "execution_count": 2,
   "metadata": {},
   "outputs": [
    {
     "name": "stdout",
     "output_type": "stream",
     "text": [
      "['negative', 'positive']\n",
      "10662\n",
      "10662\n"
     ]
    }
   ],
   "source": [
    "trainset = sklearn.datasets.load_files(container_path = 'data', encoding = 'UTF-8')\n",
    "trainset.data, trainset.target = separate_dataset(trainset,1.0)\n",
    "print (trainset.target_names)\n",
    "print (len(trainset.data))\n",
    "print (len(trainset.target))"
   ]
  },
  {
   "cell_type": "code",
   "execution_count": 3,
   "metadata": {},
   "outputs": [
    {
     "name": "stdout",
     "output_type": "stream",
     "text": [
      "vocab from size: 20332\n",
      "Most common words [('film', 1453), ('movie', 1270), ('one', 727), ('like', 721), ('story', 477), ('much', 386)]\n",
      "Sample data [7, 211, 72, 1785, 2165, 763, 4373, 4374, 64, 7] ['like', 'title', 'character', 'nicholas', 'nickleby', 'finds', 'reduced', 'circumstances', 'also', 'like']\n"
     ]
    }
   ],
   "source": [
    "concat = ' '.join(trainset.data).split()\n",
    "vocabulary_size = len(list(set(concat)))\n",
    "data, count, dictionary, rev_dictionary = build_dataset(concat, vocabulary_size)\n",
    "print('vocab from size: %d'%(vocabulary_size))\n",
    "print('Most common words', count[4:10])\n",
    "print('Sample data', data[:10], [rev_dictionary[i] for i in data[:10]])"
   ]
  },
  {
   "cell_type": "code",
   "execution_count": 4,
   "metadata": {},
   "outputs": [],
   "source": [
    "GO = dictionary['GO']\n",
    "PAD = dictionary['PAD']\n",
    "EOS = dictionary['EOS']\n",
    "UNK = dictionary['UNK']"
   ]
  },
  {
   "cell_type": "code",
   "execution_count": 5,
   "metadata": {},
   "outputs": [],
   "source": [
    "learning_rate = 1e-4\n",
    "batch_size = 32\n",
    "maxlen = 100\n",
    "n_layer = 3\n",
    "d_model = 256\n",
    "d_embed = 256\n",
    "n_head = 10\n",
    "d_head = 50\n",
    "d_inner = 512"
   ]
  },
  {
   "cell_type": "code",
   "execution_count": 6,
   "metadata": {},
   "outputs": [],
   "source": [
    "class Model:\n",
    "    def __init__(self):\n",
    "        self.X = tf.placeholder(tf.int32, [None, None])\n",
    "        self.Y = tf.placeholder(tf.int32, [None])\n",
    "        self.memory = tf.fill([n_layer, \n",
    "                               tf.shape(self.X)[0],\n",
    "                               tf.shape(self.X)[1],\n",
    "                               d_model], PAD)\n",
    "        self.memory = tf.cast(self.memory, tf.float32)\n",
    "        initializer = tf.initializers.random_normal(stddev = 0.1)\n",
    "        logits, self.next_memory = xl.transformer(\n",
    "            self.X,\n",
    "            self.memory,\n",
    "            len(dictionary),\n",
    "            n_layer,\n",
    "            d_model,\n",
    "            d_embed,\n",
    "            n_head,\n",
    "            d_head,\n",
    "            d_inner,\n",
    "            initializer\n",
    "        )\n",
    "        logits = tf.reduce_mean(logits,axis=1)\n",
    "        self.logits = tf.layers.dense(logits, 2)\n",
    "        self.cost = tf.reduce_mean(\n",
    "            tf.nn.sparse_softmax_cross_entropy_with_logits(\n",
    "                logits = self.logits, labels = self.Y\n",
    "            )\n",
    "        )\n",
    "        self.optimizer = tf.train.AdamOptimizer(learning_rate).minimize(\n",
    "            self.cost\n",
    "        )\n",
    "        correct_pred = tf.equal(\n",
    "            tf.argmax(self.logits, 1, output_type = tf.int32), self.Y\n",
    "        )\n",
    "        self.accuracy = tf.reduce_mean(tf.cast(correct_pred, tf.float32))"
   ]
  },
  {
   "cell_type": "code",
   "execution_count": 7,
   "metadata": {},
   "outputs": [],
   "source": [
    "tf.reset_default_graph()\n",
    "sess = tf.InteractiveSession()\n",
    "model = Model()\n",
    "sess.run(tf.global_variables_initializer())"
   ]
  },
  {
   "cell_type": "code",
   "execution_count": 8,
   "metadata": {},
   "outputs": [],
   "source": [
    "vectors = str_idx(trainset.data,dictionary, maxlen)\n",
    "train_X, test_X, train_Y, test_Y = train_test_split(vectors, trainset.target,test_size = 0.2)"
   ]
  },
  {
   "cell_type": "code",
   "execution_count": 9,
   "metadata": {},
   "outputs": [
    {
     "name": "stderr",
     "output_type": "stream",
     "text": [
      "train minibatch loop: 100%|██████████| 267/267 [00:34<00:00,  7.83it/s, accuracy=0.353, cost=0.701]\n",
      "test minibatch loop: 100%|██████████| 67/67 [00:03<00:00, 21.45it/s, accuracy=0.429, cost=0.704]\n",
      "train minibatch loop:   0%|          | 1/267 [00:00<00:33,  7.85it/s, accuracy=0.344, cost=0.709]"
     ]
    },
    {
     "name": "stdout",
     "output_type": "stream",
     "text": [
      "epoch: 0, pass acc: 0.000000, current acc: 0.489786\n",
      "time taken: 37.442381381988525\n",
      "epoch: 0, training loss: 0.714864, training acc: 0.493879, valid loss: 0.699062, valid acc: 0.489786\n",
      "\n"
     ]
    },
    {
     "name": "stderr",
     "output_type": "stream",
     "text": [
      "train minibatch loop: 100%|██████████| 267/267 [00:33<00:00,  7.85it/s, accuracy=0.353, cost=0.697]\n",
      "test minibatch loop: 100%|██████████| 67/67 [00:03<00:00, 20.83it/s, accuracy=0.429, cost=0.709]\n",
      "train minibatch loop:   0%|          | 1/267 [00:00<00:33,  7.87it/s, accuracy=0.344, cost=0.699]"
     ]
    },
    {
     "name": "stdout",
     "output_type": "stream",
     "text": [
      "time taken: 37.21436047554016\n",
      "epoch: 1, training loss: 0.697960, training acc: 0.510059, valid loss: 0.698490, valid acc: 0.489786\n",
      "\n"
     ]
    },
    {
     "name": "stderr",
     "output_type": "stream",
     "text": [
      "train minibatch loop: 100%|██████████| 267/267 [00:33<00:00,  7.87it/s, accuracy=0.706, cost=0.588]\n",
      "test minibatch loop: 100%|██████████| 67/67 [00:03<00:00, 20.84it/s, accuracy=0.524, cost=0.84] \n",
      "train minibatch loop:   0%|          | 1/267 [00:00<00:33,  7.85it/s, accuracy=0.844, cost=0.479]"
     ]
    },
    {
     "name": "stdout",
     "output_type": "stream",
     "text": [
      "time taken: 37.1573691368103\n",
      "epoch: 2, training loss: 0.603730, training acc: 0.659701, valid loss: 0.752693, valid acc: 0.483714\n",
      "\n"
     ]
    },
    {
     "name": "stderr",
     "output_type": "stream",
     "text": [
      "train minibatch loop: 100%|██████████| 267/267 [00:33<00:00,  7.86it/s, accuracy=0.941, cost=0.281]\n",
      "test minibatch loop: 100%|██████████| 67/67 [00:03<00:00, 20.79it/s, accuracy=0.429, cost=0.945]\n",
      "train minibatch loop:   0%|          | 1/267 [00:00<00:33,  7.87it/s, accuracy=0.969, cost=0.27]"
     ]
    },
    {
     "name": "stdout",
     "output_type": "stream",
     "text": [
      "epoch: 3, pass acc: 0.489786, current acc: 0.498694\n",
      "time taken: 37.20090985298157\n",
      "epoch: 3, training loss: 0.457398, training acc: 0.794011, valid loss: 0.806610, valid acc: 0.498694\n",
      "\n"
     ]
    },
    {
     "name": "stderr",
     "output_type": "stream",
     "text": [
      "train minibatch loop: 100%|██████████| 267/267 [00:33<00:00,  7.86it/s, accuracy=1, cost=0.207]    \n",
      "test minibatch loop: 100%|██████████| 67/67 [00:03<00:00, 20.76it/s, accuracy=0.333, cost=1.05] \n",
      "train minibatch loop:   0%|          | 1/267 [00:00<00:33,  7.87it/s, accuracy=0.969, cost=0.18]"
     ]
    },
    {
     "name": "stdout",
     "output_type": "stream",
     "text": [
      "epoch: 4, pass acc: 0.498694, current acc: 0.523519\n",
      "time taken: 37.197670698165894\n",
      "epoch: 4, training loss: 0.321193, training acc: 0.885450, valid loss: 0.790364, valid acc: 0.523519\n",
      "\n"
     ]
    },
    {
     "name": "stderr",
     "output_type": "stream",
     "text": [
      "train minibatch loop: 100%|██████████| 267/267 [00:33<00:00,  7.86it/s, accuracy=1, cost=0.16]     \n",
      "test minibatch loop: 100%|██████████| 67/67 [00:03<00:00, 20.83it/s, accuracy=0.476, cost=0.908]\n",
      "train minibatch loop:   0%|          | 1/267 [00:00<00:34,  7.76it/s, accuracy=0.969, cost=0.141]"
     ]
    },
    {
     "name": "stdout",
     "output_type": "stream",
     "text": [
      "epoch: 5, pass acc: 0.523519, current acc: 0.526600\n",
      "time taken: 37.20042443275452\n",
      "epoch: 5, training loss: 0.237853, training acc: 0.936804, valid loss: 0.795999, valid acc: 0.526600\n",
      "\n"
     ]
    },
    {
     "name": "stderr",
     "output_type": "stream",
     "text": [
      "train minibatch loop: 100%|██████████| 267/267 [00:33<00:00,  7.86it/s, accuracy=1, cost=0.109]    \n",
      "test minibatch loop: 100%|██████████| 67/67 [00:03<00:00, 20.85it/s, accuracy=0.429, cost=1.01] \n",
      "train minibatch loop:   0%|          | 1/267 [00:00<00:33,  7.90it/s, accuracy=1, cost=0.128]"
     ]
    },
    {
     "name": "stdout",
     "output_type": "stream",
     "text": [
      "time taken: 37.19804787635803\n",
      "epoch: 6, training loss: 0.179008, training acc: 0.964826, valid loss: 0.864026, valid acc: 0.520260\n",
      "\n"
     ]
    },
    {
     "name": "stderr",
     "output_type": "stream",
     "text": [
      "train minibatch loop: 100%|██████████| 267/267 [00:34<00:00,  7.84it/s, accuracy=1, cost=0.0852]    \n",
      "test minibatch loop: 100%|██████████| 67/67 [00:03<00:00, 21.57it/s, accuracy=0.476, cost=1.45] \n",
      "train minibatch loop:   0%|          | 1/267 [00:00<00:33,  7.86it/s, accuracy=0.969, cost=0.132]"
     ]
    },
    {
     "name": "stdout",
     "output_type": "stream",
     "text": [
      "time taken: 37.272393226623535\n",
      "epoch: 7, training loss: 0.133680, training acc: 0.981123, valid loss: 1.046019, valid acc: 0.513473\n",
      "\n"
     ]
    },
    {
     "name": "stderr",
     "output_type": "stream",
     "text": [
      "train minibatch loop: 100%|██████████| 267/267 [00:34<00:00,  7.85it/s, accuracy=1, cost=0.0538]    \n",
      "test minibatch loop: 100%|██████████| 67/67 [00:03<00:00, 20.89it/s, accuracy=0.381, cost=1.21] "
     ]
    },
    {
     "name": "stdout",
     "output_type": "stream",
     "text": [
      "time taken: 37.24386525154114\n",
      "epoch: 8, training loss: 0.108612, training acc: 0.984875, valid loss: 0.931525, valid acc: 0.524703\n",
      "\n",
      "break epoch:9\n",
      "\n"
     ]
    },
    {
     "name": "stderr",
     "output_type": "stream",
     "text": [
      "\n"
     ]
    }
   ],
   "source": [
    "from tqdm import tqdm\n",
    "import time\n",
    "\n",
    "EARLY_STOPPING, CURRENT_CHECKPOINT, CURRENT_ACC, EPOCH = 3, 0, 0, 0\n",
    "\n",
    "while True:\n",
    "    lasttime = time.time()\n",
    "    if CURRENT_CHECKPOINT == EARLY_STOPPING:\n",
    "        print('break epoch:%d\\n' % (EPOCH))\n",
    "        break\n",
    "\n",
    "    train_acc, train_loss, test_acc, test_loss = 0, 0, 0, 0\n",
    "    pbar = tqdm(\n",
    "        range(0, len(train_X), batch_size), desc = 'train minibatch loop'\n",
    "    )\n",
    "    for i in pbar:\n",
    "        batch_x = train_X[i : min(i + batch_size, train_X.shape[0])]\n",
    "        batch_y = train_Y[i : min(i + batch_size, train_X.shape[0])]\n",
    "        acc, cost, _ = sess.run(\n",
    "            [model.accuracy, model.cost, model.optimizer],\n",
    "            feed_dict = {\n",
    "                model.Y: batch_y,\n",
    "                model.X: batch_x\n",
    "            },\n",
    "        )\n",
    "        assert not np.isnan(cost)\n",
    "        train_loss += cost\n",
    "        train_acc += acc\n",
    "        pbar.set_postfix(cost = cost, accuracy = acc)\n",
    "        \n",
    "    pbar = tqdm(range(0, len(test_X), batch_size), desc = 'test minibatch loop')\n",
    "    for i in pbar:\n",
    "        batch_x = test_X[i : min(i + batch_size, test_X.shape[0])]\n",
    "        batch_y = test_Y[i : min(i + batch_size, test_X.shape[0])]\n",
    "        acc, cost = sess.run(\n",
    "            [model.accuracy, model.cost],\n",
    "            feed_dict = {\n",
    "                model.Y: batch_y,\n",
    "                model.X: batch_x\n",
    "            },\n",
    "        )\n",
    "        test_loss += cost\n",
    "        test_acc += acc\n",
    "        pbar.set_postfix(cost = cost, accuracy = acc)\n",
    "\n",
    "    train_loss /= len(train_X) / batch_size\n",
    "    train_acc /= len(train_X) / batch_size\n",
    "    test_loss /= len(test_X) / batch_size\n",
    "    test_acc /= len(test_X) / batch_size\n",
    "\n",
    "    if test_acc > CURRENT_ACC:\n",
    "        print(\n",
    "            'epoch: %d, pass acc: %f, current acc: %f'\n",
    "            % (EPOCH, CURRENT_ACC, test_acc)\n",
    "        )\n",
    "        CURRENT_ACC = test_acc\n",
    "        CURRENT_CHECKPOINT = 0\n",
    "    else:\n",
    "        CURRENT_CHECKPOINT += 1\n",
    "\n",
    "    print('time taken:', time.time() - lasttime)\n",
    "    print(\n",
    "        'epoch: %d, training loss: %f, training acc: %f, valid loss: %f, valid acc: %f\\n'\n",
    "        % (EPOCH, train_loss, train_acc, test_loss, test_acc)\n",
    "    )\n",
    "    EPOCH += 1"
   ]
  },
  {
   "cell_type": "code",
   "execution_count": 10,
   "metadata": {},
   "outputs": [
    {
     "name": "stderr",
     "output_type": "stream",
     "text": [
      "validation minibatch loop: 100%|██████████| 67/67 [00:03<00:00, 18.76it/s]\n"
     ]
    }
   ],
   "source": [
    "real_Y, predict_Y = [], []\n",
    "\n",
    "pbar = tqdm(\n",
    "    range(0, len(test_X), batch_size), desc = 'validation minibatch loop'\n",
    ")\n",
    "for i in pbar:\n",
    "    batch_x = test_X[i : min(i + batch_size, test_X.shape[0])]\n",
    "    batch_y = test_Y[i : min(i + batch_size, test_X.shape[0])]\n",
    "    batch_memory = np.ones(([n_layer, batch_size, maxlen, d_model]))\n",
    "    predict_Y += np.argmax(\n",
    "        sess.run(\n",
    "            model.logits, feed_dict = {model.X: batch_x, model.Y: batch_y,\n",
    "                                      model.memory:batch_memory}\n",
    "        ),\n",
    "        1,\n",
    "    ).tolist()\n",
    "    real_Y += batch_y"
   ]
  },
  {
   "cell_type": "code",
   "execution_count": 11,
   "metadata": {},
   "outputs": [
    {
     "name": "stdout",
     "output_type": "stream",
     "text": [
      "             precision    recall  f1-score   support\n",
      "\n",
      "   negative       0.56      0.33      0.41      1093\n",
      "   positive       0.51      0.73      0.60      1040\n",
      "\n",
      "avg / total       0.53      0.52      0.50      2133\n",
      "\n"
     ]
    }
   ],
   "source": [
    "print(metrics.classification_report(real_Y, predict_Y, target_names = trainset.target_names))"
   ]
  },
  {
   "cell_type": "code",
   "execution_count": 12,
   "metadata": {},
   "outputs": [
    {
     "data": {
      "text/plain": [
       "(21, 100)"
      ]
     },
     "execution_count": 12,
     "metadata": {},
     "output_type": "execute_result"
    }
   ],
   "source": [
    "batch_x.shape"
   ]
  },
  {
   "cell_type": "code",
   "execution_count": null,
   "metadata": {},
   "outputs": [],
   "source": []
  }
 ],
 "metadata": {
  "kernelspec": {
   "display_name": "Python 3",
   "language": "python",
   "name": "python3"
  },
  "language_info": {
   "codemirror_mode": {
    "name": "ipython",
    "version": 3
   },
   "file_extension": ".py",
   "mimetype": "text/x-python",
   "name": "python",
   "nbconvert_exporter": "python",
   "pygments_lexer": "ipython3",
   "version": "3.6.8"
  }
 },
 "nbformat": 4,
 "nbformat_minor": 2
}
