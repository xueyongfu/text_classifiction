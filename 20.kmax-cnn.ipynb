{
 "cells": [
  {
   "cell_type": "code",
   "execution_count": 3,
   "metadata": {},
   "outputs": [],
   "source": [
    "from utils import *\n",
    "import tensorflow as tf\n",
    "from sklearn.model_selection import train_test_split\n",
    "import time"
   ]
  },
  {
   "cell_type": "code",
   "execution_count": 4,
   "metadata": {},
   "outputs": [
    {
     "name": "stdout",
     "output_type": "stream",
     "text": [
      "['negative', 'positive']\n",
      "10662\n",
      "10662\n"
     ]
    }
   ],
   "source": [
    "trainset = sklearn.datasets.load_files(container_path = 'data', encoding = 'UTF-8')\n",
    "trainset.data, trainset.target = separate_dataset(trainset,1.0)\n",
    "print (trainset.target_names)\n",
    "print (len(trainset.data))\n",
    "print (len(trainset.target))"
   ]
  },
  {
   "cell_type": "code",
   "execution_count": 5,
   "metadata": {},
   "outputs": [],
   "source": [
    "ONEHOT = np.zeros((len(trainset.data),len(trainset.target_names)))\n",
    "ONEHOT[np.arange(len(trainset.data)),trainset.target] = 1.0\n",
    "train_X, test_X, train_Y, test_Y, train_onehot, test_onehot = train_test_split(trainset.data, \n",
    "                                                                               trainset.target, \n",
    "                                                                               ONEHOT, test_size = 0.2)"
   ]
  },
  {
   "cell_type": "code",
   "execution_count": 6,
   "metadata": {},
   "outputs": [
    {
     "name": "stdout",
     "output_type": "stream",
     "text": [
      "vocab from size: 20332\n",
      "Most common words [('film', 1453), ('movie', 1270), ('one', 727), ('like', 721), ('story', 477), ('much', 386)]\n",
      "Sample data [691, 563, 45, 32, 1785, 7006, 3661, 657, 65, 1006] ['flawed', 'worthy', 'look', 'life', 'u', 'relocation', 'camps', 'words', 'another', 'sports']\n"
     ]
    }
   ],
   "source": [
    "concat = ' '.join(trainset.data).split()\n",
    "vocabulary_size = len(list(set(concat)))\n",
    "data, count, dictionary, rev_dictionary = build_dataset(concat, vocabulary_size)\n",
    "print('vocab from size: %d'%(vocabulary_size))\n",
    "print('Most common words', count[4:10])\n",
    "print('Sample data', data[:10], [rev_dictionary[i] for i in data[:10]])"
   ]
  },
  {
   "cell_type": "code",
   "execution_count": 7,
   "metadata": {},
   "outputs": [],
   "source": [
    "GO = dictionary['GO']\n",
    "PAD = dictionary['PAD']\n",
    "EOS = dictionary['EOS']\n",
    "UNK = dictionary['UNK']"
   ]
  },
  {
   "cell_type": "code",
   "execution_count": 8,
   "metadata": {},
   "outputs": [],
   "source": [
    "class Model:\n",
    "    def __init__(self, embedded_size, dict_size, dimension_output, learning_rate,\n",
    "                top_k=5, n_filters=250):\n",
    "        kernels = [3, 4, 5]\n",
    "        \n",
    "        def add_conv1d(x, n_filters, kernel_size, strides=1):\n",
    "            return tf.layers.conv1d(inputs = x,\n",
    "                            filters = n_filters,\n",
    "                            kernel_size  = kernel_size,\n",
    "                            strides = strides,\n",
    "                            padding = 'valid',\n",
    "                            use_bias = True,\n",
    "                            activation = tf.nn.relu)\n",
    "        \n",
    "        def add_kmax_pooling(x):\n",
    "            Y = tf.transpose(x, [0, 2, 1])\n",
    "            Y = tf.nn.top_k(Y, top_k, sorted=False).values\n",
    "            Y = tf.transpose(Y, [0, 2, 1])\n",
    "            return tf.reshape(Y, [-1, top_k, n_filters//len(kernels)])\n",
    "        \n",
    "        self.X = tf.placeholder(tf.int32, [None, None])\n",
    "        self.Y = tf.placeholder(tf.float32, [None, dimension_output])\n",
    "        encoder_embeddings = tf.Variable(tf.random_uniform([dict_size, embedded_size], -1, 1))\n",
    "        encoder_embedded = tf.nn.embedding_lookup(encoder_embeddings, self.X)\n",
    "        \n",
    "        parallels = []\n",
    "        for k in kernels:\n",
    "            p = add_conv1d(encoder_embedded, n_filters//len(kernels), kernel_size=k)\n",
    "            p = add_kmax_pooling(p)\n",
    "            parallels.append(p)\n",
    "            \n",
    "        parallels = tf.concat(parallels, axis=-1)\n",
    "        parallels = tf.reshape(parallels, [-1, top_k * (len(kernels)*(n_filters//len(kernels)))])\n",
    "        feed = tf.layers.dense(parallels, n_filters, tf.nn.relu)\n",
    "        self.logits = tf.layers.dense(parallels, dimension_output)\n",
    "        self.cost = tf.reduce_mean(tf.nn.softmax_cross_entropy_with_logits(logits = self.logits, labels = self.Y))\n",
    "        self.optimizer = tf.train.AdamOptimizer(learning_rate = learning_rate).minimize(self.cost)\n",
    "        correct_pred = tf.equal(tf.argmax(self.logits, 1), tf.argmax(self.Y, 1))\n",
    "        self.accuracy = tf.reduce_mean(tf.cast(correct_pred, tf.float32))"
   ]
  },
  {
   "cell_type": "code",
   "execution_count": 9,
   "metadata": {},
   "outputs": [],
   "source": [
    "embedded_size = 128\n",
    "dimension_output = len(trainset.target_names)\n",
    "learning_rate = 1e-3\n",
    "maxlen = 50\n",
    "batch_size = 128"
   ]
  },
  {
   "cell_type": "code",
   "execution_count": 10,
   "metadata": {},
   "outputs": [
    {
     "name": "stdout",
     "output_type": "stream",
     "text": [
      "WARNING:tensorflow:From <ipython-input-8-7ff538c6437d>:36: softmax_cross_entropy_with_logits (from tensorflow.python.ops.nn_ops) is deprecated and will be removed in a future version.\n",
      "Instructions for updating:\n",
      "\n",
      "Future major versions of TensorFlow will allow gradients to flow\n",
      "into the labels input on backprop by default.\n",
      "\n",
      "See `tf.nn.softmax_cross_entropy_with_logits_v2`.\n",
      "\n"
     ]
    }
   ],
   "source": [
    "tf.reset_default_graph()\n",
    "sess = tf.InteractiveSession()\n",
    "model = Model(embedded_size,vocabulary_size+4,dimension_output,learning_rate)\n",
    "sess.run(tf.global_variables_initializer())"
   ]
  },
  {
   "cell_type": "code",
   "execution_count": 11,
   "metadata": {},
   "outputs": [
    {
     "name": "stdout",
     "output_type": "stream",
     "text": [
      "epoch: 0, pass acc: 0.000000, current acc: 0.584473\n",
      "time taken: 5.887679576873779\n",
      "epoch: 0, training loss: 0.725877, training acc: 0.548532, valid loss: 0.671398, valid acc: 0.584473\n",
      "\n",
      "epoch: 1, pass acc: 0.584473, current acc: 0.617188\n",
      "time taken: 4.146975040435791\n",
      "epoch: 1, training loss: 0.493067, training acc: 0.814631, valid loss: 0.656880, valid acc: 0.617188\n",
      "\n",
      "epoch: 2, pass acc: 0.617188, current acc: 0.633301\n",
      "time taken: 4.16161036491394\n",
      "epoch: 2, training loss: 0.352320, training acc: 0.916785, valid loss: 0.649146, valid acc: 0.633301\n",
      "\n",
      "epoch: 3, pass acc: 0.633301, current acc: 0.645020\n",
      "time taken: 4.176854848861694\n",
      "epoch: 3, training loss: 0.238340, training acc: 0.960464, valid loss: 0.650460, valid acc: 0.645020\n",
      "\n",
      "epoch: 4, pass acc: 0.645020, current acc: 0.657715\n",
      "time taken: 4.182652711868286\n",
      "epoch: 4, training loss: 0.163666, training acc: 0.976326, valid loss: 0.675792, valid acc: 0.657715\n",
      "\n",
      "time taken: 4.179717540740967\n",
      "epoch: 5, training loss: 0.123527, training acc: 0.979640, valid loss: 0.744071, valid acc: 0.650879\n",
      "\n",
      "epoch: 6, pass acc: 0.657715, current acc: 0.670898\n",
      "time taken: 4.185712099075317\n",
      "epoch: 6, training loss: 0.080541, training acc: 0.991359, valid loss: 0.699743, valid acc: 0.670898\n",
      "\n",
      "epoch: 7, pass acc: 0.670898, current acc: 0.672852\n",
      "time taken: 4.186334133148193\n",
      "epoch: 7, training loss: 0.054721, training acc: 0.995147, valid loss: 0.720057, valid acc: 0.672852\n",
      "\n",
      "time taken: 4.209979295730591\n",
      "epoch: 8, training loss: 0.042048, training acc: 0.997277, valid loss: 0.824585, valid acc: 0.664062\n",
      "\n",
      "time taken: 4.201503276824951\n",
      "epoch: 9, training loss: 0.031020, training acc: 0.997751, valid loss: 0.822534, valid acc: 0.672363\n",
      "\n",
      "epoch: 10, pass acc: 0.672852, current acc: 0.680664\n",
      "time taken: 4.1984570026397705\n",
      "epoch: 10, training loss: 0.021667, training acc: 0.998580, valid loss: 0.772301, valid acc: 0.680664\n",
      "\n",
      "time taken: 4.195821285247803\n",
      "epoch: 11, training loss: 0.013761, training acc: 0.999290, valid loss: 0.790702, valid acc: 0.679199\n",
      "\n",
      "time taken: 4.203064918518066\n",
      "epoch: 12, training loss: 0.010827, training acc: 0.999645, valid loss: 0.806812, valid acc: 0.680664\n",
      "\n",
      "time taken: 4.207068681716919\n",
      "epoch: 13, training loss: 0.008964, training acc: 0.999763, valid loss: 0.822565, valid acc: 0.680176\n",
      "\n",
      "epoch: 14, pass acc: 0.680664, current acc: 0.685059\n",
      "time taken: 4.200732946395874\n",
      "epoch: 14, training loss: 0.007535, training acc: 0.999763, valid loss: 0.837396, valid acc: 0.685059\n",
      "\n",
      "time taken: 4.221656322479248\n",
      "epoch: 15, training loss: 0.006396, training acc: 0.999763, valid loss: 0.851615, valid acc: 0.684570\n",
      "\n",
      "epoch: 16, pass acc: 0.685059, current acc: 0.686523\n",
      "time taken: 4.217876434326172\n",
      "epoch: 16, training loss: 0.005471, training acc: 0.999882, valid loss: 0.865259, valid acc: 0.686523\n",
      "\n",
      "epoch: 17, pass acc: 0.686523, current acc: 0.687012\n",
      "time taken: 4.206973314285278\n",
      "epoch: 17, training loss: 0.004712, training acc: 1.000000, valid loss: 0.878917, valid acc: 0.687012\n",
      "\n",
      "epoch: 18, pass acc: 0.687012, current acc: 0.687500\n",
      "time taken: 4.206668138504028\n",
      "epoch: 18, training loss: 0.004082, training acc: 1.000000, valid loss: 0.891958, valid acc: 0.687500\n",
      "\n",
      "epoch: 19, pass acc: 0.687500, current acc: 0.689453\n",
      "time taken: 4.217188119888306\n",
      "epoch: 19, training loss: 0.003566, training acc: 1.000000, valid loss: 0.905155, valid acc: 0.689453\n",
      "\n",
      "epoch: 20, pass acc: 0.689453, current acc: 0.690918\n",
      "time taken: 4.204007387161255\n",
      "epoch: 20, training loss: 0.003132, training acc: 1.000000, valid loss: 0.917197, valid acc: 0.690918\n",
      "\n",
      "epoch: 21, pass acc: 0.690918, current acc: 0.691895\n",
      "time taken: 4.1986753940582275\n",
      "epoch: 21, training loss: 0.002768, training acc: 1.000000, valid loss: 0.929031, valid acc: 0.691895\n",
      "\n",
      "time taken: 4.1951165199279785\n",
      "epoch: 22, training loss: 0.002455, training acc: 1.000000, valid loss: 0.940812, valid acc: 0.691895\n",
      "\n",
      "time taken: 4.193059682846069\n",
      "epoch: 23, training loss: 0.002190, training acc: 1.000000, valid loss: 0.951786, valid acc: 0.691406\n",
      "\n",
      "epoch: 24, pass acc: 0.691895, current acc: 0.692383\n",
      "time taken: 4.197826385498047\n",
      "epoch: 24, training loss: 0.001964, training acc: 1.000000, valid loss: 0.962869, valid acc: 0.692383\n",
      "\n",
      "epoch: 25, pass acc: 0.692383, current acc: 0.692871\n",
      "time taken: 4.202552556991577\n",
      "epoch: 25, training loss: 0.001767, training acc: 1.000000, valid loss: 0.973075, valid acc: 0.692871\n",
      "\n",
      "epoch: 26, pass acc: 0.692871, current acc: 0.693848\n",
      "time taken: 4.195209264755249\n",
      "epoch: 26, training loss: 0.001595, training acc: 1.000000, valid loss: 0.983349, valid acc: 0.693848\n",
      "\n",
      "epoch: 27, pass acc: 0.693848, current acc: 0.694824\n",
      "time taken: 4.197529315948486\n",
      "epoch: 27, training loss: 0.001444, training acc: 1.000000, valid loss: 0.993499, valid acc: 0.694824\n",
      "\n",
      "time taken: 4.208567380905151\n",
      "epoch: 28, training loss: 0.001312, training acc: 1.000000, valid loss: 1.003007, valid acc: 0.694824\n",
      "\n",
      "epoch: 29, pass acc: 0.694824, current acc: 0.696289\n",
      "time taken: 4.195943832397461\n",
      "epoch: 29, training loss: 0.001197, training acc: 1.000000, valid loss: 1.012763, valid acc: 0.696289\n",
      "\n",
      "epoch: 30, pass acc: 0.696289, current acc: 0.696777\n",
      "time taken: 4.19584321975708\n",
      "epoch: 30, training loss: 0.001095, training acc: 1.000000, valid loss: 1.022055, valid acc: 0.696777\n",
      "\n",
      "time taken: 4.2109291553497314\n",
      "epoch: 31, training loss: 0.001003, training acc: 1.000000, valid loss: 1.031185, valid acc: 0.696777\n",
      "\n",
      "epoch: 32, pass acc: 0.696777, current acc: 0.698242\n",
      "time taken: 4.208397388458252\n",
      "epoch: 32, training loss: 0.000922, training acc: 1.000000, valid loss: 1.040330, valid acc: 0.698242\n",
      "\n",
      "epoch: 33, pass acc: 0.698242, current acc: 0.698730\n",
      "time taken: 4.196845293045044\n",
      "epoch: 33, training loss: 0.000849, training acc: 1.000000, valid loss: 1.049221, valid acc: 0.698730\n",
      "\n",
      "epoch: 34, pass acc: 0.698730, current acc: 0.699219\n",
      "time taken: 4.195096731185913\n",
      "epoch: 34, training loss: 0.000783, training acc: 1.000000, valid loss: 1.057926, valid acc: 0.699219\n",
      "\n",
      "epoch: 35, pass acc: 0.699219, current acc: 0.699707\n",
      "time taken: 4.1973488330841064\n",
      "epoch: 35, training loss: 0.000724, training acc: 1.000000, valid loss: 1.066390, valid acc: 0.699707\n",
      "\n",
      "epoch: 36, pass acc: 0.699707, current acc: 0.700195\n",
      "time taken: 4.194648265838623\n",
      "epoch: 36, training loss: 0.000671, training acc: 1.000000, valid loss: 1.075036, valid acc: 0.700195\n",
      "\n",
      "epoch: 37, pass acc: 0.700195, current acc: 0.700684\n",
      "time taken: 4.197816610336304\n",
      "epoch: 37, training loss: 0.000622, training acc: 1.000000, valid loss: 1.083393, valid acc: 0.700684\n",
      "\n",
      "time taken: 4.196238994598389\n",
      "epoch: 38, training loss: 0.000578, training acc: 1.000000, valid loss: 1.091620, valid acc: 0.700195\n",
      "\n",
      "time taken: 4.217421054840088\n",
      "epoch: 39, training loss: 0.000538, training acc: 1.000000, valid loss: 1.099878, valid acc: 0.699707\n",
      "\n",
      "time taken: 4.2034478187561035\n",
      "epoch: 40, training loss: 0.000502, training acc: 1.000000, valid loss: 1.107878, valid acc: 0.699219\n",
      "\n",
      "time taken: 4.203038692474365\n",
      "epoch: 41, training loss: 0.000468, training acc: 1.000000, valid loss: 1.115822, valid acc: 0.699707\n",
      "\n",
      "time taken: 4.195186614990234\n",
      "epoch: 42, training loss: 0.000437, training acc: 1.000000, valid loss: 1.123781, valid acc: 0.699707\n",
      "\n",
      "break epoch:43\n",
      "\n"
     ]
    }
   ],
   "source": [
    "EARLY_STOPPING, CURRENT_CHECKPOINT, CURRENT_ACC, EPOCH = 5, 0, 0, 0\n",
    "while True:\n",
    "    lasttime = time.time()\n",
    "    if CURRENT_CHECKPOINT == EARLY_STOPPING:\n",
    "        print('break epoch:%d\\n'%(EPOCH))\n",
    "        break\n",
    "        \n",
    "    train_acc, train_loss, test_acc, test_loss = 0, 0, 0, 0\n",
    "    for i in range(0, (len(train_X) // batch_size) * batch_size, batch_size):\n",
    "        batch_x = str_idx(train_X[i:i+batch_size],dictionary,maxlen)\n",
    "        acc, loss, _ = sess.run([model.accuracy, model.cost, model.optimizer], \n",
    "                           feed_dict = {model.X : batch_x, model.Y : train_onehot[i:i+batch_size]})\n",
    "        train_loss += loss\n",
    "        train_acc += acc\n",
    "    \n",
    "    for i in range(0, (len(test_X) // batch_size) * batch_size, batch_size):\n",
    "        batch_x = str_idx(test_X[i:i+batch_size],dictionary,maxlen)\n",
    "        acc, loss = sess.run([model.accuracy, model.cost], \n",
    "                           feed_dict = {model.X : batch_x, model.Y : test_onehot[i:i+batch_size]})\n",
    "        test_loss += loss\n",
    "        test_acc += acc\n",
    "    \n",
    "    train_loss /= (len(train_X) // batch_size)\n",
    "    train_acc /= (len(train_X) // batch_size)\n",
    "    test_loss /= (len(test_X) // batch_size)\n",
    "    test_acc /= (len(test_X) // batch_size)\n",
    "    \n",
    "    if test_acc > CURRENT_ACC:\n",
    "        print('epoch: %d, pass acc: %f, current acc: %f'%(EPOCH,CURRENT_ACC, test_acc))\n",
    "        CURRENT_ACC = test_acc\n",
    "        CURRENT_CHECKPOINT = 0\n",
    "    else:\n",
    "        CURRENT_CHECKPOINT += 1\n",
    "        \n",
    "    print('time taken:', time.time()-lasttime)\n",
    "    print('epoch: %d, training loss: %f, training acc: %f, valid loss: %f, valid acc: %f\\n'%(EPOCH,train_loss,\n",
    "                                                                                          train_acc,test_loss,\n",
    "                                                                                          test_acc))\n",
    "    EPOCH += 1"
   ]
  },
  {
   "cell_type": "code",
   "execution_count": 12,
   "metadata": {},
   "outputs": [
    {
     "name": "stdout",
     "output_type": "stream",
     "text": [
      "              precision    recall  f1-score   support\n",
      "\n",
      "    negative       0.71      0.70      0.70      1084\n",
      "    positive       0.69      0.70      0.70      1049\n",
      "\n",
      "    accuracy                           0.70      2133\n",
      "   macro avg       0.70      0.70      0.70      2133\n",
      "weighted avg       0.70      0.70      0.70      2133\n",
      "\n"
     ]
    }
   ],
   "source": [
    "logits = sess.run(model.logits, feed_dict={model.X:str_idx(test_X,dictionary,maxlen)})\n",
    "print(metrics.classification_report(test_Y, np.argmax(logits,1), target_names = trainset.target_names))"
   ]
  },
  {
   "cell_type": "code",
   "execution_count": null,
   "metadata": {},
   "outputs": [],
   "source": []
  }
 ],
 "metadata": {
  "kernelspec": {
   "display_name": "Python 3",
   "language": "python",
   "name": "python3"
  },
  "language_info": {
   "codemirror_mode": {
    "name": "ipython",
    "version": 3
   },
   "file_extension": ".py",
   "mimetype": "text/x-python",
   "name": "python",
   "nbconvert_exporter": "python",
   "pygments_lexer": "ipython3",
   "version": "3.6.10"
  },
  "pycharm": {
   "stem_cell": {
    "cell_type": "raw",
    "metadata": {
     "collapsed": false
    },
    "source": []
   }
  }
 },
 "nbformat": 4,
 "nbformat_minor": 4
}
