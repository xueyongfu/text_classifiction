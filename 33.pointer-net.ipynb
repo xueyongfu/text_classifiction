{
 "cells": [
  {
   "cell_type": "code",
   "execution_count": 2,
   "metadata": {},
   "outputs": [],
   "source": [
    "from utils import *\n",
    "import tensorflow as tf\n",
    "from sklearn.model_selection import train_test_split\n",
    "import time"
   ]
  },
  {
   "cell_type": "code",
   "execution_count": 3,
   "metadata": {},
   "outputs": [
    {
     "name": "stdout",
     "output_type": "stream",
     "text": [
      "['negative', 'positive']\n",
      "10662\n",
      "10662\n"
     ]
    }
   ],
   "source": [
    "trainset = sklearn.datasets.load_files(container_path = 'data', encoding = 'UTF-8')\n",
    "trainset.data, trainset.target = separate_dataset(trainset,1.0)\n",
    "print (trainset.target_names)\n",
    "print (len(trainset.data))\n",
    "print (len(trainset.target))"
   ]
  },
  {
   "cell_type": "code",
   "execution_count": 4,
   "metadata": {},
   "outputs": [],
   "source": [
    "ONEHOT = np.zeros((len(trainset.data),len(trainset.target_names)))\n",
    "ONEHOT[np.arange(len(trainset.data)),trainset.target] = 1.0\n",
    "train_X, test_X, train_Y, test_Y, train_onehot, test_onehot = train_test_split(trainset.data, \n",
    "                                                                               trainset.target, \n",
    "                                                                               ONEHOT, test_size = 0.2)"
   ]
  },
  {
   "cell_type": "code",
   "execution_count": 5,
   "metadata": {},
   "outputs": [
    {
     "name": "stdout",
     "output_type": "stream",
     "text": [
      "vocab from size: 20332\n",
      "Most common words [('film', 1453), ('movie', 1270), ('one', 727), ('like', 721), ('story', 477), ('much', 386)]\n",
      "Sample data [475, 178, 154, 1951, 401, 657, 1641, 563, 849, 1517] ['thoughtful', 'moving', 'piece', 'faces', 'difficult', 'issues', 'honesty', 'beauty', 'red', 'dragon']\n"
     ]
    }
   ],
   "source": [
    "concat = ' '.join(trainset.data).split()\n",
    "vocabulary_size = len(list(set(concat)))\n",
    "data, count, dictionary, rev_dictionary = build_dataset(concat, vocabulary_size)\n",
    "print('vocab from size: %d'%(vocabulary_size))\n",
    "print('Most common words', count[4:10])\n",
    "print('Sample data', data[:10], [rev_dictionary[i] for i in data[:10]])"
   ]
  },
  {
   "cell_type": "code",
   "execution_count": 6,
   "metadata": {},
   "outputs": [],
   "source": [
    "GO = dictionary['GO']\n",
    "PAD = dictionary['PAD']\n",
    "EOS = dictionary['EOS']\n",
    "UNK = dictionary['UNK']"
   ]
  },
  {
   "cell_type": "code",
   "execution_count": 7,
   "metadata": {},
   "outputs": [],
   "source": [
    "class Model:\n",
    "    def __init__(self, size_layer, embedded_size, maxlen,\n",
    "                batch_size, dict_size, dimension_output, grad_clip=5.0):\n",
    "        \n",
    "        def cells(reuse=False):\n",
    "            return tf.nn.rnn_cell.GRUCell(size_layer,kernel_initializer=tf.orthogonal_initializer(),\n",
    "                                          reuse=reuse)\n",
    "        \n",
    "        self.X = tf.placeholder(tf.int32, [None, maxlen])\n",
    "        self.Y = tf.placeholder(tf.float32, [None, dimension_output])\n",
    "        encoder_embeddings = tf.Variable(tf.random_uniform([dict_size, embedded_size], -1, 1))\n",
    "        encoder_embedded = tf.nn.embedding_lookup(encoder_embeddings, self.X)\n",
    "        enc_rnn_out, enc_state = tf.nn.dynamic_rnn(cell = cells(), \n",
    "                                                   inputs = encoder_embedded,\n",
    "                                                   dtype = tf.float32)\n",
    "        def loop_fn(state, masks):\n",
    "            query = tf.expand_dims(state, -1)\n",
    "            align = tf.squeeze(tf.matmul(enc_rnn_out, query), -1)\n",
    "            return (align * masks)\n",
    "        \n",
    "        def point(idx):\n",
    "            idx = tf.expand_dims(idx, 1)\n",
    "            b = tf.expand_dims(tf.range(batch_size),1)\n",
    "            c = tf.concat((tf.to_int64(b), idx), 1)\n",
    "            return tf.gather_nd(encoder_embedded, c)\n",
    "        \n",
    "        starts = tf.fill([batch_size], GO)\n",
    "        inp = tf.nn.embedding_lookup(encoder_embeddings, starts)\n",
    "        masks = tf.to_float(tf.sign(self.X))\n",
    "        outputs = []\n",
    "        cell = cells()\n",
    "        for i in range(maxlen):\n",
    "            _, state = cell(inp, enc_state)\n",
    "            output = loop_fn(state, masks)\n",
    "            outputs.append(output)\n",
    "            idx = tf.argmax(output, -1)\n",
    "            inp = point(idx)\n",
    "        outputs = tf.stack(outputs, 1)\n",
    "        self.logits = tf.layers.dense(outputs,dimension_output)[:,-1]\n",
    "        self.cost = tf.reduce_mean(tf.nn.softmax_cross_entropy_with_logits(logits = self.logits, labels = self.Y))\n",
    "        params = tf.trainable_variables()\n",
    "        gradients = tf.gradients(self.cost, params)\n",
    "        clipped_gradients, _ = tf.clip_by_global_norm(gradients, grad_clip)\n",
    "        self.optimizer = tf.train.AdamOptimizer().apply_gradients(zip(clipped_gradients, params))\n",
    "        correct_pred = tf.equal(tf.argmax(self.logits, 1), tf.argmax(self.Y, 1))\n",
    "        self.accuracy = tf.reduce_mean(tf.cast(correct_pred, tf.float32))"
   ]
  },
  {
   "cell_type": "code",
   "execution_count": 8,
   "metadata": {},
   "outputs": [],
   "source": [
    "size_layer = 128\n",
    "embedded_size = 128\n",
    "dimension_output = len(trainset.target_names)\n",
    "learning_rate = 1e-3\n",
    "maxlen = 50\n",
    "batch_size = 128"
   ]
  },
  {
   "cell_type": "code",
   "execution_count": 9,
   "metadata": {},
   "outputs": [
    {
     "name": "stdout",
     "output_type": "stream",
     "text": [
      "WARNING:tensorflow:From <ipython-input-7-f9d86fd2ec38>:40: softmax_cross_entropy_with_logits (from tensorflow.python.ops.nn_ops) is deprecated and will be removed in a future version.\n",
      "Instructions for updating:\n",
      "\n",
      "Future major versions of TensorFlow will allow gradients to flow\n",
      "into the labels input on backprop by default.\n",
      "\n",
      "See `tf.nn.softmax_cross_entropy_with_logits_v2`.\n",
      "\n"
     ]
    }
   ],
   "source": [
    "tf.reset_default_graph()\n",
    "sess = tf.InteractiveSession()\n",
    "model = Model(size_layer,embedded_size,maxlen,\n",
    "              batch_size,vocabulary_size+4,dimension_output)\n",
    "sess.run(tf.global_variables_initializer())"
   ]
  },
  {
   "cell_type": "code",
   "execution_count": 10,
   "metadata": {},
   "outputs": [
    {
     "name": "stdout",
     "output_type": "stream",
     "text": [
      "epoch: 0, pass acc: 0.000000, current acc: 0.481445\n",
      "time taken: 12.480985403060913\n",
      "epoch: 0, training loss: 0.704067, training acc: 0.504380, valid loss: 0.706901, valid acc: 0.481445\n",
      "\n",
      "epoch: 1, pass acc: 0.481445, current acc: 0.494629\n",
      "time taken: 10.60092806816101\n",
      "epoch: 1, training loss: 0.623109, training acc: 0.712358, valid loss: 0.725177, valid acc: 0.494629\n",
      "\n",
      "epoch: 2, pass acc: 0.494629, current acc: 0.507812\n",
      "time taken: 9.394126892089844\n",
      "epoch: 2, training loss: 0.486933, training acc: 0.823390, valid loss: 0.804807, valid acc: 0.507812\n",
      "\n",
      "epoch: 3, pass acc: 0.507812, current acc: 0.512207\n",
      "time taken: 8.065636157989502\n",
      "epoch: 3, training loss: 0.275394, training acc: 0.912287, valid loss: 1.017430, valid acc: 0.512207\n",
      "\n",
      "time taken: 7.933789491653442\n",
      "epoch: 4, training loss: 0.117270, training acc: 0.953598, valid loss: 1.278871, valid acc: 0.512207\n",
      "\n",
      "epoch: 5, pass acc: 0.512207, current acc: 0.521973\n",
      "time taken: 7.678315162658691\n",
      "epoch: 5, training loss: 0.053048, training acc: 0.980232, valid loss: 1.448391, valid acc: 0.521973\n",
      "\n",
      "time taken: 7.883394002914429\n",
      "epoch: 6, training loss: 0.030643, training acc: 0.993016, valid loss: 1.654313, valid acc: 0.512207\n",
      "\n",
      "time taken: 8.11045217514038\n",
      "epoch: 7, training loss: 0.019081, training acc: 0.996330, valid loss: 1.791600, valid acc: 0.515137\n",
      "\n",
      "time taken: 8.165419816970825\n",
      "epoch: 8, training loss: 0.012860, training acc: 0.997633, valid loss: 1.846472, valid acc: 0.510254\n",
      "\n",
      "time taken: 8.063627243041992\n",
      "epoch: 9, training loss: 0.009821, training acc: 0.998106, valid loss: 1.911863, valid acc: 0.502930\n",
      "\n",
      "time taken: 7.870686769485474\n",
      "epoch: 10, training loss: 0.006107, training acc: 0.998816, valid loss: 1.989575, valid acc: 0.509766\n",
      "\n",
      "break epoch:11\n",
      "\n"
     ]
    }
   ],
   "source": [
    "EARLY_STOPPING, CURRENT_CHECKPOINT, CURRENT_ACC, EPOCH = 5, 0, 0, 0\n",
    "while True:\n",
    "    lasttime = time.time()\n",
    "    if CURRENT_CHECKPOINT == EARLY_STOPPING:\n",
    "        print('break epoch:%d\\n'%(EPOCH))\n",
    "        break\n",
    "        \n",
    "    train_acc, train_loss, test_acc, test_loss = 0, 0, 0, 0\n",
    "    for i in range(0, (len(train_X) // batch_size) * batch_size, batch_size):\n",
    "        batch_x = str_idx(train_X[i:i+batch_size],dictionary,maxlen)\n",
    "        acc, loss, _ = sess.run([model.accuracy, model.cost, model.optimizer], \n",
    "                           feed_dict = {model.X : batch_x, model.Y : train_onehot[i:i+batch_size]})\n",
    "        train_loss += loss\n",
    "        train_acc += acc\n",
    "    \n",
    "    for i in range(0, (len(test_X) // batch_size) * batch_size, batch_size):\n",
    "        batch_x = str_idx(test_X[i:i+batch_size],dictionary,maxlen)\n",
    "        acc, loss = sess.run([model.accuracy, model.cost], \n",
    "                           feed_dict = {model.X : batch_x, model.Y : test_onehot[i:i+batch_size]})\n",
    "        test_loss += loss\n",
    "        test_acc += acc\n",
    "    \n",
    "    train_loss /= (len(train_X) // batch_size)\n",
    "    train_acc /= (len(train_X) // batch_size)\n",
    "    test_loss /= (len(test_X) // batch_size)\n",
    "    test_acc /= (len(test_X) // batch_size)\n",
    "    \n",
    "    if test_acc > CURRENT_ACC:\n",
    "        print('epoch: %d, pass acc: %f, current acc: %f'%(EPOCH,CURRENT_ACC, test_acc))\n",
    "        CURRENT_ACC = test_acc\n",
    "        CURRENT_CHECKPOINT = 0\n",
    "    else:\n",
    "        CURRENT_CHECKPOINT += 1\n",
    "        \n",
    "    print('time taken:', time.time()-lasttime)\n",
    "    print('epoch: %d, training loss: %f, training acc: %f, valid loss: %f, valid acc: %f\\n'%(EPOCH,train_loss,\n",
    "                                                                                          train_acc,test_loss,\n",
    "                                                                                          test_acc))\n",
    "    EPOCH += 1"
   ]
  },
  {
   "cell_type": "code",
   "execution_count": null,
   "metadata": {},
   "outputs": [],
   "source": []
  },
  {
   "cell_type": "code",
   "execution_count": null,
   "metadata": {},
   "outputs": [],
   "source": []
  }
 ],
 "metadata": {
  "kernelspec": {
   "display_name": "Python 3",
   "language": "python",
   "name": "python3"
  },
  "language_info": {
   "codemirror_mode": {
    "name": "ipython",
    "version": 3
   },
   "file_extension": ".py",
   "mimetype": "text/x-python",
   "name": "python",
   "nbconvert_exporter": "python",
   "pygments_lexer": "ipython3",
   "version": "3.6.10"
  }
 },
 "nbformat": 4,
 "nbformat_minor": 4
}
