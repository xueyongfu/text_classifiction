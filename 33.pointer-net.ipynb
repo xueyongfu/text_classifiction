{
 "cells": [
  {
   "cell_type": "code",
   "execution_count": 1,
   "metadata": {},
   "outputs": [
    {
     "name": "stderr",
     "output_type": "stream",
     "text": [
      "/usr/local/lib/python3.5/dist-packages/h5py/__init__.py:36: FutureWarning: Conversion of the second argument of issubdtype from `float` to `np.floating` is deprecated. In future, it will be treated as `np.float64 == np.dtype(float).type`.\n",
      "  from ._conv import register_converters as _register_converters\n",
      "/usr/local/lib/python3.5/dist-packages/sklearn/cross_validation.py:41: DeprecationWarning: This module was deprecated in version 0.18 in favor of the model_selection module into which all the refactored classes and functions are moved. Also note that the interface of the new CV iterators are different from that of this module. This module will be removed in 0.20.\n",
      "  \"This module will be removed in 0.20.\", DeprecationWarning)\n"
     ]
    }
   ],
   "source": [
    "from utils import *\n",
    "import tensorflow as tf\n",
    "from sklearn.cross_validation import train_test_split\n",
    "import time"
   ]
  },
  {
   "cell_type": "code",
   "execution_count": 2,
   "metadata": {},
   "outputs": [
    {
     "name": "stdout",
     "output_type": "stream",
     "text": [
      "['negative', 'positive']\n",
      "10662\n",
      "10662\n"
     ]
    }
   ],
   "source": [
    "trainset = sklearn.datasets.load_files(container_path = 'data', encoding = 'UTF-8')\n",
    "trainset.data, trainset.target = separate_dataset(trainset,1.0)\n",
    "print (trainset.target_names)\n",
    "print (len(trainset.data))\n",
    "print (len(trainset.target))"
   ]
  },
  {
   "cell_type": "code",
   "execution_count": 3,
   "metadata": {},
   "outputs": [],
   "source": [
    "ONEHOT = np.zeros((len(trainset.data),len(trainset.target_names)))\n",
    "ONEHOT[np.arange(len(trainset.data)),trainset.target] = 1.0\n",
    "train_X, test_X, train_Y, test_Y, train_onehot, test_onehot = train_test_split(trainset.data, \n",
    "                                                                               trainset.target, \n",
    "                                                                               ONEHOT, test_size = 0.2)"
   ]
  },
  {
   "cell_type": "code",
   "execution_count": 4,
   "metadata": {},
   "outputs": [
    {
     "name": "stdout",
     "output_type": "stream",
     "text": [
      "vocab from size: 20465\n",
      "Most common words [('the', 10129), ('a', 7312), ('and', 6199), ('of', 6063), ('to', 4233), ('is', 3378)]\n",
      "Sample data [4, 666, 9, 2834, 8, 22, 4, 3605, 13927, 98] ['the', 'rock', 'is', 'destined', 'to', 'be', 'the', '21st', 'centurys', 'new']\n"
     ]
    }
   ],
   "source": [
    "concat = ' '.join(trainset.data).split()\n",
    "vocabulary_size = len(list(set(concat)))\n",
    "data, count, dictionary, rev_dictionary = build_dataset(concat, vocabulary_size)\n",
    "print('vocab from size: %d'%(vocabulary_size))\n",
    "print('Most common words', count[4:10])\n",
    "print('Sample data', data[:10], [rev_dictionary[i] for i in data[:10]])"
   ]
  },
  {
   "cell_type": "code",
   "execution_count": 5,
   "metadata": {},
   "outputs": [],
   "source": [
    "GO = dictionary['GO']\n",
    "PAD = dictionary['PAD']\n",
    "EOS = dictionary['EOS']\n",
    "UNK = dictionary['UNK']"
   ]
  },
  {
   "cell_type": "code",
   "execution_count": 6,
   "metadata": {},
   "outputs": [],
   "source": [
    "class Model:\n",
    "    def __init__(self, size_layer, embedded_size, maxlen,\n",
    "                batch_size, dict_size, dimension_output, grad_clip=5.0):\n",
    "        \n",
    "        def cells(reuse=False):\n",
    "            return tf.nn.rnn_cell.GRUCell(size_layer,kernel_initializer=tf.orthogonal_initializer(),\n",
    "                                          reuse=reuse)\n",
    "        \n",
    "        self.X = tf.placeholder(tf.int32, [None, maxlen])\n",
    "        self.Y = tf.placeholder(tf.float32, [None, dimension_output])\n",
    "        encoder_embeddings = tf.Variable(tf.random_uniform([dict_size, embedded_size], -1, 1))\n",
    "        encoder_embedded = tf.nn.embedding_lookup(encoder_embeddings, self.X)\n",
    "        enc_rnn_out, enc_state = tf.nn.dynamic_rnn(cell = cells(), \n",
    "                                                   inputs = encoder_embedded,\n",
    "                                                   dtype = tf.float32)\n",
    "        def loop_fn(state, masks):\n",
    "            query = tf.expand_dims(state, -1)\n",
    "            align = tf.squeeze(tf.matmul(enc_rnn_out, query), -1)\n",
    "            return (align * masks)\n",
    "        \n",
    "        def point(idx):\n",
    "            idx = tf.expand_dims(idx, 1)\n",
    "            b = tf.expand_dims(tf.range(batch_size),1)\n",
    "            c = tf.concat((tf.to_int64(b), idx), 1)\n",
    "            return tf.gather_nd(encoder_embedded, c)\n",
    "        \n",
    "        starts = tf.fill([batch_size], GO)\n",
    "        inp = tf.nn.embedding_lookup(encoder_embeddings, starts)\n",
    "        masks = tf.to_float(tf.sign(self.X))\n",
    "        outputs = []\n",
    "        cell = cells()\n",
    "        for i in range(maxlen):\n",
    "            _, state = cell(inp, enc_state)\n",
    "            output = loop_fn(state, masks)\n",
    "            outputs.append(output)\n",
    "            idx = tf.argmax(output, -1)\n",
    "            inp = point(idx)\n",
    "        outputs = tf.stack(outputs, 1)\n",
    "        self.logits = tf.layers.dense(outputs,dimension_output)[:,-1]\n",
    "        self.cost = tf.reduce_mean(tf.nn.softmax_cross_entropy_with_logits(logits = self.logits, labels = self.Y))\n",
    "        params = tf.trainable_variables()\n",
    "        gradients = tf.gradients(self.cost, params)\n",
    "        clipped_gradients, _ = tf.clip_by_global_norm(gradients, grad_clip)\n",
    "        self.optimizer = tf.train.AdamOptimizer().apply_gradients(zip(clipped_gradients, params))\n",
    "        correct_pred = tf.equal(tf.argmax(self.logits, 1), tf.argmax(self.Y, 1))\n",
    "        self.accuracy = tf.reduce_mean(tf.cast(correct_pred, tf.float32))"
   ]
  },
  {
   "cell_type": "code",
   "execution_count": 7,
   "metadata": {},
   "outputs": [],
   "source": [
    "size_layer = 128\n",
    "embedded_size = 128\n",
    "dimension_output = len(trainset.target_names)\n",
    "learning_rate = 1e-3\n",
    "maxlen = 50\n",
    "batch_size = 128"
   ]
  },
  {
   "cell_type": "code",
   "execution_count": 8,
   "metadata": {},
   "outputs": [],
   "source": [
    "tf.reset_default_graph()\n",
    "sess = tf.InteractiveSession()\n",
    "model = Model(size_layer,embedded_size,maxlen,\n",
    "              batch_size,vocabulary_size+4,dimension_output)\n",
    "sess.run(tf.global_variables_initializer())"
   ]
  },
  {
   "cell_type": "code",
   "execution_count": 9,
   "metadata": {},
   "outputs": [
    {
     "name": "stdout",
     "output_type": "stream",
     "text": [
      "epoch: 0, pass acc: 0.000000, current acc: 0.492188\n",
      "time taken: 11.403055429458618\n",
      "epoch: 0, training loss: 0.812980, training acc: 0.504261, valid loss: 0.729203, valid acc: 0.492188\n",
      "\n",
      "epoch: 1, pass acc: 0.492188, current acc: 0.494141\n",
      "time taken: 10.927583456039429\n",
      "epoch: 1, training loss: 0.647366, training acc: 0.604048, valid loss: 0.719738, valid acc: 0.494141\n",
      "\n",
      "epoch: 2, pass acc: 0.494141, current acc: 0.495605\n",
      "time taken: 11.873044490814209\n",
      "epoch: 2, training loss: 0.556725, training acc: 0.751894, valid loss: 0.750480, valid acc: 0.495605\n",
      "\n",
      "epoch: 3, pass acc: 0.495605, current acc: 0.499023\n",
      "time taken: 26.222250938415527\n",
      "epoch: 3, training loss: 0.408614, training acc: 0.856534, valid loss: 0.855179, valid acc: 0.499023\n",
      "\n",
      "epoch: 4, pass acc: 0.499023, current acc: 0.501953\n",
      "time taken: 30.78032660484314\n",
      "epoch: 4, training loss: 0.238832, training acc: 0.928622, valid loss: 1.072518, valid acc: 0.501953\n",
      "\n",
      "time taken: 31.080484867095947\n",
      "epoch: 5, training loss: 0.119922, training acc: 0.963305, valid loss: 1.338436, valid acc: 0.494629\n",
      "\n",
      "time taken: 30.96170425415039\n",
      "epoch: 6, training loss: 0.062957, training acc: 0.984848, valid loss: 1.595093, valid acc: 0.491211\n",
      "\n",
      "epoch: 7, pass acc: 0.501953, current acc: 0.505371\n",
      "time taken: 31.462810516357422\n",
      "epoch: 7, training loss: 0.038914, training acc: 0.992306, valid loss: 1.740271, valid acc: 0.505371\n",
      "\n",
      "time taken: 31.064446926116943\n",
      "epoch: 8, training loss: 0.022673, training acc: 0.995975, valid loss: 1.756473, valid acc: 0.504883\n",
      "\n",
      "epoch: 9, pass acc: 0.505371, current acc: 0.511719\n",
      "time taken: 31.105403184890747\n",
      "epoch: 9, training loss: 0.017119, training acc: 0.997514, valid loss: 1.784238, valid acc: 0.511719\n",
      "\n",
      "time taken: 25.47267770767212\n",
      "epoch: 10, training loss: 0.009901, training acc: 0.998343, valid loss: 1.894546, valid acc: 0.510254\n",
      "\n",
      "time taken: 15.558095932006836\n",
      "epoch: 11, training loss: 0.007737, training acc: 0.998461, valid loss: 2.018286, valid acc: 0.503418\n",
      "\n",
      "time taken: 15.52548336982727\n",
      "epoch: 12, training loss: 0.005734, training acc: 0.999053, valid loss: 2.041842, valid acc: 0.506836\n",
      "\n",
      "time taken: 15.354546070098877\n",
      "epoch: 13, training loss: 0.006102, training acc: 0.998698, valid loss: 2.087451, valid acc: 0.509766\n",
      "\n",
      "time taken: 15.371456146240234\n",
      "epoch: 14, training loss: 0.004968, training acc: 0.999053, valid loss: 2.153076, valid acc: 0.508301\n",
      "\n",
      "break epoch:15\n",
      "\n"
     ]
    }
   ],
   "source": [
    "EARLY_STOPPING, CURRENT_CHECKPOINT, CURRENT_ACC, EPOCH = 5, 0, 0, 0\n",
    "while True:\n",
    "    lasttime = time.time()\n",
    "    if CURRENT_CHECKPOINT == EARLY_STOPPING:\n",
    "        print('break epoch:%d\\n'%(EPOCH))\n",
    "        break\n",
    "        \n",
    "    train_acc, train_loss, test_acc, test_loss = 0, 0, 0, 0\n",
    "    for i in range(0, (len(train_X) // batch_size) * batch_size, batch_size):\n",
    "        batch_x = str_idx(train_X[i:i+batch_size],dictionary,maxlen)\n",
    "        acc, loss, _ = sess.run([model.accuracy, model.cost, model.optimizer], \n",
    "                           feed_dict = {model.X : batch_x, model.Y : train_onehot[i:i+batch_size]})\n",
    "        train_loss += loss\n",
    "        train_acc += acc\n",
    "    \n",
    "    for i in range(0, (len(test_X) // batch_size) * batch_size, batch_size):\n",
    "        batch_x = str_idx(test_X[i:i+batch_size],dictionary,maxlen)\n",
    "        acc, loss = sess.run([model.accuracy, model.cost], \n",
    "                           feed_dict = {model.X : batch_x, model.Y : test_onehot[i:i+batch_size]})\n",
    "        test_loss += loss\n",
    "        test_acc += acc\n",
    "    \n",
    "    train_loss /= (len(train_X) // batch_size)\n",
    "    train_acc /= (len(train_X) // batch_size)\n",
    "    test_loss /= (len(test_X) // batch_size)\n",
    "    test_acc /= (len(test_X) // batch_size)\n",
    "    \n",
    "    if test_acc > CURRENT_ACC:\n",
    "        print('epoch: %d, pass acc: %f, current acc: %f'%(EPOCH,CURRENT_ACC, test_acc))\n",
    "        CURRENT_ACC = test_acc\n",
    "        CURRENT_CHECKPOINT = 0\n",
    "    else:\n",
    "        CURRENT_CHECKPOINT += 1\n",
    "        \n",
    "    print('time taken:', time.time()-lasttime)\n",
    "    print('epoch: %d, training loss: %f, training acc: %f, valid loss: %f, valid acc: %f\\n'%(EPOCH,train_loss,\n",
    "                                                                                          train_acc,test_loss,\n",
    "                                                                                          test_acc))\n",
    "    EPOCH += 1"
   ]
  }
 ],
 "metadata": {
  "kernelspec": {
   "display_name": "Python 3",
   "language": "python",
   "name": "python3"
  },
  "language_info": {
   "codemirror_mode": {
    "name": "ipython",
    "version": 3
   },
   "file_extension": ".py",
   "mimetype": "text/x-python",
   "name": "python",
   "nbconvert_exporter": "python",
   "pygments_lexer": "ipython3",
   "version": "3.5.2"
  }
 },
 "nbformat": 4,
 "nbformat_minor": 2
}
