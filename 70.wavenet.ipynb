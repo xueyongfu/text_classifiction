{
 "cells": [
  {
   "cell_type": "code",
   "execution_count": 1,
   "metadata": {},
   "outputs": [
    {
     "name": "stderr",
     "output_type": "stream",
     "text": [
      "/home/husein/.local/lib/python3.6/site-packages/sklearn/cross_validation.py:41: DeprecationWarning: This module was deprecated in version 0.18 in favor of the model_selection module into which all the refactored classes and functions are moved. Also note that the interface of the new CV iterators are different from that of this module. This module will be removed in 0.20.\n",
      "  \"This module will be removed in 0.20.\", DeprecationWarning)\n"
     ]
    }
   ],
   "source": [
    "from utils import *\n",
    "from sklearn.cross_validation import train_test_split\n",
    "import time"
   ]
  },
  {
   "cell_type": "code",
   "execution_count": 2,
   "metadata": {},
   "outputs": [
    {
     "name": "stdout",
     "output_type": "stream",
     "text": [
      "['negative', 'positive']\n",
      "10662\n",
      "10662\n"
     ]
    }
   ],
   "source": [
    "trainset = sklearn.datasets.load_files(container_path = 'data', encoding = 'UTF-8')\n",
    "trainset.data, trainset.target = separate_dataset(trainset,1.0)\n",
    "print (trainset.target_names)\n",
    "print (len(trainset.data))\n",
    "print (len(trainset.target))"
   ]
  },
  {
   "cell_type": "code",
   "execution_count": 3,
   "metadata": {},
   "outputs": [
    {
     "name": "stdout",
     "output_type": "stream",
     "text": [
      "vocab from size: 20332\n",
      "Most common words [('film', 1453), ('movie', 1270), ('one', 727), ('like', 721), ('story', 477), ('much', 386)]\n",
      "Sample data [657, 3117, 2165, 25, 4373, 352, 635, 10158, 366, 103] ['touch', 'haneke', 'challenges', 'us', 'confront', 'reality', 'sexual', 'aberration', 'remains', 'seen']\n"
     ]
    }
   ],
   "source": [
    "concat = ' '.join(trainset.data).split()\n",
    "vocabulary_size = len(list(set(concat)))\n",
    "data, count, dictionary, rev_dictionary = build_dataset(concat, vocabulary_size)\n",
    "print('vocab from size: %d'%(vocabulary_size))\n",
    "print('Most common words', count[4:10])\n",
    "print('Sample data', data[:10], [rev_dictionary[i] for i in data[:10]])"
   ]
  },
  {
   "cell_type": "code",
   "execution_count": 4,
   "metadata": {},
   "outputs": [],
   "source": [
    "GO = dictionary['GO']\n",
    "PAD = dictionary['PAD']\n",
    "EOS = dictionary['EOS']\n",
    "UNK = dictionary['UNK']"
   ]
  },
  {
   "cell_type": "code",
   "execution_count": 5,
   "metadata": {},
   "outputs": [],
   "source": [
    "import tensorflow as tf"
   ]
  },
  {
   "cell_type": "code",
   "execution_count": 6,
   "metadata": {},
   "outputs": [],
   "source": [
    "def embed_seq(x, vocab_sz, embed_dim, name, zero_pad=True): \n",
    "    embedding = tf.get_variable(name, [vocab_sz, embed_dim]) \n",
    "    if zero_pad:\n",
    "        embedding = tf.concat([tf.zeros([1, embed_dim]), embedding[1:, :]], 0) \n",
    "    x = tf.nn.embedding_lookup(embedding, x)\n",
    "    return x\n",
    "\n",
    "def position_encoding(inputs):\n",
    "    T = tf.shape(inputs)[1]\n",
    "    repr_dim = inputs.get_shape()[-1].value\n",
    "    pos = tf.reshape(tf.range(0.0, tf.to_float(T), dtype=tf.float32), [-1, 1])\n",
    "    i = np.arange(0, repr_dim, 2, np.float32)\n",
    "    denom = np.reshape(np.power(10000.0, i / repr_dim), [1, -1])\n",
    "    enc = tf.expand_dims(tf.concat([tf.sin(pos / denom), tf.cos(pos / denom)], 1), 0)\n",
    "    return tf.tile(enc, [tf.shape(inputs)[0], 1, 1])\n",
    "\n",
    "def layer_norm(inputs, epsilon=1e-8):\n",
    "    mean, variance = tf.nn.moments(inputs, [-1], keep_dims=True)\n",
    "    normalized = (inputs - mean) / (tf.sqrt(variance + epsilon))\n",
    "    params_shape = inputs.get_shape()[-1:]\n",
    "    gamma = tf.get_variable('gamma', params_shape, tf.float32, tf.ones_initializer())\n",
    "    beta = tf.get_variable('beta', params_shape, tf.float32, tf.zeros_initializer())\n",
    "    return gamma * normalized + beta\n",
    "\n",
    "\n",
    "def cnn_block(x, dilation_rate, pad_sz, hidden_dim, kernel_size, activation):\n",
    "    x = layer_norm(x)\n",
    "    pad = tf.zeros([tf.shape(x)[0], pad_sz, hidden_dim])\n",
    "    x =  tf.layers.conv1d(inputs = tf.concat([pad, x, pad], 1),\n",
    "                          filters = hidden_dim,\n",
    "                          kernel_size = kernel_size,\n",
    "                          dilation_rate = dilation_rate,\n",
    "                          activation = activation)\n",
    "    x = x[:, :-pad_sz, :]\n",
    "    return x\n",
    "\n",
    "class Model:\n",
    "    def __init__(self, dict_size, dimension_output, size_layer, num_layers, kernel_size = 7):\n",
    "        self.X = tf.placeholder(tf.int32, [None, None])\n",
    "        self.Y = tf.placeholder(tf.int32, [None])\n",
    "        self.training = tf.placeholder(tf.bool, None)\n",
    "        x = self.X\n",
    "        \n",
    "        with tf.variable_scope('embed'):\n",
    "            x = embed_seq(x, dict_size, size_layer, 'word')\n",
    "        x += position_encoding(x)\n",
    "        \n",
    "        def residual_block(x, size, rate, block):\n",
    "            with tf.variable_scope('block_%d_%d' % (block, rate), reuse = False):\n",
    "                pad_sz = (size - 1) * rate\n",
    "                with tf.variable_scope('block_tanh'):\n",
    "                    conv_filter = cnn_block(x, rate, pad_sz, x.shape[2], size, tf.nn.tanh)\n",
    "                with tf.variable_scope('block_sigmoid'):\n",
    "                    conv_gate = cnn_block(x, rate, pad_sz, x.shape[2], size, tf.nn.sigmoid)\n",
    "                out = tf.multiply(conv_filter, conv_gate)\n",
    "                out = tf.layers.dropout(out, 0.2, training=self.training) \n",
    "                with tf.variable_scope('block_out'):\n",
    "                    out = layer_norm(out)\n",
    "                    out = tf.layers.conv1d(\n",
    "                        out,\n",
    "                        size_layer,\n",
    "                        kernel_size = 1,\n",
    "                        strides = 1,\n",
    "                        padding = 'same',\n",
    "                        activation = tf.nn.tanh,\n",
    "                    )\n",
    "                return tf.add(x, out), out\n",
    "            \n",
    "        forward = tf.layers.conv1d(x, size_layer, kernel_size = 1, strides = 1, padding = 'SAME')\n",
    "        zeros = tf.zeros_like(forward)\n",
    "        for i in range(num_layers):\n",
    "            for r in [1, 2, 4, 8, 16]:\n",
    "                forward, s = residual_block(forward, size=kernel_size, rate=r, block=i)\n",
    "                zeros = tf.add(zeros,s)\n",
    "        zeros = layer_norm(zeros)\n",
    "        self.logits = tf.layers.dense(zeros[:,-1], dimension_output)\n",
    "        self.cost = tf.reduce_mean(\n",
    "            tf.nn.sparse_softmax_cross_entropy_with_logits(\n",
    "                logits = self.logits, labels = self.Y\n",
    "            )\n",
    "        )\n",
    "        self.optimizer = tf.train.AdamOptimizer(\n",
    "            learning_rate = learning_rate\n",
    "        ).minimize(self.cost)\n",
    "        correct_pred = tf.equal(\n",
    "            tf.argmax(self.logits, 1, output_type = tf.int32), self.Y\n",
    "        )\n",
    "        self.accuracy = tf.reduce_mean(tf.cast(correct_pred, tf.float32))"
   ]
  },
  {
   "cell_type": "code",
   "execution_count": 7,
   "metadata": {},
   "outputs": [],
   "source": [
    "maxlen = 500\n",
    "size_layer = 128\n",
    "num_layers = 2\n",
    "learning_rate = 1e-4\n",
    "batch_size = 32"
   ]
  },
  {
   "cell_type": "code",
   "execution_count": 8,
   "metadata": {},
   "outputs": [],
   "source": [
    "tf.reset_default_graph()\n",
    "sess = tf.InteractiveSession()\n",
    "model = Model(len(dictionary),len(trainset.target_names),size_layer,num_layers)\n",
    "sess.run(tf.global_variables_initializer())"
   ]
  },
  {
   "cell_type": "code",
   "execution_count": 9,
   "metadata": {},
   "outputs": [],
   "source": [
    "vectors = str_idx(trainset.data,dictionary,maxlen)\n",
    "train_X, test_X, train_Y, test_Y = train_test_split(vectors, trainset.target,test_size = 0.2)"
   ]
  },
  {
   "cell_type": "code",
   "execution_count": 10,
   "metadata": {},
   "outputs": [
    {
     "name": "stderr",
     "output_type": "stream",
     "text": [
      "train minibatch loop: 100%|██████████| 267/267 [01:36<00:00,  2.43it/s, accuracy=0.529, cost=0.797]\n",
      "test minibatch loop: 100%|██████████| 67/67 [00:06<00:00,  8.66it/s, accuracy=0.333, cost=0.757]\n",
      "train minibatch loop:   0%|          | 0/267 [00:00<?, ?it/s]"
     ]
    },
    {
     "name": "stdout",
     "output_type": "stream",
     "text": [
      "epoch: 0, pass acc: 0.000000, current acc: 0.490702\n",
      "time taken: 103.64606356620789\n",
      "epoch: 0, training loss: 0.772093, training acc: 0.496183, valid loss: 0.712724, valid acc: 0.490702\n",
      "\n"
     ]
    },
    {
     "name": "stderr",
     "output_type": "stream",
     "text": [
      "train minibatch loop: 100%|██████████| 267/267 [01:34<00:00,  3.18it/s, accuracy=0.412, cost=0.743]\n",
      "test minibatch loop: 100%|██████████| 67/67 [00:06<00:00, 10.16it/s, accuracy=0.333, cost=0.75] \n",
      "train minibatch loop:   0%|          | 0/267 [00:00<?, ?it/s]"
     ]
    },
    {
     "name": "stdout",
     "output_type": "stream",
     "text": [
      "time taken: 101.34961891174316\n",
      "epoch: 1, training loss: 0.714211, training acc: 0.514501, valid loss: 0.709959, valid acc: 0.490702\n",
      "\n"
     ]
    },
    {
     "name": "stderr",
     "output_type": "stream",
     "text": [
      "train minibatch loop: 100%|██████████| 267/267 [01:34<00:00,  3.16it/s, accuracy=0.176, cost=0.736]\n",
      "test minibatch loop: 100%|██████████| 67/67 [00:06<00:00, 10.52it/s, accuracy=0.333, cost=0.725]\n",
      "train minibatch loop:   0%|          | 0/267 [00:00<?, ?it/s]"
     ]
    },
    {
     "name": "stdout",
     "output_type": "stream",
     "text": [
      "time taken: 101.2969536781311\n",
      "epoch: 2, training loss: 0.709803, training acc: 0.498493, valid loss: 0.702057, valid acc: 0.490702\n",
      "\n"
     ]
    },
    {
     "name": "stderr",
     "output_type": "stream",
     "text": [
      "train minibatch loop: 100%|██████████| 267/267 [01:34<00:00,  3.17it/s, accuracy=0.588, cost=0.701]\n",
      "test minibatch loop: 100%|██████████| 67/67 [00:06<00:00, 10.17it/s, accuracy=0.333, cost=0.71] \n",
      "train minibatch loop:   0%|          | 0/267 [00:00<?, ?it/s]"
     ]
    },
    {
     "name": "stdout",
     "output_type": "stream",
     "text": [
      "time taken: 101.2888514995575\n",
      "epoch: 3, training loss: 0.702606, training acc: 0.519266, valid loss: 0.698291, valid acc: 0.490702\n",
      "\n"
     ]
    },
    {
     "name": "stderr",
     "output_type": "stream",
     "text": [
      "train minibatch loop: 100%|██████████| 267/267 [01:34<00:00,  3.17it/s, accuracy=0.529, cost=0.675]\n",
      "test minibatch loop: 100%|██████████| 67/67 [00:06<00:00, 10.50it/s, accuracy=0.333, cost=0.728]\n",
      "train minibatch loop:   0%|          | 0/267 [00:00<?, ?it/s]"
     ]
    },
    {
     "name": "stdout",
     "output_type": "stream",
     "text": [
      "time taken: 101.34513807296753\n",
      "epoch: 4, training loss: 0.697464, training acc: 0.528543, valid loss: 0.701307, valid acc: 0.490702\n",
      "\n"
     ]
    },
    {
     "name": "stderr",
     "output_type": "stream",
     "text": [
      "train minibatch loop: 100%|██████████| 267/267 [01:34<00:00,  3.18it/s, accuracy=0.706, cost=0.598]\n",
      "test minibatch loop: 100%|██████████| 67/67 [00:06<00:00, 10.49it/s, accuracy=0.333, cost=0.773]\n",
      "train minibatch loop:   0%|          | 0/267 [00:00<?, ?it/s]"
     ]
    },
    {
     "name": "stdout",
     "output_type": "stream",
     "text": [
      "epoch: 5, pass acc: 0.490702, current acc: 0.498672\n",
      "time taken: 101.34963417053223\n",
      "epoch: 5, training loss: 0.681422, training acc: 0.565200, valid loss: 0.697504, valid acc: 0.498672\n",
      "\n"
     ]
    },
    {
     "name": "stderr",
     "output_type": "stream",
     "text": [
      "train minibatch loop: 100%|██████████| 267/267 [01:34<00:00,  3.17it/s, accuracy=1, cost=0.0928]    \n",
      "test minibatch loop: 100%|██████████| 67/67 [00:06<00:00, 10.15it/s, accuracy=0.619, cost=1.09] \n",
      "train minibatch loop:   0%|          | 0/267 [00:00<?, ?it/s]"
     ]
    },
    {
     "name": "stdout",
     "output_type": "stream",
     "text": [
      "epoch: 6, pass acc: 0.498672, current acc: 0.591566\n",
      "time taken: 101.29327416419983\n",
      "epoch: 6, training loss: 0.453262, training acc: 0.768672, valid loss: 0.986755, valid acc: 0.591566\n",
      "\n"
     ]
    },
    {
     "name": "stderr",
     "output_type": "stream",
     "text": [
      "train minibatch loop: 100%|██████████| 267/267 [01:34<00:00,  3.18it/s, accuracy=1, cost=0.169]     \n",
      "test minibatch loop: 100%|██████████| 67/67 [00:06<00:00, 10.18it/s, accuracy=0.286, cost=2.42]\n",
      "train minibatch loop:   0%|          | 0/267 [00:00<?, ?it/s]"
     ]
    },
    {
     "name": "stdout",
     "output_type": "stream",
     "text": [
      "time taken: 101.28158569335938\n",
      "epoch: 7, training loss: 0.162513, training acc: 0.937390, valid loss: 1.625286, valid acc: 0.509678\n",
      "\n"
     ]
    },
    {
     "name": "stderr",
     "output_type": "stream",
     "text": [
      "train minibatch loop: 100%|██████████| 267/267 [01:34<00:00,  3.16it/s, accuracy=1, cost=0.0033]    \n",
      "test minibatch loop: 100%|██████████| 67/67 [00:06<00:00, 10.49it/s, accuracy=0.429, cost=2.23] \n",
      "train minibatch loop:   0%|          | 0/267 [00:00<?, ?it/s]"
     ]
    },
    {
     "name": "stdout",
     "output_type": "stream",
     "text": [
      "epoch: 8, pass acc: 0.591566, current acc: 0.601835\n",
      "time taken: 101.3108057975769\n",
      "epoch: 8, training loss: 0.092553, training acc: 0.967523, valid loss: 1.485364, valid acc: 0.601835\n",
      "\n"
     ]
    },
    {
     "name": "stderr",
     "output_type": "stream",
     "text": [
      "train minibatch loop: 100%|██████████| 267/267 [01:34<00:00,  3.17it/s, accuracy=1, cost=0.00313]   \n",
      "test minibatch loop: 100%|██████████| 67/67 [00:06<00:00, 10.16it/s, accuracy=0.429, cost=2.53] \n",
      "train minibatch loop:   0%|          | 0/267 [00:00<?, ?it/s]"
     ]
    },
    {
     "name": "stdout",
     "output_type": "stream",
     "text": [
      "time taken: 101.24508285522461\n",
      "epoch: 9, training loss: 0.062522, training acc: 0.979130, valid loss: 1.574514, valid acc: 0.570893\n",
      "\n"
     ]
    },
    {
     "name": "stderr",
     "output_type": "stream",
     "text": [
      "train minibatch loop: 100%|██████████| 267/267 [01:34<00:00,  3.18it/s, accuracy=1, cost=0.0142]    \n",
      "test minibatch loop: 100%|██████████| 67/67 [00:06<00:00, 10.48it/s, accuracy=0.333, cost=4.12]\n",
      "train minibatch loop:   0%|          | 0/267 [00:00<?, ?it/s]"
     ]
    },
    {
     "name": "stdout",
     "output_type": "stream",
     "text": [
      "time taken: 101.25654935836792\n",
      "epoch: 10, training loss: 0.042282, training acc: 0.987455, valid loss: 2.670142, valid acc: 0.538053\n",
      "\n"
     ]
    },
    {
     "name": "stderr",
     "output_type": "stream",
     "text": [
      "train minibatch loop: 100%|██████████| 267/267 [01:34<00:00,  3.16it/s, accuracy=1, cost=0.0033]    \n",
      "test minibatch loop: 100%|██████████| 67/67 [00:06<00:00, 10.14it/s, accuracy=0.619, cost=1.65]\n",
      "train minibatch loop:   0%|          | 0/267 [00:00<?, ?it/s]"
     ]
    },
    {
     "name": "stdout",
     "output_type": "stream",
     "text": [
      "time taken: 101.3210039138794\n",
      "epoch: 11, training loss: 0.059577, training acc: 0.981123, valid loss: 1.856399, valid acc: 0.589222\n",
      "\n"
     ]
    },
    {
     "name": "stderr",
     "output_type": "stream",
     "text": [
      "train minibatch loop: 100%|██████████| 267/267 [01:34<00:00,  3.18it/s, accuracy=1, cost=0.000242]  \n",
      "test minibatch loop: 100%|██████████| 67/67 [00:06<00:00, 10.49it/s, accuracy=0.619, cost=1.93]\n",
      "train minibatch loop:   0%|          | 0/267 [00:00<?, ?it/s]"
     ]
    },
    {
     "name": "stdout",
     "output_type": "stream",
     "text": [
      "time taken: 101.2823498249054\n",
      "epoch: 12, training loss: 0.039034, training acc: 0.987806, valid loss: 2.029441, valid acc: 0.590159\n",
      "\n"
     ]
    },
    {
     "name": "stderr",
     "output_type": "stream",
     "text": [
      "train minibatch loop: 100%|██████████| 267/267 [01:34<00:00,  3.13it/s, accuracy=1, cost=0.000241]  \n",
      "test minibatch loop: 100%|██████████| 67/67 [00:06<00:00, 10.45it/s, accuracy=0.381, cost=3.91]"
     ]
    },
    {
     "name": "stdout",
     "output_type": "stream",
     "text": [
      "time taken: 101.39822745323181\n",
      "epoch: 13, training loss: 0.024281, training acc: 0.993200, valid loss: 2.515767, valid acc: 0.598308\n",
      "\n",
      "break epoch:14\n",
      "\n"
     ]
    },
    {
     "name": "stderr",
     "output_type": "stream",
     "text": [
      "\n"
     ]
    }
   ],
   "source": [
    "from tqdm import tqdm\n",
    "import time\n",
    "\n",
    "EARLY_STOPPING, CURRENT_CHECKPOINT, CURRENT_ACC, EPOCH = 3, 0, 0, 0\n",
    "\n",
    "while True:\n",
    "    lasttime = time.time()\n",
    "    if CURRENT_CHECKPOINT == EARLY_STOPPING:\n",
    "        print('break epoch:%d\\n' % (EPOCH))\n",
    "        break\n",
    "\n",
    "    train_acc, train_loss, test_acc, test_loss = 0, 0, 0, 0\n",
    "    pbar = tqdm(\n",
    "        range(0, len(train_X), batch_size), desc = 'train minibatch loop'\n",
    "    )\n",
    "    for i in pbar:\n",
    "        batch_x = train_X[i : min(i + batch_size, train_X.shape[0])]\n",
    "        batch_y = train_Y[i : min(i + batch_size, train_X.shape[0])]\n",
    "        acc, cost, _ = sess.run(\n",
    "            [model.accuracy, model.cost, model.optimizer],\n",
    "            feed_dict = {\n",
    "                model.Y: batch_y,\n",
    "                model.X: batch_x,\n",
    "                model.training: True\n",
    "            },\n",
    "        )\n",
    "        assert not np.isnan(cost)\n",
    "        train_loss += cost\n",
    "        train_acc += acc\n",
    "        pbar.set_postfix(cost = cost, accuracy = acc)\n",
    "\n",
    "    pbar = tqdm(range(0, len(test_X), batch_size), desc = 'test minibatch loop')\n",
    "    for i in pbar:\n",
    "        batch_x = test_X[i : min(i + batch_size, test_X.shape[0])]\n",
    "        batch_y = test_Y[i : min(i + batch_size, test_X.shape[0])]\n",
    "        acc, cost = sess.run(\n",
    "            [model.accuracy, model.cost],\n",
    "            feed_dict = {\n",
    "                model.Y: batch_y,\n",
    "                model.X: batch_x,\n",
    "                model.training: False\n",
    "            },\n",
    "        )\n",
    "        test_loss += cost\n",
    "        test_acc += acc\n",
    "        pbar.set_postfix(cost = cost, accuracy = acc)\n",
    "\n",
    "    train_loss /= len(train_X) / batch_size\n",
    "    train_acc /= len(train_X) / batch_size\n",
    "    test_loss /= len(test_X) / batch_size\n",
    "    test_acc /= len(test_X) / batch_size\n",
    "\n",
    "    if test_acc > CURRENT_ACC:\n",
    "        print(\n",
    "            'epoch: %d, pass acc: %f, current acc: %f'\n",
    "            % (EPOCH, CURRENT_ACC, test_acc)\n",
    "        )\n",
    "        CURRENT_ACC = test_acc\n",
    "        CURRENT_CHECKPOINT = 0\n",
    "    else:\n",
    "        CURRENT_CHECKPOINT += 1\n",
    "        \n",
    "    print('time taken:', time.time() - lasttime)\n",
    "    print(\n",
    "        'epoch: %d, training loss: %f, training acc: %f, valid loss: %f, valid acc: %f\\n'\n",
    "        % (EPOCH, train_loss, train_acc, test_loss, test_acc)\n",
    "    )\n",
    "    EPOCH += 1"
   ]
  },
  {
   "cell_type": "code",
   "execution_count": null,
   "metadata": {},
   "outputs": [],
   "source": []
  }
 ],
 "metadata": {
  "kernelspec": {
   "display_name": "Python 3",
   "language": "python",
   "name": "python3"
  },
  "language_info": {
   "codemirror_mode": {
    "name": "ipython",
    "version": 3
   },
   "file_extension": ".py",
   "mimetype": "text/x-python",
   "name": "python",
   "nbconvert_exporter": "python",
   "pygments_lexer": "ipython3",
   "version": "3.6.8"
  }
 },
 "nbformat": 4,
 "nbformat_minor": 2
}
