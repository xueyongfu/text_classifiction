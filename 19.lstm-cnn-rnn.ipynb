{
 "cells": [
  {
   "cell_type": "code",
   "execution_count": 2,
   "metadata": {
    "pycharm": {
     "is_executing": false
    }
   },
   "outputs": [],
   "source": [
    "from utils import *\n",
    "import tensorflow as tf\n",
    "from sklearn.model_selection import train_test_split\n",
    "import time"
   ]
  },
  {
   "cell_type": "code",
   "execution_count": 3,
   "metadata": {
    "pycharm": {
     "is_executing": false
    }
   },
   "outputs": [
    {
     "name": "stdout",
     "output_type": "stream",
     "text": [
      "['negative', 'positive']\n",
      "10662\n",
      "10662\n"
     ]
    }
   ],
   "source": [
    "trainset = sklearn.datasets.load_files(container_path = 'data', encoding = 'UTF-8')\n",
    "trainset.data, trainset.target = separate_dataset(trainset,1.0)\n",
    "print (trainset.target_names)\n",
    "print (len(trainset.data))\n",
    "print (len(trainset.target))"
   ]
  },
  {
   "cell_type": "code",
   "execution_count": 4,
   "metadata": {
    "pycharm": {
     "is_executing": false
    }
   },
   "outputs": [],
   "source": [
    "ONEHOT = np.zeros((len(trainset.data),len(trainset.target_names)))\n",
    "ONEHOT[np.arange(len(trainset.data)),trainset.target] = 1.0\n",
    "train_X, test_X, train_Y, test_Y, train_onehot, test_onehot = train_test_split(trainset.data, \n",
    "                                                                               trainset.target, \n",
    "                                                                               ONEHOT, test_size = 0.2)"
   ]
  },
  {
   "cell_type": "code",
   "execution_count": 5,
   "metadata": {
    "pycharm": {
     "is_executing": false
    }
   },
   "outputs": [
    {
     "name": "stdout",
     "output_type": "stream",
     "text": [
      "vocab from size: 20332\n",
      "Most common words [('film', 1453), ('movie', 1270), ('one', 727), ('like', 721), ('story', 477), ('much', 386)]\n",
      "Sample data [24, 143, 5347, 1785, 2417, 260, 4, 4373, 28, 10158] ['may', 'think', 'figured', 'con', 'players', 'debut', 'film', 'argentine', 'director', 'fabian']\n"
     ]
    }
   ],
   "source": [
    "concat = ' '.join(trainset.data).split()\n",
    "vocabulary_size = len(list(set(concat)))\n",
    "data, count, dictionary, rev_dictionary = build_dataset(concat, vocabulary_size)\n",
    "print('vocab from size: %d'%(vocabulary_size))\n",
    "print('Most common words', count[4:10])\n",
    "print('Sample data', data[:10], [rev_dictionary[i] for i in data[:10]])"
   ]
  },
  {
   "cell_type": "code",
   "execution_count": 6,
   "metadata": {
    "pycharm": {
     "is_executing": false
    }
   },
   "outputs": [],
   "source": [
    "GO = dictionary['GO']\n",
    "PAD = dictionary['PAD']\n",
    "EOS = dictionary['EOS']\n",
    "UNK = dictionary['UNK']"
   ]
  },
  {
   "cell_type": "code",
   "execution_count": 7,
   "metadata": {
    "pycharm": {
     "is_executing": false
    }
   },
   "outputs": [],
   "source": [
    "class Model:\n",
    "    def __init__(self, size_layer, num_layers, embedded_size,\n",
    "                 dict_size, dimension_output, learning_rate,\n",
    "                filter_sizes, pooling_size):\n",
    "        \n",
    "        def cells(reuse=False):\n",
    "            return tf.nn.rnn_cell.LSTMCell(size_layer,initializer=tf.orthogonal_initializer(),reuse=reuse)\n",
    "        \n",
    "        self.X = tf.placeholder(tf.int32, [None, None])\n",
    "        self.Y = tf.placeholder(tf.float32, [None, dimension_output])\n",
    "        encoder_embeddings = tf.Variable(tf.random_uniform([dict_size, embedded_size], -1, 1))\n",
    "        encoder_embedded = tf.nn.embedding_lookup(encoder_embeddings, self.X)\n",
    "        encoder_embedded = tf.expand_dims(encoder_embedded,-1)\n",
    "        \n",
    "        pooled_outputs = []\n",
    "        reduce_size = int(np.ceil(maxlen / pooling_size))\n",
    "        for i in filter_sizes:\n",
    "            #w就是filter 维度[filter_height, filter_width, in_channels, out_channels]\n",
    "            w = tf.Variable(tf.truncated_normal([i, embedded_size, 1, dimension_output], stddev=0.1))\n",
    "            b = tf.Variable(tf.truncated_normal([dimension_output], stddev = 0.01))\n",
    "            \n",
    "            self.conv = tf.nn.relu(tf.nn.conv2d(encoder_embedded, w, strides=[1, 1, 1, 1],padding=\"VALID\") + b)\n",
    "            \n",
    "            pooled = tf.nn.max_pool(self.conv,ksize=[1, pooling_size, 1, 1],\n",
    "                                    strides=[1, pooling_size, 1, 1],padding='VALID')\n",
    "            \n",
    "            pooled = tf.reshape(pooled, [-1, reduce_size -1, dimension_output])\n",
    "            pooled_outputs.append(pooled)\n",
    "        h_pool = tf.concat(pooled_outputs, 2)\n",
    "        \n",
    "        rnn_cells = tf.nn.rnn_cell.MultiRNNCell([cells() for _ in range(num_layers)])\n",
    "        outputs, _ = tf.nn.dynamic_rnn(rnn_cells, h_pool, dtype = tf.float32)\n",
    "        W = tf.get_variable('w',shape=(size_layer, dimension_output),initializer=tf.orthogonal_initializer())\n",
    "        b = tf.get_variable('b',shape=(dimension_output),initializer=tf.zeros_initializer())\n",
    "        self.logits = tf.matmul(outputs[:, -1], W) + b\n",
    "        self.cost = tf.reduce_mean(tf.nn.softmax_cross_entropy_with_logits(logits = self.logits, labels = self.Y))\n",
    "        self.optimizer = tf.train.AdamOptimizer(learning_rate = learning_rate).minimize(self.cost)\n",
    "        correct_pred = tf.equal(tf.argmax(self.logits, 1), tf.argmax(self.Y, 1))\n",
    "        self.accuracy = tf.reduce_mean(tf.cast(correct_pred, tf.float32))"
   ]
  },
  {
   "cell_type": "code",
   "execution_count": 8,
   "metadata": {
    "pycharm": {
     "is_executing": false
    }
   },
   "outputs": [],
   "source": [
    "size_layer = 128\n",
    "num_layers = 2\n",
    "embedded_size = 128\n",
    "dimension_output = len(trainset.target_names)\n",
    "learning_rate = 1e-3\n",
    "maxlen = 50\n",
    "batch_size = 128"
   ]
  },
  {
   "cell_type": "code",
   "execution_count": 9,
   "metadata": {
    "pycharm": {
     "is_executing": false
    }
   },
   "outputs": [
    {
     "name": "stdout",
     "output_type": "stream",
     "text": [
      "WARNING:tensorflow:From <ipython-input-7-7c30ed39b871>:34: softmax_cross_entropy_with_logits (from tensorflow.python.ops.nn_ops) is deprecated and will be removed in a future version.\n",
      "Instructions for updating:\n",
      "\n",
      "Future major versions of TensorFlow will allow gradients to flow\n",
      "into the labels input on backprop by default.\n",
      "\n",
      "See `tf.nn.softmax_cross_entropy_with_logits_v2`.\n",
      "\n"
     ]
    }
   ],
   "source": [
    "tf.reset_default_graph()\n",
    "sess = tf.InteractiveSession()\n",
    "model = Model(size_layer,num_layers,embedded_size,vocabulary_size+4,dimension_output,learning_rate,\n",
    "             [3, 3, 3], 5)\n",
    "sess.run(tf.global_variables_initializer())"
   ]
  },
  {
   "cell_type": "code",
   "execution_count": 11,
   "metadata": {
    "pycharm": {
     "is_executing": false
    }
   },
   "outputs": [
    {
     "name": "stdout",
     "output_type": "stream",
     "text": [
      "epoch: 0, pass acc: 0.000000, current acc: 0.530273\n",
      "time taken: 1.3522133827209473\n",
      "epoch: 0, training loss: 0.693355, training acc: 0.498816, valid loss: 0.691207, valid acc: 0.530273\n",
      "\n",
      "epoch: 1, pass acc: 0.530273, current acc: 0.576660\n",
      "time taken: 0.9518313407897949\n",
      "epoch: 1, training loss: 0.655117, training acc: 0.605587, valid loss: 0.694892, valid acc: 0.576660\n",
      "\n",
      "epoch: 2, pass acc: 0.576660, current acc: 0.602051\n",
      "time taken: 0.9466142654418945\n",
      "epoch: 2, training loss: 0.516276, training acc: 0.727628, valid loss: 0.799324, valid acc: 0.602051\n",
      "\n",
      "epoch: 3, pass acc: 0.602051, current acc: 0.617188\n",
      "time taken: 0.9406802654266357\n",
      "epoch: 3, training loss: 0.364851, training acc: 0.822562, valid loss: 1.040798, valid acc: 0.617188\n",
      "\n",
      "epoch: 4, pass acc: 0.617188, current acc: 0.619629\n",
      "time taken: 0.9495558738708496\n",
      "epoch: 4, training loss: 0.245289, training acc: 0.882339, valid loss: 1.515840, valid acc: 0.619629\n",
      "\n",
      "time taken: 0.9463872909545898\n",
      "epoch: 5, training loss: 0.179140, training acc: 0.915128, valid loss: 1.656977, valid acc: 0.614258\n",
      "\n",
      "time taken: 0.9335927963256836\n",
      "epoch: 6, training loss: 0.137240, training acc: 0.933239, valid loss: 2.033188, valid acc: 0.602539\n",
      "\n",
      "time taken: 0.9297451972961426\n",
      "epoch: 7, training loss: 0.110295, training acc: 0.946733, valid loss: 2.503461, valid acc: 0.603516\n",
      "\n",
      "time taken: 0.9353229999542236\n",
      "epoch: 8, training loss: 0.105113, training acc: 0.946023, valid loss: 2.256913, valid acc: 0.618652\n",
      "\n",
      "epoch: 9, pass acc: 0.619629, current acc: 0.625000\n",
      "time taken: 0.9458756446838379\n",
      "epoch: 9, training loss: 0.105822, training acc: 0.943300, valid loss: 2.266235, valid acc: 0.625000\n",
      "\n",
      "time taken: 0.9408621788024902\n",
      "epoch: 10, training loss: 0.083655, training acc: 0.956203, valid loss: 2.902495, valid acc: 0.625000\n",
      "\n",
      "time taken: 0.9379682540893555\n",
      "epoch: 11, training loss: 0.075753, training acc: 0.959399, valid loss: 2.951405, valid acc: 0.622559\n",
      "\n",
      "epoch: 12, pass acc: 0.625000, current acc: 0.628418\n",
      "time taken: 0.9427943229675293\n",
      "epoch: 12, training loss: 0.070948, training acc: 0.961648, valid loss: 3.010396, valid acc: 0.628418\n",
      "\n",
      "time taken: 0.9423224925994873\n",
      "epoch: 13, training loss: 0.065668, training acc: 0.963897, valid loss: 3.105128, valid acc: 0.620605\n",
      "\n",
      "time taken: 0.9488329887390137\n",
      "epoch: 14, training loss: 0.061262, training acc: 0.965554, valid loss: 3.401072, valid acc: 0.623047\n",
      "\n",
      "time taken: 0.9733924865722656\n",
      "epoch: 15, training loss: 0.058701, training acc: 0.966619, valid loss: 3.542820, valid acc: 0.620605\n",
      "\n",
      "time taken: 0.9487569332122803\n",
      "epoch: 16, training loss: 0.057013, training acc: 0.966383, valid loss: 3.677891, valid acc: 0.617676\n",
      "\n",
      "time taken: 0.9452879428863525\n",
      "epoch: 17, training loss: 0.055715, training acc: 0.967685, valid loss: 3.739639, valid acc: 0.614746\n",
      "\n",
      "break epoch:18\n",
      "\n"
     ]
    }
   ],
   "source": [
    "EARLY_STOPPING, CURRENT_CHECKPOINT, CURRENT_ACC, EPOCH = 5, 0, 0, 0\n",
    "while True:\n",
    "    lasttime = time.time()\n",
    "    if CURRENT_CHECKPOINT == EARLY_STOPPING:\n",
    "        print('break epoch:%d\\n'%(EPOCH))\n",
    "        break\n",
    "        \n",
    "    train_acc, train_loss, test_acc, test_loss = 0, 0, 0, 0\n",
    "    for i in range(0, (len(train_X) // batch_size) * batch_size, batch_size):\n",
    "        batch_x = str_idx(train_X[i:i+batch_size],dictionary,maxlen)\n",
    "        \n",
    "        #调试代码\n",
    "        feed_dict = {model.X : batch_x, model.Y : train_onehot[i:i+batch_size]}\n",
    "        \n",
    "        acc, loss, _ = sess.run([model.accuracy, model.cost, model.optimizer], \n",
    "                           feed_dict = {model.X : batch_x, model.Y : train_onehot[i:i+batch_size]})\n",
    "        train_loss += loss\n",
    "        train_acc += acc\n",
    "    \n",
    "    for i in range(0, (len(test_X) // batch_size) * batch_size, batch_size):\n",
    "        batch_x = str_idx(test_X[i:i+batch_size],dictionary,maxlen)\n",
    "        acc, loss = sess.run([model.accuracy, model.cost], \n",
    "                           feed_dict = {model.X : batch_x, model.Y : test_onehot[i:i+batch_size]})\n",
    "        test_loss += loss\n",
    "        test_acc += acc\n",
    "    \n",
    "    train_loss /= (len(train_X) // batch_size)\n",
    "    train_acc /= (len(train_X) // batch_size)\n",
    "    test_loss /= (len(test_X) // batch_size)\n",
    "    test_acc /= (len(test_X) // batch_size)\n",
    "    \n",
    "    if test_acc > CURRENT_ACC:\n",
    "        print('epoch: %d, pass acc: %f, current acc: %f'%(EPOCH,CURRENT_ACC, test_acc))\n",
    "        CURRENT_ACC = test_acc\n",
    "        CURRENT_CHECKPOINT = 0\n",
    "    else:\n",
    "        CURRENT_CHECKPOINT += 1\n",
    "        \n",
    "    print('time taken:', time.time()-lasttime)\n",
    "    print('epoch: %d, training loss: %f, training acc: %f, valid loss: %f, valid acc: %f\\n'%(EPOCH,train_loss,\n",
    "                                                                                          train_acc,test_loss,\n",
    "                                                                                          test_acc))\n",
    "    EPOCH += 1"
   ]
  },
  {
   "cell_type": "code",
   "execution_count": 12,
   "metadata": {
    "pycharm": {
     "is_executing": false
    }
   },
   "outputs": [
    {
     "name": "stdout",
     "output_type": "stream",
     "text": [
      "              precision    recall  f1-score   support\n",
      "\n",
      "    negative       0.61      0.65      0.63      1064\n",
      "    positive       0.63      0.58      0.60      1069\n",
      "\n",
      "    accuracy                           0.62      2133\n",
      "   macro avg       0.62      0.62      0.62      2133\n",
      "weighted avg       0.62      0.62      0.62      2133\n",
      "\n"
     ]
    }
   ],
   "source": [
    "logits = sess.run(model.logits, feed_dict={model.X:str_idx(test_X,dictionary,maxlen)})\n",
    "print(metrics.classification_report(test_Y, np.argmax(logits,1), target_names = trainset.target_names))"
   ]
  },
  {
   "cell_type": "code",
   "execution_count": null,
   "metadata": {
    "pycharm": {
     "is_executing": false
    }
   },
   "outputs": [],
   "source": []
  }
 ],
 "metadata": {
  "kernelspec": {
   "display_name": "Python 3",
   "language": "python",
   "name": "python3"
  },
  "language_info": {
   "codemirror_mode": {
    "name": "ipython",
    "version": 3
   },
   "file_extension": ".py",
   "mimetype": "text/x-python",
   "name": "python",
   "nbconvert_exporter": "python",
   "pygments_lexer": "ipython3",
   "version": "3.6.10"
  },
  "pycharm": {
   "stem_cell": {
    "cell_type": "raw",
    "metadata": {
     "collapsed": false
    },
    "source": []
   }
  }
 },
 "nbformat": 4,
 "nbformat_minor": 4
}
