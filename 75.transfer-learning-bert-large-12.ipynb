{
 "cells": [
  {
   "cell_type": "code",
   "execution_count": 1,
   "metadata": {},
   "outputs": [],
   "source": [
    "# !wget https://storage.googleapis.com/bert_models/2018_10_18/uncased_L-24_H-1024_A-16.zip\n",
    "# !unzip uncased_L-24_H-1024_A-16.zip"
   ]
  },
  {
   "cell_type": "code",
   "execution_count": 2,
   "metadata": {},
   "outputs": [
    {
     "name": "stdout",
     "output_type": "stream",
     "text": [
      "total 1.3G\r\n",
      "-rw-r--r-- 1 husein husein  314 Oct 18  2018 bert_config.json\r\n",
      "-rw-r--r-- 1 husein husein 1.3G Oct 18  2018 bert_model.ckpt.data-00000-of-00001\r\n",
      "-rw-r--r-- 1 husein husein  17K Oct 18  2018 bert_model.ckpt.index\r\n",
      "-rw-r--r-- 1 husein husein 1.8M Oct 18  2018 bert_model.ckpt.meta\r\n",
      "-rw-r--r-- 1 husein husein 227K Oct 18  2018 vocab.txt\r\n"
     ]
    }
   ],
   "source": [
    "!ls -lh uncased_L-24_H-1024_A-16"
   ]
  },
  {
   "cell_type": "code",
   "execution_count": 3,
   "metadata": {},
   "outputs": [
    {
     "data": {
      "text/plain": [
       "{'attention_probs_dropout_prob': 0.1,\n",
       " 'hidden_act': 'gelu',\n",
       " 'hidden_dropout_prob': 0.1,\n",
       " 'hidden_size': 1024,\n",
       " 'initializer_range': 0.02,\n",
       " 'intermediate_size': 4096,\n",
       " 'max_position_embeddings': 512,\n",
       " 'num_attention_heads': 16,\n",
       " 'num_hidden_layers': 24,\n",
       " 'type_vocab_size': 2,\n",
       " 'vocab_size': 30522}"
      ]
     },
     "execution_count": 3,
     "metadata": {},
     "output_type": "execute_result"
    }
   ],
   "source": [
    "import json\n",
    "\n",
    "with open('uncased_L-24_H-1024_A-16/bert_config.json') as fopen:\n",
    "    config = json.load(fopen)\n",
    "config"
   ]
  },
  {
   "cell_type": "code",
   "execution_count": 4,
   "metadata": {},
   "outputs": [],
   "source": [
    "config['num_hidden_layers'] = config['num_hidden_layers'] // 2\n",
    "with open('6_bert_config.json', 'w') as fopen:\n",
    "    json.dump(config, fopen)"
   ]
  },
  {
   "cell_type": "code",
   "execution_count": 5,
   "metadata": {},
   "outputs": [
    {
     "name": "stderr",
     "output_type": "stream",
     "text": [
      "/home/husein/.local/lib/python3.6/site-packages/sklearn/cross_validation.py:41: DeprecationWarning: This module was deprecated in version 0.18 in favor of the model_selection module into which all the refactored classes and functions are moved. Also note that the interface of the new CV iterators are different from that of this module. This module will be removed in 0.20.\n",
      "  \"This module will be removed in 0.20.\", DeprecationWarning)\n"
     ]
    }
   ],
   "source": [
    "from utils import *\n",
    "import tensorflow as tf\n",
    "from sklearn.cross_validation import train_test_split\n",
    "import time\n",
    "import random\n",
    "import os"
   ]
  },
  {
   "cell_type": "code",
   "execution_count": 6,
   "metadata": {},
   "outputs": [
    {
     "name": "stdout",
     "output_type": "stream",
     "text": [
      "['negative', 'positive']\n",
      "10662\n",
      "10662\n"
     ]
    }
   ],
   "source": [
    "trainset = sklearn.datasets.load_files(container_path = 'data', encoding = 'UTF-8')\n",
    "trainset.data, trainset.target = separate_dataset(trainset,1.0)\n",
    "print (trainset.target_names)\n",
    "print (len(trainset.data))\n",
    "print (len(trainset.target))"
   ]
  },
  {
   "cell_type": "code",
   "execution_count": 7,
   "metadata": {},
   "outputs": [],
   "source": [
    "BERT_VOCAB = 'uncased_L-24_H-1024_A-16/vocab.txt'\n",
    "BERT_INIT_CHKPNT = 'uncased_L-24_H-1024_A-16/bert_model.ckpt'\n",
    "BERT_CONFIG = '6_bert_config.json'"
   ]
  },
  {
   "cell_type": "code",
   "execution_count": 8,
   "metadata": {},
   "outputs": [],
   "source": [
    "import bert\n",
    "from bert import run_classifier\n",
    "from bert import optimization\n",
    "from bert import tokenization\n",
    "from bert import modeling"
   ]
  },
  {
   "cell_type": "code",
   "execution_count": 9,
   "metadata": {},
   "outputs": [],
   "source": [
    "tokenization.validate_case_matches_checkpoint(True,BERT_INIT_CHKPNT)\n",
    "tokenizer = tokenization.FullTokenizer(\n",
    "      vocab_file=BERT_VOCAB, do_lower_case=True)"
   ]
  },
  {
   "cell_type": "code",
   "execution_count": 10,
   "metadata": {},
   "outputs": [],
   "source": [
    "MAX_SEQ_LENGTH = 100"
   ]
  },
  {
   "cell_type": "code",
   "execution_count": 11,
   "metadata": {},
   "outputs": [
    {
     "name": "stderr",
     "output_type": "stream",
     "text": [
      "100%|██████████| 10662/10662 [00:03<00:00, 3476.75it/s]\n"
     ]
    }
   ],
   "source": [
    "from tqdm import tqdm\n",
    "\n",
    "input_ids, input_masks, segment_ids = [], [], []\n",
    "\n",
    "for text in tqdm(trainset.data):\n",
    "    tokens_a = tokenizer.tokenize(text)\n",
    "    if len(tokens_a) > MAX_SEQ_LENGTH - 2:\n",
    "        tokens_a = tokens_a[:(MAX_SEQ_LENGTH - 2)]\n",
    "    tokens = [\"[CLS]\"] + tokens_a + [\"[SEP]\"]\n",
    "    segment_id = [0] * len(tokens)\n",
    "    input_id = tokenizer.convert_tokens_to_ids(tokens)\n",
    "    input_mask = [1] * len(input_id)\n",
    "    padding = [0] * (MAX_SEQ_LENGTH - len(input_id))\n",
    "    input_id += padding\n",
    "    input_mask += padding\n",
    "    segment_id += padding\n",
    "    \n",
    "    input_ids.append(input_id)\n",
    "    input_masks.append(input_mask)\n",
    "    segment_ids.append(segment_id)"
   ]
  },
  {
   "cell_type": "code",
   "execution_count": 12,
   "metadata": {},
   "outputs": [],
   "source": [
    "bert_config = modeling.BertConfig.from_json_file(BERT_CONFIG)"
   ]
  },
  {
   "cell_type": "code",
   "execution_count": 13,
   "metadata": {},
   "outputs": [
    {
     "data": {
      "text/plain": [
       "['interesting',\n",
       " 'effort',\n",
       " 'particularly',\n",
       " 'j',\n",
       " '##fk',\n",
       " 'conspiracy',\n",
       " 'nuts',\n",
       " 'barry',\n",
       " '##s',\n",
       " 'cold',\n",
       " '##fish',\n",
       " 'act',\n",
       " 'makes',\n",
       " 'experience',\n",
       " 'worth',\n",
       " '##while']"
      ]
     },
     "execution_count": 13,
     "metadata": {},
     "output_type": "execute_result"
    }
   ],
   "source": [
    "tokenizer.tokenize(trainset.data[0])"
   ]
  },
  {
   "cell_type": "code",
   "execution_count": 14,
   "metadata": {},
   "outputs": [],
   "source": [
    "epoch = 5\n",
    "batch_size = 3\n",
    "warmup_proportion = 0.1\n",
    "num_train_steps = int(len(input_ids) / batch_size * epoch)\n",
    "num_warmup_steps = int(num_train_steps * warmup_proportion)"
   ]
  },
  {
   "cell_type": "code",
   "execution_count": 15,
   "metadata": {},
   "outputs": [],
   "source": [
    "class Model:\n",
    "    def __init__(\n",
    "        self,\n",
    "        dimension_output,\n",
    "        learning_rate = 2e-5,\n",
    "    ):\n",
    "        self.X = tf.placeholder(tf.int32, [None, None])\n",
    "        self.segment_ids = tf.placeholder(tf.int32, [None, None])\n",
    "        self.input_masks = tf.placeholder(tf.int32, [None, None])\n",
    "        self.Y = tf.placeholder(tf.int32, [None])\n",
    "        \n",
    "        model = modeling.BertModel(\n",
    "            config=bert_config,\n",
    "            is_training=True,\n",
    "            input_ids=self.X,\n",
    "            input_mask=self.input_masks,\n",
    "            token_type_ids=self.segment_ids,\n",
    "            use_one_hot_embeddings=False)\n",
    "        \n",
    "        output_layer = model.get_pooled_output()\n",
    "        self.logits = tf.layers.dense(output_layer, dimension_output)\n",
    "        \n",
    "        self.cost = tf.reduce_mean(\n",
    "            tf.nn.sparse_softmax_cross_entropy_with_logits(\n",
    "                logits = self.logits, labels = self.Y\n",
    "            )\n",
    "        )\n",
    "        \n",
    "        self.optimizer = optimization.create_optimizer(self.cost, learning_rate, \n",
    "                                                       num_train_steps, num_warmup_steps, False)\n",
    "        correct_pred = tf.equal(\n",
    "            tf.argmax(self.logits, 1, output_type = tf.int32), self.Y\n",
    "        )\n",
    "        self.accuracy = tf.reduce_mean(tf.cast(correct_pred, tf.float32))"
   ]
  },
  {
   "cell_type": "code",
   "execution_count": 16,
   "metadata": {},
   "outputs": [],
   "source": [
    "dimension_output = 2\n",
    "learning_rate = 2e-5\n",
    "\n",
    "tf.reset_default_graph()\n",
    "sess = tf.InteractiveSession()\n",
    "model = Model(\n",
    "    dimension_output,\n",
    "    learning_rate\n",
    ")\n",
    "\n",
    "sess.run(tf.global_variables_initializer())"
   ]
  },
  {
   "cell_type": "code",
   "execution_count": 17,
   "metadata": {},
   "outputs": [
    {
     "data": {
      "text/plain": [
       "[<tf.Variable 'bert/embeddings/word_embeddings:0' shape=(30522, 1024) dtype=float32_ref>,\n",
       " <tf.Variable 'bert/embeddings/token_type_embeddings:0' shape=(2, 1024) dtype=float32_ref>,\n",
       " <tf.Variable 'bert/embeddings/position_embeddings:0' shape=(512, 1024) dtype=float32_ref>,\n",
       " <tf.Variable 'bert/embeddings/LayerNorm/beta:0' shape=(1024,) dtype=float32_ref>,\n",
       " <tf.Variable 'bert/embeddings/LayerNorm/gamma:0' shape=(1024,) dtype=float32_ref>,\n",
       " <tf.Variable 'bert/encoder/layer_0/attention/self/query/kernel:0' shape=(1024, 1024) dtype=float32_ref>,\n",
       " <tf.Variable 'bert/encoder/layer_0/attention/self/query/bias:0' shape=(1024,) dtype=float32_ref>,\n",
       " <tf.Variable 'bert/encoder/layer_0/attention/self/key/kernel:0' shape=(1024, 1024) dtype=float32_ref>,\n",
       " <tf.Variable 'bert/encoder/layer_0/attention/self/key/bias:0' shape=(1024,) dtype=float32_ref>,\n",
       " <tf.Variable 'bert/encoder/layer_0/attention/self/value/kernel:0' shape=(1024, 1024) dtype=float32_ref>,\n",
       " <tf.Variable 'bert/encoder/layer_0/attention/self/value/bias:0' shape=(1024,) dtype=float32_ref>,\n",
       " <tf.Variable 'bert/encoder/layer_0/attention/output/dense/kernel:0' shape=(1024, 1024) dtype=float32_ref>,\n",
       " <tf.Variable 'bert/encoder/layer_0/attention/output/dense/bias:0' shape=(1024,) dtype=float32_ref>,\n",
       " <tf.Variable 'bert/encoder/layer_0/attention/output/LayerNorm/beta:0' shape=(1024,) dtype=float32_ref>,\n",
       " <tf.Variable 'bert/encoder/layer_0/attention/output/LayerNorm/gamma:0' shape=(1024,) dtype=float32_ref>,\n",
       " <tf.Variable 'bert/encoder/layer_0/intermediate/dense/kernel:0' shape=(1024, 4096) dtype=float32_ref>,\n",
       " <tf.Variable 'bert/encoder/layer_0/intermediate/dense/bias:0' shape=(4096,) dtype=float32_ref>,\n",
       " <tf.Variable 'bert/encoder/layer_0/output/dense/kernel:0' shape=(4096, 1024) dtype=float32_ref>,\n",
       " <tf.Variable 'bert/encoder/layer_0/output/dense/bias:0' shape=(1024,) dtype=float32_ref>,\n",
       " <tf.Variable 'bert/encoder/layer_0/output/LayerNorm/beta:0' shape=(1024,) dtype=float32_ref>,\n",
       " <tf.Variable 'bert/encoder/layer_0/output/LayerNorm/gamma:0' shape=(1024,) dtype=float32_ref>,\n",
       " <tf.Variable 'bert/encoder/layer_1/attention/self/query/kernel:0' shape=(1024, 1024) dtype=float32_ref>,\n",
       " <tf.Variable 'bert/encoder/layer_1/attention/self/query/bias:0' shape=(1024,) dtype=float32_ref>,\n",
       " <tf.Variable 'bert/encoder/layer_1/attention/self/key/kernel:0' shape=(1024, 1024) dtype=float32_ref>,\n",
       " <tf.Variable 'bert/encoder/layer_1/attention/self/key/bias:0' shape=(1024,) dtype=float32_ref>,\n",
       " <tf.Variable 'bert/encoder/layer_1/attention/self/value/kernel:0' shape=(1024, 1024) dtype=float32_ref>,\n",
       " <tf.Variable 'bert/encoder/layer_1/attention/self/value/bias:0' shape=(1024,) dtype=float32_ref>,\n",
       " <tf.Variable 'bert/encoder/layer_1/attention/output/dense/kernel:0' shape=(1024, 1024) dtype=float32_ref>,\n",
       " <tf.Variable 'bert/encoder/layer_1/attention/output/dense/bias:0' shape=(1024,) dtype=float32_ref>,\n",
       " <tf.Variable 'bert/encoder/layer_1/attention/output/LayerNorm/beta:0' shape=(1024,) dtype=float32_ref>,\n",
       " <tf.Variable 'bert/encoder/layer_1/attention/output/LayerNorm/gamma:0' shape=(1024,) dtype=float32_ref>,\n",
       " <tf.Variable 'bert/encoder/layer_1/intermediate/dense/kernel:0' shape=(1024, 4096) dtype=float32_ref>,\n",
       " <tf.Variable 'bert/encoder/layer_1/intermediate/dense/bias:0' shape=(4096,) dtype=float32_ref>,\n",
       " <tf.Variable 'bert/encoder/layer_1/output/dense/kernel:0' shape=(4096, 1024) dtype=float32_ref>,\n",
       " <tf.Variable 'bert/encoder/layer_1/output/dense/bias:0' shape=(1024,) dtype=float32_ref>,\n",
       " <tf.Variable 'bert/encoder/layer_1/output/LayerNorm/beta:0' shape=(1024,) dtype=float32_ref>,\n",
       " <tf.Variable 'bert/encoder/layer_1/output/LayerNorm/gamma:0' shape=(1024,) dtype=float32_ref>,\n",
       " <tf.Variable 'bert/encoder/layer_2/attention/self/query/kernel:0' shape=(1024, 1024) dtype=float32_ref>,\n",
       " <tf.Variable 'bert/encoder/layer_2/attention/self/query/bias:0' shape=(1024,) dtype=float32_ref>,\n",
       " <tf.Variable 'bert/encoder/layer_2/attention/self/key/kernel:0' shape=(1024, 1024) dtype=float32_ref>,\n",
       " <tf.Variable 'bert/encoder/layer_2/attention/self/key/bias:0' shape=(1024,) dtype=float32_ref>,\n",
       " <tf.Variable 'bert/encoder/layer_2/attention/self/value/kernel:0' shape=(1024, 1024) dtype=float32_ref>,\n",
       " <tf.Variable 'bert/encoder/layer_2/attention/self/value/bias:0' shape=(1024,) dtype=float32_ref>,\n",
       " <tf.Variable 'bert/encoder/layer_2/attention/output/dense/kernel:0' shape=(1024, 1024) dtype=float32_ref>,\n",
       " <tf.Variable 'bert/encoder/layer_2/attention/output/dense/bias:0' shape=(1024,) dtype=float32_ref>,\n",
       " <tf.Variable 'bert/encoder/layer_2/attention/output/LayerNorm/beta:0' shape=(1024,) dtype=float32_ref>,\n",
       " <tf.Variable 'bert/encoder/layer_2/attention/output/LayerNorm/gamma:0' shape=(1024,) dtype=float32_ref>,\n",
       " <tf.Variable 'bert/encoder/layer_2/intermediate/dense/kernel:0' shape=(1024, 4096) dtype=float32_ref>,\n",
       " <tf.Variable 'bert/encoder/layer_2/intermediate/dense/bias:0' shape=(4096,) dtype=float32_ref>,\n",
       " <tf.Variable 'bert/encoder/layer_2/output/dense/kernel:0' shape=(4096, 1024) dtype=float32_ref>,\n",
       " <tf.Variable 'bert/encoder/layer_2/output/dense/bias:0' shape=(1024,) dtype=float32_ref>,\n",
       " <tf.Variable 'bert/encoder/layer_2/output/LayerNorm/beta:0' shape=(1024,) dtype=float32_ref>,\n",
       " <tf.Variable 'bert/encoder/layer_2/output/LayerNorm/gamma:0' shape=(1024,) dtype=float32_ref>,\n",
       " <tf.Variable 'bert/encoder/layer_3/attention/self/query/kernel:0' shape=(1024, 1024) dtype=float32_ref>,\n",
       " <tf.Variable 'bert/encoder/layer_3/attention/self/query/bias:0' shape=(1024,) dtype=float32_ref>,\n",
       " <tf.Variable 'bert/encoder/layer_3/attention/self/key/kernel:0' shape=(1024, 1024) dtype=float32_ref>,\n",
       " <tf.Variable 'bert/encoder/layer_3/attention/self/key/bias:0' shape=(1024,) dtype=float32_ref>,\n",
       " <tf.Variable 'bert/encoder/layer_3/attention/self/value/kernel:0' shape=(1024, 1024) dtype=float32_ref>,\n",
       " <tf.Variable 'bert/encoder/layer_3/attention/self/value/bias:0' shape=(1024,) dtype=float32_ref>,\n",
       " <tf.Variable 'bert/encoder/layer_3/attention/output/dense/kernel:0' shape=(1024, 1024) dtype=float32_ref>,\n",
       " <tf.Variable 'bert/encoder/layer_3/attention/output/dense/bias:0' shape=(1024,) dtype=float32_ref>,\n",
       " <tf.Variable 'bert/encoder/layer_3/attention/output/LayerNorm/beta:0' shape=(1024,) dtype=float32_ref>,\n",
       " <tf.Variable 'bert/encoder/layer_3/attention/output/LayerNorm/gamma:0' shape=(1024,) dtype=float32_ref>,\n",
       " <tf.Variable 'bert/encoder/layer_3/intermediate/dense/kernel:0' shape=(1024, 4096) dtype=float32_ref>,\n",
       " <tf.Variable 'bert/encoder/layer_3/intermediate/dense/bias:0' shape=(4096,) dtype=float32_ref>,\n",
       " <tf.Variable 'bert/encoder/layer_3/output/dense/kernel:0' shape=(4096, 1024) dtype=float32_ref>,\n",
       " <tf.Variable 'bert/encoder/layer_3/output/dense/bias:0' shape=(1024,) dtype=float32_ref>,\n",
       " <tf.Variable 'bert/encoder/layer_3/output/LayerNorm/beta:0' shape=(1024,) dtype=float32_ref>,\n",
       " <tf.Variable 'bert/encoder/layer_3/output/LayerNorm/gamma:0' shape=(1024,) dtype=float32_ref>,\n",
       " <tf.Variable 'bert/encoder/layer_4/attention/self/query/kernel:0' shape=(1024, 1024) dtype=float32_ref>,\n",
       " <tf.Variable 'bert/encoder/layer_4/attention/self/query/bias:0' shape=(1024,) dtype=float32_ref>,\n",
       " <tf.Variable 'bert/encoder/layer_4/attention/self/key/kernel:0' shape=(1024, 1024) dtype=float32_ref>,\n",
       " <tf.Variable 'bert/encoder/layer_4/attention/self/key/bias:0' shape=(1024,) dtype=float32_ref>,\n",
       " <tf.Variable 'bert/encoder/layer_4/attention/self/value/kernel:0' shape=(1024, 1024) dtype=float32_ref>,\n",
       " <tf.Variable 'bert/encoder/layer_4/attention/self/value/bias:0' shape=(1024,) dtype=float32_ref>,\n",
       " <tf.Variable 'bert/encoder/layer_4/attention/output/dense/kernel:0' shape=(1024, 1024) dtype=float32_ref>,\n",
       " <tf.Variable 'bert/encoder/layer_4/attention/output/dense/bias:0' shape=(1024,) dtype=float32_ref>,\n",
       " <tf.Variable 'bert/encoder/layer_4/attention/output/LayerNorm/beta:0' shape=(1024,) dtype=float32_ref>,\n",
       " <tf.Variable 'bert/encoder/layer_4/attention/output/LayerNorm/gamma:0' shape=(1024,) dtype=float32_ref>,\n",
       " <tf.Variable 'bert/encoder/layer_4/intermediate/dense/kernel:0' shape=(1024, 4096) dtype=float32_ref>,\n",
       " <tf.Variable 'bert/encoder/layer_4/intermediate/dense/bias:0' shape=(4096,) dtype=float32_ref>,\n",
       " <tf.Variable 'bert/encoder/layer_4/output/dense/kernel:0' shape=(4096, 1024) dtype=float32_ref>,\n",
       " <tf.Variable 'bert/encoder/layer_4/output/dense/bias:0' shape=(1024,) dtype=float32_ref>,\n",
       " <tf.Variable 'bert/encoder/layer_4/output/LayerNorm/beta:0' shape=(1024,) dtype=float32_ref>,\n",
       " <tf.Variable 'bert/encoder/layer_4/output/LayerNorm/gamma:0' shape=(1024,) dtype=float32_ref>,\n",
       " <tf.Variable 'bert/encoder/layer_5/attention/self/query/kernel:0' shape=(1024, 1024) dtype=float32_ref>,\n",
       " <tf.Variable 'bert/encoder/layer_5/attention/self/query/bias:0' shape=(1024,) dtype=float32_ref>,\n",
       " <tf.Variable 'bert/encoder/layer_5/attention/self/key/kernel:0' shape=(1024, 1024) dtype=float32_ref>,\n",
       " <tf.Variable 'bert/encoder/layer_5/attention/self/key/bias:0' shape=(1024,) dtype=float32_ref>,\n",
       " <tf.Variable 'bert/encoder/layer_5/attention/self/value/kernel:0' shape=(1024, 1024) dtype=float32_ref>,\n",
       " <tf.Variable 'bert/encoder/layer_5/attention/self/value/bias:0' shape=(1024,) dtype=float32_ref>,\n",
       " <tf.Variable 'bert/encoder/layer_5/attention/output/dense/kernel:0' shape=(1024, 1024) dtype=float32_ref>,\n",
       " <tf.Variable 'bert/encoder/layer_5/attention/output/dense/bias:0' shape=(1024,) dtype=float32_ref>,\n",
       " <tf.Variable 'bert/encoder/layer_5/attention/output/LayerNorm/beta:0' shape=(1024,) dtype=float32_ref>,\n",
       " <tf.Variable 'bert/encoder/layer_5/attention/output/LayerNorm/gamma:0' shape=(1024,) dtype=float32_ref>,\n",
       " <tf.Variable 'bert/encoder/layer_5/intermediate/dense/kernel:0' shape=(1024, 4096) dtype=float32_ref>,\n",
       " <tf.Variable 'bert/encoder/layer_5/intermediate/dense/bias:0' shape=(4096,) dtype=float32_ref>,\n",
       " <tf.Variable 'bert/encoder/layer_5/output/dense/kernel:0' shape=(4096, 1024) dtype=float32_ref>,\n",
       " <tf.Variable 'bert/encoder/layer_5/output/dense/bias:0' shape=(1024,) dtype=float32_ref>,\n",
       " <tf.Variable 'bert/encoder/layer_5/output/LayerNorm/beta:0' shape=(1024,) dtype=float32_ref>,\n",
       " <tf.Variable 'bert/encoder/layer_5/output/LayerNorm/gamma:0' shape=(1024,) dtype=float32_ref>,\n",
       " <tf.Variable 'bert/encoder/layer_6/attention/self/query/kernel:0' shape=(1024, 1024) dtype=float32_ref>,\n",
       " <tf.Variable 'bert/encoder/layer_6/attention/self/query/bias:0' shape=(1024,) dtype=float32_ref>,\n",
       " <tf.Variable 'bert/encoder/layer_6/attention/self/key/kernel:0' shape=(1024, 1024) dtype=float32_ref>,\n",
       " <tf.Variable 'bert/encoder/layer_6/attention/self/key/bias:0' shape=(1024,) dtype=float32_ref>,\n",
       " <tf.Variable 'bert/encoder/layer_6/attention/self/value/kernel:0' shape=(1024, 1024) dtype=float32_ref>,\n",
       " <tf.Variable 'bert/encoder/layer_6/attention/self/value/bias:0' shape=(1024,) dtype=float32_ref>,\n",
       " <tf.Variable 'bert/encoder/layer_6/attention/output/dense/kernel:0' shape=(1024, 1024) dtype=float32_ref>,\n",
       " <tf.Variable 'bert/encoder/layer_6/attention/output/dense/bias:0' shape=(1024,) dtype=float32_ref>,\n",
       " <tf.Variable 'bert/encoder/layer_6/attention/output/LayerNorm/beta:0' shape=(1024,) dtype=float32_ref>,\n",
       " <tf.Variable 'bert/encoder/layer_6/attention/output/LayerNorm/gamma:0' shape=(1024,) dtype=float32_ref>,\n",
       " <tf.Variable 'bert/encoder/layer_6/intermediate/dense/kernel:0' shape=(1024, 4096) dtype=float32_ref>,\n",
       " <tf.Variable 'bert/encoder/layer_6/intermediate/dense/bias:0' shape=(4096,) dtype=float32_ref>,\n",
       " <tf.Variable 'bert/encoder/layer_6/output/dense/kernel:0' shape=(4096, 1024) dtype=float32_ref>,\n",
       " <tf.Variable 'bert/encoder/layer_6/output/dense/bias:0' shape=(1024,) dtype=float32_ref>,\n",
       " <tf.Variable 'bert/encoder/layer_6/output/LayerNorm/beta:0' shape=(1024,) dtype=float32_ref>,\n",
       " <tf.Variable 'bert/encoder/layer_6/output/LayerNorm/gamma:0' shape=(1024,) dtype=float32_ref>,\n",
       " <tf.Variable 'bert/encoder/layer_7/attention/self/query/kernel:0' shape=(1024, 1024) dtype=float32_ref>,\n",
       " <tf.Variable 'bert/encoder/layer_7/attention/self/query/bias:0' shape=(1024,) dtype=float32_ref>,\n",
       " <tf.Variable 'bert/encoder/layer_7/attention/self/key/kernel:0' shape=(1024, 1024) dtype=float32_ref>,\n",
       " <tf.Variable 'bert/encoder/layer_7/attention/self/key/bias:0' shape=(1024,) dtype=float32_ref>,\n",
       " <tf.Variable 'bert/encoder/layer_7/attention/self/value/kernel:0' shape=(1024, 1024) dtype=float32_ref>,\n",
       " <tf.Variable 'bert/encoder/layer_7/attention/self/value/bias:0' shape=(1024,) dtype=float32_ref>,\n",
       " <tf.Variable 'bert/encoder/layer_7/attention/output/dense/kernel:0' shape=(1024, 1024) dtype=float32_ref>,\n",
       " <tf.Variable 'bert/encoder/layer_7/attention/output/dense/bias:0' shape=(1024,) dtype=float32_ref>,\n",
       " <tf.Variable 'bert/encoder/layer_7/attention/output/LayerNorm/beta:0' shape=(1024,) dtype=float32_ref>,\n",
       " <tf.Variable 'bert/encoder/layer_7/attention/output/LayerNorm/gamma:0' shape=(1024,) dtype=float32_ref>,\n",
       " <tf.Variable 'bert/encoder/layer_7/intermediate/dense/kernel:0' shape=(1024, 4096) dtype=float32_ref>,\n",
       " <tf.Variable 'bert/encoder/layer_7/intermediate/dense/bias:0' shape=(4096,) dtype=float32_ref>,\n",
       " <tf.Variable 'bert/encoder/layer_7/output/dense/kernel:0' shape=(4096, 1024) dtype=float32_ref>,\n",
       " <tf.Variable 'bert/encoder/layer_7/output/dense/bias:0' shape=(1024,) dtype=float32_ref>,\n",
       " <tf.Variable 'bert/encoder/layer_7/output/LayerNorm/beta:0' shape=(1024,) dtype=float32_ref>,\n",
       " <tf.Variable 'bert/encoder/layer_7/output/LayerNorm/gamma:0' shape=(1024,) dtype=float32_ref>,\n",
       " <tf.Variable 'bert/encoder/layer_8/attention/self/query/kernel:0' shape=(1024, 1024) dtype=float32_ref>,\n",
       " <tf.Variable 'bert/encoder/layer_8/attention/self/query/bias:0' shape=(1024,) dtype=float32_ref>,\n",
       " <tf.Variable 'bert/encoder/layer_8/attention/self/key/kernel:0' shape=(1024, 1024) dtype=float32_ref>,\n",
       " <tf.Variable 'bert/encoder/layer_8/attention/self/key/bias:0' shape=(1024,) dtype=float32_ref>,\n",
       " <tf.Variable 'bert/encoder/layer_8/attention/self/value/kernel:0' shape=(1024, 1024) dtype=float32_ref>,\n",
       " <tf.Variable 'bert/encoder/layer_8/attention/self/value/bias:0' shape=(1024,) dtype=float32_ref>,\n",
       " <tf.Variable 'bert/encoder/layer_8/attention/output/dense/kernel:0' shape=(1024, 1024) dtype=float32_ref>,\n",
       " <tf.Variable 'bert/encoder/layer_8/attention/output/dense/bias:0' shape=(1024,) dtype=float32_ref>,\n",
       " <tf.Variable 'bert/encoder/layer_8/attention/output/LayerNorm/beta:0' shape=(1024,) dtype=float32_ref>,\n",
       " <tf.Variable 'bert/encoder/layer_8/attention/output/LayerNorm/gamma:0' shape=(1024,) dtype=float32_ref>,\n",
       " <tf.Variable 'bert/encoder/layer_8/intermediate/dense/kernel:0' shape=(1024, 4096) dtype=float32_ref>,\n",
       " <tf.Variable 'bert/encoder/layer_8/intermediate/dense/bias:0' shape=(4096,) dtype=float32_ref>,\n",
       " <tf.Variable 'bert/encoder/layer_8/output/dense/kernel:0' shape=(4096, 1024) dtype=float32_ref>,\n",
       " <tf.Variable 'bert/encoder/layer_8/output/dense/bias:0' shape=(1024,) dtype=float32_ref>,\n",
       " <tf.Variable 'bert/encoder/layer_8/output/LayerNorm/beta:0' shape=(1024,) dtype=float32_ref>,\n",
       " <tf.Variable 'bert/encoder/layer_8/output/LayerNorm/gamma:0' shape=(1024,) dtype=float32_ref>,\n",
       " <tf.Variable 'bert/encoder/layer_9/attention/self/query/kernel:0' shape=(1024, 1024) dtype=float32_ref>,\n",
       " <tf.Variable 'bert/encoder/layer_9/attention/self/query/bias:0' shape=(1024,) dtype=float32_ref>,\n",
       " <tf.Variable 'bert/encoder/layer_9/attention/self/key/kernel:0' shape=(1024, 1024) dtype=float32_ref>,\n",
       " <tf.Variable 'bert/encoder/layer_9/attention/self/key/bias:0' shape=(1024,) dtype=float32_ref>,\n",
       " <tf.Variable 'bert/encoder/layer_9/attention/self/value/kernel:0' shape=(1024, 1024) dtype=float32_ref>,\n",
       " <tf.Variable 'bert/encoder/layer_9/attention/self/value/bias:0' shape=(1024,) dtype=float32_ref>,\n",
       " <tf.Variable 'bert/encoder/layer_9/attention/output/dense/kernel:0' shape=(1024, 1024) dtype=float32_ref>,\n",
       " <tf.Variable 'bert/encoder/layer_9/attention/output/dense/bias:0' shape=(1024,) dtype=float32_ref>,\n",
       " <tf.Variable 'bert/encoder/layer_9/attention/output/LayerNorm/beta:0' shape=(1024,) dtype=float32_ref>,\n",
       " <tf.Variable 'bert/encoder/layer_9/attention/output/LayerNorm/gamma:0' shape=(1024,) dtype=float32_ref>,\n",
       " <tf.Variable 'bert/encoder/layer_9/intermediate/dense/kernel:0' shape=(1024, 4096) dtype=float32_ref>,\n",
       " <tf.Variable 'bert/encoder/layer_9/intermediate/dense/bias:0' shape=(4096,) dtype=float32_ref>,\n",
       " <tf.Variable 'bert/encoder/layer_9/output/dense/kernel:0' shape=(4096, 1024) dtype=float32_ref>,\n",
       " <tf.Variable 'bert/encoder/layer_9/output/dense/bias:0' shape=(1024,) dtype=float32_ref>,\n",
       " <tf.Variable 'bert/encoder/layer_9/output/LayerNorm/beta:0' shape=(1024,) dtype=float32_ref>,\n",
       " <tf.Variable 'bert/encoder/layer_9/output/LayerNorm/gamma:0' shape=(1024,) dtype=float32_ref>,\n",
       " <tf.Variable 'bert/encoder/layer_10/attention/self/query/kernel:0' shape=(1024, 1024) dtype=float32_ref>,\n",
       " <tf.Variable 'bert/encoder/layer_10/attention/self/query/bias:0' shape=(1024,) dtype=float32_ref>,\n",
       " <tf.Variable 'bert/encoder/layer_10/attention/self/key/kernel:0' shape=(1024, 1024) dtype=float32_ref>,\n",
       " <tf.Variable 'bert/encoder/layer_10/attention/self/key/bias:0' shape=(1024,) dtype=float32_ref>,\n",
       " <tf.Variable 'bert/encoder/layer_10/attention/self/value/kernel:0' shape=(1024, 1024) dtype=float32_ref>,\n",
       " <tf.Variable 'bert/encoder/layer_10/attention/self/value/bias:0' shape=(1024,) dtype=float32_ref>,\n",
       " <tf.Variable 'bert/encoder/layer_10/attention/output/dense/kernel:0' shape=(1024, 1024) dtype=float32_ref>,\n",
       " <tf.Variable 'bert/encoder/layer_10/attention/output/dense/bias:0' shape=(1024,) dtype=float32_ref>,\n",
       " <tf.Variable 'bert/encoder/layer_10/attention/output/LayerNorm/beta:0' shape=(1024,) dtype=float32_ref>,\n",
       " <tf.Variable 'bert/encoder/layer_10/attention/output/LayerNorm/gamma:0' shape=(1024,) dtype=float32_ref>,\n",
       " <tf.Variable 'bert/encoder/layer_10/intermediate/dense/kernel:0' shape=(1024, 4096) dtype=float32_ref>,\n",
       " <tf.Variable 'bert/encoder/layer_10/intermediate/dense/bias:0' shape=(4096,) dtype=float32_ref>,\n",
       " <tf.Variable 'bert/encoder/layer_10/output/dense/kernel:0' shape=(4096, 1024) dtype=float32_ref>,\n",
       " <tf.Variable 'bert/encoder/layer_10/output/dense/bias:0' shape=(1024,) dtype=float32_ref>,\n",
       " <tf.Variable 'bert/encoder/layer_10/output/LayerNorm/beta:0' shape=(1024,) dtype=float32_ref>,\n",
       " <tf.Variable 'bert/encoder/layer_10/output/LayerNorm/gamma:0' shape=(1024,) dtype=float32_ref>,\n",
       " <tf.Variable 'bert/encoder/layer_11/attention/self/query/kernel:0' shape=(1024, 1024) dtype=float32_ref>,\n",
       " <tf.Variable 'bert/encoder/layer_11/attention/self/query/bias:0' shape=(1024,) dtype=float32_ref>,\n",
       " <tf.Variable 'bert/encoder/layer_11/attention/self/key/kernel:0' shape=(1024, 1024) dtype=float32_ref>,\n",
       " <tf.Variable 'bert/encoder/layer_11/attention/self/key/bias:0' shape=(1024,) dtype=float32_ref>,\n",
       " <tf.Variable 'bert/encoder/layer_11/attention/self/value/kernel:0' shape=(1024, 1024) dtype=float32_ref>,\n",
       " <tf.Variable 'bert/encoder/layer_11/attention/self/value/bias:0' shape=(1024,) dtype=float32_ref>,\n",
       " <tf.Variable 'bert/encoder/layer_11/attention/output/dense/kernel:0' shape=(1024, 1024) dtype=float32_ref>,\n",
       " <tf.Variable 'bert/encoder/layer_11/attention/output/dense/bias:0' shape=(1024,) dtype=float32_ref>,\n",
       " <tf.Variable 'bert/encoder/layer_11/attention/output/LayerNorm/beta:0' shape=(1024,) dtype=float32_ref>,\n",
       " <tf.Variable 'bert/encoder/layer_11/attention/output/LayerNorm/gamma:0' shape=(1024,) dtype=float32_ref>,\n",
       " <tf.Variable 'bert/encoder/layer_11/intermediate/dense/kernel:0' shape=(1024, 4096) dtype=float32_ref>,\n",
       " <tf.Variable 'bert/encoder/layer_11/intermediate/dense/bias:0' shape=(4096,) dtype=float32_ref>,\n",
       " <tf.Variable 'bert/encoder/layer_11/output/dense/kernel:0' shape=(4096, 1024) dtype=float32_ref>,\n",
       " <tf.Variable 'bert/encoder/layer_11/output/dense/bias:0' shape=(1024,) dtype=float32_ref>,\n",
       " <tf.Variable 'bert/encoder/layer_11/output/LayerNorm/beta:0' shape=(1024,) dtype=float32_ref>,\n",
       " <tf.Variable 'bert/encoder/layer_11/output/LayerNorm/gamma:0' shape=(1024,) dtype=float32_ref>,\n",
       " <tf.Variable 'bert/pooler/dense/kernel:0' shape=(1024, 1024) dtype=float32_ref>,\n",
       " <tf.Variable 'bert/pooler/dense/bias:0' shape=(1024,) dtype=float32_ref>,\n",
       " <tf.Variable 'dense/kernel:0' shape=(1024, 2) dtype=float32_ref>,\n",
       " <tf.Variable 'dense/bias:0' shape=(2,) dtype=float32_ref>]"
      ]
     },
     "execution_count": 17,
     "metadata": {},
     "output_type": "execute_result"
    }
   ],
   "source": [
    "tvars = tf.trainable_variables()\n",
    "tvars"
   ]
  },
  {
   "cell_type": "code",
   "execution_count": 18,
   "metadata": {},
   "outputs": [],
   "source": [
    "def get_assignment_map_from_checkpoint(tvars, init_checkpoint):\n",
    "    \"\"\"Compute the union of the current variables and checkpoint variables.\"\"\"\n",
    "    assignment_map = {}\n",
    "    initialized_variable_names = {}\n",
    "\n",
    "    name_to_variable = collections.OrderedDict()\n",
    "    for var in tvars:\n",
    "        name = var.name\n",
    "        m = re.match('^(.*):\\\\d+$', name)\n",
    "        if m is not None:\n",
    "            name = m.group(1)\n",
    "        name_to_variable[name] = var\n",
    "\n",
    "    init_vars = tf.train.list_variables(init_checkpoint)\n",
    "\n",
    "    assignment_map = collections.OrderedDict()\n",
    "    for x in init_vars:\n",
    "        (name, var) = (x[0], x[1])\n",
    "        if name not in name_to_variable:\n",
    "            continue\n",
    "        assignment_map[name] = name_to_variable[name]\n",
    "        initialized_variable_names[name] = 1\n",
    "        initialized_variable_names[name + ':0'] = 1\n",
    "\n",
    "    return (assignment_map, initialized_variable_names)"
   ]
  },
  {
   "cell_type": "code",
   "execution_count": 19,
   "metadata": {},
   "outputs": [
    {
     "data": {
      "text/plain": [
       "{'bert/embeddings/LayerNorm/beta': 1,\n",
       " 'bert/embeddings/LayerNorm/beta:0': 1,\n",
       " 'bert/embeddings/LayerNorm/gamma': 1,\n",
       " 'bert/embeddings/LayerNorm/gamma:0': 1,\n",
       " 'bert/embeddings/position_embeddings': 1,\n",
       " 'bert/embeddings/position_embeddings:0': 1,\n",
       " 'bert/embeddings/token_type_embeddings': 1,\n",
       " 'bert/embeddings/token_type_embeddings:0': 1,\n",
       " 'bert/embeddings/word_embeddings': 1,\n",
       " 'bert/embeddings/word_embeddings:0': 1,\n",
       " 'bert/encoder/layer_0/attention/output/LayerNorm/beta': 1,\n",
       " 'bert/encoder/layer_0/attention/output/LayerNorm/beta:0': 1,\n",
       " 'bert/encoder/layer_0/attention/output/LayerNorm/gamma': 1,\n",
       " 'bert/encoder/layer_0/attention/output/LayerNorm/gamma:0': 1,\n",
       " 'bert/encoder/layer_0/attention/output/dense/bias': 1,\n",
       " 'bert/encoder/layer_0/attention/output/dense/bias:0': 1,\n",
       " 'bert/encoder/layer_0/attention/output/dense/kernel': 1,\n",
       " 'bert/encoder/layer_0/attention/output/dense/kernel:0': 1,\n",
       " 'bert/encoder/layer_0/attention/self/key/bias': 1,\n",
       " 'bert/encoder/layer_0/attention/self/key/bias:0': 1,\n",
       " 'bert/encoder/layer_0/attention/self/key/kernel': 1,\n",
       " 'bert/encoder/layer_0/attention/self/key/kernel:0': 1,\n",
       " 'bert/encoder/layer_0/attention/self/query/bias': 1,\n",
       " 'bert/encoder/layer_0/attention/self/query/bias:0': 1,\n",
       " 'bert/encoder/layer_0/attention/self/query/kernel': 1,\n",
       " 'bert/encoder/layer_0/attention/self/query/kernel:0': 1,\n",
       " 'bert/encoder/layer_0/attention/self/value/bias': 1,\n",
       " 'bert/encoder/layer_0/attention/self/value/bias:0': 1,\n",
       " 'bert/encoder/layer_0/attention/self/value/kernel': 1,\n",
       " 'bert/encoder/layer_0/attention/self/value/kernel:0': 1,\n",
       " 'bert/encoder/layer_0/intermediate/dense/bias': 1,\n",
       " 'bert/encoder/layer_0/intermediate/dense/bias:0': 1,\n",
       " 'bert/encoder/layer_0/intermediate/dense/kernel': 1,\n",
       " 'bert/encoder/layer_0/intermediate/dense/kernel:0': 1,\n",
       " 'bert/encoder/layer_0/output/LayerNorm/beta': 1,\n",
       " 'bert/encoder/layer_0/output/LayerNorm/beta:0': 1,\n",
       " 'bert/encoder/layer_0/output/LayerNorm/gamma': 1,\n",
       " 'bert/encoder/layer_0/output/LayerNorm/gamma:0': 1,\n",
       " 'bert/encoder/layer_0/output/dense/bias': 1,\n",
       " 'bert/encoder/layer_0/output/dense/bias:0': 1,\n",
       " 'bert/encoder/layer_0/output/dense/kernel': 1,\n",
       " 'bert/encoder/layer_0/output/dense/kernel:0': 1,\n",
       " 'bert/encoder/layer_1/attention/output/LayerNorm/beta': 1,\n",
       " 'bert/encoder/layer_1/attention/output/LayerNorm/beta:0': 1,\n",
       " 'bert/encoder/layer_1/attention/output/LayerNorm/gamma': 1,\n",
       " 'bert/encoder/layer_1/attention/output/LayerNorm/gamma:0': 1,\n",
       " 'bert/encoder/layer_1/attention/output/dense/bias': 1,\n",
       " 'bert/encoder/layer_1/attention/output/dense/bias:0': 1,\n",
       " 'bert/encoder/layer_1/attention/output/dense/kernel': 1,\n",
       " 'bert/encoder/layer_1/attention/output/dense/kernel:0': 1,\n",
       " 'bert/encoder/layer_1/attention/self/key/bias': 1,\n",
       " 'bert/encoder/layer_1/attention/self/key/bias:0': 1,\n",
       " 'bert/encoder/layer_1/attention/self/key/kernel': 1,\n",
       " 'bert/encoder/layer_1/attention/self/key/kernel:0': 1,\n",
       " 'bert/encoder/layer_1/attention/self/query/bias': 1,\n",
       " 'bert/encoder/layer_1/attention/self/query/bias:0': 1,\n",
       " 'bert/encoder/layer_1/attention/self/query/kernel': 1,\n",
       " 'bert/encoder/layer_1/attention/self/query/kernel:0': 1,\n",
       " 'bert/encoder/layer_1/attention/self/value/bias': 1,\n",
       " 'bert/encoder/layer_1/attention/self/value/bias:0': 1,\n",
       " 'bert/encoder/layer_1/attention/self/value/kernel': 1,\n",
       " 'bert/encoder/layer_1/attention/self/value/kernel:0': 1,\n",
       " 'bert/encoder/layer_1/intermediate/dense/bias': 1,\n",
       " 'bert/encoder/layer_1/intermediate/dense/bias:0': 1,\n",
       " 'bert/encoder/layer_1/intermediate/dense/kernel': 1,\n",
       " 'bert/encoder/layer_1/intermediate/dense/kernel:0': 1,\n",
       " 'bert/encoder/layer_1/output/LayerNorm/beta': 1,\n",
       " 'bert/encoder/layer_1/output/LayerNorm/beta:0': 1,\n",
       " 'bert/encoder/layer_1/output/LayerNorm/gamma': 1,\n",
       " 'bert/encoder/layer_1/output/LayerNorm/gamma:0': 1,\n",
       " 'bert/encoder/layer_1/output/dense/bias': 1,\n",
       " 'bert/encoder/layer_1/output/dense/bias:0': 1,\n",
       " 'bert/encoder/layer_1/output/dense/kernel': 1,\n",
       " 'bert/encoder/layer_1/output/dense/kernel:0': 1,\n",
       " 'bert/encoder/layer_10/attention/output/LayerNorm/beta': 1,\n",
       " 'bert/encoder/layer_10/attention/output/LayerNorm/beta:0': 1,\n",
       " 'bert/encoder/layer_10/attention/output/LayerNorm/gamma': 1,\n",
       " 'bert/encoder/layer_10/attention/output/LayerNorm/gamma:0': 1,\n",
       " 'bert/encoder/layer_10/attention/output/dense/bias': 1,\n",
       " 'bert/encoder/layer_10/attention/output/dense/bias:0': 1,\n",
       " 'bert/encoder/layer_10/attention/output/dense/kernel': 1,\n",
       " 'bert/encoder/layer_10/attention/output/dense/kernel:0': 1,\n",
       " 'bert/encoder/layer_10/attention/self/key/bias': 1,\n",
       " 'bert/encoder/layer_10/attention/self/key/bias:0': 1,\n",
       " 'bert/encoder/layer_10/attention/self/key/kernel': 1,\n",
       " 'bert/encoder/layer_10/attention/self/key/kernel:0': 1,\n",
       " 'bert/encoder/layer_10/attention/self/query/bias': 1,\n",
       " 'bert/encoder/layer_10/attention/self/query/bias:0': 1,\n",
       " 'bert/encoder/layer_10/attention/self/query/kernel': 1,\n",
       " 'bert/encoder/layer_10/attention/self/query/kernel:0': 1,\n",
       " 'bert/encoder/layer_10/attention/self/value/bias': 1,\n",
       " 'bert/encoder/layer_10/attention/self/value/bias:0': 1,\n",
       " 'bert/encoder/layer_10/attention/self/value/kernel': 1,\n",
       " 'bert/encoder/layer_10/attention/self/value/kernel:0': 1,\n",
       " 'bert/encoder/layer_10/intermediate/dense/bias': 1,\n",
       " 'bert/encoder/layer_10/intermediate/dense/bias:0': 1,\n",
       " 'bert/encoder/layer_10/intermediate/dense/kernel': 1,\n",
       " 'bert/encoder/layer_10/intermediate/dense/kernel:0': 1,\n",
       " 'bert/encoder/layer_10/output/LayerNorm/beta': 1,\n",
       " 'bert/encoder/layer_10/output/LayerNorm/beta:0': 1,\n",
       " 'bert/encoder/layer_10/output/LayerNorm/gamma': 1,\n",
       " 'bert/encoder/layer_10/output/LayerNorm/gamma:0': 1,\n",
       " 'bert/encoder/layer_10/output/dense/bias': 1,\n",
       " 'bert/encoder/layer_10/output/dense/bias:0': 1,\n",
       " 'bert/encoder/layer_10/output/dense/kernel': 1,\n",
       " 'bert/encoder/layer_10/output/dense/kernel:0': 1,\n",
       " 'bert/encoder/layer_11/attention/output/LayerNorm/beta': 1,\n",
       " 'bert/encoder/layer_11/attention/output/LayerNorm/beta:0': 1,\n",
       " 'bert/encoder/layer_11/attention/output/LayerNorm/gamma': 1,\n",
       " 'bert/encoder/layer_11/attention/output/LayerNorm/gamma:0': 1,\n",
       " 'bert/encoder/layer_11/attention/output/dense/bias': 1,\n",
       " 'bert/encoder/layer_11/attention/output/dense/bias:0': 1,\n",
       " 'bert/encoder/layer_11/attention/output/dense/kernel': 1,\n",
       " 'bert/encoder/layer_11/attention/output/dense/kernel:0': 1,\n",
       " 'bert/encoder/layer_11/attention/self/key/bias': 1,\n",
       " 'bert/encoder/layer_11/attention/self/key/bias:0': 1,\n",
       " 'bert/encoder/layer_11/attention/self/key/kernel': 1,\n",
       " 'bert/encoder/layer_11/attention/self/key/kernel:0': 1,\n",
       " 'bert/encoder/layer_11/attention/self/query/bias': 1,\n",
       " 'bert/encoder/layer_11/attention/self/query/bias:0': 1,\n",
       " 'bert/encoder/layer_11/attention/self/query/kernel': 1,\n",
       " 'bert/encoder/layer_11/attention/self/query/kernel:0': 1,\n",
       " 'bert/encoder/layer_11/attention/self/value/bias': 1,\n",
       " 'bert/encoder/layer_11/attention/self/value/bias:0': 1,\n",
       " 'bert/encoder/layer_11/attention/self/value/kernel': 1,\n",
       " 'bert/encoder/layer_11/attention/self/value/kernel:0': 1,\n",
       " 'bert/encoder/layer_11/intermediate/dense/bias': 1,\n",
       " 'bert/encoder/layer_11/intermediate/dense/bias:0': 1,\n",
       " 'bert/encoder/layer_11/intermediate/dense/kernel': 1,\n",
       " 'bert/encoder/layer_11/intermediate/dense/kernel:0': 1,\n",
       " 'bert/encoder/layer_11/output/LayerNorm/beta': 1,\n",
       " 'bert/encoder/layer_11/output/LayerNorm/beta:0': 1,\n",
       " 'bert/encoder/layer_11/output/LayerNorm/gamma': 1,\n",
       " 'bert/encoder/layer_11/output/LayerNorm/gamma:0': 1,\n",
       " 'bert/encoder/layer_11/output/dense/bias': 1,\n",
       " 'bert/encoder/layer_11/output/dense/bias:0': 1,\n",
       " 'bert/encoder/layer_11/output/dense/kernel': 1,\n",
       " 'bert/encoder/layer_11/output/dense/kernel:0': 1,\n",
       " 'bert/encoder/layer_2/attention/output/LayerNorm/beta': 1,\n",
       " 'bert/encoder/layer_2/attention/output/LayerNorm/beta:0': 1,\n",
       " 'bert/encoder/layer_2/attention/output/LayerNorm/gamma': 1,\n",
       " 'bert/encoder/layer_2/attention/output/LayerNorm/gamma:0': 1,\n",
       " 'bert/encoder/layer_2/attention/output/dense/bias': 1,\n",
       " 'bert/encoder/layer_2/attention/output/dense/bias:0': 1,\n",
       " 'bert/encoder/layer_2/attention/output/dense/kernel': 1,\n",
       " 'bert/encoder/layer_2/attention/output/dense/kernel:0': 1,\n",
       " 'bert/encoder/layer_2/attention/self/key/bias': 1,\n",
       " 'bert/encoder/layer_2/attention/self/key/bias:0': 1,\n",
       " 'bert/encoder/layer_2/attention/self/key/kernel': 1,\n",
       " 'bert/encoder/layer_2/attention/self/key/kernel:0': 1,\n",
       " 'bert/encoder/layer_2/attention/self/query/bias': 1,\n",
       " 'bert/encoder/layer_2/attention/self/query/bias:0': 1,\n",
       " 'bert/encoder/layer_2/attention/self/query/kernel': 1,\n",
       " 'bert/encoder/layer_2/attention/self/query/kernel:0': 1,\n",
       " 'bert/encoder/layer_2/attention/self/value/bias': 1,\n",
       " 'bert/encoder/layer_2/attention/self/value/bias:0': 1,\n",
       " 'bert/encoder/layer_2/attention/self/value/kernel': 1,\n",
       " 'bert/encoder/layer_2/attention/self/value/kernel:0': 1,\n",
       " 'bert/encoder/layer_2/intermediate/dense/bias': 1,\n",
       " 'bert/encoder/layer_2/intermediate/dense/bias:0': 1,\n",
       " 'bert/encoder/layer_2/intermediate/dense/kernel': 1,\n",
       " 'bert/encoder/layer_2/intermediate/dense/kernel:0': 1,\n",
       " 'bert/encoder/layer_2/output/LayerNorm/beta': 1,\n",
       " 'bert/encoder/layer_2/output/LayerNorm/beta:0': 1,\n",
       " 'bert/encoder/layer_2/output/LayerNorm/gamma': 1,\n",
       " 'bert/encoder/layer_2/output/LayerNorm/gamma:0': 1,\n",
       " 'bert/encoder/layer_2/output/dense/bias': 1,\n",
       " 'bert/encoder/layer_2/output/dense/bias:0': 1,\n",
       " 'bert/encoder/layer_2/output/dense/kernel': 1,\n",
       " 'bert/encoder/layer_2/output/dense/kernel:0': 1,\n",
       " 'bert/encoder/layer_3/attention/output/LayerNorm/beta': 1,\n",
       " 'bert/encoder/layer_3/attention/output/LayerNorm/beta:0': 1,\n",
       " 'bert/encoder/layer_3/attention/output/LayerNorm/gamma': 1,\n",
       " 'bert/encoder/layer_3/attention/output/LayerNorm/gamma:0': 1,\n",
       " 'bert/encoder/layer_3/attention/output/dense/bias': 1,\n",
       " 'bert/encoder/layer_3/attention/output/dense/bias:0': 1,\n",
       " 'bert/encoder/layer_3/attention/output/dense/kernel': 1,\n",
       " 'bert/encoder/layer_3/attention/output/dense/kernel:0': 1,\n",
       " 'bert/encoder/layer_3/attention/self/key/bias': 1,\n",
       " 'bert/encoder/layer_3/attention/self/key/bias:0': 1,\n",
       " 'bert/encoder/layer_3/attention/self/key/kernel': 1,\n",
       " 'bert/encoder/layer_3/attention/self/key/kernel:0': 1,\n",
       " 'bert/encoder/layer_3/attention/self/query/bias': 1,\n",
       " 'bert/encoder/layer_3/attention/self/query/bias:0': 1,\n",
       " 'bert/encoder/layer_3/attention/self/query/kernel': 1,\n",
       " 'bert/encoder/layer_3/attention/self/query/kernel:0': 1,\n",
       " 'bert/encoder/layer_3/attention/self/value/bias': 1,\n",
       " 'bert/encoder/layer_3/attention/self/value/bias:0': 1,\n",
       " 'bert/encoder/layer_3/attention/self/value/kernel': 1,\n",
       " 'bert/encoder/layer_3/attention/self/value/kernel:0': 1,\n",
       " 'bert/encoder/layer_3/intermediate/dense/bias': 1,\n",
       " 'bert/encoder/layer_3/intermediate/dense/bias:0': 1,\n",
       " 'bert/encoder/layer_3/intermediate/dense/kernel': 1,\n",
       " 'bert/encoder/layer_3/intermediate/dense/kernel:0': 1,\n",
       " 'bert/encoder/layer_3/output/LayerNorm/beta': 1,\n",
       " 'bert/encoder/layer_3/output/LayerNorm/beta:0': 1,\n",
       " 'bert/encoder/layer_3/output/LayerNorm/gamma': 1,\n",
       " 'bert/encoder/layer_3/output/LayerNorm/gamma:0': 1,\n",
       " 'bert/encoder/layer_3/output/dense/bias': 1,\n",
       " 'bert/encoder/layer_3/output/dense/bias:0': 1,\n",
       " 'bert/encoder/layer_3/output/dense/kernel': 1,\n",
       " 'bert/encoder/layer_3/output/dense/kernel:0': 1,\n",
       " 'bert/encoder/layer_4/attention/output/LayerNorm/beta': 1,\n",
       " 'bert/encoder/layer_4/attention/output/LayerNorm/beta:0': 1,\n",
       " 'bert/encoder/layer_4/attention/output/LayerNorm/gamma': 1,\n",
       " 'bert/encoder/layer_4/attention/output/LayerNorm/gamma:0': 1,\n",
       " 'bert/encoder/layer_4/attention/output/dense/bias': 1,\n",
       " 'bert/encoder/layer_4/attention/output/dense/bias:0': 1,\n",
       " 'bert/encoder/layer_4/attention/output/dense/kernel': 1,\n",
       " 'bert/encoder/layer_4/attention/output/dense/kernel:0': 1,\n",
       " 'bert/encoder/layer_4/attention/self/key/bias': 1,\n",
       " 'bert/encoder/layer_4/attention/self/key/bias:0': 1,\n",
       " 'bert/encoder/layer_4/attention/self/key/kernel': 1,\n",
       " 'bert/encoder/layer_4/attention/self/key/kernel:0': 1,\n",
       " 'bert/encoder/layer_4/attention/self/query/bias': 1,\n",
       " 'bert/encoder/layer_4/attention/self/query/bias:0': 1,\n",
       " 'bert/encoder/layer_4/attention/self/query/kernel': 1,\n",
       " 'bert/encoder/layer_4/attention/self/query/kernel:0': 1,\n",
       " 'bert/encoder/layer_4/attention/self/value/bias': 1,\n",
       " 'bert/encoder/layer_4/attention/self/value/bias:0': 1,\n",
       " 'bert/encoder/layer_4/attention/self/value/kernel': 1,\n",
       " 'bert/encoder/layer_4/attention/self/value/kernel:0': 1,\n",
       " 'bert/encoder/layer_4/intermediate/dense/bias': 1,\n",
       " 'bert/encoder/layer_4/intermediate/dense/bias:0': 1,\n",
       " 'bert/encoder/layer_4/intermediate/dense/kernel': 1,\n",
       " 'bert/encoder/layer_4/intermediate/dense/kernel:0': 1,\n",
       " 'bert/encoder/layer_4/output/LayerNorm/beta': 1,\n",
       " 'bert/encoder/layer_4/output/LayerNorm/beta:0': 1,\n",
       " 'bert/encoder/layer_4/output/LayerNorm/gamma': 1,\n",
       " 'bert/encoder/layer_4/output/LayerNorm/gamma:0': 1,\n",
       " 'bert/encoder/layer_4/output/dense/bias': 1,\n",
       " 'bert/encoder/layer_4/output/dense/bias:0': 1,\n",
       " 'bert/encoder/layer_4/output/dense/kernel': 1,\n",
       " 'bert/encoder/layer_4/output/dense/kernel:0': 1,\n",
       " 'bert/encoder/layer_5/attention/output/LayerNorm/beta': 1,\n",
       " 'bert/encoder/layer_5/attention/output/LayerNorm/beta:0': 1,\n",
       " 'bert/encoder/layer_5/attention/output/LayerNorm/gamma': 1,\n",
       " 'bert/encoder/layer_5/attention/output/LayerNorm/gamma:0': 1,\n",
       " 'bert/encoder/layer_5/attention/output/dense/bias': 1,\n",
       " 'bert/encoder/layer_5/attention/output/dense/bias:0': 1,\n",
       " 'bert/encoder/layer_5/attention/output/dense/kernel': 1,\n",
       " 'bert/encoder/layer_5/attention/output/dense/kernel:0': 1,\n",
       " 'bert/encoder/layer_5/attention/self/key/bias': 1,\n",
       " 'bert/encoder/layer_5/attention/self/key/bias:0': 1,\n",
       " 'bert/encoder/layer_5/attention/self/key/kernel': 1,\n",
       " 'bert/encoder/layer_5/attention/self/key/kernel:0': 1,\n",
       " 'bert/encoder/layer_5/attention/self/query/bias': 1,\n",
       " 'bert/encoder/layer_5/attention/self/query/bias:0': 1,\n",
       " 'bert/encoder/layer_5/attention/self/query/kernel': 1,\n",
       " 'bert/encoder/layer_5/attention/self/query/kernel:0': 1,\n",
       " 'bert/encoder/layer_5/attention/self/value/bias': 1,\n",
       " 'bert/encoder/layer_5/attention/self/value/bias:0': 1,\n",
       " 'bert/encoder/layer_5/attention/self/value/kernel': 1,\n",
       " 'bert/encoder/layer_5/attention/self/value/kernel:0': 1,\n",
       " 'bert/encoder/layer_5/intermediate/dense/bias': 1,\n",
       " 'bert/encoder/layer_5/intermediate/dense/bias:0': 1,\n",
       " 'bert/encoder/layer_5/intermediate/dense/kernel': 1,\n",
       " 'bert/encoder/layer_5/intermediate/dense/kernel:0': 1,\n",
       " 'bert/encoder/layer_5/output/LayerNorm/beta': 1,\n",
       " 'bert/encoder/layer_5/output/LayerNorm/beta:0': 1,\n",
       " 'bert/encoder/layer_5/output/LayerNorm/gamma': 1,\n",
       " 'bert/encoder/layer_5/output/LayerNorm/gamma:0': 1,\n",
       " 'bert/encoder/layer_5/output/dense/bias': 1,\n",
       " 'bert/encoder/layer_5/output/dense/bias:0': 1,\n",
       " 'bert/encoder/layer_5/output/dense/kernel': 1,\n",
       " 'bert/encoder/layer_5/output/dense/kernel:0': 1,\n",
       " 'bert/encoder/layer_6/attention/output/LayerNorm/beta': 1,\n",
       " 'bert/encoder/layer_6/attention/output/LayerNorm/beta:0': 1,\n",
       " 'bert/encoder/layer_6/attention/output/LayerNorm/gamma': 1,\n",
       " 'bert/encoder/layer_6/attention/output/LayerNorm/gamma:0': 1,\n",
       " 'bert/encoder/layer_6/attention/output/dense/bias': 1,\n",
       " 'bert/encoder/layer_6/attention/output/dense/bias:0': 1,\n",
       " 'bert/encoder/layer_6/attention/output/dense/kernel': 1,\n",
       " 'bert/encoder/layer_6/attention/output/dense/kernel:0': 1,\n",
       " 'bert/encoder/layer_6/attention/self/key/bias': 1,\n",
       " 'bert/encoder/layer_6/attention/self/key/bias:0': 1,\n",
       " 'bert/encoder/layer_6/attention/self/key/kernel': 1,\n",
       " 'bert/encoder/layer_6/attention/self/key/kernel:0': 1,\n",
       " 'bert/encoder/layer_6/attention/self/query/bias': 1,\n",
       " 'bert/encoder/layer_6/attention/self/query/bias:0': 1,\n",
       " 'bert/encoder/layer_6/attention/self/query/kernel': 1,\n",
       " 'bert/encoder/layer_6/attention/self/query/kernel:0': 1,\n",
       " 'bert/encoder/layer_6/attention/self/value/bias': 1,\n",
       " 'bert/encoder/layer_6/attention/self/value/bias:0': 1,\n",
       " 'bert/encoder/layer_6/attention/self/value/kernel': 1,\n",
       " 'bert/encoder/layer_6/attention/self/value/kernel:0': 1,\n",
       " 'bert/encoder/layer_6/intermediate/dense/bias': 1,\n",
       " 'bert/encoder/layer_6/intermediate/dense/bias:0': 1,\n",
       " 'bert/encoder/layer_6/intermediate/dense/kernel': 1,\n",
       " 'bert/encoder/layer_6/intermediate/dense/kernel:0': 1,\n",
       " 'bert/encoder/layer_6/output/LayerNorm/beta': 1,\n",
       " 'bert/encoder/layer_6/output/LayerNorm/beta:0': 1,\n",
       " 'bert/encoder/layer_6/output/LayerNorm/gamma': 1,\n",
       " 'bert/encoder/layer_6/output/LayerNorm/gamma:0': 1,\n",
       " 'bert/encoder/layer_6/output/dense/bias': 1,\n",
       " 'bert/encoder/layer_6/output/dense/bias:0': 1,\n",
       " 'bert/encoder/layer_6/output/dense/kernel': 1,\n",
       " 'bert/encoder/layer_6/output/dense/kernel:0': 1,\n",
       " 'bert/encoder/layer_7/attention/output/LayerNorm/beta': 1,\n",
       " 'bert/encoder/layer_7/attention/output/LayerNorm/beta:0': 1,\n",
       " 'bert/encoder/layer_7/attention/output/LayerNorm/gamma': 1,\n",
       " 'bert/encoder/layer_7/attention/output/LayerNorm/gamma:0': 1,\n",
       " 'bert/encoder/layer_7/attention/output/dense/bias': 1,\n",
       " 'bert/encoder/layer_7/attention/output/dense/bias:0': 1,\n",
       " 'bert/encoder/layer_7/attention/output/dense/kernel': 1,\n",
       " 'bert/encoder/layer_7/attention/output/dense/kernel:0': 1,\n",
       " 'bert/encoder/layer_7/attention/self/key/bias': 1,\n",
       " 'bert/encoder/layer_7/attention/self/key/bias:0': 1,\n",
       " 'bert/encoder/layer_7/attention/self/key/kernel': 1,\n",
       " 'bert/encoder/layer_7/attention/self/key/kernel:0': 1,\n",
       " 'bert/encoder/layer_7/attention/self/query/bias': 1,\n",
       " 'bert/encoder/layer_7/attention/self/query/bias:0': 1,\n",
       " 'bert/encoder/layer_7/attention/self/query/kernel': 1,\n",
       " 'bert/encoder/layer_7/attention/self/query/kernel:0': 1,\n",
       " 'bert/encoder/layer_7/attention/self/value/bias': 1,\n",
       " 'bert/encoder/layer_7/attention/self/value/bias:0': 1,\n",
       " 'bert/encoder/layer_7/attention/self/value/kernel': 1,\n",
       " 'bert/encoder/layer_7/attention/self/value/kernel:0': 1,\n",
       " 'bert/encoder/layer_7/intermediate/dense/bias': 1,\n",
       " 'bert/encoder/layer_7/intermediate/dense/bias:0': 1,\n",
       " 'bert/encoder/layer_7/intermediate/dense/kernel': 1,\n",
       " 'bert/encoder/layer_7/intermediate/dense/kernel:0': 1,\n",
       " 'bert/encoder/layer_7/output/LayerNorm/beta': 1,\n",
       " 'bert/encoder/layer_7/output/LayerNorm/beta:0': 1,\n",
       " 'bert/encoder/layer_7/output/LayerNorm/gamma': 1,\n",
       " 'bert/encoder/layer_7/output/LayerNorm/gamma:0': 1,\n",
       " 'bert/encoder/layer_7/output/dense/bias': 1,\n",
       " 'bert/encoder/layer_7/output/dense/bias:0': 1,\n",
       " 'bert/encoder/layer_7/output/dense/kernel': 1,\n",
       " 'bert/encoder/layer_7/output/dense/kernel:0': 1,\n",
       " 'bert/encoder/layer_8/attention/output/LayerNorm/beta': 1,\n",
       " 'bert/encoder/layer_8/attention/output/LayerNorm/beta:0': 1,\n",
       " 'bert/encoder/layer_8/attention/output/LayerNorm/gamma': 1,\n",
       " 'bert/encoder/layer_8/attention/output/LayerNorm/gamma:0': 1,\n",
       " 'bert/encoder/layer_8/attention/output/dense/bias': 1,\n",
       " 'bert/encoder/layer_8/attention/output/dense/bias:0': 1,\n",
       " 'bert/encoder/layer_8/attention/output/dense/kernel': 1,\n",
       " 'bert/encoder/layer_8/attention/output/dense/kernel:0': 1,\n",
       " 'bert/encoder/layer_8/attention/self/key/bias': 1,\n",
       " 'bert/encoder/layer_8/attention/self/key/bias:0': 1,\n",
       " 'bert/encoder/layer_8/attention/self/key/kernel': 1,\n",
       " 'bert/encoder/layer_8/attention/self/key/kernel:0': 1,\n",
       " 'bert/encoder/layer_8/attention/self/query/bias': 1,\n",
       " 'bert/encoder/layer_8/attention/self/query/bias:0': 1,\n",
       " 'bert/encoder/layer_8/attention/self/query/kernel': 1,\n",
       " 'bert/encoder/layer_8/attention/self/query/kernel:0': 1,\n",
       " 'bert/encoder/layer_8/attention/self/value/bias': 1,\n",
       " 'bert/encoder/layer_8/attention/self/value/bias:0': 1,\n",
       " 'bert/encoder/layer_8/attention/self/value/kernel': 1,\n",
       " 'bert/encoder/layer_8/attention/self/value/kernel:0': 1,\n",
       " 'bert/encoder/layer_8/intermediate/dense/bias': 1,\n",
       " 'bert/encoder/layer_8/intermediate/dense/bias:0': 1,\n",
       " 'bert/encoder/layer_8/intermediate/dense/kernel': 1,\n",
       " 'bert/encoder/layer_8/intermediate/dense/kernel:0': 1,\n",
       " 'bert/encoder/layer_8/output/LayerNorm/beta': 1,\n",
       " 'bert/encoder/layer_8/output/LayerNorm/beta:0': 1,\n",
       " 'bert/encoder/layer_8/output/LayerNorm/gamma': 1,\n",
       " 'bert/encoder/layer_8/output/LayerNorm/gamma:0': 1,\n",
       " 'bert/encoder/layer_8/output/dense/bias': 1,\n",
       " 'bert/encoder/layer_8/output/dense/bias:0': 1,\n",
       " 'bert/encoder/layer_8/output/dense/kernel': 1,\n",
       " 'bert/encoder/layer_8/output/dense/kernel:0': 1,\n",
       " 'bert/encoder/layer_9/attention/output/LayerNorm/beta': 1,\n",
       " 'bert/encoder/layer_9/attention/output/LayerNorm/beta:0': 1,\n",
       " 'bert/encoder/layer_9/attention/output/LayerNorm/gamma': 1,\n",
       " 'bert/encoder/layer_9/attention/output/LayerNorm/gamma:0': 1,\n",
       " 'bert/encoder/layer_9/attention/output/dense/bias': 1,\n",
       " 'bert/encoder/layer_9/attention/output/dense/bias:0': 1,\n",
       " 'bert/encoder/layer_9/attention/output/dense/kernel': 1,\n",
       " 'bert/encoder/layer_9/attention/output/dense/kernel:0': 1,\n",
       " 'bert/encoder/layer_9/attention/self/key/bias': 1,\n",
       " 'bert/encoder/layer_9/attention/self/key/bias:0': 1,\n",
       " 'bert/encoder/layer_9/attention/self/key/kernel': 1,\n",
       " 'bert/encoder/layer_9/attention/self/key/kernel:0': 1,\n",
       " 'bert/encoder/layer_9/attention/self/query/bias': 1,\n",
       " 'bert/encoder/layer_9/attention/self/query/bias:0': 1,\n",
       " 'bert/encoder/layer_9/attention/self/query/kernel': 1,\n",
       " 'bert/encoder/layer_9/attention/self/query/kernel:0': 1,\n",
       " 'bert/encoder/layer_9/attention/self/value/bias': 1,\n",
       " 'bert/encoder/layer_9/attention/self/value/bias:0': 1,\n",
       " 'bert/encoder/layer_9/attention/self/value/kernel': 1,\n",
       " 'bert/encoder/layer_9/attention/self/value/kernel:0': 1,\n",
       " 'bert/encoder/layer_9/intermediate/dense/bias': 1,\n",
       " 'bert/encoder/layer_9/intermediate/dense/bias:0': 1,\n",
       " 'bert/encoder/layer_9/intermediate/dense/kernel': 1,\n",
       " 'bert/encoder/layer_9/intermediate/dense/kernel:0': 1,\n",
       " 'bert/encoder/layer_9/output/LayerNorm/beta': 1,\n",
       " 'bert/encoder/layer_9/output/LayerNorm/beta:0': 1,\n",
       " 'bert/encoder/layer_9/output/LayerNorm/gamma': 1,\n",
       " 'bert/encoder/layer_9/output/LayerNorm/gamma:0': 1,\n",
       " 'bert/encoder/layer_9/output/dense/bias': 1,\n",
       " 'bert/encoder/layer_9/output/dense/bias:0': 1,\n",
       " 'bert/encoder/layer_9/output/dense/kernel': 1,\n",
       " 'bert/encoder/layer_9/output/dense/kernel:0': 1,\n",
       " 'bert/pooler/dense/bias': 1,\n",
       " 'bert/pooler/dense/bias:0': 1,\n",
       " 'bert/pooler/dense/kernel': 1,\n",
       " 'bert/pooler/dense/kernel:0': 1}"
      ]
     },
     "execution_count": 19,
     "metadata": {},
     "output_type": "execute_result"
    }
   ],
   "source": [
    "assignment_map, initialized_variable_names = get_assignment_map_from_checkpoint(tvars, \n",
    "                                                                                BERT_INIT_CHKPNT)\n",
    "initialized_variable_names"
   ]
  },
  {
   "cell_type": "code",
   "execution_count": 20,
   "metadata": {},
   "outputs": [
    {
     "name": "stdout",
     "output_type": "stream",
     "text": [
      "INFO:tensorflow:Restoring parameters from uncased_L-24_H-1024_A-16/bert_model.ckpt\n"
     ]
    }
   ],
   "source": [
    "saver = tf.train.Saver(var_list = assignment_map)\n",
    "saver.restore(sess, BERT_INIT_CHKPNT)"
   ]
  },
  {
   "cell_type": "code",
   "execution_count": 21,
   "metadata": {},
   "outputs": [],
   "source": [
    "train_input_ids, test_input_ids, train_input_masks, test_input_masks, train_segment_ids, test_segment_ids, train_Y, test_Y = train_test_split(\n",
    "    input_ids, input_masks, segment_ids, trainset.target, test_size = 0.2\n",
    ")"
   ]
  },
  {
   "cell_type": "code",
   "execution_count": 22,
   "metadata": {},
   "outputs": [
    {
     "name": "stderr",
     "output_type": "stream",
     "text": [
      "train minibatch loop: 100%|██████████| 2843/2843 [21:52<00:00,  2.17it/s, accuracy=0.667, cost=0.337]\n",
      "test minibatch loop: 100%|██████████| 711/711 [01:01<00:00, 11.55it/s, accuracy=0.667, cost=0.761]\n",
      "train minibatch loop:   0%|          | 0/2843 [00:00<?, ?it/s]"
     ]
    },
    {
     "name": "stdout",
     "output_type": "stream",
     "text": [
      "epoch: 0, pass acc: 0.000000, current acc: 0.772152\n",
      "time taken: 1374.7178251743317\n",
      "epoch: 0, training loss: 0.684424, training acc: 0.715090, valid loss: 0.605673, valid acc: 0.772152\n",
      "\n"
     ]
    },
    {
     "name": "stderr",
     "output_type": "stream",
     "text": [
      "train minibatch loop: 100%|██████████| 2843/2843 [21:56<00:00,  2.17it/s, accuracy=1, cost=0.0029]   \n",
      "test minibatch loop: 100%|██████████| 711/711 [01:01<00:00, 11.54it/s, accuracy=0.333, cost=2.71] \n",
      "train minibatch loop:   0%|          | 0/2843 [00:00<?, ?it/s]"
     ]
    },
    {
     "name": "stdout",
     "output_type": "stream",
     "text": [
      "epoch: 1, pass acc: 0.772152, current acc: 0.773558\n",
      "time taken: 1378.1370601654053\n",
      "epoch: 1, training loss: 0.519813, training acc: 0.868566, valid loss: 1.008805, valid acc: 0.773558\n",
      "\n"
     ]
    },
    {
     "name": "stderr",
     "output_type": "stream",
     "text": [
      "train minibatch loop: 100%|██████████| 2843/2843 [21:52<00:00,  2.17it/s, accuracy=1, cost=0.000309] \n",
      "test minibatch loop: 100%|██████████| 711/711 [01:01<00:00, 11.53it/s, accuracy=0.667, cost=1.95] \n",
      "train minibatch loop:   0%|          | 0/2843 [00:00<?, ?it/s]"
     ]
    },
    {
     "name": "stdout",
     "output_type": "stream",
     "text": [
      "epoch: 2, pass acc: 0.773558, current acc: 0.784341\n",
      "time taken: 1374.092584848404\n",
      "epoch: 2, training loss: 0.241860, training acc: 0.951460, valid loss: 1.405984, valid acc: 0.784341\n",
      "\n"
     ]
    },
    {
     "name": "stderr",
     "output_type": "stream",
     "text": [
      "train minibatch loop: 100%|██████████| 2843/2843 [21:43<00:00,  2.19it/s, accuracy=1, cost=5.52e-5]  \n",
      "test minibatch loop: 100%|██████████| 711/711 [01:01<00:00, 11.60it/s, accuracy=1, cost=0.000362] \n",
      "train minibatch loop:   0%|          | 0/2843 [00:00<?, ?it/s]"
     ]
    },
    {
     "name": "stdout",
     "output_type": "stream",
     "text": [
      "epoch: 3, pass acc: 0.784341, current acc: 0.788092\n",
      "time taken: 1365.3060529232025\n",
      "epoch: 3, training loss: 0.089658, training acc: 0.983585, valid loss: 1.619896, valid acc: 0.788092\n",
      "\n"
     ]
    },
    {
     "name": "stderr",
     "output_type": "stream",
     "text": [
      "train minibatch loop: 100%|██████████| 2843/2843 [21:50<00:00,  2.17it/s, accuracy=1, cost=4.41e-5]  \n",
      "test minibatch loop: 100%|██████████| 711/711 [01:01<00:00, 11.56it/s, accuracy=1, cost=0.000797] \n",
      "train minibatch loop:   0%|          | 0/2843 [00:00<?, ?it/s]"
     ]
    },
    {
     "name": "stdout",
     "output_type": "stream",
     "text": [
      "epoch: 4, pass acc: 0.788092, current acc: 0.792780\n",
      "time taken: 1372.1305689811707\n",
      "epoch: 4, training loss: 0.039045, training acc: 0.992144, valid loss: 1.938607, valid acc: 0.792780\n",
      "\n"
     ]
    },
    {
     "name": "stderr",
     "output_type": "stream",
     "text": [
      "train minibatch loop: 100%|██████████| 2843/2843 [21:55<00:00,  2.16it/s, accuracy=1, cost=4.25e-6]  \n",
      "test minibatch loop: 100%|██████████| 711/711 [01:01<00:00, 11.50it/s, accuracy=1, cost=2.22e-5]  \n",
      "train minibatch loop:   0%|          | 0/2843 [00:00<?, ?it/s]"
     ]
    },
    {
     "name": "stdout",
     "output_type": "stream",
     "text": [
      "epoch: 5, pass acc: 0.792780, current acc: 0.793718\n",
      "time taken: 1377.0767679214478\n",
      "epoch: 5, training loss: 0.015696, training acc: 0.997421, valid loss: 2.088988, valid acc: 0.793718\n",
      "\n"
     ]
    },
    {
     "name": "stderr",
     "output_type": "stream",
     "text": [
      "train minibatch loop: 100%|██████████| 2843/2843 [21:52<00:00,  2.17it/s, accuracy=1, cost=2.74e-6] \n",
      "test minibatch loop: 100%|██████████| 711/711 [01:01<00:00, 11.53it/s, accuracy=0.667, cost=2.99] \n",
      "train minibatch loop:   0%|          | 0/2843 [00:00<?, ?it/s]"
     ]
    },
    {
     "name": "stdout",
     "output_type": "stream",
     "text": [
      "epoch: 6, pass acc: 0.793718, current acc: 0.797937\n",
      "time taken: 1374.0545842647552\n",
      "epoch: 6, training loss: 0.006389, training acc: 0.998945, valid loss: 2.122673, valid acc: 0.797937\n",
      "\n"
     ]
    },
    {
     "name": "stderr",
     "output_type": "stream",
     "text": [
      "train minibatch loop: 100%|██████████| 2843/2843 [21:43<00:00,  2.18it/s, accuracy=1, cost=1.03e-5]  \n",
      "test minibatch loop: 100%|██████████| 711/711 [01:01<00:00, 11.52it/s, accuracy=1, cost=0.000446] \n",
      "train minibatch loop:   0%|          | 0/2843 [00:00<?, ?it/s]"
     ]
    },
    {
     "name": "stdout",
     "output_type": "stream",
     "text": [
      "epoch: 7, pass acc: 0.797937, current acc: 0.800281\n",
      "time taken: 1365.3034193515778\n",
      "epoch: 7, training loss: 0.005304, training acc: 0.999179, valid loss: 2.101871, valid acc: 0.800281\n",
      "\n"
     ]
    },
    {
     "name": "stderr",
     "output_type": "stream",
     "text": [
      "train minibatch loop: 100%|██████████| 2843/2843 [21:50<00:00,  2.17it/s, accuracy=1, cost=3.06e-6]  \n",
      "test minibatch loop: 100%|██████████| 711/711 [01:01<00:00, 11.52it/s, accuracy=1, cost=7.07e-6]  \n",
      "train minibatch loop:   0%|          | 0/2843 [00:00<?, ?it/s]"
     ]
    },
    {
     "name": "stdout",
     "output_type": "stream",
     "text": [
      "time taken: 1372.6576752662659\n",
      "epoch: 8, training loss: 0.008127, training acc: 0.998710, valid loss: 2.092777, valid acc: 0.799812\n",
      "\n"
     ]
    },
    {
     "name": "stderr",
     "output_type": "stream",
     "text": [
      "train minibatch loop: 100%|██████████| 2843/2843 [21:56<00:00,  2.16it/s, accuracy=1, cost=3.42e-6]  \n",
      "test minibatch loop: 100%|██████████| 711/711 [01:01<00:00, 11.51it/s, accuracy=1, cost=0.00287]  \n",
      "train minibatch loop:   0%|          | 0/2843 [00:00<?, ?it/s]"
     ]
    },
    {
     "name": "stdout",
     "output_type": "stream",
     "text": [
      "time taken: 1378.0080671310425\n",
      "epoch: 9, training loss: 0.005311, training acc: 0.998945, valid loss: 2.096939, valid acc: 0.793249\n",
      "\n"
     ]
    },
    {
     "name": "stderr",
     "output_type": "stream",
     "text": [
      "train minibatch loop: 100%|██████████| 2843/2843 [21:51<00:00,  2.17it/s, accuracy=1, cost=8.07e-6]  \n",
      "test minibatch loop: 100%|██████████| 711/711 [01:01<00:00, 11.52it/s, accuracy=1, cost=0.00344]  "
     ]
    },
    {
     "name": "stdout",
     "output_type": "stream",
     "text": [
      "time taken: 1373.6489472389221\n",
      "epoch: 10, training loss: 0.008527, training acc: 0.998476, valid loss: 2.108078, valid acc: 0.795593\n",
      "\n",
      "break epoch:11\n",
      "\n"
     ]
    },
    {
     "name": "stderr",
     "output_type": "stream",
     "text": [
      "\n"
     ]
    }
   ],
   "source": [
    "from tqdm import tqdm\n",
    "import time\n",
    "\n",
    "EARLY_STOPPING, CURRENT_CHECKPOINT, CURRENT_ACC, EPOCH = 3, 0, 0, 0\n",
    "\n",
    "while True:\n",
    "    lasttime = time.time()\n",
    "    if CURRENT_CHECKPOINT == EARLY_STOPPING:\n",
    "        print('break epoch:%d\\n' % (EPOCH))\n",
    "        break\n",
    "\n",
    "    train_acc, train_loss, test_acc, test_loss = 0, 0, 0, 0\n",
    "    pbar = tqdm(\n",
    "        range(0, len(train_input_ids), batch_size), desc = 'train minibatch loop'\n",
    "    )\n",
    "    for i in pbar:\n",
    "        index = min(i + batch_size, len(train_input_ids))\n",
    "        batch_x = train_input_ids[i: index]\n",
    "        batch_masks = train_input_masks[i: index]\n",
    "        batch_segment = train_segment_ids[i: index]\n",
    "        batch_y = train_Y[i: index]\n",
    "        acc, cost, _ = sess.run(\n",
    "            [model.accuracy, model.cost, model.optimizer],\n",
    "            feed_dict = {\n",
    "                model.Y: batch_y,\n",
    "                model.X: batch_x,\n",
    "                model.segment_ids: batch_segment,\n",
    "                model.input_masks: batch_masks\n",
    "            },\n",
    "        )\n",
    "        assert not np.isnan(cost)\n",
    "        train_loss += cost\n",
    "        train_acc += acc\n",
    "        pbar.set_postfix(cost = cost, accuracy = acc)\n",
    "\n",
    "    pbar = tqdm(range(0, len(test_input_ids), batch_size), desc = 'test minibatch loop')\n",
    "    for i in pbar:\n",
    "        index = min(i + batch_size, len(test_input_ids))\n",
    "        batch_x = test_input_ids[i: index]\n",
    "        batch_masks = test_input_masks[i: index]\n",
    "        batch_segment = test_segment_ids[i: index]\n",
    "        batch_y = test_Y[i: index]\n",
    "        acc, cost = sess.run(\n",
    "            [model.accuracy, model.cost],\n",
    "            feed_dict = {\n",
    "                model.Y: batch_y,\n",
    "                model.X: batch_x,\n",
    "                model.segment_ids: batch_segment,\n",
    "                model.input_masks: batch_masks\n",
    "            },\n",
    "        )\n",
    "        test_loss += cost\n",
    "        test_acc += acc\n",
    "        pbar.set_postfix(cost = cost, accuracy = acc)\n",
    "\n",
    "    train_loss /= len(train_input_ids) / batch_size\n",
    "    train_acc /= len(train_input_ids) / batch_size\n",
    "    test_loss /= len(test_input_ids) / batch_size\n",
    "    test_acc /= len(test_input_ids) / batch_size\n",
    "\n",
    "    if test_acc > CURRENT_ACC:\n",
    "        print(\n",
    "            'epoch: %d, pass acc: %f, current acc: %f'\n",
    "            % (EPOCH, CURRENT_ACC, test_acc)\n",
    "        )\n",
    "        CURRENT_ACC = test_acc\n",
    "        CURRENT_CHECKPOINT = 0\n",
    "    else:\n",
    "        CURRENT_CHECKPOINT += 1\n",
    "        \n",
    "    print('time taken:', time.time() - lasttime)\n",
    "    print(\n",
    "        'epoch: %d, training loss: %f, training acc: %f, valid loss: %f, valid acc: %f\\n'\n",
    "        % (EPOCH, train_loss, train_acc, test_loss, test_acc)\n",
    "    )\n",
    "    EPOCH += 1"
   ]
  },
  {
   "cell_type": "code",
   "execution_count": 23,
   "metadata": {},
   "outputs": [
    {
     "data": {
      "text/plain": [
       "'bert/model.ckpt'"
      ]
     },
     "execution_count": 23,
     "metadata": {},
     "output_type": "execute_result"
    }
   ],
   "source": [
    "saver = tf.train.Saver(tf.trainable_variables())\n",
    "saver.save(sess, 'bert/model.ckpt')"
   ]
  },
  {
   "cell_type": "code",
   "execution_count": 24,
   "metadata": {},
   "outputs": [
    {
     "name": "stdout",
     "output_type": "stream",
     "text": [
      "total 706M\r\n",
      "-rw-rw-r-- 1 husein husein   77 Jul  5 11:07 checkpoint\r\n",
      "-rw-rw-r-- 1 husein husein 702M Jul  5 11:07 model.ckpt.data-00000-of-00001\r\n",
      "-rw-rw-r-- 1 husein husein 8.2K Jul  5 11:07 model.ckpt.index\r\n",
      "-rw-rw-r-- 1 husein husein 3.9M Jul  5 11:07 model.ckpt.meta\r\n"
     ]
    }
   ],
   "source": [
    "!ls -lh bert"
   ]
  },
  {
   "cell_type": "code",
   "execution_count": 25,
   "metadata": {},
   "outputs": [
    {
     "data": {
      "text/plain": [
       "0.46"
      ]
     },
     "execution_count": 25,
     "metadata": {},
     "output_type": "execute_result"
    }
   ],
   "source": [
    "(1300 - 702) / 1300"
   ]
  },
  {
   "cell_type": "markdown",
   "metadata": {},
   "source": [
    "## We save 46% of space, accuracy drop around 3-5%"
   ]
  },
  {
   "cell_type": "code",
   "execution_count": null,
   "metadata": {},
   "outputs": [],
   "source": []
  }
 ],
 "metadata": {
  "kernelspec": {
   "display_name": "Python 3",
   "language": "python",
   "name": "python3"
  },
  "language_info": {
   "codemirror_mode": {
    "name": "ipython",
    "version": 3
   },
   "file_extension": ".py",
   "mimetype": "text/x-python",
   "name": "python",
   "nbconvert_exporter": "python",
   "pygments_lexer": "ipython3",
   "version": "3.6.8"
  }
 },
 "nbformat": 4,
 "nbformat_minor": 2
}
