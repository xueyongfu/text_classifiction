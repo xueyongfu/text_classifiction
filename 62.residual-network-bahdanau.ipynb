{
 "cells": [
  {
   "cell_type": "code",
   "execution_count": 1,
   "metadata": {},
   "outputs": [
    {
     "name": "stderr",
     "output_type": "stream",
     "text": [
      "/usr/local/lib/python3.5/dist-packages/sklearn/cross_validation.py:41: DeprecationWarning: This module was deprecated in version 0.18 in favor of the model_selection module into which all the refactored classes and functions are moved. Also note that the interface of the new CV iterators are different from that of this module. This module will be removed in 0.20.\n",
      "  \"This module will be removed in 0.20.\", DeprecationWarning)\n"
     ]
    }
   ],
   "source": [
    "from utils import *\n",
    "import tensorflow as tf\n",
    "from sklearn.cross_validation import train_test_split\n",
    "import time\n",
    "import random\n",
    "import os"
   ]
  },
  {
   "cell_type": "code",
   "execution_count": 2,
   "metadata": {},
   "outputs": [
    {
     "name": "stdout",
     "output_type": "stream",
     "text": [
      "['negative', 'positive']\n",
      "10662\n",
      "10662\n"
     ]
    }
   ],
   "source": [
    "trainset = sklearn.datasets.load_files(container_path = 'data', encoding = 'UTF-8')\n",
    "trainset.data, trainset.target = separate_dataset(trainset,1.0)\n",
    "print (trainset.target_names)\n",
    "print (len(trainset.data))\n",
    "print (len(trainset.target))"
   ]
  },
  {
   "cell_type": "code",
   "execution_count": 3,
   "metadata": {},
   "outputs": [
    {
     "name": "stdout",
     "output_type": "stream",
     "text": [
      "vocab from size: 20332\n",
      "Most common words [('film', 1453), ('movie', 1270), ('one', 727), ('like', 721), ('story', 477), ('much', 386)]\n",
      "Sample data [6040, 9003, 8532, 556, 1066, 375, 489, 26, 1054, 5] ['zany', 'exuberantly', 'irreverent', 'animated', 'space', 'adventure', 'perhaps', 'best', 'sports', 'movie']\n"
     ]
    }
   ],
   "source": [
    "concat = ' '.join(trainset.data).split()\n",
    "vocabulary_size = len(list(set(concat)))\n",
    "data, count, dictionary, rev_dictionary = build_dataset(concat, vocabulary_size)\n",
    "print('vocab from size: %d'%(vocabulary_size))\n",
    "print('Most common words', count[4:10])\n",
    "print('Sample data', data[:10], [rev_dictionary[i] for i in data[:10]])"
   ]
  },
  {
   "cell_type": "code",
   "execution_count": 4,
   "metadata": {},
   "outputs": [],
   "source": [
    "GO = dictionary['GO']\n",
    "PAD = dictionary['PAD']\n",
    "EOS = dictionary['EOS']\n",
    "UNK = dictionary['UNK']"
   ]
  },
  {
   "cell_type": "code",
   "execution_count": 5,
   "metadata": {},
   "outputs": [],
   "source": [
    "size_layer = 128\n",
    "dimension_output = len(trainset.target_names)\n",
    "maxlen = 50\n",
    "batch_size = 32"
   ]
  },
  {
   "cell_type": "code",
   "execution_count": 6,
   "metadata": {},
   "outputs": [],
   "source": [
    "class Attention:\n",
    "    def __init__(self,hidden_size):\n",
    "        self.hidden_size = hidden_size\n",
    "        self.dense_layer = tf.layers.Dense(hidden_size)\n",
    "        self.v = tf.random_normal([hidden_size],mean=0,stddev=1/np.sqrt(hidden_size))\n",
    "        \n",
    "    def score(self, hidden_tensor, encoder_outputs):\n",
    "        energy = tf.nn.tanh(self.dense_layer(tf.concat([hidden_tensor,encoder_outputs],2)))\n",
    "        energy = tf.transpose(energy,[0,2,1])\n",
    "        batch_size = tf.shape(encoder_outputs)[0]\n",
    "        v = tf.expand_dims(tf.tile(tf.expand_dims(self.v,0),[batch_size,1]),1)\n",
    "        energy = tf.matmul(v,energy)\n",
    "        return tf.squeeze(energy,1)\n",
    "    \n",
    "    def __call__(self, hidden, encoder_outputs):\n",
    "        seq_len = tf.shape(encoder_outputs)[1]\n",
    "        batch_size = tf.shape(encoder_outputs)[0]\n",
    "        H = tf.tile(tf.expand_dims(hidden, 1),[1,seq_len,1])\n",
    "        attn_energies = self.score(H,encoder_outputs)\n",
    "        return tf.expand_dims(tf.nn.softmax(attn_energies),1)\n",
    "\n",
    "class Model:\n",
    "    def __init__(\n",
    "        self,\n",
    "        dict_size,\n",
    "        size_layers,\n",
    "        learning_rate,\n",
    "        num_classes,\n",
    "        maxlen,\n",
    "        num_blocks = 3,\n",
    "        block_size = 128,\n",
    "    ):\n",
    "        self.X = tf.placeholder(tf.int32,[None, maxlen])\n",
    "        self.Y = tf.placeholder(tf.int32,[None])\n",
    "        embeddings = tf.Variable(tf.random_uniform([dict_size, size_layers], -1, 1))\n",
    "        embedded = tf.nn.embedding_lookup(embeddings, self.X)\n",
    "        self.attention = Attention(size_layers)\n",
    "\n",
    "        def residual_block(x, size, rate, block):\n",
    "            with tf.variable_scope(\n",
    "                'block_%d_%d' % (block, rate), reuse = False\n",
    "            ):\n",
    "                attn_weights = self.attention(tf.reduce_sum(x,axis=1), x)\n",
    "                conv_filter = tf.layers.conv1d(\n",
    "                    attn_weights,\n",
    "                    x.shape[2] // 4,\n",
    "                    kernel_size = size,\n",
    "                    strides = 1,\n",
    "                    padding = 'same',\n",
    "                    dilation_rate = rate,\n",
    "                    activation = tf.nn.tanh,\n",
    "                )\n",
    "                conv_gate = tf.layers.conv1d(\n",
    "                    x,\n",
    "                    x.shape[2] // 4,\n",
    "                    kernel_size = size,\n",
    "                    strides = 1,\n",
    "                    padding = 'same',\n",
    "                    dilation_rate = rate,\n",
    "                    activation = tf.nn.sigmoid,\n",
    "                )\n",
    "                out = tf.multiply(conv_filter, conv_gate)\n",
    "                out = tf.layers.conv1d(\n",
    "                    out,\n",
    "                    block_size,\n",
    "                    kernel_size = 1,\n",
    "                    strides = 1,\n",
    "                    padding = 'same',\n",
    "                    activation = tf.nn.tanh,\n",
    "                )\n",
    "                return tf.add(x, out), out\n",
    "\n",
    "        forward = tf.layers.conv1d(\n",
    "            embedded, block_size, kernel_size = 1, strides = 1, padding = 'SAME'\n",
    "        )\n",
    "        zeros = tf.zeros_like(forward)\n",
    "        for i in range(num_blocks):\n",
    "            for r in [1, 2, 4, 8, 16]:\n",
    "                forward, s = residual_block(\n",
    "                    forward, size = 7, rate = r, block = i\n",
    "                )\n",
    "                zeros = tf.add(zeros, s)\n",
    "        self.logits = tf.reduce_sum(tf.layers.conv1d(\n",
    "            forward, num_classes, kernel_size = 1, strides = 1, padding = 'SAME'\n",
    "        ), 1)\n",
    "        self.cost = tf.reduce_mean(tf.nn.sparse_softmax_cross_entropy_with_logits(\n",
    "            logits=self.logits,\n",
    "            labels=self.Y))\n",
    "        self.optimizer = tf.train.AdamOptimizer(learning_rate).minimize(self.cost)\n",
    "        correct_pred = tf.equal(tf.argmax(self.logits, 1,output_type=tf.int32), self.Y)\n",
    "        self.accuracy = tf.reduce_mean(tf.cast(correct_pred, tf.float32))"
   ]
  },
  {
   "cell_type": "code",
   "execution_count": 7,
   "metadata": {},
   "outputs": [],
   "source": [
    "tf.reset_default_graph()\n",
    "sess = tf.InteractiveSession()\n",
    "model = Model(len(dictionary), size_layer, 1e-3, dimension_output, maxlen)\n",
    "sess.run(tf.global_variables_initializer())"
   ]
  },
  {
   "cell_type": "code",
   "execution_count": 8,
   "metadata": {},
   "outputs": [],
   "source": [
    "vectors = str_idx(trainset.data,dictionary,maxlen)\n",
    "train_X, test_X, train_Y, test_Y = train_test_split(vectors, trainset.target,test_size = 0.2)"
   ]
  },
  {
   "cell_type": "code",
   "execution_count": 9,
   "metadata": {},
   "outputs": [
    {
     "name": "stderr",
     "output_type": "stream",
     "text": [
      "train minibatch loop: 100%|██████████| 267/267 [00:10<00:00, 25.66it/s, accuracy=0.529, cost=0.891]\n",
      "test minibatch loop: 100%|██████████| 67/67 [00:01<00:00, 59.19it/s, accuracy=0.571, cost=1.18] \n",
      "train minibatch loop:   1%|          | 3/267 [00:00<00:09, 28.60it/s, accuracy=0.594, cost=0.912]"
     ]
    },
    {
     "name": "stdout",
     "output_type": "stream",
     "text": [
      "epoch: 0, pass acc: 0.000000, current acc: 0.592727\n",
      "time taken: 11.537999629974365\n",
      "epoch: 0, training loss: 2.407873, training acc: 0.536281, valid loss: 1.033647, valid acc: 0.592727\n",
      "\n"
     ]
    },
    {
     "name": "stderr",
     "output_type": "stream",
     "text": [
      "train minibatch loop: 100%|██████████| 267/267 [00:09<00:00, 28.36it/s, accuracy=0.824, cost=0.379]\n",
      "test minibatch loop: 100%|██████████| 67/67 [00:00<00:00, 72.09it/s, accuracy=0.667, cost=1.02] \n",
      "train minibatch loop:   1%|          | 3/267 [00:00<00:09, 28.55it/s, accuracy=0.75, cost=0.554] "
     ]
    },
    {
     "name": "stdout",
     "output_type": "stream",
     "text": [
      "epoch: 1, pass acc: 0.592727, current acc: 0.637756\n",
      "time taken: 10.34778881072998\n",
      "epoch: 1, training loss: 1.108567, training acc: 0.658149, valid loss: 0.912250, valid acc: 0.637756\n",
      "\n"
     ]
    },
    {
     "name": "stderr",
     "output_type": "stream",
     "text": [
      "train minibatch loop: 100%|██████████| 267/267 [00:09<00:00, 28.33it/s, accuracy=0.941, cost=0.15] \n",
      "test minibatch loop: 100%|██████████| 67/67 [00:00<00:00, 71.62it/s, accuracy=0.476, cost=3.1] \n",
      "train minibatch loop:   1%|          | 3/267 [00:00<00:09, 28.32it/s, accuracy=0.875, cost=0.417]"
     ]
    },
    {
     "name": "stdout",
     "output_type": "stream",
     "text": [
      "time taken: 10.361033916473389\n",
      "epoch: 2, training loss: 1.363167, training acc: 0.680516, valid loss: 2.513253, valid acc: 0.539727\n",
      "\n"
     ]
    },
    {
     "name": "stderr",
     "output_type": "stream",
     "text": [
      "train minibatch loop: 100%|██████████| 267/267 [00:09<00:00, 28.23it/s, accuracy=0.471, cost=1.59]  \n",
      "test minibatch loop: 100%|██████████| 67/67 [00:00<00:00, 71.38it/s, accuracy=0.714, cost=1.33] \n",
      "train minibatch loop:   1%|          | 3/267 [00:00<00:09, 28.46it/s, accuracy=0.75, cost=0.854] "
     ]
    },
    {
     "name": "stdout",
     "output_type": "stream",
     "text": [
      "epoch: 3, pass acc: 0.637756, current acc: 0.700355\n",
      "time taken: 10.397602319717407\n",
      "epoch: 3, training loss: 0.872497, training acc: 0.749098, valid loss: 1.075091, valid acc: 0.700355\n",
      "\n"
     ]
    },
    {
     "name": "stderr",
     "output_type": "stream",
     "text": [
      "train minibatch loop: 100%|██████████| 267/267 [00:09<00:00, 28.23it/s, accuracy=0.941, cost=0.123] \n",
      "test minibatch loop: 100%|██████████| 67/67 [00:00<00:00, 71.70it/s, accuracy=0.667, cost=3.35]\n",
      "train minibatch loop:   1%|          | 3/267 [00:00<00:09, 28.51it/s, accuracy=0.688, cost=1.19] "
     ]
    },
    {
     "name": "stdout",
     "output_type": "stream",
     "text": [
      "time taken: 10.393543720245361\n",
      "epoch: 4, training loss: 0.951980, training acc: 0.803508, valid loss: 3.091106, valid acc: 0.603063\n",
      "\n"
     ]
    },
    {
     "name": "stderr",
     "output_type": "stream",
     "text": [
      "train minibatch loop: 100%|██████████| 267/267 [00:09<00:00, 28.24it/s, accuracy=1, cost=0.0568]    \n",
      "test minibatch loop: 100%|██████████| 67/67 [00:00<00:00, 71.82it/s, accuracy=0.429, cost=5.94]\n",
      "train minibatch loop:   1%|          | 3/267 [00:00<00:09, 27.65it/s, accuracy=0.75, cost=1.54]  "
     ]
    },
    {
     "name": "stdout",
     "output_type": "stream",
     "text": [
      "time taken: 10.388004779815674\n",
      "epoch: 5, training loss: 0.663642, training acc: 0.858835, valid loss: 4.446053, valid acc: 0.581676\n",
      "\n"
     ]
    },
    {
     "name": "stderr",
     "output_type": "stream",
     "text": [
      "train minibatch loop: 100%|██████████| 267/267 [00:09<00:00, 28.25it/s, accuracy=0.941, cost=0.0587]\n",
      "test minibatch loop: 100%|██████████| 67/67 [00:00<00:00, 71.41it/s, accuracy=0.714, cost=3.03] \n",
      "train minibatch loop:   1%|          | 3/267 [00:00<00:09, 28.27it/s, accuracy=0.969, cost=0.36] "
     ]
    },
    {
     "name": "stdout",
     "output_type": "stream",
     "text": [
      "epoch: 6, pass acc: 0.700355, current acc: 0.711138\n",
      "time taken: 10.390414237976074\n",
      "epoch: 6, training loss: 0.381432, training acc: 0.913016, valid loss: 2.420590, valid acc: 0.711138\n",
      "\n"
     ]
    },
    {
     "name": "stderr",
     "output_type": "stream",
     "text": [
      "train minibatch loop: 100%|██████████| 267/267 [00:09<00:00, 28.31it/s, accuracy=1, cost=4.46e-5]   \n",
      "test minibatch loop: 100%|██████████| 67/67 [00:00<00:00, 72.12it/s, accuracy=0.667, cost=3.22] \n",
      "train minibatch loop:   1%|          | 3/267 [00:00<00:09, 28.56it/s, accuracy=0.938, cost=0.325]"
     ]
    },
    {
     "name": "stdout",
     "output_type": "stream",
     "text": [
      "epoch: 7, pass acc: 0.711138, current acc: 0.716518\n",
      "time taken: 10.360514640808105\n",
      "epoch: 7, training loss: 0.278529, training acc: 0.938563, valid loss: 2.731792, valid acc: 0.716518\n",
      "\n"
     ]
    },
    {
     "name": "stderr",
     "output_type": "stream",
     "text": [
      "train minibatch loop: 100%|██████████| 267/267 [00:09<00:00, 28.27it/s, accuracy=1, cost=5.52e-5]   \n",
      "test minibatch loop: 100%|██████████| 67/67 [00:00<00:00, 71.76it/s, accuracy=0.714, cost=4.91]\n",
      "train minibatch loop:   1%|          | 3/267 [00:00<00:09, 28.49it/s, accuracy=0.969, cost=0.405]"
     ]
    },
    {
     "name": "stdout",
     "output_type": "stream",
     "text": [
      "epoch: 8, pass acc: 0.716518, current acc: 0.726140\n",
      "time taken: 10.378602981567383\n",
      "epoch: 8, training loss: 0.395688, training acc: 0.935162, valid loss: 3.874101, valid acc: 0.726140\n",
      "\n"
     ]
    },
    {
     "name": "stderr",
     "output_type": "stream",
     "text": [
      "train minibatch loop: 100%|██████████| 267/267 [00:09<00:00, 28.36it/s, accuracy=1, cost=2.99e-5]   \n",
      "test minibatch loop: 100%|██████████| 67/67 [00:00<00:00, 71.81it/s, accuracy=0.762, cost=3.98]\n",
      "train minibatch loop:   1%|          | 3/267 [00:00<00:09, 28.48it/s, accuracy=0.969, cost=0.0812]"
     ]
    },
    {
     "name": "stdout",
     "output_type": "stream",
     "text": [
      "epoch: 9, pass acc: 0.726140, current acc: 0.728730\n",
      "time taken: 10.351183652877808\n",
      "epoch: 9, training loss: 0.181422, training acc: 0.968226, valid loss: 3.625677, valid acc: 0.728730\n",
      "\n"
     ]
    },
    {
     "name": "stderr",
     "output_type": "stream",
     "text": [
      "train minibatch loop: 100%|██████████| 267/267 [00:09<00:00, 28.25it/s, accuracy=0.941, cost=0.0919]\n",
      "test minibatch loop: 100%|██████████| 67/67 [00:00<00:00, 71.68it/s, accuracy=0.762, cost=3.92] \n",
      "train minibatch loop:   1%|          | 3/267 [00:00<00:09, 28.34it/s, accuracy=1, cost=0.0163]    "
     ]
    },
    {
     "name": "stdout",
     "output_type": "stream",
     "text": [
      "time taken: 10.387167692184448\n",
      "epoch: 10, training loss: 0.122172, training acc: 0.975861, valid loss: 3.925538, valid acc: 0.724511\n",
      "\n"
     ]
    },
    {
     "name": "stderr",
     "output_type": "stream",
     "text": [
      "train minibatch loop: 100%|██████████| 267/267 [00:09<00:00, 28.29it/s, accuracy=1, cost=0.000703]  \n",
      "test minibatch loop: 100%|██████████| 67/67 [00:00<00:00, 71.79it/s, accuracy=0.714, cost=5.44]\n",
      "train minibatch loop:   1%|          | 3/267 [00:00<00:09, 28.46it/s, accuracy=0.938, cost=0.36]"
     ]
    },
    {
     "name": "stdout",
     "output_type": "stream",
     "text": [
      "epoch: 11, pass acc: 0.728730, current acc: 0.729891\n",
      "time taken: 10.373524904251099\n",
      "epoch: 11, training loss: 0.142030, training acc: 0.972447, valid loss: 4.970537, valid acc: 0.729891\n",
      "\n"
     ]
    },
    {
     "name": "stderr",
     "output_type": "stream",
     "text": [
      "train minibatch loop: 100%|██████████| 267/267 [00:09<00:00, 28.32it/s, accuracy=1, cost=4.32e-5]   \n",
      "test minibatch loop: 100%|██████████| 67/67 [00:00<00:00, 71.68it/s, accuracy=0.619, cost=7.37]\n",
      "train minibatch loop:   1%|          | 3/267 [00:00<00:09, 28.68it/s, accuracy=1, cost=2.65e-5]   "
     ]
    },
    {
     "name": "stdout",
     "output_type": "stream",
     "text": [
      "time taken: 10.365166187286377\n",
      "epoch: 12, training loss: 0.128455, training acc: 0.980068, valid loss: 5.587411, valid acc: 0.724243\n",
      "\n"
     ]
    },
    {
     "name": "stderr",
     "output_type": "stream",
     "text": [
      "train minibatch loop: 100%|██████████| 267/267 [00:09<00:00, 28.39it/s, accuracy=1, cost=0.000676]  \n",
      "test minibatch loop: 100%|██████████| 67/67 [00:00<00:00, 70.62it/s, accuracy=0.619, cost=8.16]\n",
      "train minibatch loop:   1%|          | 3/267 [00:00<00:09, 26.87it/s, accuracy=0.969, cost=0.0973]"
     ]
    },
    {
     "name": "stdout",
     "output_type": "stream",
     "text": [
      "time taken: 10.35442066192627\n",
      "epoch: 13, training loss: 0.096518, training acc: 0.984172, valid loss: 6.090484, valid acc: 0.709240\n",
      "\n"
     ]
    },
    {
     "name": "stderr",
     "output_type": "stream",
     "text": [
      "train minibatch loop: 100%|██████████| 267/267 [00:09<00:00, 28.37it/s, accuracy=0.941, cost=0.0766]\n",
      "test minibatch loop: 100%|██████████| 67/67 [00:00<00:00, 71.38it/s, accuracy=0.762, cost=7.99]\n",
      "train minibatch loop:   1%|          | 3/267 [00:00<00:09, 28.38it/s, accuracy=1, cost=0.00228]  "
     ]
    },
    {
     "name": "stdout",
     "output_type": "stream",
     "text": [
      "epoch: 14, pass acc: 0.729891, current acc: 0.730605\n",
      "time taken: 10.351580619812012\n",
      "epoch: 14, training loss: 0.684831, training acc: 0.940804, valid loss: 6.728577, valid acc: 0.730605\n",
      "\n"
     ]
    },
    {
     "name": "stderr",
     "output_type": "stream",
     "text": [
      "train minibatch loop: 100%|██████████| 267/267 [00:09<00:00, 28.50it/s, accuracy=1, cost=0.000274]  \n",
      "test minibatch loop: 100%|██████████| 67/67 [00:00<00:00, 71.60it/s, accuracy=0.619, cost=8.15]\n",
      "train minibatch loop:   1%|          | 3/267 [00:00<00:09, 28.48it/s, accuracy=1, cost=1.96e-5]   "
     ]
    },
    {
     "name": "stdout",
     "output_type": "stream",
     "text": [
      "time taken: 10.305923700332642\n",
      "epoch: 15, training loss: 0.126788, training acc: 0.982413, valid loss: 6.516656, valid acc: 0.723774\n",
      "\n"
     ]
    },
    {
     "name": "stderr",
     "output_type": "stream",
     "text": [
      "train minibatch loop: 100%|██████████| 267/267 [00:09<00:00, 28.48it/s, accuracy=1, cost=0.00104]   \n",
      "test minibatch loop: 100%|██████████| 67/67 [00:00<00:00, 72.09it/s, accuracy=0.667, cost=8.14]\n",
      "train minibatch loop:   1%|          | 3/267 [00:00<00:09, 28.62it/s, accuracy=1, cost=2.47e-5] "
     ]
    },
    {
     "name": "stdout",
     "output_type": "stream",
     "text": [
      "time taken: 10.307766437530518\n",
      "epoch: 16, training loss: 0.057105, training acc: 0.990855, valid loss: 7.102426, valid acc: 0.724488\n",
      "\n"
     ]
    },
    {
     "name": "stderr",
     "output_type": "stream",
     "text": [
      "train minibatch loop: 100%|██████████| 267/267 [00:09<00:00, 28.43it/s, accuracy=0.941, cost=0.0527]\n",
      "test minibatch loop: 100%|██████████| 67/67 [00:00<00:00, 71.50it/s, accuracy=0.667, cost=7.68]"
     ]
    },
    {
     "name": "stdout",
     "output_type": "stream",
     "text": [
      "time taken: 10.329671382904053\n",
      "epoch: 17, training loss: 0.051003, training acc: 0.991572, valid loss: 7.450499, valid acc: 0.716987\n",
      "\n",
      "break epoch:18\n",
      "\n"
     ]
    },
    {
     "name": "stderr",
     "output_type": "stream",
     "text": [
      "\n"
     ]
    }
   ],
   "source": [
    "from tqdm import tqdm\n",
    "import time\n",
    "\n",
    "EARLY_STOPPING, CURRENT_CHECKPOINT, CURRENT_ACC, EPOCH = 3, 0, 0, 0\n",
    "\n",
    "while True:\n",
    "    lasttime = time.time()\n",
    "    if CURRENT_CHECKPOINT == EARLY_STOPPING:\n",
    "        print('break epoch:%d\\n' % (EPOCH))\n",
    "        break\n",
    "\n",
    "    train_acc, train_loss, test_acc, test_loss = 0, 0, 0, 0\n",
    "    pbar = tqdm(\n",
    "        range(0, len(train_X), batch_size), desc = 'train minibatch loop'\n",
    "    )\n",
    "    for i in pbar:\n",
    "        batch_x = train_X[i : min(i + batch_size, train_X.shape[0])]\n",
    "        batch_y = train_Y[i : min(i + batch_size, train_X.shape[0])]\n",
    "        batch_x_expand = np.expand_dims(batch_x,axis = 1)\n",
    "        acc, cost, _ = sess.run(\n",
    "            [model.accuracy, model.cost, model.optimizer],\n",
    "            feed_dict = {\n",
    "                model.Y: batch_y,\n",
    "                model.X: batch_x\n",
    "            },\n",
    "        )\n",
    "        assert not np.isnan(cost)\n",
    "        train_loss += cost\n",
    "        train_acc += acc\n",
    "        pbar.set_postfix(cost = cost, accuracy = acc)\n",
    "        \n",
    "    pbar = tqdm(range(0, len(test_X), batch_size), desc = 'test minibatch loop')\n",
    "    for i in pbar:\n",
    "        batch_x = test_X[i : min(i + batch_size, test_X.shape[0])]\n",
    "        batch_y = test_Y[i : min(i + batch_size, test_X.shape[0])]\n",
    "        batch_x_expand = np.expand_dims(batch_x,axis = 1)\n",
    "        acc, cost = sess.run(\n",
    "            [model.accuracy, model.cost],\n",
    "            feed_dict = {\n",
    "                model.Y: batch_y,\n",
    "                model.X: batch_x\n",
    "            },\n",
    "        )\n",
    "        test_loss += cost\n",
    "        test_acc += acc\n",
    "        pbar.set_postfix(cost = cost, accuracy = acc)\n",
    "\n",
    "    train_loss /= len(train_X) / batch_size\n",
    "    train_acc /= len(train_X) / batch_size\n",
    "    test_loss /= len(test_X) / batch_size\n",
    "    test_acc /= len(test_X) / batch_size\n",
    "\n",
    "    if test_acc > CURRENT_ACC:\n",
    "        print(\n",
    "            'epoch: %d, pass acc: %f, current acc: %f'\n",
    "            % (EPOCH, CURRENT_ACC, test_acc)\n",
    "        )\n",
    "        CURRENT_ACC = test_acc\n",
    "        CURRENT_CHECKPOINT = 0\n",
    "    else:\n",
    "        CURRENT_CHECKPOINT += 1\n",
    "\n",
    "    print('time taken:', time.time() - lasttime)\n",
    "    print(\n",
    "        'epoch: %d, training loss: %f, training acc: %f, valid loss: %f, valid acc: %f\\n'\n",
    "        % (EPOCH, train_loss, train_acc, test_loss, test_acc)\n",
    "    )\n",
    "    EPOCH += 1"
   ]
  },
  {
   "cell_type": "code",
   "execution_count": 10,
   "metadata": {},
   "outputs": [
    {
     "name": "stderr",
     "output_type": "stream",
     "text": [
      "validation minibatch loop: 100%|██████████| 67/67 [00:01<00:00, 65.03it/s]\n"
     ]
    }
   ],
   "source": [
    "real_Y, predict_Y = [], []\n",
    "\n",
    "pbar = tqdm(\n",
    "    range(0, len(test_X), batch_size), desc = 'validation minibatch loop'\n",
    ")\n",
    "for i in pbar:\n",
    "    batch_x = test_X[i : min(i + batch_size, test_X.shape[0])]\n",
    "    batch_y = test_Y[i : min(i + batch_size, test_X.shape[0])]\n",
    "    predict_Y += np.argmax(\n",
    "        sess.run(\n",
    "            model.logits, feed_dict = {model.X: batch_x, model.Y: batch_y}\n",
    "        ),\n",
    "        1,\n",
    "    ).tolist()\n",
    "    real_Y += batch_y"
   ]
  },
  {
   "cell_type": "code",
   "execution_count": 11,
   "metadata": {},
   "outputs": [
    {
     "name": "stdout",
     "output_type": "stream",
     "text": [
      "             precision    recall  f1-score   support\n",
      "\n",
      "   negative       0.73      0.68      0.70      1057\n",
      "   positive       0.70      0.75      0.72      1076\n",
      "\n",
      "avg / total       0.71      0.71      0.71      2133\n",
      "\n"
     ]
    }
   ],
   "source": [
    "print(metrics.classification_report(real_Y, predict_Y, target_names = trainset.target_names))"
   ]
  },
  {
   "cell_type": "code",
   "execution_count": null,
   "metadata": {},
   "outputs": [],
   "source": []
  }
 ],
 "metadata": {
  "kernelspec": {
   "display_name": "Python 3",
   "language": "python",
   "name": "python3"
  },
  "language_info": {
   "codemirror_mode": {
    "name": "ipython",
    "version": 3
   },
   "file_extension": ".py",
   "mimetype": "text/x-python",
   "name": "python",
   "nbconvert_exporter": "python",
   "pygments_lexer": "ipython3",
   "version": "3.5.2"
  }
 },
 "nbformat": 4,
 "nbformat_minor": 2
}
