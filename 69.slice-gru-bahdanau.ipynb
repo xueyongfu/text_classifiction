{
 "cells": [
  {
   "cell_type": "code",
   "execution_count": 1,
   "metadata": {},
   "outputs": [
    {
     "name": "stderr",
     "output_type": "stream",
     "text": [
      "/home/husein/.local/lib/python3.6/site-packages/sklearn/cross_validation.py:41: DeprecationWarning: This module was deprecated in version 0.18 in favor of the model_selection module into which all the refactored classes and functions are moved. Also note that the interface of the new CV iterators are different from that of this module. This module will be removed in 0.20.\n",
      "  \"This module will be removed in 0.20.\", DeprecationWarning)\n"
     ]
    }
   ],
   "source": [
    "from utils import *\n",
    "from sklearn.cross_validation import train_test_split\n",
    "import time"
   ]
  },
  {
   "cell_type": "code",
   "execution_count": 2,
   "metadata": {},
   "outputs": [
    {
     "name": "stdout",
     "output_type": "stream",
     "text": [
      "['negative', 'positive']\n",
      "10662\n",
      "10662\n"
     ]
    }
   ],
   "source": [
    "trainset = sklearn.datasets.load_files(container_path = 'data', encoding = 'UTF-8')\n",
    "trainset.data, trainset.target = separate_dataset(trainset,1.0)\n",
    "print (trainset.target_names)\n",
    "print (len(trainset.data))\n",
    "print (len(trainset.target))"
   ]
  },
  {
   "cell_type": "code",
   "execution_count": 3,
   "metadata": {},
   "outputs": [
    {
     "name": "stdout",
     "output_type": "stream",
     "text": [
      "vocab from size: 20332\n",
      "Most common words [('film', 1453), ('movie', 1270), ('one', 727), ('like', 721), ('story', 477), ('much', 386)]\n",
      "Sample data [7006, 300, 6, 62, 2165, 3661, 1641, 1122, 99, 5347] ['oddity', 'sure', 'one', 'might', 'wind', 'remembering', 'degree', 'affection', 'rather', 'revulsion']\n"
     ]
    }
   ],
   "source": [
    "concat = ' '.join(trainset.data).split()\n",
    "vocabulary_size = len(list(set(concat)))\n",
    "data, count, dictionary, rev_dictionary = build_dataset(concat, vocabulary_size)\n",
    "print('vocab from size: %d'%(vocabulary_size))\n",
    "print('Most common words', count[4:10])\n",
    "print('Sample data', data[:10], [rev_dictionary[i] for i in data[:10]])"
   ]
  },
  {
   "cell_type": "code",
   "execution_count": 4,
   "metadata": {},
   "outputs": [],
   "source": [
    "GO = dictionary['GO']\n",
    "PAD = dictionary['PAD']\n",
    "EOS = dictionary['EOS']\n",
    "UNK = dictionary['UNK']"
   ]
  },
  {
   "cell_type": "code",
   "execution_count": 5,
   "metadata": {},
   "outputs": [],
   "source": [
    "class Model:\n",
    "    def __init__(self, size_layer, embed_size, dict_size, dimension_output, learning_rate = 1e-3):\n",
    "        self.X = tf.placeholder(tf.int32, [None, 100])\n",
    "        self.Y = tf.placeholder(tf.int32, [None])\n",
    "        \n",
    "        encoder_embeddings = tf.Variable(tf.random_uniform([dict_size, embed_size], -1, 1))\n",
    "        x = tf.nn.embedding_lookup(encoder_embeddings, self.X)\n",
    "        \n",
    "        def cells(reuse=False):\n",
    "            return tf.contrib.rnn.DropoutWrapper(\n",
    "            tf.nn.rnn_cell.GRUCell(size_layer, reuse=reuse), output_keep_prob = 0.8,\n",
    "                input_keep_prob = 0.8\n",
    "        )\n",
    "            \n",
    "        batch_size = tf.shape(self.X)[0]\n",
    "        \n",
    "        x = tf.reshape(x, (batch_size*10, 10, size_layer))\n",
    "        with tf.variable_scope('1'):\n",
    "            attention_mechanism = tf.contrib.seq2seq.BahdanauAttention(num_units = size_layer, \n",
    "                                                                    memory = x)\n",
    "            rnn_cell = tf.contrib.seq2seq.AttentionWrapper(cell = cells(),\n",
    "                                                           attention_mechanism = attention_mechanism,\n",
    "                                                           attention_layer_size = size_layer)\n",
    "            x, _ = tf.nn.dynamic_rnn(\n",
    "                cell = rnn_cell, \n",
    "                inputs = x,\n",
    "                dtype = tf.float32)\n",
    "        x = tf.reduce_max(x, 1)\n",
    "        \n",
    "        x = tf.reshape(x, (batch_size, 10, size_layer))\n",
    "        with tf.variable_scope('2'):\n",
    "            attention_mechanism = tf.contrib.seq2seq.BahdanauAttention(num_units = size_layer, \n",
    "                                                                    memory = x)\n",
    "            rnn_cell = tf.contrib.seq2seq.AttentionWrapper(cell = cells(),\n",
    "                                                          attention_mechanism = attention_mechanism,\n",
    "                                                           attention_layer_size = size_layer)\n",
    "            x, _ = tf.nn.dynamic_rnn(\n",
    "                cell = rnn_cell, \n",
    "                inputs = x,\n",
    "                dtype = tf.float32)\n",
    "        x = tf.reduce_max(x, 1)\n",
    "        \n",
    "        x = tf.reshape(x, (batch_size, 1, size_layer))\n",
    "        with tf.variable_scope('3'):\n",
    "            attention_mechanism = tf.contrib.seq2seq.BahdanauAttention(num_units = size_layer, \n",
    "                                                                    memory = x)\n",
    "            rnn_cell = tf.contrib.seq2seq.AttentionWrapper(cell = cells(),\n",
    "                                                          attention_mechanism = attention_mechanism,\n",
    "                                                           attention_layer_size = size_layer)\n",
    "            x, _ = tf.nn.dynamic_rnn(\n",
    "                cell = rnn_cell, \n",
    "                inputs = x,\n",
    "                dtype = tf.float32)\n",
    "        x = tf.reduce_max(x, 1)\n",
    "        self.logits = tf.layers.dense(x, dimension_output)\n",
    "\n",
    "        self.cost = tf.reduce_mean(\n",
    "            tf.nn.sparse_softmax_cross_entropy_with_logits(\n",
    "                logits = self.logits, labels = self.Y\n",
    "            )\n",
    "        )\n",
    "        self.optimizer = tf.train.AdamOptimizer(learning_rate).minimize(\n",
    "            self.cost\n",
    "        )\n",
    "        correct_pred = tf.equal(\n",
    "            tf.argmax(self.logits, 1, output_type = tf.int32), self.Y\n",
    "        )\n",
    "        self.accuracy = tf.reduce_mean(tf.cast(correct_pred, tf.float32))"
   ]
  },
  {
   "cell_type": "code",
   "execution_count": 6,
   "metadata": {},
   "outputs": [],
   "source": [
    "size_layer = 200\n",
    "embed_size = 200\n",
    "maxlen = 100\n",
    "batch_size = 32\n",
    "dimension_output = len(trainset.target_names)"
   ]
  },
  {
   "cell_type": "code",
   "execution_count": 7,
   "metadata": {},
   "outputs": [],
   "source": [
    "import tensorflow as tf"
   ]
  },
  {
   "cell_type": "code",
   "execution_count": 8,
   "metadata": {},
   "outputs": [],
   "source": [
    "tf.reset_default_graph()\n",
    "sess = tf.InteractiveSession()\n",
    "model = Model(size_layer, embed_size, len(dictionary), dimension_output)\n",
    "sess.run(tf.global_variables_initializer())"
   ]
  },
  {
   "cell_type": "code",
   "execution_count": 9,
   "metadata": {},
   "outputs": [],
   "source": [
    "vectors = str_idx(trainset.data,dictionary,maxlen)\n",
    "train_X, test_X, train_Y, test_Y = train_test_split(vectors, trainset.target,test_size = 0.2)"
   ]
  },
  {
   "cell_type": "code",
   "execution_count": 10,
   "metadata": {},
   "outputs": [
    {
     "name": "stderr",
     "output_type": "stream",
     "text": [
      "train minibatch loop: 100%|██████████| 267/267 [00:18<00:00, 14.80it/s, accuracy=0.647, cost=0.732]\n",
      "test minibatch loop: 100%|██████████| 67/67 [00:01<00:00, 33.77it/s, accuracy=0.714, cost=0.584]\n",
      "train minibatch loop:   1%|          | 2/267 [00:00<00:18, 14.16it/s, accuracy=0.5, cost=0.644]"
     ]
    },
    {
     "name": "stdout",
     "output_type": "stream",
     "text": [
      "epoch: 0, pass acc: 0.000000, current acc: 0.640346\n",
      "time taken: 20.976581573486328\n",
      "epoch: 0, training loss: 0.713305, training acc: 0.564158, valid loss: 0.650553, valid acc: 0.640346\n",
      "\n"
     ]
    },
    {
     "name": "stderr",
     "output_type": "stream",
     "text": [
      "train minibatch loop: 100%|██████████| 267/267 [00:18<00:00, 14.51it/s, accuracy=0.765, cost=0.42] \n",
      "test minibatch loop: 100%|██████████| 67/67 [00:01<00:00, 35.40it/s, accuracy=0.762, cost=0.48] \n",
      "train minibatch loop:   1%|          | 2/267 [00:00<00:18, 14.43it/s, accuracy=0.812, cost=0.429]"
     ]
    },
    {
     "name": "stdout",
     "output_type": "stream",
     "text": [
      "epoch: 1, pass acc: 0.640346, current acc: 0.690286\n",
      "time taken: 20.294590711593628\n",
      "epoch: 1, training loss: 0.547850, training acc: 0.726870, valid loss: 0.645137, valid acc: 0.690286\n",
      "\n"
     ]
    },
    {
     "name": "stderr",
     "output_type": "stream",
     "text": [
      "train minibatch loop: 100%|██████████| 267/267 [00:18<00:00, 14.53it/s, accuracy=1, cost=0.123]    \n",
      "test minibatch loop: 100%|██████████| 67/67 [00:01<00:00, 35.86it/s, accuracy=0.714, cost=0.533]\n",
      "train minibatch loop:   1%|          | 2/267 [00:00<00:18, 14.63it/s, accuracy=0.875, cost=0.347]"
     ]
    },
    {
     "name": "stdout",
     "output_type": "stream",
     "text": [
      "epoch: 2, pass acc: 0.690286, current acc: 0.696604\n",
      "time taken: 20.254744052886963\n",
      "epoch: 2, training loss: 0.365559, training acc: 0.845117, valid loss: 0.701745, valid acc: 0.696604\n",
      "\n"
     ]
    },
    {
     "name": "stderr",
     "output_type": "stream",
     "text": [
      "train minibatch loop: 100%|██████████| 267/267 [00:18<00:00, 14.54it/s, accuracy=0.647, cost=0.38]  \n",
      "test minibatch loop: 100%|██████████| 67/67 [00:01<00:00, 35.65it/s, accuracy=0.762, cost=0.531]\n",
      "train minibatch loop:   1%|          | 2/267 [00:00<00:18, 14.37it/s, accuracy=0.875, cost=0.325]"
     ]
    },
    {
     "name": "stdout",
     "output_type": "stream",
     "text": [
      "epoch: 3, pass acc: 0.696604, current acc: 0.704351\n",
      "time taken: 20.24740958213806\n",
      "epoch: 3, training loss: 0.233707, training acc: 0.912616, valid loss: 0.852016, valid acc: 0.704351\n",
      "\n"
     ]
    },
    {
     "name": "stderr",
     "output_type": "stream",
     "text": [
      "train minibatch loop: 100%|██████████| 267/267 [00:18<00:00, 14.58it/s, accuracy=0.941, cost=0.157] \n",
      "test minibatch loop: 100%|██████████| 67/67 [00:01<00:00, 35.78it/s, accuracy=0.619, cost=1.25] \n",
      "train minibatch loop:   1%|          | 2/267 [00:00<00:18, 14.62it/s, accuracy=0.969, cost=0.0777]"
     ]
    },
    {
     "name": "stdout",
     "output_type": "stream",
     "text": [
      "time taken: 20.186052560806274\n",
      "epoch: 4, training loss: 0.165602, training acc: 0.938342, valid loss: 1.381705, valid acc: 0.690487\n",
      "\n"
     ]
    },
    {
     "name": "stderr",
     "output_type": "stream",
     "text": [
      "train minibatch loop: 100%|██████████| 267/267 [00:18<00:00, 14.56it/s, accuracy=1, cost=0.01]      \n",
      "test minibatch loop: 100%|██████████| 67/67 [00:01<00:00, 35.70it/s, accuracy=0.667, cost=0.937]\n",
      "train minibatch loop:   1%|          | 2/267 [00:00<00:18, 14.48it/s, accuracy=0.938, cost=0.165]"
     ]
    },
    {
     "name": "stdout",
     "output_type": "stream",
     "text": [
      "time taken: 20.220810174942017\n",
      "epoch: 5, training loss: 0.113889, training acc: 0.960371, valid loss: 1.241685, valid acc: 0.681825\n",
      "\n"
     ]
    },
    {
     "name": "stderr",
     "output_type": "stream",
     "text": [
      "train minibatch loop: 100%|██████████| 267/267 [00:18<00:00, 14.54it/s, accuracy=0.882, cost=0.107] \n",
      "test minibatch loop: 100%|██████████| 67/67 [00:01<00:00, 35.83it/s, accuracy=0.667, cost=0.434]"
     ]
    },
    {
     "name": "stdout",
     "output_type": "stream",
     "text": [
      "time taken: 20.230729818344116\n",
      "epoch: 6, training loss: 0.084232, training acc: 0.971771, valid loss: 1.173060, valid acc: 0.680888\n",
      "\n",
      "break epoch:7\n",
      "\n"
     ]
    },
    {
     "name": "stderr",
     "output_type": "stream",
     "text": [
      "\n"
     ]
    }
   ],
   "source": [
    "from tqdm import tqdm\n",
    "import time\n",
    "\n",
    "EARLY_STOPPING, CURRENT_CHECKPOINT, CURRENT_ACC, EPOCH = 3, 0, 0, 0\n",
    "\n",
    "while True:\n",
    "    lasttime = time.time()\n",
    "    if CURRENT_CHECKPOINT == EARLY_STOPPING:\n",
    "        print('break epoch:%d\\n' % (EPOCH))\n",
    "        break\n",
    "\n",
    "    train_acc, train_loss, test_acc, test_loss = 0, 0, 0, 0\n",
    "    pbar = tqdm(\n",
    "        range(0, len(train_X), batch_size), desc = 'train minibatch loop'\n",
    "    )\n",
    "    for i in pbar:\n",
    "        batch_x = train_X[i : min(i + batch_size, train_X.shape[0])]\n",
    "        batch_y = train_Y[i : min(i + batch_size, train_X.shape[0])]\n",
    "        acc, cost, _ = sess.run(\n",
    "            [model.accuracy, model.cost, model.optimizer],\n",
    "            feed_dict = {\n",
    "                model.Y: batch_y,\n",
    "                model.X: batch_x\n",
    "            },\n",
    "        )\n",
    "        assert not np.isnan(cost)\n",
    "        train_loss += cost\n",
    "        train_acc += acc\n",
    "        pbar.set_postfix(cost = cost, accuracy = acc)\n",
    "    pbar = tqdm(range(0, len(test_X), batch_size), desc = 'test minibatch loop')\n",
    "    for i in pbar:\n",
    "        batch_x = test_X[i : min(i + batch_size, test_X.shape[0])]\n",
    "        batch_y = test_Y[i : min(i + batch_size, test_X.shape[0])]\n",
    "        acc, cost = sess.run(\n",
    "            [model.accuracy, model.cost],\n",
    "            feed_dict = {\n",
    "                model.Y: batch_y,\n",
    "                model.X: batch_x\n",
    "            },\n",
    "        )\n",
    "        test_loss += cost\n",
    "        test_acc += acc\n",
    "        pbar.set_postfix(cost = cost, accuracy = acc)\n",
    "\n",
    "    train_loss /= len(train_X) / batch_size\n",
    "    train_acc /= len(train_X) / batch_size\n",
    "    test_loss /= len(test_X) / batch_size\n",
    "    test_acc /= len(test_X) / batch_size\n",
    "\n",
    "    if test_acc > CURRENT_ACC:\n",
    "        print(\n",
    "            'epoch: %d, pass acc: %f, current acc: %f'\n",
    "            % (EPOCH, CURRENT_ACC, test_acc)\n",
    "        )\n",
    "        CURRENT_ACC = test_acc\n",
    "        CURRENT_CHECKPOINT = 0\n",
    "    else:\n",
    "        CURRENT_CHECKPOINT += 1\n",
    "\n",
    "    print('time taken:', time.time() - lasttime)\n",
    "    print(\n",
    "        'epoch: %d, training loss: %f, training acc: %f, valid loss: %f, valid acc: %f\\n'\n",
    "        % (EPOCH, train_loss, train_acc, test_loss, test_acc)\n",
    "    )\n",
    "    EPOCH += 1"
   ]
  },
  {
   "cell_type": "code",
   "execution_count": null,
   "metadata": {},
   "outputs": [],
   "source": []
  }
 ],
 "metadata": {
  "kernelspec": {
   "display_name": "Python 3",
   "language": "python",
   "name": "python3"
  },
  "language_info": {
   "codemirror_mode": {
    "name": "ipython",
    "version": 3
   },
   "file_extension": ".py",
   "mimetype": "text/x-python",
   "name": "python",
   "nbconvert_exporter": "python",
   "pygments_lexer": "ipython3",
   "version": "3.6.8"
  }
 },
 "nbformat": 4,
 "nbformat_minor": 2
}
