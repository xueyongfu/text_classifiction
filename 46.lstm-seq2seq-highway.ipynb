{
 "cells": [
  {
   "cell_type": "code",
   "execution_count": 1,
   "metadata": {},
   "outputs": [
    {
     "name": "stderr",
     "output_type": "stream",
     "text": [
      "/usr/local/lib/python3.5/dist-packages/h5py/__init__.py:36: FutureWarning: Conversion of the second argument of issubdtype from `float` to `np.floating` is deprecated. In future, it will be treated as `np.float64 == np.dtype(float).type`.\n",
      "  from ._conv import register_converters as _register_converters\n",
      "/usr/local/lib/python3.5/dist-packages/sklearn/cross_validation.py:41: DeprecationWarning: This module was deprecated in version 0.18 in favor of the model_selection module into which all the refactored classes and functions are moved. Also note that the interface of the new CV iterators are different from that of this module. This module will be removed in 0.20.\n",
      "  \"This module will be removed in 0.20.\", DeprecationWarning)\n"
     ]
    }
   ],
   "source": [
    "from utils import *\n",
    "import tensorflow as tf\n",
    "from sklearn.cross_validation import train_test_split\n",
    "import time"
   ]
  },
  {
   "cell_type": "code",
   "execution_count": 2,
   "metadata": {},
   "outputs": [
    {
     "name": "stdout",
     "output_type": "stream",
     "text": [
      "['negative', 'positive']\n",
      "10662\n",
      "10662\n"
     ]
    }
   ],
   "source": [
    "trainset = sklearn.datasets.load_files(container_path = 'data', encoding = 'UTF-8')\n",
    "trainset.data, trainset.target = separate_dataset(trainset,1.0)\n",
    "print (trainset.target_names)\n",
    "print (len(trainset.data))\n",
    "print (len(trainset.target))"
   ]
  },
  {
   "cell_type": "code",
   "execution_count": 3,
   "metadata": {},
   "outputs": [],
   "source": [
    "ONEHOT = np.zeros((len(trainset.data),len(trainset.target_names)))\n",
    "ONEHOT[np.arange(len(trainset.data)),trainset.target] = 1.0\n",
    "train_X, test_X, train_Y, test_Y, train_onehot, test_onehot = train_test_split(trainset.data, \n",
    "                                                                               trainset.target, \n",
    "                                                                               ONEHOT, test_size = 0.2)"
   ]
  },
  {
   "cell_type": "code",
   "execution_count": 4,
   "metadata": {},
   "outputs": [
    {
     "name": "stdout",
     "output_type": "stream",
     "text": [
      "vocab from size: 20332\n",
      "Most common words [('film', 1453), ('movie', 1270), ('one', 727), ('like', 721), ('story', 477), ('much', 386)]\n",
      "Sample data [541, 2447, 3659, 19047, 36, 8050, 218, 151, 19, 3708] ['rock', 'destined', '21st', 'centurys', 'new', 'conan', 'hes', 'going', 'make', 'splash']\n"
     ]
    }
   ],
   "source": [
    "concat = ' '.join(trainset.data).split()\n",
    "vocabulary_size = len(list(set(concat)))\n",
    "data, count, dictionary, rev_dictionary = build_dataset(concat, vocabulary_size)\n",
    "print('vocab from size: %d'%(vocabulary_size))\n",
    "print('Most common words', count[4:10])\n",
    "print('Sample data', data[:10], [rev_dictionary[i] for i in data[:10]])"
   ]
  },
  {
   "cell_type": "code",
   "execution_count": 5,
   "metadata": {},
   "outputs": [],
   "source": [
    "GO = dictionary['GO']\n",
    "PAD = dictionary['PAD']\n",
    "EOS = dictionary['EOS']\n",
    "UNK = dictionary['UNK']"
   ]
  },
  {
   "cell_type": "code",
   "execution_count": 6,
   "metadata": {},
   "outputs": [],
   "source": [
    "class Model:\n",
    "    def __init__(self, size_layer, num_layers, embedded_size, \n",
    "                 maxlen, dict_size, dimension_output, learning_rate):\n",
    "        \n",
    "        def cells(reuse=False):\n",
    "            return tf.nn.rnn_cell.LSTMCell(size_layer,initializer=tf.orthogonal_initializer(),reuse=reuse)\n",
    "        \n",
    "        self.X = tf.placeholder(tf.int32, [None, maxlen])\n",
    "        self.X_DEC = tf.placeholder(tf.int32, [None, None])\n",
    "        self.Y = tf.placeholder(tf.float32, [None, dimension_output])\n",
    "        encoder_embeddings = tf.Variable(tf.random_uniform([dict_size, embedded_size], -1, 1))\n",
    "        encoder_embedded = tf.nn.embedding_lookup(encoder_embeddings, self.X)\n",
    "        decoder_embedded = tf.nn.embedding_lookup(encoder_embeddings, self.X_DEC)\n",
    "        rnn_cells = tf.nn.rnn_cell.MultiRNNCell([cells() for _ in range(num_layers)])\n",
    "        outputs_encoder, last_state = tf.nn.dynamic_rnn(rnn_cells, encoder_embedded, dtype = tf.float32)\n",
    "        reshaped = tf.reshape(outputs_encoder, [-1, maxlen*embedded_size])\n",
    "        H = tf.layers.dense(reshaped, maxlen*embedded_size, tf.nn.relu)\n",
    "        T = tf.layers.dense(reshaped, maxlen*embedded_size, tf.sigmoid)\n",
    "        C = tf.subtract(1.0, T)\n",
    "        highway_out = tf.add(tf.multiply(H, T), tf.multiply(reshaped, C))\n",
    "        with tf.variable_scope(\"decoder\"):\n",
    "            rnn_cells_dec = tf.nn.rnn_cell.MultiRNNCell([cells() for _ in range(num_layers)])\n",
    "            outputs, _ = tf.nn.dynamic_rnn(rnn_cells_dec, decoder_embedded, \n",
    "                                           initial_state = last_state,\n",
    "                                           dtype = tf.float32)\n",
    "        W = tf.get_variable('w',shape=(maxlen*embedded_size, \n",
    "                                       dimension_output),initializer=tf.orthogonal_initializer())\n",
    "        b = tf.get_variable('b',shape=(dimension_output),initializer=tf.zeros_initializer())\n",
    "        self.logits = tf.matmul(tf.matmul(outputs[:,-1],highway_out), W) + b\n",
    "        self.cost = tf.reduce_mean(tf.nn.softmax_cross_entropy_with_logits(logits = self.logits, labels = self.Y))\n",
    "        self.optimizer = tf.train.AdamOptimizer(learning_rate = learning_rate).minimize(self.cost)\n",
    "        correct_pred = tf.equal(tf.argmax(self.logits, 1), tf.argmax(self.Y, 1))\n",
    "        self.accuracy = tf.reduce_mean(tf.cast(correct_pred, tf.float32))"
   ]
  },
  {
   "cell_type": "code",
   "execution_count": 7,
   "metadata": {},
   "outputs": [],
   "source": [
    "size_layer = 128\n",
    "num_layers = 2\n",
    "embedded_size = 128\n",
    "dimension_output = len(trainset.target_names)\n",
    "learning_rate = 1e-3\n",
    "maxlen = 50\n",
    "batch_size = 128\n",
    "skip = 5"
   ]
  },
  {
   "cell_type": "code",
   "execution_count": 8,
   "metadata": {},
   "outputs": [],
   "source": [
    "tf.reset_default_graph()\n",
    "sess = tf.InteractiveSession()\n",
    "model = Model(size_layer,num_layers,embedded_size,\n",
    "              maxlen,vocabulary_size+4,dimension_output,learning_rate)\n",
    "sess.run(tf.global_variables_initializer())"
   ]
  },
  {
   "cell_type": "code",
   "execution_count": 9,
   "metadata": {},
   "outputs": [
    {
     "name": "stdout",
     "output_type": "stream",
     "text": [
      "epoch: 0, pass acc: 0.000000, current acc: 0.511230\n",
      "time taken: 10.848186492919922\n",
      "epoch: 0, training loss: 0.876497, training acc: 0.508523, valid loss: 0.692877, valid acc: 0.511230\n",
      "\n",
      "epoch: 1, pass acc: 0.511230, current acc: 0.595215\n",
      "time taken: 10.167237997055054\n",
      "epoch: 1, training loss: 0.678901, training acc: 0.560843, valid loss: 0.660376, valid acc: 0.595215\n",
      "\n",
      "epoch: 2, pass acc: 0.595215, current acc: 0.650879\n",
      "time taken: 10.173142671585083\n",
      "epoch: 2, training loss: 0.592817, training acc: 0.678030, valid loss: 0.641639, valid acc: 0.650879\n",
      "\n",
      "epoch: 3, pass acc: 0.650879, current acc: 0.686035\n",
      "time taken: 10.16051721572876\n",
      "epoch: 3, training loss: 0.440233, training acc: 0.795455, valid loss: 0.757227, valid acc: 0.686035\n",
      "\n",
      "epoch: 4, pass acc: 0.686035, current acc: 0.698242\n",
      "time taken: 10.158648490905762\n",
      "epoch: 4, training loss: 0.305133, training acc: 0.869081, valid loss: 0.917133, valid acc: 0.698242\n",
      "\n",
      "time taken: 10.146451473236084\n",
      "epoch: 5, training loss: 0.180594, training acc: 0.930753, valid loss: 0.881799, valid acc: 0.693848\n",
      "\n",
      "time taken: 10.148266792297363\n",
      "epoch: 6, training loss: 0.094000, training acc: 0.968750, valid loss: 1.646770, valid acc: 0.691895\n",
      "\n",
      "epoch: 7, pass acc: 0.698242, current acc: 0.699219\n",
      "time taken: 10.149260997772217\n",
      "epoch: 7, training loss: 0.053305, training acc: 0.980114, valid loss: 1.806665, valid acc: 0.699219\n",
      "\n",
      "epoch: 8, pass acc: 0.699219, current acc: 0.705566\n",
      "time taken: 10.156009197235107\n",
      "epoch: 8, training loss: 0.032442, training acc: 0.986979, valid loss: 1.772685, valid acc: 0.705566\n",
      "\n",
      "time taken: 10.199288606643677\n",
      "epoch: 9, training loss: 0.021971, training acc: 0.992543, valid loss: 2.008790, valid acc: 0.705566\n",
      "\n",
      "time taken: 10.188306093215942\n",
      "epoch: 10, training loss: 0.028168, training acc: 0.990412, valid loss: 2.204373, valid acc: 0.702637\n",
      "\n",
      "time taken: 10.183758735656738\n",
      "epoch: 11, training loss: 0.017554, training acc: 0.994555, valid loss: 2.634202, valid acc: 0.700684\n",
      "\n",
      "epoch: 12, pass acc: 0.705566, current acc: 0.708984\n",
      "time taken: 10.183055639266968\n",
      "epoch: 12, training loss: 0.007217, training acc: 0.997633, valid loss: 3.003588, valid acc: 0.708984\n",
      "\n",
      "epoch: 13, pass acc: 0.708984, current acc: 0.712891\n",
      "time taken: 10.197357177734375\n",
      "epoch: 13, training loss: 0.000747, training acc: 0.999763, valid loss: 4.090610, valid acc: 0.712891\n",
      "\n",
      "epoch: 14, pass acc: 0.712891, current acc: 0.713867\n",
      "time taken: 10.194209814071655\n",
      "epoch: 14, training loss: 0.000050, training acc: 1.000000, valid loss: 4.439333, valid acc: 0.713867\n",
      "\n",
      "time taken: 10.19192910194397\n",
      "epoch: 15, training loss: 0.000020, training acc: 1.000000, valid loss: 4.628286, valid acc: 0.713379\n",
      "\n",
      "time taken: 10.187484741210938\n",
      "epoch: 16, training loss: 0.000014, training acc: 1.000000, valid loss: 4.782063, valid acc: 0.713379\n",
      "\n",
      "time taken: 10.188771486282349\n",
      "epoch: 17, training loss: 0.000011, training acc: 1.000000, valid loss: 4.913394, valid acc: 0.713379\n",
      "\n",
      "time taken: 10.204802513122559\n",
      "epoch: 18, training loss: 0.000009, training acc: 1.000000, valid loss: 5.028808, valid acc: 0.713379\n",
      "\n",
      "time taken: 10.201510429382324\n",
      "epoch: 19, training loss: 0.000007, training acc: 1.000000, valid loss: 5.132276, valid acc: 0.713379\n",
      "\n",
      "break epoch:20\n",
      "\n"
     ]
    }
   ],
   "source": [
    "EARLY_STOPPING, CURRENT_CHECKPOINT, CURRENT_ACC, EPOCH = 5, 0, 0, 0\n",
    "while True:\n",
    "    lasttime = time.time()\n",
    "    if CURRENT_CHECKPOINT == EARLY_STOPPING:\n",
    "        print('break epoch:%d\\n'%(EPOCH))\n",
    "        break\n",
    "        \n",
    "    train_acc, train_loss, test_acc, test_loss = 0, 0, 0, 0\n",
    "    for i in range(0, (len(train_X) // batch_size) * batch_size, batch_size):\n",
    "        batch_x = str_idx(train_X[i:i+batch_size],dictionary,maxlen)\n",
    "        acc, loss, _ = sess.run([model.accuracy, model.cost, model.optimizer], \n",
    "                           feed_dict = {model.X : batch_x, \n",
    "                                        model.X_DEC: batch_x[:,skip:],\n",
    "                                        model.Y : train_onehot[i:i+batch_size]})\n",
    "        train_loss += loss\n",
    "        train_acc += acc\n",
    "    \n",
    "    for i in range(0, (len(test_X) // batch_size) * batch_size, batch_size):\n",
    "        batch_x = str_idx(test_X[i:i+batch_size],dictionary,maxlen)\n",
    "        acc, loss = sess.run([model.accuracy, model.cost], \n",
    "                           feed_dict = {model.X : batch_x, \n",
    "                                        model.X_DEC: batch_x[:,skip:],\n",
    "                                        model.Y : test_onehot[i:i+batch_size]})\n",
    "        test_loss += loss\n",
    "        test_acc += acc\n",
    "    \n",
    "    train_loss /= (len(train_X) // batch_size)\n",
    "    train_acc /= (len(train_X) // batch_size)\n",
    "    test_loss /= (len(test_X) // batch_size)\n",
    "    test_acc /= (len(test_X) // batch_size)\n",
    "    \n",
    "    if test_acc > CURRENT_ACC:\n",
    "        print('epoch: %d, pass acc: %f, current acc: %f'%(EPOCH,CURRENT_ACC, test_acc))\n",
    "        CURRENT_ACC = test_acc\n",
    "        CURRENT_CHECKPOINT = 0\n",
    "    else:\n",
    "        CURRENT_CHECKPOINT += 1\n",
    "        \n",
    "    print('time taken:', time.time()-lasttime)\n",
    "    print('epoch: %d, training loss: %f, training acc: %f, valid loss: %f, valid acc: %f\\n'%(EPOCH,train_loss,\n",
    "                                                                                          train_acc,test_loss,\n",
    "                                                                                          test_acc))\n",
    "    EPOCH += 1"
   ]
  },
  {
   "cell_type": "code",
   "execution_count": null,
   "metadata": {},
   "outputs": [],
   "source": []
  }
 ],
 "metadata": {
  "kernelspec": {
   "display_name": "Python 3",
   "language": "python",
   "name": "python3"
  },
  "language_info": {
   "codemirror_mode": {
    "name": "ipython",
    "version": 3
   },
   "file_extension": ".py",
   "mimetype": "text/x-python",
   "name": "python",
   "nbconvert_exporter": "python",
   "pygments_lexer": "ipython3",
   "version": "3.5.2"
  }
 },
 "nbformat": 4,
 "nbformat_minor": 2
}
