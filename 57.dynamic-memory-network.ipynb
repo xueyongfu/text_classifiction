{
 "cells": [
  {
   "cell_type": "code",
   "execution_count": 1,
   "metadata": {},
   "outputs": [
    {
     "name": "stderr",
     "output_type": "stream",
     "text": [
      "/usr/local/lib/python3.5/dist-packages/sklearn/cross_validation.py:41: DeprecationWarning: This module was deprecated in version 0.18 in favor of the model_selection module into which all the refactored classes and functions are moved. Also note that the interface of the new CV iterators are different from that of this module. This module will be removed in 0.20.\n",
      "  \"This module will be removed in 0.20.\", DeprecationWarning)\n"
     ]
    }
   ],
   "source": [
    "from dynamic_memory_network import DynamicMemoryNetwork\n",
    "import tensorflow as tf\n",
    "import os\n",
    "import numpy as np\n",
    "from utils import *\n",
    "from sklearn.cross_validation import train_test_split"
   ]
  },
  {
   "cell_type": "code",
   "execution_count": 2,
   "metadata": {},
   "outputs": [
    {
     "name": "stdout",
     "output_type": "stream",
     "text": [
      "['negative', 'positive']\n",
      "10662\n",
      "10662\n"
     ]
    }
   ],
   "source": [
    "trainset = sklearn.datasets.load_files(\n",
    "    container_path = 'data', encoding = 'UTF-8'\n",
    ")\n",
    "trainset.data, trainset.target = separate_dataset(trainset, 1.0)\n",
    "print(trainset.target_names)\n",
    "print(len(trainset.data))\n",
    "print(len(trainset.target))"
   ]
  },
  {
   "cell_type": "code",
   "execution_count": 3,
   "metadata": {},
   "outputs": [
    {
     "name": "stdout",
     "output_type": "stream",
     "text": [
      "vocab from size: 20332\n",
      "Most common words [('film', 1453), ('movie', 1270), ('one', 727), ('like', 721), ('story', 477), ('much', 386)]\n",
      "Sample data [550, 2474, 3214, 12096, 36, 8133, 218, 151, 19, 3906] ['rock', 'destined', '21st', 'centurys', 'new', 'conan', 'hes', 'going', 'make', 'splash']\n"
     ]
    }
   ],
   "source": [
    "concat = ' '.join(trainset.data).split()\n",
    "vocabulary_size = len(list(set(concat)))\n",
    "data, count, dictionary, rev_dictionary = build_dataset(concat, vocabulary_size)\n",
    "print('vocab from size: %d'%(vocabulary_size))\n",
    "print('Most common words', count[4:10])\n",
    "print('Sample data', data[:10], [rev_dictionary[i] for i in data[:10]])"
   ]
  },
  {
   "cell_type": "code",
   "execution_count": 4,
   "metadata": {},
   "outputs": [],
   "source": [
    "GO = dictionary['GO']\n",
    "PAD = dictionary['PAD']\n",
    "EOS = dictionary['EOS']\n",
    "UNK = dictionary['UNK']"
   ]
  },
  {
   "cell_type": "code",
   "execution_count": 5,
   "metadata": {},
   "outputs": [],
   "source": [
    "size_layer = 128\n",
    "num_layers = 2\n",
    "embedded_size = 128\n",
    "dimension_output = len(trainset.target_names)\n",
    "learning_rate = 1e-3\n",
    "maxlen = 50\n",
    "batch_size = 128\n",
    "decay_step = 1e4\n",
    "decay_rate = 1.0\n",
    "story_len = 1"
   ]
  },
  {
   "cell_type": "code",
   "execution_count": 6,
   "metadata": {},
   "outputs": [],
   "source": [
    "tf.reset_default_graph()\n",
    "sess = tf.InteractiveSession()\n",
    "\n",
    "model = DynamicMemoryNetwork(\n",
    "    dimension_output,\n",
    "    learning_rate,\n",
    "    decay_step,\n",
    "    decay_rate,\n",
    "    maxlen,\n",
    "    story_len,\n",
    "    len(dictionary),\n",
    "    embedded_size,\n",
    "    size_layer\n",
    ")\n",
    "\n",
    "sess.run(tf.global_variables_initializer())"
   ]
  },
  {
   "cell_type": "code",
   "execution_count": 7,
   "metadata": {},
   "outputs": [],
   "source": [
    "vectors = str_idx(trainset.data, dictionary, maxlen)\n",
    "train_X, test_X, train_Y, test_Y = train_test_split(\n",
    "    vectors, trainset.target, test_size = 0.2\n",
    ")"
   ]
  },
  {
   "cell_type": "code",
   "execution_count": 8,
   "metadata": {},
   "outputs": [
    {
     "name": "stderr",
     "output_type": "stream",
     "text": [
      "train minibatch loop: 100%|██████████| 67/67 [00:04<00:00, 22.38it/s, accuracy=0.728, cost=1.14]\n",
      "test minibatch loop: 100%|██████████| 17/17 [00:00<00:00, 48.34it/s, accuracy=0.682, cost=1.19]\n",
      "train minibatch loop:   4%|▍         | 3/67 [00:00<00:02, 23.22it/s, accuracy=0.695, cost=1.12]"
     ]
    },
    {
     "name": "stdout",
     "output_type": "stream",
     "text": [
      "epoch: 0, pass acc: 0.000000, current acc: 0.679485\n",
      "time taken: 4.4395177364349365\n",
      "epoch: 0, training loss: 1.618904, training acc: 0.584152, valid loss: 1.193043, valid acc: 0.679485\n",
      "\n"
     ]
    },
    {
     "name": "stderr",
     "output_type": "stream",
     "text": [
      "train minibatch loop: 100%|██████████| 67/67 [00:02<00:00, 22.67it/s, accuracy=0.926, cost=0.538]\n",
      "test minibatch loop: 100%|██████████| 17/17 [00:00<00:00, 59.82it/s, accuracy=0.706, cost=1.04] \n",
      "train minibatch loop:   4%|▍         | 3/67 [00:00<00:02, 22.28it/s, accuracy=0.883, cost=0.68] "
     ]
    },
    {
     "name": "stdout",
     "output_type": "stream",
     "text": [
      "epoch: 1, pass acc: 0.679485, current acc: 0.751220\n",
      "time taken: 3.2416110038757324\n",
      "epoch: 1, training loss: 0.856162, training acc: 0.824776, valid loss: 1.067184, valid acc: 0.751220\n",
      "\n"
     ]
    },
    {
     "name": "stderr",
     "output_type": "stream",
     "text": [
      "train minibatch loop: 100%|██████████| 67/67 [00:02<00:00, 22.50it/s, accuracy=0.988, cost=0.353]\n",
      "test minibatch loop: 100%|██████████| 17/17 [00:00<00:00, 63.70it/s, accuracy=0.718, cost=1.22]\n",
      "train minibatch loop:   4%|▍         | 3/67 [00:00<00:02, 22.58it/s, accuracy=0.977, cost=0.36] "
     ]
    },
    {
     "name": "stdout",
     "output_type": "stream",
     "text": [
      "time taken: 3.247448205947876\n",
      "epoch: 2, training loss: 0.498770, training acc: 0.940722, valid loss: 1.228086, valid acc: 0.737862\n",
      "\n"
     ]
    },
    {
     "name": "stderr",
     "output_type": "stream",
     "text": [
      "train minibatch loop: 100%|██████████| 67/67 [00:02<00:00, 22.41it/s, accuracy=0.988, cost=0.264]\n",
      "test minibatch loop: 100%|██████████| 17/17 [00:00<00:00, 57.51it/s, accuracy=0.694, cost=1.31]\n",
      "train minibatch loop:   4%|▍         | 3/67 [00:00<00:02, 23.06it/s, accuracy=0.953, cost=0.389]"
     ]
    },
    {
     "name": "stdout",
     "output_type": "stream",
     "text": [
      "time taken: 3.2874510288238525\n",
      "epoch: 3, training loss: 0.329889, training acc: 0.985042, valid loss: 1.357839, valid acc: 0.726136\n",
      "\n"
     ]
    },
    {
     "name": "stderr",
     "output_type": "stream",
     "text": [
      "train minibatch loop: 100%|██████████| 67/67 [00:02<00:00, 22.87it/s, accuracy=1, cost=0.207]    \n",
      "test minibatch loop: 100%|██████████| 17/17 [00:00<00:00, 63.89it/s, accuracy=0.729, cost=1.57]\n",
      "train minibatch loop:   4%|▍         | 3/67 [00:00<00:02, 23.32it/s, accuracy=0.992, cost=0.221]"
     ]
    },
    {
     "name": "stdout",
     "output_type": "stream",
     "text": [
      "time taken: 3.197967290878296\n",
      "epoch: 4, training loss: 0.255105, training acc: 0.995076, valid loss: 1.619126, valid acc: 0.728253\n",
      "\n"
     ]
    },
    {
     "name": "stderr",
     "output_type": "stream",
     "text": [
      "train minibatch loop: 100%|██████████| 67/67 [00:02<00:00, 22.74it/s, accuracy=0.988, cost=0.202]\n",
      "test minibatch loop: 100%|██████████| 17/17 [00:00<00:00, 66.54it/s, accuracy=0.729, cost=1.84]\n",
      "train minibatch loop:   4%|▍         | 3/67 [00:00<00:02, 23.80it/s, accuracy=0.977, cost=0.212]"
     ]
    },
    {
     "name": "stdout",
     "output_type": "stream",
     "text": [
      "time taken: 3.2033350467681885\n",
      "epoch: 5, training loss: 0.214991, training acc: 0.996532, valid loss: 1.945980, valid acc: 0.729660\n",
      "\n"
     ]
    },
    {
     "name": "stderr",
     "output_type": "stream",
     "text": [
      "train minibatch loop: 100%|██████████| 67/67 [00:02<00:00, 22.43it/s, accuracy=1, cost=0.164]    \n",
      "test minibatch loop: 100%|██████████| 17/17 [00:00<00:00, 63.21it/s, accuracy=0.694, cost=2.13]"
     ]
    },
    {
     "name": "stdout",
     "output_type": "stream",
     "text": [
      "time taken: 3.258208751678467\n",
      "epoch: 6, training loss: 0.196242, training acc: 0.995779, valid loss: 2.038143, valid acc: 0.720041\n",
      "\n",
      "break epoch:7\n",
      "\n"
     ]
    },
    {
     "name": "stderr",
     "output_type": "stream",
     "text": [
      "\n"
     ]
    }
   ],
   "source": [
    "from tqdm import tqdm\n",
    "import time\n",
    "\n",
    "EARLY_STOPPING, CURRENT_CHECKPOINT, CURRENT_ACC, EPOCH = 5, 0, 0, 0\n",
    "\n",
    "while True:\n",
    "    lasttime = time.time()\n",
    "    if CURRENT_CHECKPOINT == EARLY_STOPPING:\n",
    "        print('break epoch:%d\\n' % (EPOCH))\n",
    "        break\n",
    "\n",
    "    train_acc, train_loss, test_acc, test_loss = 0, 0, 0, 0\n",
    "    pbar = tqdm(\n",
    "        range(0, len(train_X), batch_size), desc = 'train minibatch loop'\n",
    "    )\n",
    "    for i in pbar:\n",
    "        batch_x = train_X[i : min(i + batch_size, train_X.shape[0])]\n",
    "        batch_y = train_Y[i : min(i + batch_size, train_X.shape[0])]\n",
    "        batch_x_expand = np.expand_dims(batch_x,axis = 1)\n",
    "        acc, cost, _ = sess.run(\n",
    "            [model.accuracy, model.cost, model.optimizer],\n",
    "            feed_dict = {\n",
    "                model.answer_single: batch_y,\n",
    "                model.query: batch_x,\n",
    "                model.story: batch_x_expand,\n",
    "                model.dropout_keep_prob: 1.0\n",
    "            },\n",
    "        )\n",
    "        assert not np.isnan(cost)\n",
    "        train_loss += cost\n",
    "        train_acc += acc\n",
    "        pbar.set_postfix(cost = cost, accuracy = acc)\n",
    "\n",
    "    pbar = tqdm(range(0, len(test_X), batch_size), desc = 'test minibatch loop')\n",
    "    for i in pbar:\n",
    "        batch_x = test_X[i : min(i + batch_size, test_X.shape[0])]\n",
    "        batch_y = test_Y[i : min(i + batch_size, test_X.shape[0])]\n",
    "        batch_x_expand = np.expand_dims(batch_x,axis = 1)\n",
    "        acc, cost = sess.run(\n",
    "            [model.accuracy, model.cost],\n",
    "            feed_dict = {\n",
    "                model.answer_single: batch_y,\n",
    "                model.query: batch_x,\n",
    "                model.story: batch_x_expand,\n",
    "                model.dropout_keep_prob: 1.0\n",
    "            },\n",
    "        )\n",
    "        test_loss += cost\n",
    "        test_acc += acc\n",
    "        pbar.set_postfix(cost = cost, accuracy = acc)\n",
    "\n",
    "    train_loss /= len(train_X) / batch_size\n",
    "    train_acc /= len(train_X) / batch_size\n",
    "    test_loss /= len(test_X) / batch_size\n",
    "    test_acc /= len(test_X) / batch_size\n",
    "\n",
    "    if test_acc > CURRENT_ACC:\n",
    "        print(\n",
    "            'epoch: %d, pass acc: %f, current acc: %f'\n",
    "            % (EPOCH, CURRENT_ACC, test_acc)\n",
    "        )\n",
    "        CURRENT_ACC = test_acc\n",
    "        CURRENT_CHECKPOINT = 0\n",
    "    else:\n",
    "        CURRENT_CHECKPOINT += 1\n",
    "\n",
    "    print('time taken:', time.time() - lasttime)\n",
    "    print(\n",
    "        'epoch: %d, training loss: %f, training acc: %f, valid loss: %f, valid acc: %f\\n'\n",
    "        % (EPOCH, train_loss, train_acc, test_loss, test_acc)\n",
    "    )\n",
    "    EPOCH += 1\n"
   ]
  },
  {
   "cell_type": "code",
   "execution_count": 9,
   "metadata": {},
   "outputs": [
    {
     "name": "stderr",
     "output_type": "stream",
     "text": [
      "validation minibatch loop: 100%|██████████| 17/17 [00:00<00:00, 57.58it/s]\n"
     ]
    }
   ],
   "source": [
    "real_Y, predict_Y = [], []\n",
    "\n",
    "pbar = tqdm(\n",
    "    range(0, len(test_X), batch_size), desc = 'validation minibatch loop'\n",
    ")\n",
    "for i in pbar:\n",
    "    batch_x = test_X[i : min(i + batch_size, test_X.shape[0])]\n",
    "    batch_y = test_Y[i : min(i + batch_size, test_X.shape[0])]\n",
    "    batch_x_expand = np.expand_dims(batch_x,axis = 1)\n",
    "    predict_Y += np.argmax(\n",
    "        sess.run(\n",
    "            model.logits,\n",
    "            feed_dict = {\n",
    "                model.answer_single: batch_y,\n",
    "                model.query: batch_x,\n",
    "                model.story: batch_x_expand,\n",
    "                model.dropout_keep_prob: 1.0\n",
    "            },\n",
    "        ),\n",
    "        1,\n",
    "    ).tolist()\n",
    "    real_Y += batch_y\n"
   ]
  },
  {
   "cell_type": "code",
   "execution_count": 10,
   "metadata": {},
   "outputs": [
    {
     "name": "stdout",
     "output_type": "stream",
     "text": [
      "             precision    recall  f1-score   support\n",
      "\n",
      "   negative       0.72      0.65      0.68      1036\n",
      "   positive       0.70      0.76      0.73      1097\n",
      "\n",
      "avg / total       0.71      0.71      0.70      2133\n",
      "\n"
     ]
    }
   ],
   "source": [
    "from sklearn import metrics\n",
    "print(metrics.classification_report(real_Y, predict_Y, target_names = ['negative','positive']))"
   ]
  },
  {
   "cell_type": "code",
   "execution_count": null,
   "metadata": {},
   "outputs": [],
   "source": []
  }
 ],
 "metadata": {
  "kernelspec": {
   "display_name": "Python 3",
   "language": "python",
   "name": "python3"
  },
  "language_info": {
   "codemirror_mode": {
    "name": "ipython",
    "version": 3
   },
   "file_extension": ".py",
   "mimetype": "text/x-python",
   "name": "python",
   "nbconvert_exporter": "python",
   "pygments_lexer": "ipython3",
   "version": "3.5.2"
  }
 },
 "nbformat": 4,
 "nbformat_minor": 2
}
